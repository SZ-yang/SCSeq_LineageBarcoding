{
 "cells": [
  {
   "cell_type": "code",
   "execution_count": 1,
   "metadata": {},
   "outputs": [],
   "source": [
    "# https://hotspot.readthedocs.io/en/latest/Lineage_Tutorial.html\n",
    "# https://colab.research.google.com/drive/1UArV6s-3JN2nKuHcsjfsYu33elR1ySa6#scrollTo=Dj24KOME2K6l\n",
    "\n",
    "import sys\n",
    "import warnings; warnings.simplefilter('ignore')\n",
    "\n",
    "import hotspot\n",
    "import scanpy as sc\n",
    "\n",
    "import numpy as np\n",
    "import mplscience\n",
    "\n",
    "import anndata as ad"
   ]
  },
  {
   "cell_type": "code",
   "execution_count": 2,
   "metadata": {},
   "outputs": [
    {
     "data": {
      "text/plain": [
       "AnnData object with n_obs × n_vars = 41093 × 2000\n",
       "    obs: 'Library', 'Cell barcode', 'time_info', 'Starting population', 'state_info', 'Well', 'SPRING-x', 'SPRING-y', 'Time point', 'clone_id', 'n_genes'\n",
       "    var: 'Accession', 'Chromosome', 'End', 'Start', 'Strand', 'n_cells', 'highly_variable', 'means', 'dispersions', 'dispersions_norm'\n",
       "    uns: 'data_des', 'hvg', 'log1p'\n",
       "    obsm: 'X_clone', 'X_emb'\n",
       "    layers: 'ambiguous', 'matrix', 'raw_counts', 'spliced', 'unspliced'"
      ]
     },
     "execution_count": 2,
     "metadata": {},
     "output_type": "execute_result"
    }
   ],
   "source": [
    "adata = ad.read_h5ad(\"/home/users/kzlin/kzlinlab/projects/scContrastiveLearn/out/kevin/Writeup5/Larry_41093_2000_norm_log.h5ad\")\n",
    "adata"
   ]
  },
  {
   "cell_type": "code",
   "execution_count": 3,
   "metadata": {},
   "outputs": [
    {
     "data": {
      "text/plain": [
       "(41093, 10)"
      ]
     },
     "execution_count": 3,
     "metadata": {},
     "output_type": "execute_result"
    }
   ],
   "source": [
    "scVI_embedding = np.load(\"/home/users/kzlin/kzlinlab/projects/scContrastiveLearn/out/kevin/Writeup5/Larry_scvi_full_embeddings.npy\")\n",
    "scVI_embedding.shape"
   ]
  },
  {
   "cell_type": "code",
   "execution_count": 5,
   "metadata": {},
   "outputs": [
    {
     "name": "stdout",
     "output_type": "stream",
     "text": [
      "(41093, 10)\n"
     ]
    }
   ],
   "source": [
    "adata.obsm[\"X_scVI\"] = scVI_embedding\n",
    "\n",
    "# Verify the assignment\n",
    "print(adata.obsm[\"X_scVI\"].shape)"
   ]
  },
  {
   "cell_type": "code",
   "execution_count": 6,
   "metadata": {},
   "outputs": [
    {
     "name": "stdout",
     "output_type": "stream",
     "text": [
      "96373\n"
     ]
    }
   ],
   "source": [
    "import pandas as pd\n",
    "\n",
    "# Load the trajectory file\n",
    "trajectory_file = \"/home/users/kzlin/kzlinlab/data/larry_hematopoiesis/stateFate_inVitro_neutrophil_monocyte_trajectory.txt\"\n",
    "trajectory_df = pd.read_csv(trajectory_file, sep=\"\\t\")\n",
    "\n",
    "# Load the metadata file\n",
    "metadata_file = \"/home/users/kzlin/kzlinlab/data/larry_hematopoiesis/stateFate_inVitro_metadata.txt\"\n",
    "metadata_df = pd.read_csv(metadata_file, sep=\"\\t\")\n",
    "\n",
    "# Filter metadata based on the cell indices in trajectory_df\n",
    "filtered_metadata = metadata_df.iloc[trajectory_df['Cell index'].values]\n",
    "\n",
    "# Concatenate 'Library' and 'Cell barcode' in filtered_metadata to create unique barcodes\n",
    "filtered_metadata['combined_barcode'] = filtered_metadata['Library'] + ':' + filtered_metadata['Cell barcode']\n",
    "\n",
    "# Update kept_cell_barcodes to use the new combined barcodes\n",
    "kept_cell_barcodes = filtered_metadata['combined_barcode'].tolist()\n",
    "\n",
    "# Optionally, print the updated list of combined barcodes\n",
    "print(len(kept_cell_barcodes))\n",
    "\n"
   ]
  },
  {
   "cell_type": "code",
   "execution_count": 7,
   "metadata": {},
   "outputs": [],
   "source": [
    "# Convert the 'Library' and 'Cell barcode' columns to string before concatenating\n",
    "adata.obs['Library_str'] = adata.obs['Library'].astype(str)\n",
    "adata.obs['Cell barcode_str'] = adata.obs['Cell barcode'].astype(str)\n",
    "\n",
    "# Ensure 'adata' also has 'Library' and 'Cell barcode' columns in the same format\n",
    "# Create a new 'combined_barcode' column in adata\n",
    "adata.obs['combined_barcode'] = adata.obs['Library_str'] + ':' + adata.obs['Cell barcode_str']"
   ]
  },
  {
   "cell_type": "code",
   "execution_count": 8,
   "metadata": {},
   "outputs": [
    {
     "name": "stdout",
     "output_type": "stream",
     "text": [
      "AnnData object with n_obs × n_vars = 29137 × 2000\n",
      "    obs: 'Library', 'Cell barcode', 'time_info', 'Starting population', 'state_info', 'Well', 'SPRING-x', 'SPRING-y', 'Time point', 'clone_id', 'n_genes', 'Library_str', 'Cell barcode_str'\n",
      "    var: 'Accession', 'Chromosome', 'End', 'Start', 'Strand', 'n_cells', 'highly_variable', 'means', 'dispersions', 'dispersions_norm'\n",
      "    uns: 'data_des', 'hvg', 'log1p'\n",
      "    obsm: 'X_clone', 'X_emb', 'X_scVI'\n",
      "    layers: 'ambiguous', 'matrix', 'raw_counts', 'spliced', 'unspliced'\n"
     ]
    }
   ],
   "source": [
    "# Filter the AnnData object based on the combined barcodes\n",
    "filtered_adata = adata[adata.obs['combined_barcode'].isin(kept_cell_barcodes), :]\n",
    "\n",
    "# Optionally, drop the 'combined_barcode' column after filtering if not needed anymore\n",
    "filtered_adata.obs = filtered_adata.obs.drop(columns=['combined_barcode'])\n",
    "\n",
    "# Print the filtered AnnData object\n",
    "print(filtered_adata)"
   ]
  },
  {
   "cell_type": "code",
   "execution_count": 9,
   "metadata": {},
   "outputs": [
    {
     "data": {
      "text/plain": [
       "state_info\n",
       "Undifferentiated    14360\n",
       "Neutrophil           7427\n",
       "Monocyte             7349\n",
       "Erythroid               1\n",
       "Name: count, dtype: int64"
      ]
     },
     "execution_count": 9,
     "metadata": {},
     "output_type": "execute_result"
    }
   ],
   "source": [
    "filtered_adata.obs['state_info'].value_counts()"
   ]
  },
  {
   "cell_type": "code",
   "execution_count": 10,
   "metadata": {},
   "outputs": [
    {
     "name": "stdout",
     "output_type": "stream",
     "text": [
      "View of AnnData object with n_obs × n_vars = 1406 × 2000\n",
      "    obs: 'Library', 'Cell barcode', 'time_info', 'Starting population', 'state_info', 'Well', 'SPRING-x', 'SPRING-y', 'Time point', 'clone_id', 'n_genes', 'Library_str', 'Cell barcode_str'\n",
      "    var: 'Accession', 'Chromosome', 'End', 'Start', 'Strand', 'n_cells', 'highly_variable', 'means', 'dispersions', 'dispersions_norm'\n",
      "    uns: 'data_des', 'hvg', 'log1p'\n",
      "    obsm: 'X_clone', 'X_emb', 'X_scVI'\n",
      "    layers: 'ambiguous', 'matrix', 'raw_counts', 'spliced', 'unspliced'\n"
     ]
    }
   ],
   "source": [
    "# Filter the filtered_adata based on 'time_info' being equal to 2\n",
    "filtered_adata_time2 = filtered_adata[filtered_adata.obs['time_info'] == 2, :]\n",
    "\n",
    "# Print or inspect the new filtered AnnData object\n",
    "print(filtered_adata_time2)"
   ]
  },
  {
   "cell_type": "code",
   "execution_count": 11,
   "metadata": {},
   "outputs": [
    {
     "data": {
      "text/plain": [
       "state_info\n",
       "Undifferentiated    1355\n",
       "Monocyte              32\n",
       "Neutrophil            19\n",
       "Name: count, dtype: int64"
      ]
     },
     "execution_count": 11,
     "metadata": {},
     "output_type": "execute_result"
    }
   ],
   "source": [
    "filtered_adata_time2.obs['state_info'].value_counts()"
   ]
  },
  {
   "cell_type": "code",
   "execution_count": 12,
   "metadata": {},
   "outputs": [],
   "source": [
    "sc.pp.calculate_qc_metrics(filtered_adata_time2, inplace=True)\n",
    "sc.pp.filter_genes(filtered_adata_time2, min_cells=1)"
   ]
  },
  {
   "cell_type": "code",
   "execution_count": 13,
   "metadata": {},
   "outputs": [],
   "source": [
    "filtered_adata_time2.layers[\"raw_counts_csc\"] = filtered_adata_time2.layers[\"raw_counts\"].tocsc()"
   ]
  },
  {
   "cell_type": "code",
   "execution_count": 14,
   "metadata": {},
   "outputs": [],
   "source": [
    "# Create the Hotspot object with latent embeddings and normalized data\n",
    "\n",
    "hs = hotspot.Hotspot(\n",
    "    filtered_adata_time2,\n",
    "    layer_key=\"raw_counts_csc\",\n",
    "    model='danb',\n",
    "    latent_obsm_key=\"X_scVI\"\n",
    ")"
   ]
  },
  {
   "cell_type": "code",
   "execution_count": 15,
   "metadata": {},
   "outputs": [],
   "source": [
    "# Create the neighborhood graph\n",
    "hs.create_knn_graph(\n",
    "    weighted_graph=False, n_neighbors=30,\n",
    ")"
   ]
  },
  {
   "cell_type": "code",
   "execution_count": 16,
   "metadata": {},
   "outputs": [
    {
     "name": "stderr",
     "output_type": "stream",
     "text": [
      "100%|██████████| 1548/1548 [00:01<00:00, 1287.72it/s]\n"
     ]
    },
    {
     "name": "stdout",
     "output_type": "stream",
     "text": [
      "                C           Z  Pval  FDR\n",
      "Gene                                    \n",
      "Ly6a     0.400947  134.746323   0.0  0.0\n",
      "Dlk1     0.453625  116.716438   0.0  0.0\n",
      "Rsad2    0.335796   98.505096   0.0  0.0\n",
      "H2afy    0.417695   83.724739   0.0  0.0\n",
      "Gzmb     0.171027   72.907715   0.0  0.0\n",
      "Prtn3    0.695086   72.106552   0.0  0.0\n",
      "Mpo      0.698842   71.570610   0.0  0.0\n",
      "Ctsg     0.648183   59.776047   0.0  0.0\n",
      "Irgm1    0.233706   59.211861   0.0  0.0\n",
      "Akr1c13  0.240318   58.160702   0.0  0.0\n",
      "Elane    0.768466   57.477669   0.0  0.0\n",
      "Igtp     0.206139   55.746254   0.0  0.0\n",
      "Pim2     0.208554   54.696297   0.0  0.0\n",
      "Iigp1    0.179566   53.232399   0.0  0.0\n",
      "Muc13    0.204629   52.511684   0.0  0.0\n"
     ]
    }
   ],
   "source": [
    "# Determine informative genes\n",
    "hs_results = hs.compute_autocorrelations(jobs=4)\n",
    "print(hs_results.head(15))"
   ]
  },
  {
   "cell_type": "code",
   "execution_count": 17,
   "metadata": {},
   "outputs": [],
   "source": [
    "import pandas as pd\n",
    "\n",
    "# Assuming df is your DataFrame\n",
    "hs_results.to_csv('/home/users/kzlin/kzlinlab/projects/scContrastiveLearn/git/SCSeq_LineageBarcoding_kevin/csv/kevin/Writeup5/Writeup5_LARRY_scVI_hotspot_day2_autocorrelations.csv')  "
   ]
  }
 ],
 "metadata": {
  "kernelspec": {
   "display_name": "hotspot",
   "language": "python",
   "name": "python3"
  },
  "language_info": {
   "codemirror_mode": {
    "name": "ipython",
    "version": 3
   },
   "file_extension": ".py",
   "mimetype": "text/x-python",
   "name": "python",
   "nbconvert_exporter": "python",
   "pygments_lexer": "ipython3",
   "version": "3.9.20"
  }
 },
 "nbformat": 4,
 "nbformat_minor": 2
}
