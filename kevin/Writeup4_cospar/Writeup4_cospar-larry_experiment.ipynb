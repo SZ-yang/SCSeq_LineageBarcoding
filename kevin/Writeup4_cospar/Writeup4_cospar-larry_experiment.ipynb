{
 "cells": [
  {
   "cell_type": "code",
   "execution_count": 1,
   "metadata": {},
   "outputs": [],
   "source": [
    "# from https://cospar.readthedocs.io/en/latest/20210121_all_hematopoietic_data_v3.html\n",
    "import cospar as cs\n",
    "import numpy as np\n",
    "import anndata as ad"
   ]
  },
  {
   "cell_type": "code",
   "execution_count": 2,
   "metadata": {},
   "outputs": [
    {
     "name": "stdout",
     "output_type": "stream",
     "text": [
      "Running cospar 0.4.1 (python 3.9.20) on 2024-10-15 21:08.\n"
     ]
    },
    {
     "name": "stderr",
     "output_type": "stream",
     "text": [
      "\u001b[31mERROR: XMLRPC request failed [code: -32500]\n",
      "RuntimeError: PyPI no longer supports 'pip search' (or XML-RPC search). Please use https://pypi.org/search (via a browser) instead. See https://warehouse.pypa.io/api-reference/xml-rpc.html#deprecated-methods for more information.\u001b[0m\u001b[31m\n",
      "\u001b[0m"
     ]
    }
   ],
   "source": [
    "cs.logging.print_version()\n",
    "cs.settings.verbosity = 2\n",
    "cs.settings.data_path = \"LARRY_data\"  # A relative path to save data. If not existed before, create a new one.\n",
    "cs.settings.figure_path = \"LARRY_figure\"  # A relative path to save figures. If not existed before, create a new one.\n",
    "cs.settings.set_figure_params(\n",
    "    format=\"png\", figsize=[4, 3.5], dpi=75, fontsize=14, pointsize=2\n",
    ")"
   ]
  },
  {
   "cell_type": "code",
   "execution_count": 3,
   "metadata": {},
   "outputs": [
    {
     "ename": "NameError",
     "evalue": "name 'ad' is not defined",
     "output_type": "error",
     "traceback": [
      "\u001b[0;31m---------------------------------------------------------------------------\u001b[0m",
      "\u001b[0;31mNameError\u001b[0m                                 Traceback (most recent call last)",
      "Cell \u001b[0;32mIn[3], line 1\u001b[0m\n\u001b[0;32m----> 1\u001b[0m adata \u001b[38;5;241m=\u001b[39m \u001b[43mad\u001b[49m\u001b[38;5;241m.\u001b[39mread_h5ad(\u001b[38;5;124m\"\u001b[39m\u001b[38;5;124m/home/users/kzlin/kzlinlab/projects/scContrastiveLearn/out/kevin/Writeup5/Larry_41093_2000_norm_log_cleaned.h5ad\u001b[39m\u001b[38;5;124m\"\u001b[39m)\n\u001b[1;32m      2\u001b[0m adata\n",
      "\u001b[0;31mNameError\u001b[0m: name 'ad' is not defined"
     ]
    }
   ],
   "source": [
    "adata = ad.read_h5ad(\"/home/users/kzlin/kzlinlab/projects/scContrastiveLearn/out/kevin/Writeup5/Larry_41093_2000_norm_log_cleaned.h5ad\")\n",
    "adata"
   ]
  },
  {
   "cell_type": "code",
   "execution_count": null,
   "metadata": {},
   "outputs": [],
   "source": [
    "cs.pl.embedding(adata, color=\"state_info\")"
   ]
  },
  {
   "cell_type": "code",
   "execution_count": null,
   "metadata": {},
   "outputs": [],
   "source": [
    "cs.hf.check_available_choices(adata_orig)"
   ]
  },
  {
   "cell_type": "code",
   "execution_count": null,
   "metadata": {},
   "outputs": [],
   "source": [
    "cs.pl.clones_on_manifold(\n",
    "    adata_orig, selected_clone_list=[1], color_list=[\"black\", \"red\", \"blue\"]\n",
    ")"
   ]
  },
  {
   "cell_type": "code",
   "execution_count": null,
   "metadata": {},
   "outputs": [],
   "source": [
    "selected_times = \"4\"\n",
    "selected_fates = [\n",
    "    \"Ccr7_DC\",\n",
    "    \"Mast\",\n",
    "    \"Meg\",\n",
    "    \"pDC\",\n",
    "    \"Eos\",\n",
    "    \"Lymphoid\",\n",
    "    \"Erythroid\",\n",
    "    \"Baso\",\n",
    "    \"Neutrophil\",\n",
    "    \"Monocyte\",\n",
    "]\n",
    "cs.tl.fate_coupling(\n",
    "    adata_orig,\n",
    "    source=\"X_clone\",\n",
    "    selected_fates=selected_fates,\n",
    "    selected_times=selected_times,\n",
    "    normalize=False,\n",
    ")\n",
    "cs.pl.fate_coupling(adata_orig, source=\"X_clone\")"
   ]
  }
 ],
 "metadata": {
  "kernelspec": {
   "display_name": "cospar",
   "language": "python",
   "name": "python3"
  },
  "language_info": {
   "codemirror_mode": {
    "name": "ipython",
    "version": 3
   },
   "file_extension": ".py",
   "mimetype": "text/x-python",
   "name": "python",
   "nbconvert_exporter": "python",
   "pygments_lexer": "ipython3",
   "version": "3.9.20"
  }
 },
 "nbformat": 4,
 "nbformat_minor": 2
}
