{
 "cells": [
  {
   "cell_type": "code",
   "execution_count": 1,
   "metadata": {},
   "outputs": [],
   "source": [
    "# general package\n",
    "import tempfile\n",
    "import os\n",
    "import scipy\n",
    "import numpy as np\n",
    "import pandas as pd\n",
    "import copy\n",
    "import random\n",
    "\n",
    "# single cell package\n",
    "import scanpy as sc\n",
    "import anndata as ad\n",
    "\n",
    "# deep learning package\n",
    "import torch\n",
    "import torchvision.models as models\n",
    "import torchvision.transforms as T\n",
    "import torch.nn as nn\n",
    "import torch.nn.functional as F\n",
    "from torchvision.datasets import STL10\n",
    "from torch.utils.data import DataLoader\n",
    "from torch.multiprocessing import cpu_count\n",
    "import torchvision.transforms as T"
   ]
  },
  {
   "cell_type": "code",
   "execution_count": 2,
   "metadata": {},
   "outputs": [],
   "source": [
    "import DataLoader as dl"
   ]
  },
  {
   "cell_type": "code",
   "execution_count": 10,
   "metadata": {},
   "outputs": [],
   "source": [
    "import numpy as np\n",
    "\n",
    "# Set the parameters\n",
    "n = 180  # Total number of data points\n",
    "p = 5   # Number of features\n",
    "M = 13   # Total number of groups\n",
    "\n",
    "# Create the first array (n x p)\n",
    "data_array = np.random.rand(n, p)  # Filling with random numbers for illustration\n",
    "\n",
    "# Create the second array (n x 1)\n",
    "# Ensure each group has at least two members\n",
    "group_array = np.repeat(np.arange(1, M + 1), repeats=np.ceil(n / M))[:n]\n",
    "np.random.shuffle(group_array)  # Shuffle to randomize group allocation\n",
    "group_array = group_array.reshape(n, 1)\n",
    "\n",
    "# print(\"Data Array (n x p):\\n\", data_array)\n",
    "# print(\"Group Array (n x 1):\\n\", group_array)\n"
   ]
  },
  {
   "cell_type": "code",
   "execution_count": 12,
   "metadata": {},
   "outputs": [
    {
     "data": {
      "text/plain": [
       "((180, 5), (180, 1))"
      ]
     },
     "execution_count": 12,
     "metadata": {},
     "output_type": "execute_result"
    }
   ],
   "source": [
    "data_array.shape, group_array.shape\n"
   ]
  },
  {
   "cell_type": "code",
   "execution_count": 13,
   "metadata": {},
   "outputs": [],
   "source": [
    "DLoader = dl.SClineage_DataLoader(data_array,group_array,batch_size=3)"
   ]
  },
  {
   "cell_type": "code",
   "execution_count": 14,
   "metadata": {},
   "outputs": [
    {
     "data": {
      "text/plain": [
       "180"
      ]
     },
     "execution_count": 14,
     "metadata": {},
     "output_type": "execute_result"
    }
   ],
   "source": [
    "len(DLoader)"
   ]
  },
  {
   "cell_type": "code",
   "execution_count": 15,
   "metadata": {},
   "outputs": [],
   "source": [
    "x, y = DLoader.batch_generator()"
   ]
  },
  {
   "cell_type": "code",
   "execution_count": 16,
   "metadata": {},
   "outputs": [
    {
     "data": {
      "text/plain": [
       "{1: [(144, 21), (33, 4), (166, 134)],\n",
       " 2: [(58, 119), (37, 48), (136, 95)],\n",
       " 3: [(163, 22), (88, 128), (83, 178)],\n",
       " 4: [(140, 54), (31, 142), (100, 162)],\n",
       " 5: [(19, 90), (74, 85), (148, 161)],\n",
       " 6: [(155, 107), (71, 82), (35, 43)],\n",
       " 7: [(69, 49), (98, 91), (76, 55)],\n",
       " 8: [(42, 172), (122, 132), (30, 0)],\n",
       " 9: [(99, 73), (59, 105), (38, 15)],\n",
       " 10: [(103, 61), (67, 173), (62, 79)],\n",
       " 11: [(10, 104), (52, 106), (158, 16)],\n",
       " 12: [(77, 7), (127, 63), (89, 92)],\n",
       " 13: [(24, 147), (150, 133), (179, 60)],\n",
       " 14: [(143, 101), (66, 125), (80, 93)],\n",
       " 15: [(18, 117), (168, 116), (121, 171)],\n",
       " 16: [(141, 153), (86, 177), (176, 159)],\n",
       " 17: [(167, 5), (118, 126), (75, 154)],\n",
       " 18: [(26, 124), (111, 17), (39, 139)],\n",
       " 19: [(20, 64), (164, 174), (149, 152)],\n",
       " 20: [(51, 156), (94, 81), (97, 28)],\n",
       " 21: [(109, 27), (41, 131), (13, 135)],\n",
       " 22: [(12, 34), (110, 46), (6, 114)],\n",
       " 23: [(29, 113), (120, 1), (72, 123)],\n",
       " 24: [(50, 9), (84, 68), (23, 129)],\n",
       " 25: [(45, 170), (87, 78), (2, 36)],\n",
       " 26: [(56, 96), (47, 40), (145, 138)],\n",
       " 27: [(137, 44), (70, 32), (112, 165)],\n",
       " 28: [(65, 157), (130, 57), (8, 108)],\n",
       " 29: [(102, 14), (115, 53), (175, 11)],\n",
       " 30: [(3, 25), (160, 151), (114, 83)],\n",
       " 31: [(169, 146), (6, 92), (73, 156)]}"
      ]
     },
     "execution_count": 16,
     "metadata": {},
     "output_type": "execute_result"
    }
   ],
   "source": [
    "x"
   ]
  },
  {
   "cell_type": "code",
   "execution_count": 17,
   "metadata": {},
   "outputs": [
    {
     "data": {
      "text/plain": [
       "31"
      ]
     },
     "execution_count": 17,
     "metadata": {},
     "output_type": "execute_result"
    }
   ],
   "source": [
    "y"
   ]
  }
 ],
 "metadata": {
  "kernelspec": {
   "display_name": "scvi-env",
   "language": "python",
   "name": "python3"
  },
  "language_info": {
   "codemirror_mode": {
    "name": "ipython",
    "version": 3
   },
   "file_extension": ".py",
   "mimetype": "text/x-python",
   "name": "python",
   "nbconvert_exporter": "python",
   "pygments_lexer": "ipython3",
   "version": "3.9.18"
  }
 },
 "nbformat": 4,
 "nbformat_minor": 2
}
