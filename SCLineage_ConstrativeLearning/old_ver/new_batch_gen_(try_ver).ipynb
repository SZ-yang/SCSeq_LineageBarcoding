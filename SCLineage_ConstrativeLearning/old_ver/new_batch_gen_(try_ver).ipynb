{
 "cells": [
  {
   "cell_type": "code",
   "execution_count": 2,
   "metadata": {},
   "outputs": [],
   "source": [
    "import numpy as np\n",
    "from itertools import combinations\n",
    "import scanpy as sc\n",
    "import random\n",
    "import copy"
   ]
  },
  {
   "cell_type": "code",
   "execution_count": 3,
   "metadata": {},
   "outputs": [],
   "source": [
    "file_path = \"//Users/apple/Desktop/KB/data/LarryData/Larry_41201_2000.h5ad\"\n",
    "adata = sc.read_h5ad(file_path)\n",
    "count_matrix = adata.X\n",
    "count_matrix = count_matrix.toarray()\n",
    "cell_lineage = adata.obs['clone_id'].values.reshape(-1, 1)"
   ]
  },
  {
   "cell_type": "code",
   "execution_count": 4,
   "metadata": {},
   "outputs": [],
   "source": [
    "def generate_lineage_info(lineage):\n",
    "    \"\"\"\n",
    "    return a dictionary with key of the unqiue element of the lineage and the elements a list contains the index.\n",
    "    \"\"\"\n",
    "    lineage_info = {}\n",
    "    unique_elements = np.unique(lineage)\n",
    "    \n",
    "    for element in unique_elements:\n",
    "        lineage_info[element] = np.where(lineage == element)[0].tolist()\n",
    "    \n",
    "    return lineage_info\n",
    "\n",
    "def generate_avail_lineage_pairs(lineage_info, size_factor):\n",
    "    \"\"\"\n",
    "    return the combinations of the j-choose-2, with the lenghth of size_factor*j*(j-1)/2\n",
    "    \"\"\"\n",
    "    avail_lineage_pairs = {}\n",
    "    \n",
    "    for key, indices in lineage_info.items():\n",
    "        j = len(indices)\n",
    "        pair_count = int(size_factor * (j * (j - 1) / 2))\n",
    "        pairs = list(combinations(indices, 2))\n",
    "        \n",
    "        # Shuffle and select required number of pairs\n",
    "        np.random.shuffle(pairs)\n",
    "        avail_lineage_pairs[key] = pairs[:pair_count]\n",
    "    \n",
    "    return avail_lineage_pairs\n",
    "\n",
    "def generate_avail_lineage_pairs(lineage_info, size_factor):\n",
    "    \"\"\"\n",
    "    Return the combinations of the j-choose-2, with the length of size_factor*j*(j-1)/2,\n",
    "    ensuring that all elements are used at least once.\n",
    "    \"\"\"\n",
    "    avail_lineage_pairs = {}\n",
    "    \n",
    "    for key, indices in lineage_info.items():\n",
    "        j = len(indices)\n",
    "        all_pairs = list(combinations(indices, 2))\n",
    "        pair_count = int(size_factor * (j * (j - 1) / 2))\n",
    "        \n",
    "        # Ensure all elements are used at least once\n",
    "        used_indices = set()\n",
    "        essential_pairs = []\n",
    "        \n",
    "        for pair in all_pairs:\n",
    "            if pair[0] not in used_indices or pair[1] not in used_indices:\n",
    "                essential_pairs.append(pair)\n",
    "                used_indices.update(pair)\n",
    "                print(used_indices)\n",
    "        \n",
    "        # Shuffle the remaining pairs and select the required number to fill up to pair_count\n",
    "        remaining_pairs = [pair for pair in all_pairs if pair not in essential_pairs]\n",
    "        random.shuffle(remaining_pairs)\n",
    "        additional_pairs = remaining_pairs[:max(0, pair_count - len(essential_pairs))]\n",
    "        \n",
    "        avail_lineage_pairs[key] = essential_pairs + additional_pairs\n",
    "    \n",
    "    return avail_lineage_pairs\n",
    "\n",
    "\n",
    "def get_min_max_length(lineage_info):\n",
    "    lengths = [len(indices) for indices in lineage_info.values()]\n",
    "    min_length = min(lengths)\n",
    "    max_length = max(lengths)\n",
    "    mean_length = round(sum(lengths)/len(lengths),2)\n",
    "\n",
    "    print(f\"the range of number of cells in a lineage: {min_length, max_length}, average of number of cells in a lineage {mean_length}\")\n",
    "\n",
    "\n"
   ]
  },
  {
   "cell_type": "code",
   "execution_count": 5,
   "metadata": {},
   "outputs": [],
   "source": [
    "def generate_batch_all_index(avail_lineage_pairs, batch_size):\n",
    "    avail_lineage_pairs_cp = copy.deepcopy(avail_lineage_pairs)\n",
    "    batch_all_index = {}\n",
    "    i = 0\n",
    "    \n",
    "    while len(avail_lineage_pairs_cp.keys()) != 0:\n",
    "        batch_all_index[i] = []\n",
    "        if len(avail_lineage_pairs_cp.keys()) >= batch_size:\n",
    "            selected_keys = random.sample(list(avail_lineage_pairs_cp.keys()), batch_size)\n",
    "        else:\n",
    "            selected_keys = list(avail_lineage_pairs_cp.keys())\n",
    "        \n",
    "        for key in selected_keys:\n",
    "            selected_tuple = random.choice(avail_lineage_pairs_cp[key])\n",
    "            batch_all_index[i].append(selected_tuple)\n",
    "            avail_lineage_pairs_cp[key].remove(selected_tuple)\n",
    "            if not avail_lineage_pairs_cp[key]:\n",
    "                del avail_lineage_pairs_cp[key]\n",
    "        \n",
    "        if len(selected_keys) < batch_size:\n",
    "            complement_keys = list(set(avail_lineage_pairs.keys()) - set(avail_lineage_pairs_cp.keys()))\n",
    "            remaining_keys = random.sample(complement_keys, batch_size - len(selected_keys))\n",
    "            for key in remaining_keys:\n",
    "                selected_tuple = random.choice(avail_lineage_pairs[key])\n",
    "                batch_all_index[i].append(selected_tuple)\n",
    "        \n",
    "        i += 1\n",
    "    \n",
    "    return batch_all_index\n",
    "\n"
   ]
  },
  {
   "cell_type": "code",
   "execution_count": 6,
   "metadata": {},
   "outputs": [],
   "source": [
    "def generate_batch_all(batch_all_index, count_matrix):\n",
    "    batch_all = {}\n",
    "    for key, pairs in batch_all_index.items():\n",
    "        batch_all[key] = [(count_matrix[pair[0]], count_matrix[pair[1]]) for pair in pairs]\n",
    "    return batch_all\n",
    "\n",
    "def generate_lineage_array(batch_all_index, lineage):\n",
    "    batch_size = len(next(iter(batch_all_index.values())))\n",
    "    m = len(batch_all_index) * batch_size\n",
    "    lineage_array = np.zeros((m, 1), dtype=int)  # Specify dtype as int\n",
    "    index = 0\n",
    "    for pairs in batch_all_index.values():\n",
    "        for pair in pairs:\n",
    "            lineage_array[index] = lineage[pair[0]]\n",
    "            index += 1\n",
    "    return lineage_array"
   ]
  },
  {
   "cell_type": "code",
   "execution_count": 7,
   "metadata": {},
   "outputs": [
    {
     "name": "stdout",
     "output_type": "stream",
     "text": [
      "Lineage Info: {1: [0, 2, 5, 8, 10, 12, 14, 17, 20], 2: [1, 3, 7, 9, 11, 13, 15], 3: [4, 6, 16, 18, 19, 21]}\n"
     ]
    }
   ],
   "source": [
    "# Example usage\n",
    "lineage = np.array([1, 2, 1, 2, 3, 1, 3, 2,1, 2, 1, 2,1, 2, 1, 2,3, 1, 3,3, 1, 3])\n",
    "size_factor = 0.5\n",
    "batch_size = 2\n",
    "\n",
    "lineage_info = generate_lineage_info(lineage)\n",
    "print(\"Lineage Info:\", lineage_info)\n"
   ]
  },
  {
   "cell_type": "code",
   "execution_count": 8,
   "metadata": {},
   "outputs": [
    {
     "name": "stdout",
     "output_type": "stream",
     "text": [
      "{0, 2}\n",
      "{0, 2, 5}\n",
      "{0, 8, 2, 5}\n",
      "{0, 2, 5, 8, 10}\n",
      "{0, 2, 5, 8, 10, 12}\n",
      "{0, 2, 5, 8, 10, 12, 14}\n",
      "{0, 2, 5, 8, 10, 12, 14, 17}\n",
      "{0, 2, 5, 8, 10, 12, 14, 17, 20}\n",
      "{1, 3}\n",
      "{1, 3, 7}\n",
      "{1, 3, 9, 7}\n",
      "{1, 3, 7, 9, 11}\n",
      "{1, 3, 7, 9, 11, 13}\n",
      "{1, 3, 7, 9, 11, 13, 15}\n",
      "{4, 6}\n",
      "{16, 4, 6}\n",
      "{16, 18, 4, 6}\n",
      "{4, 6, 16, 18, 19}\n",
      "{4, 6, 16, 18, 19, 21}\n",
      "Available Lineage Pairs: {1: [(0, 2), (0, 5), (0, 8), (0, 10), (0, 12), (0, 14), (0, 17), (0, 20), (2, 5), (8, 12), (2, 12), (2, 8), (10, 17), (2, 14), (14, 17), (12, 14), (12, 20), (14, 20)], 2: [(1, 3), (1, 7), (1, 9), (1, 11), (1, 13), (1, 15), (11, 13), (9, 13), (9, 11), (3, 11)], 3: [(4, 6), (4, 16), (4, 18), (4, 19), (4, 21), (6, 21), (6, 19)]}\n"
     ]
    }
   ],
   "source": [
    "avail_lineage_pairs = generate_avail_lineage_pairs(lineage_info, size_factor)\n",
    "print(\"Available Lineage Pairs:\", avail_lineage_pairs)"
   ]
  },
  {
   "cell_type": "code",
   "execution_count": 9,
   "metadata": {},
   "outputs": [
    {
     "data": {
      "text/plain": [
       "1"
      ]
     },
     "execution_count": 9,
     "metadata": {},
     "output_type": "execute_result"
    }
   ],
   "source": [
    "lineage[8]"
   ]
  },
  {
   "cell_type": "code",
   "execution_count": 10,
   "metadata": {},
   "outputs": [
    {
     "name": "stdout",
     "output_type": "stream",
     "text": [
      "Batch All Index: {0: [(1, 15), (4, 18)], 1: [(9, 11), (0, 17)], 2: [(10, 17), (1, 11)], 3: [(11, 13), (4, 6)], 4: [(0, 12), (1, 7)], 5: [(6, 19), (0, 5)], 6: [(6, 21), (9, 13)], 7: [(2, 12), (4, 19)], 8: [(0, 8), (4, 16)], 9: [(2, 14), (4, 21)], 10: [(0, 20), (1, 13)], 11: [(12, 14), (1, 3)], 12: [(3, 11), (14, 17)], 13: [(1, 9), (2, 5)], 14: [(0, 14), (1, 15)], 15: [(0, 2), (9, 11)], 16: [(14, 20), (1, 13)], 17: [(12, 20), (4, 16)], 18: [(0, 10), (1, 3)], 19: [(8, 12), (1, 15)], 20: [(2, 8), (10, 17)]}\n"
     ]
    }
   ],
   "source": [
    "batch_all_index = generate_batch_all_index(avail_lineage_pairs, batch_size)\n",
    "print(\"Batch All Index:\", batch_all_index)"
   ]
  },
  {
   "cell_type": "code",
   "execution_count": 11,
   "metadata": {},
   "outputs": [
    {
     "data": {
      "text/plain": [
       "21"
      ]
     },
     "execution_count": 11,
     "metadata": {},
     "output_type": "execute_result"
    }
   ],
   "source": [
    "len(batch_all_index.keys())"
   ]
  },
  {
   "cell_type": "code",
   "execution_count": 12,
   "metadata": {},
   "outputs": [],
   "source": [
    "x = generate_lineage_array(batch_all_index, lineage)"
   ]
  },
  {
   "cell_type": "code",
   "execution_count": 13,
   "metadata": {},
   "outputs": [
    {
     "data": {
      "text/plain": [
       "array([[2],\n",
       "       [3],\n",
       "       [2],\n",
       "       [1],\n",
       "       [1],\n",
       "       [2],\n",
       "       [2],\n",
       "       [3],\n",
       "       [1],\n",
       "       [2],\n",
       "       [3],\n",
       "       [1],\n",
       "       [3],\n",
       "       [2],\n",
       "       [1],\n",
       "       [3],\n",
       "       [1],\n",
       "       [3],\n",
       "       [1],\n",
       "       [3],\n",
       "       [1],\n",
       "       [2],\n",
       "       [1],\n",
       "       [2],\n",
       "       [2],\n",
       "       [1],\n",
       "       [2],\n",
       "       [1],\n",
       "       [1],\n",
       "       [2],\n",
       "       [1],\n",
       "       [2],\n",
       "       [1],\n",
       "       [2],\n",
       "       [1],\n",
       "       [3],\n",
       "       [1],\n",
       "       [2],\n",
       "       [1],\n",
       "       [2],\n",
       "       [1],\n",
       "       [1]])"
      ]
     },
     "execution_count": 13,
     "metadata": {},
     "output_type": "execute_result"
    }
   ],
   "source": []
  },
  {
   "cell_type": "code",
   "execution_count": 35,
   "metadata": {},
   "outputs": [],
   "source": [
    "lineage_info = generate_lineage_info(cell_lineage)"
   ]
  },
  {
   "cell_type": "code",
   "execution_count": 36,
   "metadata": {},
   "outputs": [
    {
     "data": {
      "text/plain": [
       "2817"
      ]
     },
     "execution_count": 36,
     "metadata": {},
     "output_type": "execute_result"
    }
   ],
   "source": [
    "len(lineage_info.keys())"
   ]
  },
  {
   "cell_type": "code",
   "execution_count": 17,
   "metadata": {},
   "outputs": [
    {
     "name": "stdout",
     "output_type": "stream",
     "text": [
      "the range of number of cells in a lineage: (5, 177), average of number of cells in a lineage 14.63\n"
     ]
    }
   ],
   "source": [
    "get_min_max_length(lineage_info)"
   ]
  },
  {
   "cell_type": "code",
   "execution_count": 18,
   "metadata": {},
   "outputs": [],
   "source": [
    "avail_lineage_pairs = generate_avail_lineage_pairs(lineage_info, size_factor)"
   ]
  },
  {
   "cell_type": "code",
   "execution_count": 19,
   "metadata": {},
   "outputs": [
    {
     "name": "stdout",
     "output_type": "stream",
     "text": [
      "the range of number of cells in a lineage: (5, 7788), average of number of cells in a lineage 105.07\n"
     ]
    }
   ],
   "source": [
    "get_min_max_length(avail_lineage_pairs)"
   ]
  },
  {
   "cell_type": "code",
   "execution_count": 24,
   "metadata": {},
   "outputs": [],
   "source": [
    "batch_all_index = generate_batch_all_index(avail_lineage_pairs, 30)"
   ]
  },
  {
   "cell_type": "code",
   "execution_count": 25,
   "metadata": {},
   "outputs": [
    {
     "data": {
      "text/plain": [
       "14840"
      ]
     },
     "execution_count": 25,
     "metadata": {},
     "output_type": "execute_result"
    }
   ],
   "source": [
    "len(batch_all_index.keys())"
   ]
  },
  {
   "cell_type": "code",
   "execution_count": 29,
   "metadata": {},
   "outputs": [
    {
     "data": {
      "text/plain": [
       "(41201, 9)"
      ]
     },
     "execution_count": 29,
     "metadata": {},
     "output_type": "execute_result"
    }
   ],
   "source": [
    "adata.obs.shape"
   ]
  },
  {
   "cell_type": "code",
   "execution_count": 60,
   "metadata": {},
   "outputs": [
    {
     "data": {
      "text/plain": [
       "3960.0"
      ]
     },
     "execution_count": 60,
     "metadata": {},
     "output_type": "execute_result"
    }
   ],
   "source": [
    "(33*32/4)*15"
   ]
  }
 ],
 "metadata": {
  "kernelspec": {
   "display_name": "scvi-env",
   "language": "python",
   "name": "python3"
  },
  "language_info": {
   "codemirror_mode": {
    "name": "ipython",
    "version": 3
   },
   "file_extension": ".py",
   "mimetype": "text/x-python",
   "name": "python",
   "nbconvert_exporter": "python",
   "pygments_lexer": "ipython3",
   "version": "3.9.18"
  }
 },
 "nbformat": 4,
 "nbformat_minor": 2
}
