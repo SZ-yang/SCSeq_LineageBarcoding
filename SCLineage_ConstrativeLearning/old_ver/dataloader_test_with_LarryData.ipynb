{
 "cells": [
  {
   "cell_type": "code",
   "execution_count": 1,
   "metadata": {},
   "outputs": [],
   "source": [
    "import anndata as ad\n",
    "import numpy as np\n",
    "import scipy\n",
    "import pandas as pd\n",
    "import torch"
   ]
  },
  {
   "cell_type": "markdown",
   "metadata": {},
   "source": [
    "### Larry Data Loading and Preprocessing"
   ]
  },
  {
   "cell_type": "code",
   "execution_count": 2,
   "metadata": {},
   "outputs": [
    {
     "data": {
      "text/plain": [
       "'\\nrule differentiation_make_adata:\\n    input:\\n        normed_counts=\"resources/differentiation/GSM4185642_stateFate_inVitro_normed_counts.mtx.gz\",\\n        gene_names=\"resources/differentiation/GSM4185642_stateFate_inVitro_gene_names.txt.gz\",\\n        clone_matrix=\"resources/differentiation/GSM4185642_stateFate_inVitro_clone_matrix.mtx.gz\",\\n        metadata=\"resources/differentiation/GSM4185642_stateFate_inVitro_metadata.txt.gz\",\\n    output:\\n        d4d6_h5ad=\"results/single_cell_differentiation/data/d4_d6_differentiation.h5ad\",\\n        d2_h5ad=\"results/single_cell_differentiation/data/d2_differentiation.h5ad\",\\n    conda:\\n        \"../envs/TACCO_env.yml\"\\n    resources:\\n        mem_mb=8000\\n    log:\\n        \"logs/single_cell_differentiation/differentiation_make_adata.log\"\\n    benchmark:\\n        \"benchmarks/single_cell_differentiation/differentiation_make_adata.tsv\"\\n    script:\\n        \"differentiation_make_adata.py\"\\n'"
      ]
     },
     "execution_count": 2,
     "metadata": {},
     "output_type": "execute_result"
    }
   ],
   "source": [
    "# original snakemnake file\n",
    "'''\n",
    "rule differentiation_make_adata:\n",
    "    input:\n",
    "        normed_counts=\"resources/differentiation/GSM4185642_stateFate_inVitro_normed_counts.mtx.gz\",\n",
    "        gene_names=\"resources/differentiation/GSM4185642_stateFate_inVitro_gene_names.txt.gz\",\n",
    "        clone_matrix=\"resources/differentiation/GSM4185642_stateFate_inVitro_clone_matrix.mtx.gz\",\n",
    "        metadata=\"resources/differentiation/GSM4185642_stateFate_inVitro_metadata.txt.gz\",\n",
    "    output:\n",
    "        d4d6_h5ad=\"results/single_cell_differentiation/data/d4_d6_differentiation.h5ad\",\n",
    "        d2_h5ad=\"results/single_cell_differentiation/data/d2_differentiation.h5ad\",\n",
    "    conda:\n",
    "        \"../envs/TACCO_env.yml\"\n",
    "    resources:\n",
    "        mem_mb=8000\n",
    "    log:\n",
    "        \"logs/single_cell_differentiation/differentiation_make_adata.log\"\n",
    "    benchmark:\n",
    "        \"benchmarks/single_cell_differentiation/differentiation_make_adata.tsv\"\n",
    "    script:\n",
    "        \"differentiation_make_adata.py\"\n",
    "'''"
   ]
  },
  {
   "cell_type": "markdown",
   "metadata": {},
   "source": [
    "This normalized count matrix reports the number of transcripts (UMIs) for each gene in each cell, after total-counts normalization (i.e. L1 normalization on cells). Rows represent cells and columns represent genes. There are no column or row labels. Gene names and cell metadata are provided in separate files."
   ]
  },
  {
   "cell_type": "code",
   "execution_count": 3,
   "metadata": {},
   "outputs": [],
   "source": [
    "normed_counts = \"/Users/apple/Desktop/KB/Dataset1/stateFate_inVitro_normed_counts.mtx.gz\"  #snakemake.input['normed_counts']\n",
    "gene_names = \"/Users/apple/Desktop/KB/Dataset1/stateFate_inVitro_gene_names.txt.gz\" #snakemake.input['gene_names']\n",
    "clone_matrix = \"/Users/apple/Desktop/KB/Dataset1/stateFate_inVitro_clone_matrix.mtx.gz\" #snakemake.input['clone_matrix']\n",
    "metadata = \"/Users/apple/Desktop/KB/Dataset1/stateFate_inVitro_metadata.txt.gz\" #snakemake.input['metadata']\n",
    "\n",
    "# output_d4d6_h5ad = \"/Users/apple/Desktop/KB/SCSeq_LineageBarcoding2/SCSeq_LineageBarcoding/Larry_test/tacco_output/d4d6_h5ad\" #snakemake.output['d4d6_h5ad']\n",
    "# output_d2_h5ad = \"/Users/apple/Desktop/KB/SCSeq_LineageBarcoding2/SCSeq_LineageBarcoding/Larry_test/tacco_output/d2_h5ad\" #snakemake.output['d2_h5ad']"
   ]
  },
  {
   "cell_type": "code",
   "execution_count": 4,
   "metadata": {},
   "outputs": [],
   "source": [
    "# load data\n",
    "normed_counts_mat = scipy.io.mmread(normed_counts).tocsr()\n",
    "genes = pd.read_csv(gene_names, sep='\\t',header=None).to_numpy().flatten()\n",
    "clone_mat = scipy.io.mmread(clone_matrix).tocsr()\n",
    "meta_df = pd.read_csv(metadata, sep='\\t')"
   ]
  },
  {
   "cell_type": "code",
   "execution_count": 5,
   "metadata": {},
   "outputs": [
    {
     "data": {
      "text/html": [
       "<div>\n",
       "<style scoped>\n",
       "    .dataframe tbody tr th:only-of-type {\n",
       "        vertical-align: middle;\n",
       "    }\n",
       "\n",
       "    .dataframe tbody tr th {\n",
       "        vertical-align: top;\n",
       "    }\n",
       "\n",
       "    .dataframe thead th {\n",
       "        text-align: right;\n",
       "    }\n",
       "</style>\n",
       "<table border=\"1\" class=\"dataframe\">\n",
       "  <thead>\n",
       "    <tr style=\"text-align: right;\">\n",
       "      <th></th>\n",
       "      <th>Library</th>\n",
       "      <th>Cell barcode</th>\n",
       "      <th>Time point</th>\n",
       "      <th>Starting population</th>\n",
       "      <th>Cell type annotation</th>\n",
       "      <th>Well</th>\n",
       "      <th>SPRING-x</th>\n",
       "      <th>SPRING-y</th>\n",
       "    </tr>\n",
       "  </thead>\n",
       "  <tbody>\n",
       "    <tr>\n",
       "      <th>0</th>\n",
       "      <td>d6_2_2</td>\n",
       "      <td>GCGTGCAA-AGAAGTTA</td>\n",
       "      <td>6.0</td>\n",
       "      <td>Lin-Kit+Sca1-</td>\n",
       "      <td>Undifferentiated</td>\n",
       "      <td>2</td>\n",
       "      <td>411.496</td>\n",
       "      <td>-96.190</td>\n",
       "    </tr>\n",
       "    <tr>\n",
       "      <th>1</th>\n",
       "      <td>d6_2_2</td>\n",
       "      <td>AAGGGACC-CTCGATGC</td>\n",
       "      <td>6.0</td>\n",
       "      <td>Lin-Kit+Sca1-</td>\n",
       "      <td>Undifferentiated</td>\n",
       "      <td>2</td>\n",
       "      <td>-587.462</td>\n",
       "      <td>-306.925</td>\n",
       "    </tr>\n",
       "    <tr>\n",
       "      <th>2</th>\n",
       "      <td>d6_2_2</td>\n",
       "      <td>CGTACCGA-AGCGCCTT</td>\n",
       "      <td>6.0</td>\n",
       "      <td>Lin-Kit+Sca1-</td>\n",
       "      <td>Monocyte</td>\n",
       "      <td>2</td>\n",
       "      <td>1429.805</td>\n",
       "      <td>-429.300</td>\n",
       "    </tr>\n",
       "    <tr>\n",
       "      <th>3</th>\n",
       "      <td>d6_2_2</td>\n",
       "      <td>CTGAAGGG-AGGAGCTT</td>\n",
       "      <td>6.0</td>\n",
       "      <td>Lin-Kit+Sca1-</td>\n",
       "      <td>Neutrophil</td>\n",
       "      <td>2</td>\n",
       "      <td>1150.028</td>\n",
       "      <td>-2030.369</td>\n",
       "    </tr>\n",
       "    <tr>\n",
       "      <th>4</th>\n",
       "      <td>d6_2_2</td>\n",
       "      <td>CCGTAGCT-AGGCAGTT</td>\n",
       "      <td>6.0</td>\n",
       "      <td>Lin-Kit+Sca1-</td>\n",
       "      <td>Undifferentiated</td>\n",
       "      <td>2</td>\n",
       "      <td>-1169.594</td>\n",
       "      <td>362.010</td>\n",
       "    </tr>\n",
       "  </tbody>\n",
       "</table>\n",
       "</div>"
      ],
      "text/plain": [
       "  Library       Cell barcode  Time point Starting population  \\\n",
       "0  d6_2_2  GCGTGCAA-AGAAGTTA         6.0       Lin-Kit+Sca1-   \n",
       "1  d6_2_2  AAGGGACC-CTCGATGC         6.0       Lin-Kit+Sca1-   \n",
       "2  d6_2_2  CGTACCGA-AGCGCCTT         6.0       Lin-Kit+Sca1-   \n",
       "3  d6_2_2  CTGAAGGG-AGGAGCTT         6.0       Lin-Kit+Sca1-   \n",
       "4  d6_2_2  CCGTAGCT-AGGCAGTT         6.0       Lin-Kit+Sca1-   \n",
       "\n",
       "  Cell type annotation  Well  SPRING-x  SPRING-y  \n",
       "0     Undifferentiated     2   411.496   -96.190  \n",
       "1     Undifferentiated     2  -587.462  -306.925  \n",
       "2             Monocyte     2  1429.805  -429.300  \n",
       "3           Neutrophil     2  1150.028 -2030.369  \n",
       "4     Undifferentiated     2 -1169.594   362.010  "
      ]
     },
     "execution_count": 5,
     "metadata": {},
     "output_type": "execute_result"
    }
   ],
   "source": [
    "meta_df.head()"
   ]
  },
  {
   "cell_type": "code",
   "execution_count": 6,
   "metadata": {},
   "outputs": [
    {
     "name": "stderr",
     "output_type": "stream",
     "text": [
      "/opt/anaconda3/envs/scvi-env/lib/python3.9/site-packages/anndata/_core/anndata.py:522: FutureWarning: The dtype argument is deprecated and will be removed in late 2024.\n",
      "  warnings.warn(\n",
      "/opt/anaconda3/envs/scvi-env/lib/python3.9/site-packages/anndata/_core/anndata.py:183: ImplicitModificationWarning: Transforming to str index.\n",
      "  warnings.warn(\"Transforming to str index.\", ImplicitModificationWarning)\n"
     ]
    }
   ],
   "source": [
    "# create full adata\n",
    "adata = ad.AnnData(normed_counts_mat, obs=meta_df, var=pd.DataFrame(index=genes), dtype=np.float32)"
   ]
  },
  {
   "cell_type": "code",
   "execution_count": 7,
   "metadata": {},
   "outputs": [],
   "source": [
    "# optimize dtypes\n",
    "adata.obs['Library'] = adata.obs['Library'].astype('category')\n",
    "adata.obs['Time point'] = adata.obs['Time point'].astype(int)\n",
    "adata.obs['Starting population'] = adata.obs['Starting population'].astype('category')\n",
    "adata.obs['Cell type annotation'] = adata.obs['Cell type annotation'].astype('category')\n",
    "adata.obs['Well'] = adata.obs['Well'].astype(int)\n",
    "# assign clone_id\n",
    "adata.obs['clone_id'] = (clone_mat @ np.arange(1,1+clone_mat.shape[1])) - 1"
   ]
  },
  {
   "cell_type": "code",
   "execution_count": 8,
   "metadata": {},
   "outputs": [
    {
     "data": {
      "text/html": [
       "<div>\n",
       "<style scoped>\n",
       "    .dataframe tbody tr th:only-of-type {\n",
       "        vertical-align: middle;\n",
       "    }\n",
       "\n",
       "    .dataframe tbody tr th {\n",
       "        vertical-align: top;\n",
       "    }\n",
       "\n",
       "    .dataframe thead th {\n",
       "        text-align: right;\n",
       "    }\n",
       "</style>\n",
       "<table border=\"1\" class=\"dataframe\">\n",
       "  <thead>\n",
       "    <tr style=\"text-align: right;\">\n",
       "      <th></th>\n",
       "      <th>Library</th>\n",
       "      <th>Cell barcode</th>\n",
       "      <th>Time point</th>\n",
       "      <th>Starting population</th>\n",
       "      <th>Cell type annotation</th>\n",
       "      <th>Well</th>\n",
       "      <th>SPRING-x</th>\n",
       "      <th>SPRING-y</th>\n",
       "      <th>clone_id</th>\n",
       "    </tr>\n",
       "  </thead>\n",
       "  <tbody>\n",
       "    <tr>\n",
       "      <th>0</th>\n",
       "      <td>d6_2_2</td>\n",
       "      <td>GCGTGCAA-AGAAGTTA</td>\n",
       "      <td>6</td>\n",
       "      <td>Lin-Kit+Sca1-</td>\n",
       "      <td>Undifferentiated</td>\n",
       "      <td>2</td>\n",
       "      <td>411.496</td>\n",
       "      <td>-96.190</td>\n",
       "      <td>573</td>\n",
       "    </tr>\n",
       "    <tr>\n",
       "      <th>1</th>\n",
       "      <td>d6_2_2</td>\n",
       "      <td>AAGGGACC-CTCGATGC</td>\n",
       "      <td>6</td>\n",
       "      <td>Lin-Kit+Sca1-</td>\n",
       "      <td>Undifferentiated</td>\n",
       "      <td>2</td>\n",
       "      <td>-587.462</td>\n",
       "      <td>-306.925</td>\n",
       "      <td>1440</td>\n",
       "    </tr>\n",
       "    <tr>\n",
       "      <th>2</th>\n",
       "      <td>d6_2_2</td>\n",
       "      <td>CGTACCGA-AGCGCCTT</td>\n",
       "      <td>6</td>\n",
       "      <td>Lin-Kit+Sca1-</td>\n",
       "      <td>Monocyte</td>\n",
       "      <td>2</td>\n",
       "      <td>1429.805</td>\n",
       "      <td>-429.300</td>\n",
       "      <td>394</td>\n",
       "    </tr>\n",
       "    <tr>\n",
       "      <th>3</th>\n",
       "      <td>d6_2_2</td>\n",
       "      <td>CTGAAGGG-AGGAGCTT</td>\n",
       "      <td>6</td>\n",
       "      <td>Lin-Kit+Sca1-</td>\n",
       "      <td>Neutrophil</td>\n",
       "      <td>2</td>\n",
       "      <td>1150.028</td>\n",
       "      <td>-2030.369</td>\n",
       "      <td>-1</td>\n",
       "    </tr>\n",
       "    <tr>\n",
       "      <th>4</th>\n",
       "      <td>d6_2_2</td>\n",
       "      <td>CCGTAGCT-AGGCAGTT</td>\n",
       "      <td>6</td>\n",
       "      <td>Lin-Kit+Sca1-</td>\n",
       "      <td>Undifferentiated</td>\n",
       "      <td>2</td>\n",
       "      <td>-1169.594</td>\n",
       "      <td>362.010</td>\n",
       "      <td>1972</td>\n",
       "    </tr>\n",
       "    <tr>\n",
       "      <th>...</th>\n",
       "      <td>...</td>\n",
       "      <td>...</td>\n",
       "      <td>...</td>\n",
       "      <td>...</td>\n",
       "      <td>...</td>\n",
       "      <td>...</td>\n",
       "      <td>...</td>\n",
       "      <td>...</td>\n",
       "      <td>...</td>\n",
       "    </tr>\n",
       "    <tr>\n",
       "      <th>130882</th>\n",
       "      <td>LSK_d6_1_3</td>\n",
       "      <td>TCTGATTT-CGGGCTTT</td>\n",
       "      <td>6</td>\n",
       "      <td>Lin-Kit+Sca1+</td>\n",
       "      <td>Undifferentiated</td>\n",
       "      <td>1</td>\n",
       "      <td>-308.468</td>\n",
       "      <td>-163.223</td>\n",
       "      <td>-1</td>\n",
       "    </tr>\n",
       "    <tr>\n",
       "      <th>130883</th>\n",
       "      <td>LSK_d6_1_3</td>\n",
       "      <td>AGTCACAA-TGTGTCCT</td>\n",
       "      <td>6</td>\n",
       "      <td>Lin-Kit+Sca1+</td>\n",
       "      <td>Undifferentiated</td>\n",
       "      <td>1</td>\n",
       "      <td>-3.435</td>\n",
       "      <td>575.133</td>\n",
       "      <td>1374</td>\n",
       "    </tr>\n",
       "    <tr>\n",
       "      <th>130884</th>\n",
       "      <td>LSK_d6_1_3</td>\n",
       "      <td>GGAGGTTT-AGGCAGTT</td>\n",
       "      <td>6</td>\n",
       "      <td>Lin-Kit+Sca1+</td>\n",
       "      <td>Monocyte</td>\n",
       "      <td>1</td>\n",
       "      <td>2548.309</td>\n",
       "      <td>24.683</td>\n",
       "      <td>-1</td>\n",
       "    </tr>\n",
       "    <tr>\n",
       "      <th>130885</th>\n",
       "      <td>LSK_d6_1_3</td>\n",
       "      <td>CCGGAAAT-GGGAAGGT</td>\n",
       "      <td>6</td>\n",
       "      <td>Lin-Kit+Sca1+</td>\n",
       "      <td>Monocyte</td>\n",
       "      <td>1</td>\n",
       "      <td>2658.601</td>\n",
       "      <td>131.098</td>\n",
       "      <td>-1</td>\n",
       "    </tr>\n",
       "    <tr>\n",
       "      <th>130886</th>\n",
       "      <td>LSK_d6_1_3</td>\n",
       "      <td>GTATTGAC-GGGTGTAT</td>\n",
       "      <td>6</td>\n",
       "      <td>Lin-Kit+Sca1+</td>\n",
       "      <td>Undifferentiated</td>\n",
       "      <td>1</td>\n",
       "      <td>-266.344</td>\n",
       "      <td>996.297</td>\n",
       "      <td>-1</td>\n",
       "    </tr>\n",
       "  </tbody>\n",
       "</table>\n",
       "<p>130887 rows × 9 columns</p>\n",
       "</div>"
      ],
      "text/plain": [
       "           Library       Cell barcode  Time point Starting population  \\\n",
       "0           d6_2_2  GCGTGCAA-AGAAGTTA           6       Lin-Kit+Sca1-   \n",
       "1           d6_2_2  AAGGGACC-CTCGATGC           6       Lin-Kit+Sca1-   \n",
       "2           d6_2_2  CGTACCGA-AGCGCCTT           6       Lin-Kit+Sca1-   \n",
       "3           d6_2_2  CTGAAGGG-AGGAGCTT           6       Lin-Kit+Sca1-   \n",
       "4           d6_2_2  CCGTAGCT-AGGCAGTT           6       Lin-Kit+Sca1-   \n",
       "...            ...                ...         ...                 ...   \n",
       "130882  LSK_d6_1_3  TCTGATTT-CGGGCTTT           6       Lin-Kit+Sca1+   \n",
       "130883  LSK_d6_1_3  AGTCACAA-TGTGTCCT           6       Lin-Kit+Sca1+   \n",
       "130884  LSK_d6_1_3  GGAGGTTT-AGGCAGTT           6       Lin-Kit+Sca1+   \n",
       "130885  LSK_d6_1_3  CCGGAAAT-GGGAAGGT           6       Lin-Kit+Sca1+   \n",
       "130886  LSK_d6_1_3  GTATTGAC-GGGTGTAT           6       Lin-Kit+Sca1+   \n",
       "\n",
       "       Cell type annotation  Well  SPRING-x  SPRING-y  clone_id  \n",
       "0          Undifferentiated     2   411.496   -96.190       573  \n",
       "1          Undifferentiated     2  -587.462  -306.925      1440  \n",
       "2                  Monocyte     2  1429.805  -429.300       394  \n",
       "3                Neutrophil     2  1150.028 -2030.369        -1  \n",
       "4          Undifferentiated     2 -1169.594   362.010      1972  \n",
       "...                     ...   ...       ...       ...       ...  \n",
       "130882     Undifferentiated     1  -308.468  -163.223        -1  \n",
       "130883     Undifferentiated     1    -3.435   575.133      1374  \n",
       "130884             Monocyte     1  2548.309    24.683        -1  \n",
       "130885             Monocyte     1  2658.601   131.098        -1  \n",
       "130886     Undifferentiated     1  -266.344   996.297        -1  \n",
       "\n",
       "[130887 rows x 9 columns]"
      ]
     },
     "execution_count": 8,
     "metadata": {},
     "output_type": "execute_result"
    }
   ],
   "source": [
    "adata.obs"
   ]
  },
  {
   "cell_type": "code",
   "execution_count": 9,
   "metadata": {},
   "outputs": [
    {
     "name": "stdout",
     "output_type": "stream",
     "text": [
      "number of lineages:  5865\n"
     ]
    }
   ],
   "source": [
    "print(\"number of lineages: \", len(adata.obs['clone_id'].unique()))"
   ]
  },
  {
   "cell_type": "markdown",
   "metadata": {},
   "source": [
    "### using the single-cell dataloader to generate batches"
   ]
  },
  {
   "cell_type": "code",
   "execution_count": 10,
   "metadata": {},
   "outputs": [],
   "source": [
    "import DataLoader_tensor_sparse as dl\n",
    "import SCDataset as ds"
   ]
  },
  {
   "cell_type": "code",
   "execution_count": 11,
   "metadata": {},
   "outputs": [
    {
     "data": {
      "text/plain": [
       "((130887, 25289), (130887, 1))"
      ]
     },
     "execution_count": 11,
     "metadata": {},
     "output_type": "execute_result"
    }
   ],
   "source": [
    "# input data\n",
    "count_matrix = adata.X\n",
    "cell_lineage = adata.obs['clone_id'].values.reshape(-1, 1)\n",
    "count_matrix.shape, cell_lineage.shape"
   ]
  },
  {
   "cell_type": "code",
   "execution_count": 12,
   "metadata": {},
   "outputs": [
    {
     "name": "stdout",
     "output_type": "stream",
     "text": [
      "number of batches:  43314\n"
     ]
    }
   ],
   "source": [
    "# step 1 generate designed batches\n",
    "batchsize = 10\n",
    "DLoader = dl.SClineage_DataLoader(count_matrix,cell_lineage,batch_size=batchsize, seed=7)\n",
    "batch_all, num_batch = DLoader.batch_generator()\n",
    "# step 2 generate real dataloader\n",
    "sc_dataset = ds.SCDataset(batches=batch_all)\n",
    "\n",
    "print(\"number of batches: \", num_batch)"
   ]
  },
  {
   "cell_type": "markdown",
   "metadata": {},
   "source": [
    "### using the real torch dataloader"
   ]
  },
  {
   "cell_type": "code",
   "execution_count": 13,
   "metadata": {},
   "outputs": [],
   "source": [
    "data_loader = torch.utils.data.DataLoader(dataset=sc_dataset, batch_size=batchsize, shuffle=False)"
   ]
  },
  {
   "cell_type": "code",
   "execution_count": null,
   "metadata": {},
   "outputs": [],
   "source": []
  }
 ],
 "metadata": {
  "kernelspec": {
   "display_name": "scvi-env",
   "language": "python",
   "name": "python3"
  },
  "language_info": {
   "codemirror_mode": {
    "name": "ipython",
    "version": 3
   },
   "file_extension": ".py",
   "mimetype": "text/x-python",
   "name": "python",
   "nbconvert_exporter": "python",
   "pygments_lexer": "ipython3",
   "version": "3.9.18"
  }
 },
 "nbformat": 4,
 "nbformat_minor": 2
}
