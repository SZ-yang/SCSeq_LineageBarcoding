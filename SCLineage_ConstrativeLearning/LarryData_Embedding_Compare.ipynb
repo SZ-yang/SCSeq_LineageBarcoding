{
 "cells": [
  {
   "cell_type": "code",
   "execution_count": 1,
   "metadata": {},
   "outputs": [],
   "source": [
    "import anndata as ad\n",
    "import numpy as np\n",
    "import scipy\n",
    "import pandas as pd\n",
    "import torch\n",
    "import scanpy as sc\n",
    "import matplotlib.pyplot as plt"
   ]
  },
  {
   "cell_type": "markdown",
   "metadata": {},
   "source": [
    "### PCA embedding for 41201 cells"
   ]
  },
  {
   "cell_type": "code",
   "execution_count": 2,
   "metadata": {},
   "outputs": [
    {
     "name": "stdout",
     "output_type": "stream",
     "text": [
      "adata_subset.X.shape: (41201, 2000)\n",
      "number of lineages:  2817\n"
     ]
    }
   ],
   "source": [
    "# read h5ad file\n",
    "\n",
    "adata_subset = ad.read_h5ad('Larry_41201_2000.h5ad')\n",
    "print(\"adata_subset.X.shape:\", adata_subset.X.shape)\n",
    "print(\"number of lineages: \", len(adata_subset.obs['clone_id'].unique()))"
   ]
  },
  {
   "cell_type": "markdown",
   "metadata": {},
   "source": [
    "#### get the PCA embeddings"
   ]
  },
  {
   "cell_type": "code",
   "execution_count": 3,
   "metadata": {},
   "outputs": [],
   "source": [
    "# question!!!\n",
    "# sc.pp.log1p(adata_subset)"
   ]
  },
  {
   "cell_type": "code",
   "execution_count": 4,
   "metadata": {},
   "outputs": [],
   "source": [
    "sc.pp.scale(adata_subset, max_value=10)\n",
    "sc.tl.pca(adata_subset, svd_solver='arpack')\n",
    "sc.pp.neighbors(adata_subset, n_neighbors=10, n_pcs=40)\n"
   ]
  },
  {
   "cell_type": "markdown",
   "metadata": {},
   "source": [
    "#### run leiden clustering on PCA embeddings"
   ]
  },
  {
   "cell_type": "code",
   "execution_count": 5,
   "metadata": {},
   "outputs": [
    {
     "name": "stdout",
     "output_type": "stream",
     "text": [
      "number of clusters:  15\n"
     ]
    }
   ],
   "source": [
    "# adjust the resolution to change the number of leiden clusters\n",
    "sc.tl.leiden(adata_subset, resolution=0.7)\n",
    "cluster_labels = adata_subset.obs['leiden']\n",
    "print(\"number of clusters: \", len(cluster_labels.unique()))"
   ]
  },
  {
   "cell_type": "markdown",
   "metadata": {},
   "source": [
    "#### create a dataframe for the number of unqiue clusters the number of cells in each lineage"
   ]
  },
  {
   "cell_type": "code",
   "execution_count": 6,
   "metadata": {},
   "outputs": [
    {
     "name": "stdout",
     "output_type": "stream",
     "text": [
      "          num_leiden_PCA  total_cells\n",
      "clone_id                             \n",
      "0                      1            5\n",
      "1                      2           20\n",
      "2                      3           20\n",
      "4                      1            9\n",
      "5                      2            6\n",
      "...                  ...          ...\n",
      "5845                   2           24\n",
      "5848                   2           12\n",
      "5850                   5           11\n",
      "5857                   3           14\n",
      "5858                   2            7\n",
      "\n",
      "[2817 rows x 2 columns]\n"
     ]
    }
   ],
   "source": [
    "lineage_stats = adata_subset.obs.groupby('clone_id').agg({\n",
    "    'leiden': [\"nunique\", \"count\"]\n",
    "})\n",
    "\n",
    "# renaming the columns\n",
    "lineage_stats.columns = ['num_leiden_PCA', 'total_cells']\n",
    "\n",
    "print(lineage_stats)"
   ]
  },
  {
   "cell_type": "code",
   "execution_count": 7,
   "metadata": {},
   "outputs": [],
   "source": [
    "# sc.tl.umap(adata_subset)\n",
    "# sc.pl.umap(adata_subset,color='Cell type annotation', title=\"UMAP for 41201 Cells\")\n",
    "# sc.tl.umap(adata_subset)\n",
    "# sc.pl.umap(adata_subset, color=['leiden'])"
   ]
  },
  {
   "cell_type": "markdown",
   "metadata": {},
   "source": [
    "### Contrastive Learning embedding for 41201 cells"
   ]
  },
  {
   "cell_type": "code",
   "execution_count": 8,
   "metadata": {},
   "outputs": [
    {
     "name": "stdout",
     "output_type": "stream",
     "text": [
      "shape of the CL embedding:  (41201, 64)\n"
     ]
    }
   ],
   "source": [
    "Feat_Z = np.load('out/scBaseEncoderFeat_Z.npy')\n",
    "adata_Z = sc.AnnData(Feat_Z)\n",
    "print(\"shape of the CL embedding: \", Feat_Z.shape)"
   ]
  },
  {
   "cell_type": "markdown",
   "metadata": {},
   "source": [
    "#### run leiden clustering on CL embeddings"
   ]
  },
  {
   "cell_type": "code",
   "execution_count": 9,
   "metadata": {},
   "outputs": [
    {
     "name": "stdout",
     "output_type": "stream",
     "text": [
      "number of clusters:  15\n"
     ]
    }
   ],
   "source": [
    "sc.pp.neighbors(adata_Z, n_neighbors=10, use_rep='X')\n",
    "\n",
    "# Perform Leiden clustering\n",
    "sc.tl.leiden(adata_Z, resolution=0.26)\n",
    "\n",
    "clusters = adata_Z.obs['leiden']\n",
    "print(\"number of clusters: \",len(clusters.unique()))"
   ]
  },
  {
   "cell_type": "code",
   "execution_count": 10,
   "metadata": {},
   "outputs": [
    {
     "data": {
      "text/html": [
       "<div>\n",
       "<style scoped>\n",
       "    .dataframe tbody tr th:only-of-type {\n",
       "        vertical-align: middle;\n",
       "    }\n",
       "\n",
       "    .dataframe tbody tr th {\n",
       "        vertical-align: top;\n",
       "    }\n",
       "\n",
       "    .dataframe thead th {\n",
       "        text-align: right;\n",
       "    }\n",
       "</style>\n",
       "<table border=\"1\" class=\"dataframe\">\n",
       "  <thead>\n",
       "    <tr style=\"text-align: right;\">\n",
       "      <th></th>\n",
       "      <th>clone_id</th>\n",
       "      <th>leiden</th>\n",
       "    </tr>\n",
       "  </thead>\n",
       "  <tbody>\n",
       "    <tr>\n",
       "      <th>0</th>\n",
       "      <td>573</td>\n",
       "      <td>7</td>\n",
       "    </tr>\n",
       "    <tr>\n",
       "      <th>1</th>\n",
       "      <td>1440</td>\n",
       "      <td>6</td>\n",
       "    </tr>\n",
       "    <tr>\n",
       "      <th>2</th>\n",
       "      <td>394</td>\n",
       "      <td>1</td>\n",
       "    </tr>\n",
       "    <tr>\n",
       "      <th>4</th>\n",
       "      <td>1972</td>\n",
       "      <td>9</td>\n",
       "    </tr>\n",
       "    <tr>\n",
       "      <th>6</th>\n",
       "      <td>1450</td>\n",
       "      <td>3</td>\n",
       "    </tr>\n",
       "    <tr>\n",
       "      <th>...</th>\n",
       "      <td>...</td>\n",
       "      <td>...</td>\n",
       "    </tr>\n",
       "    <tr>\n",
       "      <th>130874</th>\n",
       "      <td>4999</td>\n",
       "      <td>7</td>\n",
       "    </tr>\n",
       "    <tr>\n",
       "      <th>130875</th>\n",
       "      <td>12</td>\n",
       "      <td>9</td>\n",
       "    </tr>\n",
       "    <tr>\n",
       "      <th>130876</th>\n",
       "      <td>267</td>\n",
       "      <td>7</td>\n",
       "    </tr>\n",
       "    <tr>\n",
       "      <th>130877</th>\n",
       "      <td>3534</td>\n",
       "      <td>7</td>\n",
       "    </tr>\n",
       "    <tr>\n",
       "      <th>130879</th>\n",
       "      <td>4945</td>\n",
       "      <td>0</td>\n",
       "    </tr>\n",
       "  </tbody>\n",
       "</table>\n",
       "<p>41201 rows × 2 columns</p>\n",
       "</div>"
      ],
      "text/plain": [
       "        clone_id leiden\n",
       "0            573      7\n",
       "1           1440      6\n",
       "2            394      1\n",
       "4           1972      9\n",
       "6           1450      3\n",
       "...          ...    ...\n",
       "130874      4999      7\n",
       "130875        12      9\n",
       "130876       267      7\n",
       "130877      3534      7\n",
       "130879      4945      0\n",
       "\n",
       "[41201 rows x 2 columns]"
      ]
     },
     "execution_count": 10,
     "metadata": {},
     "output_type": "execute_result"
    }
   ],
   "source": [
    "obs_df = adata_subset.obs.loc[:, ['clone_id',\"leiden\"]]\n",
    "obs_df['leiden'] = clusters.to_numpy()\n",
    "obs_df"
   ]
  },
  {
   "cell_type": "code",
   "execution_count": 11,
   "metadata": {},
   "outputs": [
    {
     "data": {
      "text/html": [
       "<div>\n",
       "<style scoped>\n",
       "    .dataframe tbody tr th:only-of-type {\n",
       "        vertical-align: middle;\n",
       "    }\n",
       "\n",
       "    .dataframe tbody tr th {\n",
       "        vertical-align: top;\n",
       "    }\n",
       "\n",
       "    .dataframe thead th {\n",
       "        text-align: right;\n",
       "    }\n",
       "</style>\n",
       "<table border=\"1\" class=\"dataframe\">\n",
       "  <thead>\n",
       "    <tr style=\"text-align: right;\">\n",
       "      <th></th>\n",
       "      <th>num_leiden_PCA</th>\n",
       "      <th>total_cells</th>\n",
       "      <th>num_leiden_CL</th>\n",
       "    </tr>\n",
       "    <tr>\n",
       "      <th>clone_id</th>\n",
       "      <th></th>\n",
       "      <th></th>\n",
       "      <th></th>\n",
       "    </tr>\n",
       "  </thead>\n",
       "  <tbody>\n",
       "    <tr>\n",
       "      <th>0</th>\n",
       "      <td>1</td>\n",
       "      <td>5</td>\n",
       "      <td>2</td>\n",
       "    </tr>\n",
       "    <tr>\n",
       "      <th>1</th>\n",
       "      <td>2</td>\n",
       "      <td>20</td>\n",
       "      <td>3</td>\n",
       "    </tr>\n",
       "    <tr>\n",
       "      <th>2</th>\n",
       "      <td>3</td>\n",
       "      <td>20</td>\n",
       "      <td>3</td>\n",
       "    </tr>\n",
       "    <tr>\n",
       "      <th>4</th>\n",
       "      <td>1</td>\n",
       "      <td>9</td>\n",
       "      <td>2</td>\n",
       "    </tr>\n",
       "    <tr>\n",
       "      <th>5</th>\n",
       "      <td>2</td>\n",
       "      <td>6</td>\n",
       "      <td>3</td>\n",
       "    </tr>\n",
       "    <tr>\n",
       "      <th>...</th>\n",
       "      <td>...</td>\n",
       "      <td>...</td>\n",
       "      <td>...</td>\n",
       "    </tr>\n",
       "    <tr>\n",
       "      <th>5845</th>\n",
       "      <td>2</td>\n",
       "      <td>24</td>\n",
       "      <td>2</td>\n",
       "    </tr>\n",
       "    <tr>\n",
       "      <th>5848</th>\n",
       "      <td>2</td>\n",
       "      <td>12</td>\n",
       "      <td>3</td>\n",
       "    </tr>\n",
       "    <tr>\n",
       "      <th>5850</th>\n",
       "      <td>5</td>\n",
       "      <td>11</td>\n",
       "      <td>5</td>\n",
       "    </tr>\n",
       "    <tr>\n",
       "      <th>5857</th>\n",
       "      <td>3</td>\n",
       "      <td>14</td>\n",
       "      <td>5</td>\n",
       "    </tr>\n",
       "    <tr>\n",
       "      <th>5858</th>\n",
       "      <td>2</td>\n",
       "      <td>7</td>\n",
       "      <td>3</td>\n",
       "    </tr>\n",
       "  </tbody>\n",
       "</table>\n",
       "<p>2817 rows × 3 columns</p>\n",
       "</div>"
      ],
      "text/plain": [
       "          num_leiden_PCA  total_cells  num_leiden_CL\n",
       "clone_id                                            \n",
       "0                      1            5              2\n",
       "1                      2           20              3\n",
       "2                      3           20              3\n",
       "4                      1            9              2\n",
       "5                      2            6              3\n",
       "...                  ...          ...            ...\n",
       "5845                   2           24              2\n",
       "5848                   2           12              3\n",
       "5850                   5           11              5\n",
       "5857                   3           14              5\n",
       "5858                   2            7              3\n",
       "\n",
       "[2817 rows x 3 columns]"
      ]
     },
     "execution_count": 11,
     "metadata": {},
     "output_type": "execute_result"
    }
   ],
   "source": [
    "unique_clusters_per_clone = obs_df.groupby('clone_id')['leiden'].nunique()\n",
    "lineage_stats[\"num_leiden_CL\"] = unique_clusters_per_clone.to_numpy()\n",
    "lineage_stats"
   ]
  },
  {
   "cell_type": "markdown",
   "metadata": {},
   "source": [
    "#### Scatter plot of CL embedding vs PCA embedding"
   ]
  },
  {
   "cell_type": "code",
   "execution_count": 12,
   "metadata": {},
   "outputs": [
    {
     "data": {
      "image/png": "[encoded data removed]",
      "text/plain": [
       "<Figure size 640x480 with 1 Axes>"
      ]
     },
     "metadata": {},
     "output_type": "display_data"
    }
   ],
   "source": [
    "plt.scatter(lineage_stats[\"num_leiden_CL\"], lineage_stats[\"num_leiden_PCA\"], alpha=0.5, s=15)  # Adjust 's' for size as needed\n",
    "\n",
    "# Add y = x line\n",
    "x = np.linspace(*plt.xlim(), 100)  \n",
    "plt.plot(x, x, '--', label='y = x') \n",
    "\n",
    "plt.title('Scatter Plot of CL vs PCA with y = x Line')  \n",
    "plt.xlabel('CL') \n",
    "plt.ylabel('PCA')  \n",
    "plt.legend()  \n",
    "plt.savefig('CL_PCA.png', dpi=300)\n",
    "plt.show()  \n"
   ]
  }
 ],
 "metadata": {
  "kernelspec": {
   "display_name": "scvi-env",
   "language": "python",
   "name": "python3"
  },
  "language_info": {
   "codemirror_mode": {
    "name": "ipython",
    "version": 3
   },
   "file_extension": ".py",
   "mimetype": "text/x-python",
   "name": "python",
   "nbconvert_exporter": "python",
   "pygments_lexer": "ipython3",
   "version": "3.9.18"
  }
 },
 "nbformat": 4,
 "nbformat_minor": 2
}
