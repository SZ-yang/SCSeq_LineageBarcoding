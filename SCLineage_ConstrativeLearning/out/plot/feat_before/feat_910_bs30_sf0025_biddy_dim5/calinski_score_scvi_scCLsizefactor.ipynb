{
 "cells": [
  {
   "cell_type": "markdown",
   "metadata": {},
   "source": [
    "### Hyperparameter: \n",
    "size factor:0.5\n",
    "batch size:250"
   ]
  },
  {
   "cell_type": "code",
   "execution_count": 1,
   "metadata": {},
   "outputs": [],
   "source": [
    "import numpy as np\n",
    "import anndata as ad\n",
    "import pandas as pd\n",
    "import matplotlib.pyplot as plt\n",
    "from sklearn.metrics import calinski_harabasz_score"
   ]
  },
  {
   "cell_type": "code",
   "execution_count": 2,
   "metadata": {},
   "outputs": [],
   "source": [
    "# Load data\n",
    "input_dir = \"/Users/apple/Desktop/KB/data/BiddyData\"\n",
    "X_scCL = np.load(\"/Users/apple/Desktop/KB/data/feat_910_bs30_sf0025_biddy_dim5/scBaseEncoderFeat_Z_bs30_tau0.5.npy\")\n",
    "adata_subset = ad.read_h5ad(input_dir+'/Biddy_train.h5ad')\n",
    "lineage_label = adata_subset.obs[\"clone_id\"].to_numpy()\n",
    "\n",
    "X_test = np.load(\"/Users/apple/Desktop/KB/data/feat_910_bs30_sf0025_biddy_dim5/test_embedding.npy\")\n",
    "adata_subset_test = ad.read_h5ad(input_dir+'/Biddy_test.h5ad')\n",
    "lineage_label_test = adata_subset_test.obs[\"clone_id\"].to_numpy()"
   ]
  },
  {
   "cell_type": "code",
   "execution_count": 3,
   "metadata": {},
   "outputs": [
    {
     "data": {
      "text/plain": [
       "((9220, 5), (9220,))"
      ]
     },
     "execution_count": 3,
     "metadata": {},
     "output_type": "execute_result"
    }
   ],
   "source": [
    "X_scCL.shape ,lineage_label.shape"
   ]
  },
  {
   "cell_type": "code",
   "execution_count": 4,
   "metadata": {},
   "outputs": [],
   "source": [
    "score_scCL = calinski_harabasz_score(X_scCL, lineage_label)\n",
    "score_test = calinski_harabasz_score(X_test, lineage_label_test)\n"
   ]
  },
  {
   "cell_type": "code",
   "execution_count": 7,
   "metadata": {},
   "outputs": [
    {
     "name": "stdout",
     "output_type": "stream",
     "text": [
      "calinski score for training embedding:  4556.980442717279\n",
      "calinski score for testing embedding:  48.679833359046654\n"
     ]
    }
   ],
   "source": [
    "print(\"calinski score for training embedding: \", score_scCL)\n",
    "print(\"calinski score for testing embedding: \", score_test)"
   ]
  }
 ],
 "metadata": {
  "kernelspec": {
   "display_name": "scvi-env",
   "language": "python",
   "name": "python3"
  },
  "language_info": {
   "codemirror_mode": {
    "name": "ipython",
    "version": 3
   },
   "file_extension": ".py",
   "mimetype": "text/x-python",
   "name": "python",
   "nbconvert_exporter": "python",
   "pygments_lexer": "ipython3",
   "version": "3.9.18"
  }
 },
 "nbformat": 4,
 "nbformat_minor": 2
}
