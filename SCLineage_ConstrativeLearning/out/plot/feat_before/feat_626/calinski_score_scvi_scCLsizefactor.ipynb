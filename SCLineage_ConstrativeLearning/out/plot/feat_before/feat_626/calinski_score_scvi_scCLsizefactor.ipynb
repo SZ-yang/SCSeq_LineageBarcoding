{
 "cells": [
  {
   "cell_type": "code",
   "execution_count": 1,
   "metadata": {},
   "outputs": [],
   "source": [
    "import numpy as np\n",
    "import anndata as ad\n",
    "from sklearn.neighbors import KNeighborsClassifier\n",
    "import pandas as pd\n",
    "import matplotlib.pyplot as plt\n",
    "from sklearn.metrics import calinski_harabasz_score"
   ]
  },
  {
   "cell_type": "code",
   "execution_count": 2,
   "metadata": {},
   "outputs": [],
   "source": [
    "# Load data\n",
    "input_dir = \"/Users/apple/Desktop/KB/data/LarryData\"\n",
    "X_scCL_02 = np.load(\"/Users/apple/Desktop/KB/data/feat_626/feat_626__bs15_temp0.5_sf0.2_LarryData/scBaseEncoderFeat_Z_bs15_tau0.5.npy\")\n",
    "X_scCL_03 = np.load(\"/Users/apple/Desktop/KB/data/feat_626/feat_626__bs15_temp0.5_sf0.3_LarryData/scBaseEncoderFeat_Z_bs15_tau0.5.npy\")\n",
    "X_scCL_04 = np.load(\"/Users/apple/Desktop/KB/data/feat_626/feat_626__bs15_temp0.5_sf0.4_LarryData/scBaseEncoderFeat_Z_bs15_tau0.5.npy\")\n",
    "X_scvi = np.load(\"/Users/apple/Desktop/KB/data/feat_612_scvi/Larry_scvi_kevin.npy\")\n",
    "X_pca = np.load(\"/Users/apple/Desktop/KB/data/LarryData/Larry_41201_2000_pca.npy\")\n",
    "adata_subset = ad.read_h5ad(input_dir+'/Larry_41201_2000.h5ad')\n",
    "lineage_label = adata_subset.obs[\"clone_id\"].to_numpy()"
   ]
  },
  {
   "cell_type": "code",
   "execution_count": 3,
   "metadata": {},
   "outputs": [
    {
     "data": {
      "text/plain": [
       "((41201, 64), (41201, 64), (41201, 64), (41201, 10), (41201, 50), (41201,))"
      ]
     },
     "execution_count": 3,
     "metadata": {},
     "output_type": "execute_result"
    }
   ],
   "source": [
    "X_scCL_02.shape ,X_scCL_03.shape, X_scCL_04.shape, X_scvi.shape ,X_pca.shape ,lineage_label.shape"
   ]
  },
  {
   "cell_type": "code",
   "execution_count": 4,
   "metadata": {},
   "outputs": [],
   "source": [
    "score_scCL_02 = calinski_harabasz_score(X_scCL_02, lineage_label)\n",
    "score_scCL_03 = calinski_harabasz_score(X_scCL_03, lineage_label)\n",
    "score_scCL_04 = calinski_harabasz_score(X_scCL_04, lineage_label)\n",
    "score_scvi = calinski_harabasz_score(X_scvi, lineage_label)\n",
    "score_pca= calinski_harabasz_score(X_pca, lineage_label)"
   ]
  },
  {
   "cell_type": "code",
   "execution_count": 5,
   "metadata": {},
   "outputs": [
    {
     "data": {
      "text/plain": [
       "(40.09775683701854,\n",
       " 48.037819894884024,\n",
       " 77.52121762154778,\n",
       " 11.36185691339843,\n",
       " 11.457475761914223)"
      ]
     },
     "execution_count": 5,
     "metadata": {},
     "output_type": "execute_result"
    }
   ],
   "source": [
    "score_scCL_02, score_scCL_03, score_scCL_04, score_pca, score_scvi"
   ]
  }
 ],
 "metadata": {
  "kernelspec": {
   "display_name": "scvi-env",
   "language": "python",
   "name": "python3"
  },
  "language_info": {
   "codemirror_mode": {
    "name": "ipython",
    "version": 3
   },
   "file_extension": ".py",
   "mimetype": "text/x-python",
   "name": "python",
   "nbconvert_exporter": "python",
   "pygments_lexer": "ipython3",
   "version": "3.9.18"
  }
 },
 "nbformat": 4,
 "nbformat_minor": 2
}
