{
 "cells": [
  {
   "cell_type": "markdown",
   "metadata": {},
   "source": [
    "## Leiden Clustering Cell-Tag"
   ]
  },
  {
   "cell_type": "markdown",
   "metadata": {},
   "source": [
    "### 7-8"
   ]
  },
  {
   "cell_type": "code",
   "execution_count": 6,
   "metadata": {},
   "outputs": [],
   "source": [
    "import numpy as np\n",
    "import anndata as ad\n",
    "import pandas as pd\n",
    "import os\n",
    "import numpy as np\n",
    "import sys\n",
    "import scanpy as sc"
   ]
  },
  {
   "cell_type": "code",
   "execution_count": null,
   "metadata": {},
   "outputs": [],
   "source": [
    "# Define the path to the main folder\n",
    "main_folder = \"/Users/apple/Desktop/KB/SCSeq_LineageBarcoding2/SCSeq_LineageBarcoding/SCLineage_ConstrativeLearning/main_semi_test\"\n",
    "\n",
    "# Add it to sys.path\n",
    "sys.path.append(main_folder)\n",
    "\n",
    "from LCL_eval_final import LCL_Eval\n",
    "from collections import Counter"
   ]
  },
  {
   "cell_type": "markdown",
   "metadata": {},
   "source": [
    "### lambda 0.01"
   ]
  },
  {
   "cell_type": "code",
   "execution_count": 7,
   "metadata": {},
   "outputs": [],
   "source": [
    "INPUT_DIR  = \"/Users/apple/Desktop/KB/data/feat_LCL_2025/cell_tag/Cell_tag_diff_lambda/feat_celltag_lambda001_unlab5_bs50_testAsPenalty\"\n",
    "TRAIN_ANND = \"/Users/apple/Desktop/KB/data/BiddyData/Biddy_train.h5ad\"\n",
    "TEST_ANND  = \"/Users/apple/Desktop/KB/data/BiddyData/Biddy_test.h5ad\"\n",
    "\n",
    "adata_train = ad.read_h5ad(TRAIN_ANND)\n",
    "adata_test  = ad.read_h5ad(TEST_ANND)\n",
    "train_labels = adata_train.obs[\"clone_id\"].to_numpy()\n",
    "test_labels  = adata_test.obs[\"clone_id\"].to_numpy()\n",
    "\n",
    "train_emb = np.load(os.path.join(INPUT_DIR, \"scBaseEncoderFeat_Z_bs50_tau0.5.npy\"))\n",
    "test_emb  = np.load(os.path.join(INPUT_DIR, \"test_embedding.npy\"))\n",
    "\n",
    "tr = adata_train.copy()\n",
    "te = adata_test.copy()\n",
    "tr.obsm[\"X_lcl\"] = train_emb\n",
    "te.obsm[\"X_lcl\"] = test_emb\n",
    "tr.obs[\"dataset\"] = \"train\"\n",
    "te.obs[\"dataset\"] = \"test\"\n",
    "adata_all = sc.concat([tr, te], axis=0, join=\"outer\")"
   ]
  },
  {
   "cell_type": "code",
   "execution_count": 15,
   "metadata": {},
   "outputs": [],
   "source": [
    "# Leiden clustering\n",
    "sc.pp.neighbors(adata_all, use_rep=\"X_lcl\", n_neighbors=15)\n",
    "sc.tl.leiden(adata_all, resolution=3, key_added=\"lcl_leiden\")"
   ]
  },
  {
   "cell_type": "code",
   "execution_count": 16,
   "metadata": {},
   "outputs": [
    {
     "name": "stdout",
     "output_type": "stream",
     "text": [
      "Total Leiden clusters:           147\n",
      "Clusters with both train & test:  40\n",
      "Clusters train‐only:             105\n",
      "Clusters test‐only:              2\n",
      "\n",
      "Total lineages:                  169\n",
      "Lineages in exactly one cluster: 85 (50.30%)\n"
     ]
    },
    {
     "name": "stderr",
     "output_type": "stream",
     "text": [
      "/var/folders/ql/mhz506t52bjgn30w6f4wqhv40000gn/T/ipykernel_21055/1083807402.py:3: FutureWarning: The default of observed=False is deprecated and will be changed to True in a future version of pandas. Pass observed=False to retain current behavior or observed=True to adopt the future default and silence this warning.\n",
      "  adata_all.obs\n"
     ]
    }
   ],
   "source": [
    "# 5) cluster‐by‐dataset cross‐tab\n",
    "ct = (\n",
    "    adata_all.obs\n",
    "    .groupby([\"lcl_leiden\", \"dataset\"])\n",
    "    .size()\n",
    "    .unstack(fill_value=0)\n",
    ")\n",
    "ct[\"total\"] = ct.sum(axis=1)\n",
    "ct = ct.sort_values(\"total\", ascending=False)\n",
    "\n",
    "# ← fix: wrap the & in parentheses so .sum() applies to the combined mask\n",
    "n_clusters     = adata_all.obs[\"lcl_leiden\"].nunique()\n",
    "clusters_both  = ((ct[\"train\"] > 0) & (ct[\"test\"] > 0)).sum()\n",
    "clusters_train = ((ct[\"train\"] > 0) & (ct[\"test\"] == 0)).sum()\n",
    "clusters_test  = ((ct[\"train\"] == 0) & (ct[\"test\"] > 0)).sum()\n",
    "\n",
    "# 6) per‐lineage cluster occupancy\n",
    "lineage_groups = (\n",
    "    adata_all.obs[[\"clone_id\", \"lcl_leiden\"]]\n",
    "    .drop_duplicates()\n",
    "    .groupby(\"clone_id\")[\"lcl_leiden\"]\n",
    "    .nunique()\n",
    ")\n",
    "n_lineages           = lineage_groups.shape[0]\n",
    "lineages_one_cluster = (lineage_groups == 1).sum()\n",
    "prop_one_cluster     = lineages_one_cluster / n_lineages\n",
    "\n",
    "# 7) print summary\n",
    "print(f\"Total Leiden clusters:           {n_clusters}\")\n",
    "print(f\"Clusters with both train & test:  {clusters_both}\")\n",
    "print(f\"Clusters train‐only:             {clusters_train}\")\n",
    "print(f\"Clusters test‐only:              {clusters_test}\")\n",
    "print()\n",
    "print(f\"Total lineages:                  {n_lineages}\")\n",
    "print(f\"Lineages in exactly one cluster: {lineages_one_cluster} ({prop_one_cluster:.2%})\")"
   ]
  },
  {
   "cell_type": "markdown",
   "metadata": {},
   "source": [
    "### lambda 0.1"
   ]
  },
  {
   "cell_type": "code",
   "execution_count": 17,
   "metadata": {},
   "outputs": [],
   "source": [
    "INPUT_DIR  = \"/Users/apple/Desktop/KB/data/feat_LCL_2025/cell_tag/Cell_tag_diff_lambda/feat_celltag_lambda01_unlab5_bs50_testAsPenalty\"\n",
    "TRAIN_ANND = \"/Users/apple/Desktop/KB/data/BiddyData/Biddy_train.h5ad\"\n",
    "TEST_ANND  = \"/Users/apple/Desktop/KB/data/BiddyData/Biddy_test.h5ad\"\n",
    "\n",
    "adata_train = ad.read_h5ad(TRAIN_ANND)\n",
    "adata_test  = ad.read_h5ad(TEST_ANND)\n",
    "train_labels = adata_train.obs[\"clone_id\"].to_numpy()\n",
    "test_labels  = adata_test.obs[\"clone_id\"].to_numpy()\n",
    "\n",
    "train_emb = np.load(os.path.join(INPUT_DIR, \"scBaseEncoderFeat_Z_bs50_tau0.5.npy\"))\n",
    "test_emb  = np.load(os.path.join(INPUT_DIR, \"test_embedding.npy\"))\n",
    "\n",
    "tr = adata_train.copy()\n",
    "te = adata_test.copy()\n",
    "tr.obsm[\"X_lcl\"] = train_emb\n",
    "te.obsm[\"X_lcl\"] = test_emb\n",
    "tr.obs[\"dataset\"] = \"train\"\n",
    "te.obs[\"dataset\"] = \"test\"\n",
    "adata_all = sc.concat([tr, te], axis=0, join=\"outer\")"
   ]
  },
  {
   "cell_type": "code",
   "execution_count": 18,
   "metadata": {},
   "outputs": [],
   "source": [
    "# Leiden clustering\n",
    "sc.pp.neighbors(adata_all, use_rep=\"X_lcl\", n_neighbors=15)\n",
    "sc.tl.leiden(adata_all, resolution=3, key_added=\"lcl_leiden\")"
   ]
  },
  {
   "cell_type": "code",
   "execution_count": 20,
   "metadata": {},
   "outputs": [
    {
     "name": "stdout",
     "output_type": "stream",
     "text": [
      "Total Leiden clusters:           133\n",
      "Clusters with both train & test:  25\n",
      "Clusters train‐only:             106\n",
      "Clusters test‐only:              2\n",
      "\n",
      "Total lineages:                  169\n",
      "Lineages in exactly one cluster: 82 (48.52%)\n"
     ]
    },
    {
     "name": "stderr",
     "output_type": "stream",
     "text": [
      "/var/folders/ql/mhz506t52bjgn30w6f4wqhv40000gn/T/ipykernel_21055/1083807402.py:3: FutureWarning: The default of observed=False is deprecated and will be changed to True in a future version of pandas. Pass observed=False to retain current behavior or observed=True to adopt the future default and silence this warning.\n",
      "  adata_all.obs\n"
     ]
    }
   ],
   "source": [
    "# 5) cluster‐by‐dataset cross‐tab\n",
    "ct = (\n",
    "    adata_all.obs\n",
    "    .groupby([\"lcl_leiden\", \"dataset\"])\n",
    "    .size()\n",
    "    .unstack(fill_value=0)\n",
    ")\n",
    "ct[\"total\"] = ct.sum(axis=1)\n",
    "ct = ct.sort_values(\"total\", ascending=False)\n",
    "\n",
    "# ← fix: wrap the & in parentheses so .sum() applies to the combined mask\n",
    "n_clusters     = adata_all.obs[\"lcl_leiden\"].nunique()\n",
    "clusters_both  = ((ct[\"train\"] > 0) & (ct[\"test\"] > 0)).sum()\n",
    "clusters_train = ((ct[\"train\"] > 0) & (ct[\"test\"] == 0)).sum()\n",
    "clusters_test  = ((ct[\"train\"] == 0) & (ct[\"test\"] > 0)).sum()\n",
    "\n",
    "# 6) per‐lineage cluster occupancy\n",
    "lineage_groups = (\n",
    "    adata_all.obs[[\"clone_id\", \"lcl_leiden\"]]\n",
    "    .drop_duplicates()\n",
    "    .groupby(\"clone_id\")[\"lcl_leiden\"]\n",
    "    .nunique()\n",
    ")\n",
    "n_lineages           = lineage_groups.shape[0]\n",
    "lineages_one_cluster = (lineage_groups == 1).sum()\n",
    "prop_one_cluster     = lineages_one_cluster / n_lineages\n",
    "\n",
    "# 7) print summary\n",
    "print(f\"Total Leiden clusters:           {n_clusters}\")\n",
    "print(f\"Clusters with both train & test:  {clusters_both}\")\n",
    "print(f\"Clusters train‐only:             {clusters_train}\")\n",
    "print(f\"Clusters test‐only:              {clusters_test}\")\n",
    "print()\n",
    "print(f\"Total lineages:                  {n_lineages}\")\n",
    "print(f\"Lineages in exactly one cluster: {lineages_one_cluster} ({prop_one_cluster:.2%})\")"
   ]
  },
  {
   "cell_type": "markdown",
   "metadata": {},
   "source": [
    "### lambda 0.5"
   ]
  },
  {
   "cell_type": "code",
   "execution_count": 21,
   "metadata": {},
   "outputs": [],
   "source": [
    "INPUT_DIR  = \"/Users/apple/Desktop/KB/data/feat_LCL_2025/cell_tag/Cell_tag_diff_lambda/feat_celltag_lambda05_unlab5_bs50_testAsPenalty\"\n",
    "TRAIN_ANND = \"/Users/apple/Desktop/KB/data/BiddyData/Biddy_train.h5ad\"\n",
    "TEST_ANND  = \"/Users/apple/Desktop/KB/data/BiddyData/Biddy_test.h5ad\"\n",
    "\n",
    "adata_train = ad.read_h5ad(TRAIN_ANND)\n",
    "adata_test  = ad.read_h5ad(TEST_ANND)\n",
    "train_labels = adata_train.obs[\"clone_id\"].to_numpy()\n",
    "test_labels  = adata_test.obs[\"clone_id\"].to_numpy()\n",
    "\n",
    "train_emb = np.load(os.path.join(INPUT_DIR, \"scBaseEncoderFeat_Z_bs50_tau0.5.npy\"))\n",
    "test_emb  = np.load(os.path.join(INPUT_DIR, \"test_embedding.npy\"))\n",
    "\n",
    "tr = adata_train.copy()\n",
    "te = adata_test.copy()\n",
    "tr.obsm[\"X_lcl\"] = train_emb\n",
    "te.obsm[\"X_lcl\"] = test_emb\n",
    "tr.obs[\"dataset\"] = \"train\"\n",
    "te.obs[\"dataset\"] = \"test\"\n",
    "adata_all = sc.concat([tr, te], axis=0, join=\"outer\")"
   ]
  },
  {
   "cell_type": "code",
   "execution_count": 22,
   "metadata": {},
   "outputs": [],
   "source": [
    "# Leiden clustering\n",
    "sc.pp.neighbors(adata_all, use_rep=\"X_lcl\", n_neighbors=15)\n",
    "sc.tl.leiden(adata_all, resolution=3, key_added=\"lcl_leiden\")"
   ]
  },
  {
   "cell_type": "code",
   "execution_count": 23,
   "metadata": {},
   "outputs": [
    {
     "name": "stdout",
     "output_type": "stream",
     "text": [
      "Total Leiden clusters:           61\n",
      "Clusters with both train & test:  38\n",
      "Clusters train‐only:             23\n",
      "Clusters test‐only:              0\n",
      "\n",
      "Total lineages:                  169\n",
      "Lineages in exactly one cluster: 62 (36.69%)\n"
     ]
    },
    {
     "name": "stderr",
     "output_type": "stream",
     "text": [
      "/var/folders/ql/mhz506t52bjgn30w6f4wqhv40000gn/T/ipykernel_21055/1083807402.py:3: FutureWarning: The default of observed=False is deprecated and will be changed to True in a future version of pandas. Pass observed=False to retain current behavior or observed=True to adopt the future default and silence this warning.\n",
      "  adata_all.obs\n"
     ]
    }
   ],
   "source": [
    "# 5) cluster‐by‐dataset cross‐tab\n",
    "ct = (\n",
    "    adata_all.obs\n",
    "    .groupby([\"lcl_leiden\", \"dataset\"])\n",
    "    .size()\n",
    "    .unstack(fill_value=0)\n",
    ")\n",
    "ct[\"total\"] = ct.sum(axis=1)\n",
    "ct = ct.sort_values(\"total\", ascending=False)\n",
    "\n",
    "# ← fix: wrap the & in parentheses so .sum() applies to the combined mask\n",
    "n_clusters     = adata_all.obs[\"lcl_leiden\"].nunique()\n",
    "clusters_both  = ((ct[\"train\"] > 0) & (ct[\"test\"] > 0)).sum()\n",
    "clusters_train = ((ct[\"train\"] > 0) & (ct[\"test\"] == 0)).sum()\n",
    "clusters_test  = ((ct[\"train\"] == 0) & (ct[\"test\"] > 0)).sum()\n",
    "\n",
    "# 6) per‐lineage cluster occupancy\n",
    "lineage_groups = (\n",
    "    adata_all.obs[[\"clone_id\", \"lcl_leiden\"]]\n",
    "    .drop_duplicates()\n",
    "    .groupby(\"clone_id\")[\"lcl_leiden\"]\n",
    "    .nunique()\n",
    ")\n",
    "n_lineages           = lineage_groups.shape[0]\n",
    "lineages_one_cluster = (lineage_groups == 1).sum()\n",
    "prop_one_cluster     = lineages_one_cluster / n_lineages\n",
    "\n",
    "# 7) print summary\n",
    "print(f\"Total Leiden clusters:           {n_clusters}\")\n",
    "print(f\"Clusters with both train & test:  {clusters_both}\")\n",
    "print(f\"Clusters train‐only:             {clusters_train}\")\n",
    "print(f\"Clusters test‐only:              {clusters_test}\")\n",
    "print()\n",
    "print(f\"Total lineages:                  {n_lineages}\")\n",
    "print(f\"Lineages in exactly one cluster: {lineages_one_cluster} ({prop_one_cluster:.2%})\")"
   ]
  },
  {
   "cell_type": "markdown",
   "metadata": {},
   "source": [
    "### lambda 1"
   ]
  },
  {
   "cell_type": "code",
   "execution_count": 24,
   "metadata": {},
   "outputs": [],
   "source": [
    "INPUT_DIR  = \"/Users/apple/Desktop/KB/data/feat_LCL_2025/cell_tag/Cell_tag_diff_lambda/feat_celltag_lambda1_unlab5_bs50_testAsPenalty\"\n",
    "TRAIN_ANND = \"/Users/apple/Desktop/KB/data/BiddyData/Biddy_train.h5ad\"\n",
    "TEST_ANND  = \"/Users/apple/Desktop/KB/data/BiddyData/Biddy_test.h5ad\"\n",
    "\n",
    "adata_train = ad.read_h5ad(TRAIN_ANND)\n",
    "adata_test  = ad.read_h5ad(TEST_ANND)\n",
    "train_labels = adata_train.obs[\"clone_id\"].to_numpy()\n",
    "test_labels  = adata_test.obs[\"clone_id\"].to_numpy()\n",
    "\n",
    "train_emb = np.load(os.path.join(INPUT_DIR, \"scBaseEncoderFeat_Z_bs50_tau0.5.npy\"))\n",
    "test_emb  = np.load(os.path.join(INPUT_DIR, \"test_embedding.npy\"))\n",
    "\n",
    "tr = adata_train.copy()\n",
    "te = adata_test.copy()\n",
    "tr.obsm[\"X_lcl\"] = train_emb\n",
    "te.obsm[\"X_lcl\"] = test_emb\n",
    "tr.obs[\"dataset\"] = \"train\"\n",
    "te.obs[\"dataset\"] = \"test\"\n",
    "adata_all = sc.concat([tr, te], axis=0, join=\"outer\")"
   ]
  },
  {
   "cell_type": "code",
   "execution_count": 25,
   "metadata": {},
   "outputs": [],
   "source": [
    "# Leiden clustering\n",
    "sc.pp.neighbors(adata_all, use_rep=\"X_lcl\", n_neighbors=15)\n",
    "sc.tl.leiden(adata_all, resolution=3, key_added=\"lcl_leiden\")"
   ]
  },
  {
   "cell_type": "code",
   "execution_count": 26,
   "metadata": {},
   "outputs": [
    {
     "name": "stdout",
     "output_type": "stream",
     "text": [
      "Total Leiden clusters:           53\n",
      "Clusters with both train & test:  39\n",
      "Clusters train‐only:             14\n",
      "Clusters test‐only:              0\n",
      "\n",
      "Total lineages:                  169\n",
      "Lineages in exactly one cluster: 62 (36.69%)\n"
     ]
    },
    {
     "name": "stderr",
     "output_type": "stream",
     "text": [
      "/var/folders/ql/mhz506t52bjgn30w6f4wqhv40000gn/T/ipykernel_21055/1083807402.py:3: FutureWarning: The default of observed=False is deprecated and will be changed to True in a future version of pandas. Pass observed=False to retain current behavior or observed=True to adopt the future default and silence this warning.\n",
      "  adata_all.obs\n"
     ]
    }
   ],
   "source": [
    "# 5) cluster‐by‐dataset cross‐tab\n",
    "ct = (\n",
    "    adata_all.obs\n",
    "    .groupby([\"lcl_leiden\", \"dataset\"])\n",
    "    .size()\n",
    "    .unstack(fill_value=0)\n",
    ")\n",
    "ct[\"total\"] = ct.sum(axis=1)\n",
    "ct = ct.sort_values(\"total\", ascending=False)\n",
    "\n",
    "# ← fix: wrap the & in parentheses so .sum() applies to the combined mask\n",
    "n_clusters     = adata_all.obs[\"lcl_leiden\"].nunique()\n",
    "clusters_both  = ((ct[\"train\"] > 0) & (ct[\"test\"] > 0)).sum()\n",
    "clusters_train = ((ct[\"train\"] > 0) & (ct[\"test\"] == 0)).sum()\n",
    "clusters_test  = ((ct[\"train\"] == 0) & (ct[\"test\"] > 0)).sum()\n",
    "\n",
    "# 6) per‐lineage cluster occupancy\n",
    "lineage_groups = (\n",
    "    adata_all.obs[[\"clone_id\", \"lcl_leiden\"]]\n",
    "    .drop_duplicates()\n",
    "    .groupby(\"clone_id\")[\"lcl_leiden\"]\n",
    "    .nunique()\n",
    ")\n",
    "n_lineages           = lineage_groups.shape[0]\n",
    "lineages_one_cluster = (lineage_groups == 1).sum()\n",
    "prop_one_cluster     = lineages_one_cluster / n_lineages\n",
    "\n",
    "# 7) print summary\n",
    "print(f\"Total Leiden clusters:           {n_clusters}\")\n",
    "print(f\"Clusters with both train & test:  {clusters_both}\")\n",
    "print(f\"Clusters train‐only:             {clusters_train}\")\n",
    "print(f\"Clusters test‐only:              {clusters_test}\")\n",
    "print()\n",
    "print(f\"Total lineages:                  {n_lineages}\")\n",
    "print(f\"Lineages in exactly one cluster: {lineages_one_cluster} ({prop_one_cluster:.2%})\")"
   ]
  },
  {
   "cell_type": "code",
   "execution_count": null,
   "metadata": {},
   "outputs": [],
   "source": []
  },
  {
   "cell_type": "code",
   "execution_count": null,
   "metadata": {},
   "outputs": [],
   "source": []
  },
  {
   "cell_type": "code",
   "execution_count": null,
   "metadata": {},
   "outputs": [],
   "source": []
  },
  {
   "cell_type": "code",
   "execution_count": null,
   "metadata": {},
   "outputs": [],
   "source": []
  },
  {
   "cell_type": "code",
   "execution_count": null,
   "metadata": {},
   "outputs": [],
   "source": []
  }
 ],
 "metadata": {
  "kernelspec": {
   "display_name": "scvi-env",
   "language": "python",
   "name": "python3"
  },
  "language_info": {
   "codemirror_mode": {
    "name": "ipython",
    "version": 3
   },
   "file_extension": ".py",
   "mimetype": "text/x-python",
   "name": "python",
   "nbconvert_exporter": "python",
   "pygments_lexer": "ipython3",
   "version": "3.9.18"
  }
 },
 "nbformat": 4,
 "nbformat_minor": 2
}
