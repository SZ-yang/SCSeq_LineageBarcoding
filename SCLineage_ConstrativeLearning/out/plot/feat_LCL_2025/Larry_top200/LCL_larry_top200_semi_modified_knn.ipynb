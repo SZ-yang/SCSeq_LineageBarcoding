{
 "cells": [
  {
   "cell_type": "markdown",
   "metadata": {},
   "source": [
    "## seaborn"
   ]
  },
  {
   "cell_type": "code",
   "execution_count": 1,
   "metadata": {},
   "outputs": [],
   "source": [
    "import anndata as ad\n",
    "import numpy as np"
   ]
  },
  {
   "cell_type": "code",
   "execution_count": null,
   "metadata": {},
   "outputs": [],
   "source": [
    "\n",
    "adata_train = ad.read_h5ad('/Users/apple/Desktop/KB/data/Shaffer_cancer/shaffer_train.h5ad')\n",
    "adata_test  = ad.read_h5ad('/Users/apple/Desktop/KB/data/Shaffer_cancer/shaffer_test.h5ad')\n",
    "\n",
    "train_labels = adata_train.obs[\"clone_id\"]\n",
    "test_labels = adata_test.obs[\"clone_id\"]\n",
    "\n",
    "#calculate global frequency for total cells\n",
    "all_labels = np.concatenate([train_labels, test_labels])\n",
    "uniques, counts = np.unique(all_labels, return_counts=True)\n",
    "total = len(all_labels)\n",
    "global_freq = { lab: cnt / total for lab, cnt in zip(uniques, counts) }\n",
    "\n",
    "input_dir = \"/Users/apple/Desktop/KB/data/feat_LCL_2025/shaffer_cancer\"\n",
    "\n",
    "train_embeddings = np.load(input_dir+'/feat_shaffer_lambda01_unlab5_bs110_testAsPenalty/scBaseEncoderFeat_Z_bs110_tau0.5.npy')\n",
    "test_embeddings = np.load(input_dir+'/feat_shaffer_lambda01_unlab5_bs110_testAsPenalty/test_embedding.npy')\n",
    "\n",
    "k = 30"
   ]
  },
  {
   "cell_type": "markdown",
   "metadata": {},
   "source": [
    "### Modified KNN 1: only for testing pred "
   ]
  },
  {
   "cell_type": "code",
   "execution_count": 2,
   "metadata": {},
   "outputs": [],
   "source": [
    "import numpy as np\n",
    "from sklearn.neighbors import KNeighborsClassifier\n",
    "\n",
    "def adjusted_knn_predict(\n",
    "    knn_model: KNeighborsClassifier,\n",
    "    train_labels: np.ndarray,\n",
    "    test_embeddings: np.ndarray,\n",
    "    global_freq: dict,\n",
    "    k: int\n",
    ") -> np.ndarray:\n",
    "    \"\"\"\n",
    "    For each test point:\n",
    "      1) find its k nearest TRAINING neighbors\n",
    "      2) compute local_freq[L] = (# neighbors with label L) / k\n",
    "      3) adjusted_score[L] = local_freq[L] - global_freq[L]\n",
    "      4) predict the label with highest adjusted_score\n",
    "    \n",
    "    Returns:\n",
    "      predicted_labels: np.ndarray of shape (n_test,)\n",
    "    \"\"\"\n",
    "    # find the k nearest neighbors in the TRAIN set for each test point\n",
    "    neigh_indices = knn_model.kneighbors(test_embeddings, return_distance=False)  # shape: (n_test, k)\n",
    "    \n",
    "    preds = []\n",
    "    for nbrs in neigh_indices:\n",
    "        # count how many of those k neighbors belong to each lineage\n",
    "        nbr_labels = train_labels[nbrs]\n",
    "        unique, counts = np.unique(nbr_labels, return_counts=True)\n",
    "        \n",
    "        # compute local frequencies\n",
    "        local_freq = { lab: cnt / k for lab, cnt in zip(unique, counts) }\n",
    "        \n",
    "        # build adjusted scores = local_freq - global_freq (zero if lineage not among neighbors)\n",
    "        scores = {}\n",
    "        for lab, g in global_freq.items():\n",
    "            scores[lab] = local_freq.get(lab, 0.0) - g\n",
    "        \n",
    "        # pick the label with the highest adjusted score\n",
    "        pred = max(scores.items(), key=lambda x: x[1])[0]\n",
    "        preds.append(pred)\n",
    "    \n",
    "    return np.array(preds)\n"
   ]
  },
  {
   "cell_type": "code",
   "execution_count": 5,
   "metadata": {},
   "outputs": [
    {
     "name": "stderr",
     "output_type": "stream",
     "text": [
      "/opt/anaconda3/envs/scvi-env/lib/python3.9/site-packages/threadpoolctl.py:1010: RuntimeWarning: \n",
      "Found Intel OpenMP ('libiomp') and LLVM OpenMP ('libomp') loaded at\n",
      "the same time. Both libraries are known to be incompatible and this\n",
      "can cause random crashes or deadlocks on Linux when loaded in the\n",
      "same Python program.\n",
      "Using threadpoolctl may cause crashes or deadlocks. For more\n",
      "information and possible workarounds, please see\n",
      "    https://github.com/joblib/threadpoolctl/blob/master/multiple_openmp.md\n",
      "\n",
      "  warnings.warn(msg, RuntimeWarning)\n",
      "/var/folders/ql/mhz506t52bjgn30w6f4wqhv40000gn/T/ipykernel_28461/2089335695.py:27: FutureWarning: Series.__getitem__ treating keys as positions is deprecated. In a future version, integer keys will always be treated as labels (consistent with DataFrame behavior). To access a value by position, use `ser.iloc[pos]`\n",
      "  nbr_labels = train_labels[nbrs]\n"
     ]
    },
    {
     "name": "stdout",
     "output_type": "stream",
     "text": [
      "Adjusted KNN accuracy: 18.12%\n"
     ]
    }
   ],
   "source": [
    "#Fit a standard KNN on the TRAINING data:\n",
    "knn = KNeighborsClassifier(n_neighbors=k)\n",
    "knn.fit(train_embeddings, train_labels)\n",
    "\n",
    "#Run the adjusted predictor:\n",
    "adjusted_preds = adjusted_knn_predict(\n",
    "    knn_model=knn,\n",
    "    train_labels=train_labels,\n",
    "    test_embeddings=test_embeddings,\n",
    "    global_freq=global_freq,\n",
    "    k=k\n",
    ")\n",
    "#Compute accuracy or any downstream metric:\n",
    "accuracy = (adjusted_preds == test_labels).mean()\n",
    "print(f\"Adjusted KNN accuracy: {accuracy * 100:.2f}%\")"
   ]
  },
  {
   "cell_type": "markdown",
   "metadata": {},
   "source": [
    "### Modified KNN 2: for both training and testing"
   ]
  },
  {
   "cell_type": "code",
   "execution_count": 9,
   "metadata": {},
   "outputs": [],
   "source": [
    "import numpy as np\n",
    "from sklearn.metrics import pairwise_distances\n",
    "\n",
    "def adjusted_knn_predict(train_embeddings, train_labels, \n",
    "                         test_embeddings, global_freq, k=30):\n",
    "    # Compute distance matrix (n_test_samples, n_train_samples)\n",
    "    distances = pairwise_distances(test_embeddings, train_embeddings)\n",
    "\n",
    "    predictions = []\n",
    "    for dist in distances:\n",
    "        # indices of k nearest neighbors\n",
    "        nearest_indices = np.argsort(dist)[:k]\n",
    "        \n",
    "        # labels of these neighbors\n",
    "        neighbor_labels = train_labels[nearest_indices]\n",
    "        \n",
    "        # compute local frequencies\n",
    "        unique_labels, counts = np.unique(neighbor_labels, return_counts=True)\n",
    "        local_freq = {lab: cnt / k for lab, cnt in zip(unique_labels, counts)}\n",
    "        \n",
    "        # compute adjusted scores (local - global)\n",
    "        adjusted_scores = {lab: local_freq.get(lab, 0) - global_freq.get(lab, 0)\n",
    "                           for lab in global_freq.keys()}\n",
    "        \n",
    "        # choose label with the highest adjusted score\n",
    "        predicted_label = max(adjusted_scores, key=adjusted_scores.get)\n",
    "        predictions.append(predicted_label)\n",
    "\n",
    "    return np.array(predictions)"
   ]
  },
  {
   "cell_type": "code",
   "execution_count": 10,
   "metadata": {},
   "outputs": [
    {
     "name": "stderr",
     "output_type": "stream",
     "text": [
      "/var/folders/ql/mhz506t52bjgn30w6f4wqhv40000gn/T/ipykernel_28461/1479473160.py:15: FutureWarning: Series.__getitem__ treating keys as positions is deprecated. In a future version, integer keys will always be treated as labels (consistent with DataFrame behavior). To access a value by position, use `ser.iloc[pos]`\n",
      "  neighbor_labels = train_labels[nearest_indices]\n"
     ]
    }
   ],
   "source": [
    "test_predictions = adjusted_knn_predict(\n",
    "    train_embeddings=train_embeddings,\n",
    "    train_labels=train_labels,\n",
    "    test_embeddings=test_embeddings,\n",
    "    global_freq=global_freq,\n",
    "    k=30\n",
    ")"
   ]
  },
  {
   "cell_type": "code",
   "execution_count": 11,
   "metadata": {},
   "outputs": [
    {
     "name": "stdout",
     "output_type": "stream",
     "text": [
      "Adjusted KNN Accuracy: 0.1812\n"
     ]
    }
   ],
   "source": [
    "from sklearn.metrics import accuracy_score\n",
    "\n",
    "accuracy = accuracy_score(test_labels, test_predictions)\n",
    "print(f\"Adjusted KNN Accuracy: {accuracy:.4f}\")"
   ]
  },
  {
   "cell_type": "markdown",
   "metadata": {},
   "source": [
    "## Plot"
   ]
  },
  {
   "cell_type": "markdown",
   "metadata": {},
   "source": [
    "### 1. read the data and embeddings"
   ]
  },
  {
   "cell_type": "code",
   "execution_count": null,
   "metadata": {},
   "outputs": [],
   "source": [
    "\n",
    "adata_train = ad.read_h5ad('/Users/apple/Desktop/KB/data/Shaffer_cancer/shaffer_train.h5ad')\n",
    "adata_test  = ad.read_h5ad('/Users/apple/Desktop/KB/data/Shaffer_cancer/shaffer_test.h5ad')\n",
    "\n",
    "input_dir = \"/Users/apple/Desktop/KB/data/feat_LCL_2025/shaffer_cancer\"\n",
    "\n",
    "train_semi_10 = np.load(input_dir+'/feat_shaffer_lambda01_unlab5_bs110_testAsPenalty/scBaseEncoderFeat_Z_bs110_tau0.5.npy')\n",
    "test_semi_10 = np.load(input_dir+'/feat_shaffer_lambda01_unlab5_bs110_testAsPenalty/test_embedding.npy')\n"
   ]
  },
  {
   "cell_type": "code",
   "execution_count": null,
   "metadata": {},
   "outputs": [],
   "source": [
    "adata_train.obsm[\"LCL_embedding_semi_10\"] = train_semi_10\n",
    "adata_test.obsm[\"LCL_embedding_semi_10\"] = test_semi_10\n",
    "\n",
    "adata_train.obs[\"dataset\"] = \"train\"\n",
    "adata_test.obs[\"dataset\"] = \"test\"\n",
    "\n",
    "adata = ad.concat([adata_train, adata_test], axis=0, join='outer')"
   ]
  },
  {
   "cell_type": "markdown",
   "metadata": {},
   "source": [
    "### 2. compute the umap coordinates"
   ]
  },
  {
   "cell_type": "code",
   "execution_count": null,
   "metadata": {},
   "outputs": [],
   "source": [
    "import umap\n",
    "\n",
    "reducer = umap.UMAP()\n",
    "\n",
    "embedding_umap = reducer.fit_transform(adata.obsm[\"LCL_embedding_semi_10\"])\n",
    "\n",
    "adata.obsm[\"X_umap\"] = embedding_umap"
   ]
  },
  {
   "cell_type": "code",
   "execution_count": null,
   "metadata": {},
   "outputs": [],
   "source": [
    "import pandas as pd\n",
    "\n",
    "# Count number of cells per lineage\n",
    "clone_counts = adata.obs[\"clone_id\"].value_counts()\n",
    "\n",
    "# Get the top 5 largest lineages\n",
    "top_5_clones = clone_counts.index[:5]\n",
    "\n",
    "# Assign 'Other' to all lineages except the top 5\n",
    "adata.obs[\"clone_group\"] = adata.obs[\"clone_id\"].apply(lambda x: x if x in top_5_clones else \"Other\")\n",
    "\n",
    "# Convert to categorical\n",
    "adata.obs[\"clone_group\"] = adata.obs[\"clone_group\"].astype(\"category\")\n",
    "\n",
    "# Print for verification\n",
    "print(adata.obs[\"clone_group\"].value_counts())"
   ]
  },
  {
   "cell_type": "markdown",
   "metadata": {},
   "source": [
    "### 3. plot 1: plot top 5 lineages with both training and testing cells"
   ]
  },
  {
   "cell_type": "code",
   "execution_count": null,
   "metadata": {},
   "outputs": [],
   "source": [
    "import matplotlib.pyplot as plt\n",
    "import numpy as np\n",
    "\n",
    "def plot_umap(adata, colormap=\"tab10\"):\n",
    "    \"\"\"\n",
    "    Plots UMAP with:\n",
    "    - Top 5 clones in distinct colors (plotted on top)\n",
    "    - Other clones in gray with lower opacity\n",
    "    - Train cells as dots, Test cells as crosses\n",
    "    - Larger marker size for top 5 clones\n",
    "    \"\"\"\n",
    "    umap_coords = adata.obsm[\"X_umap\"]\n",
    "\n",
    "    # Extract train and test indices\n",
    "    train_idx = adata.obs[\"dataset\"] == \"train\"\n",
    "    test_idx = adata.obs[\"dataset\"] == \"test\"\n",
    "\n",
    "    # Get unique clone groups\n",
    "    unique_clones = adata.obs[\"clone_group\"].cat.categories\n",
    "\n",
    "    # Define a colormap for the top 5 clones, others in gray\n",
    "    colors = plt.get_cmap(colormap)(range(len(unique_clones) - 1))  # Leave space for gray\n",
    "    color_map = dict(zip(unique_clones[:-1], colors))  # Map top 5 clones\n",
    "    color_map[\"Other\"] = \"gray\"  # Set 'Other' to gray\n",
    "\n",
    "    plt.figure(figsize=(8, 6))\n",
    "\n",
    "    # **Step 1**: Plot \"Other\" cells first (background with low opacity)\n",
    "    idx_train_other = (adata.obs[\"clone_group\"] == \"Other\") & train_idx\n",
    "    idx_test_other = (adata.obs[\"clone_group\"] == \"Other\") & test_idx\n",
    "\n",
    "    plt.scatter(umap_coords[idx_train_other, 0], umap_coords[idx_train_other, 1], \n",
    "                color=color_map[\"Other\"], s=8, marker=\".\", alpha=0.2, label=\"Train Other\")  # Lower opacity\n",
    "\n",
    "    plt.scatter(umap_coords[idx_test_other, 0], umap_coords[idx_test_other, 1], \n",
    "                color=color_map[\"Other\"], s=12, marker=\"x\", alpha=0.2, label=\"Test Other\")  # Lower opacity\n",
    "\n",
    "    # **Step 2**: Plot top 5 clones on top (larger size)\n",
    "    for clone in unique_clones[:-1]:  # Skip \"Other\"\n",
    "        idx_train = (adata.obs[\"clone_group\"] == clone) & train_idx\n",
    "        idx_test = (adata.obs[\"clone_group\"] == clone) & test_idx\n",
    "\n",
    "        # Train: Dots\n",
    "        plt.scatter(umap_coords[idx_train, 0], umap_coords[idx_train, 1], \n",
    "                    color=color_map[clone], s=30, marker=\".\", alpha=0.8, label=f\"Train {clone}\")  # Bigger size\n",
    "\n",
    "        # Test: Crosses\n",
    "        plt.scatter(umap_coords[idx_test, 0], umap_coords[idx_test, 1], \n",
    "                    color=color_map[clone], s=40, marker=\"x\", alpha=0.9, label=f\"Test {clone}\")  # Bigger size\n",
    "\n",
    "    plt.xlabel(\"UMAP1\")\n",
    "    plt.ylabel(\"UMAP2\")\n",
    "    plt.title(\"UMAP Projection - Top 5 Clones Highlighted\")\n",
    "    plt.legend()\n",
    "    plt.show()\n",
    "\n",
    "# Run the function to plot\n",
    "plot_umap(adata)"
   ]
  },
  {
   "cell_type": "markdown",
   "metadata": {},
   "source": [
    "### 4. plot 2: plot top 1 lineages with both training and testing cells"
   ]
  },
  {
   "cell_type": "code",
   "execution_count": null,
   "metadata": {},
   "outputs": [],
   "source": [
    "import matplotlib.pyplot as plt\n",
    "import numpy as np\n",
    "\n",
    "def plot_umap_with_lineages(adata, n_top_lineages=5, colormap=\"tab10\"):\n",
    "    \"\"\"\n",
    "    Plots UMAP from `adata.obsm[\"X_umap\"]` with:\n",
    "    - Top N clones in distinct colors (plotted on top)\n",
    "    - Other clones in gray with lower opacity\n",
    "    - Train cells as dots, Test cells as crosses\n",
    "    \n",
    "    Parameters:\n",
    "    - adata (AnnData): AnnData object with precomputed UMAP in `.obsm[\"X_umap\"]`\n",
    "    - n_top_lineages (int): Number of largest lineages to highlight in the plot\n",
    "    - colormap (str): Matplotlib colormap for the distinct top N lineages\n",
    "    \n",
    "    Output:\n",
    "    - A UMAP scatter plot (does NOT modify `adata`)\n",
    "    \"\"\"\n",
    "\n",
    "    ### **1️⃣ Check If Required Fields Exist**\n",
    "    if \"X_umap\" not in adata.obsm:\n",
    "        raise ValueError(\"UMAP coordinates missing! Ensure `adata.obsm['X_umap']` is computed.\")\n",
    "    \n",
    "    if \"LCL_embedding_semi_10\" not in adata.obsm:\n",
    "        raise ValueError(\"Contrastive learning embeddings missing! Ensure `adata.obsm['LCL_embedding_dim10']` exists.\")\n",
    "    \n",
    "    if \"clone_id\" not in adata.obs:\n",
    "        raise ValueError(\"Clone ID column missing! Ensure `adata.obs['clone_id']` exists.\")\n",
    "    \n",
    "    if \"dataset\" not in adata.obs:\n",
    "        raise ValueError(\"Dataset column missing! Ensure `adata.obs['dataset']` exists with 'train' and 'test' values.\")\n",
    "\n",
    "    ### **2️⃣ Identify the Top N Largest Lineages**\n",
    "    print(f\"Identifying the top {n_top_lineages} largest lineages...\")\n",
    "    clone_counts = adata.obs[\"clone_id\"].value_counts()\n",
    "    top_n_clones = clone_counts.index[:n_top_lineages]\n",
    "\n",
    "    # Assign \"Other\" to all but the top N lineages\n",
    "    adata.obs[\"clone_group\"] = adata.obs[\"clone_id\"].apply(lambda x: x if x in top_n_clones else \"Other\")\n",
    "    \n",
    "    # Convert to categorical for easy plotting\n",
    "    adata.obs[\"clone_group\"] = adata.obs[\"clone_group\"].astype(\"category\")\n",
    "\n",
    "    ### **3️⃣ Plot UMAP with Custom Formatting**\n",
    "    print(\"Plotting UMAP with lineage-specific colors and train/test markers...\")\n",
    "\n",
    "    umap_coords = adata.obsm[\"X_umap\"]\n",
    "    train_idx = adata.obs[\"dataset\"] == \"train\"\n",
    "    test_idx = adata.obs[\"dataset\"] == \"test\"\n",
    "    \n",
    "    unique_clones = adata.obs[\"clone_group\"].cat.categories\n",
    "\n",
    "    # Define a colormap for the top N clones, others in gray\n",
    "    colors = plt.get_cmap(colormap)(range(len(unique_clones) - 1))  # Leave space for gray\n",
    "    color_map = dict(zip(unique_clones[:-1], colors))  # Map top N clones\n",
    "    color_map[\"Other\"] = \"gray\"  # Set 'Other' to gray\n",
    "\n",
    "    plt.figure(figsize=(8, 6))\n",
    "\n",
    "    # **Step 1**: Plot \"Other\" cells first (background with low opacity)\n",
    "    idx_train_other = (adata.obs[\"clone_group\"] == \"Other\") & train_idx\n",
    "    idx_test_other = (adata.obs[\"clone_group\"] == \"Other\") & test_idx\n",
    "\n",
    "    plt.scatter(umap_coords[idx_train_other, 0], umap_coords[idx_train_other, 1], \n",
    "                color=color_map[\"Other\"], s=8, marker=\".\", alpha=0.2, label=\"Train Other\")\n",
    "\n",
    "    plt.scatter(umap_coords[idx_test_other, 0], umap_coords[idx_test_other, 1], \n",
    "                color=color_map[\"Other\"], s=8, marker=\"x\", alpha=0.2, label=\"Test Other\")\n",
    "\n",
    "    # **Step 2**: Plot top N clones on top (larger size)\n",
    "    for clone in unique_clones[:-1]:  # Skip \"Other\"\n",
    "        idx_train = (adata.obs[\"clone_group\"] == clone) & train_idx\n",
    "        idx_test = (adata.obs[\"clone_group\"] == clone) & test_idx\n",
    "\n",
    "        # Train: Dots\n",
    "        plt.scatter(umap_coords[idx_train, 0], umap_coords[idx_train, 1], \n",
    "                    color=color_map[clone], s=40, marker=\".\", alpha=0.8, label=f\"Train {clone}\")\n",
    "\n",
    "        # Test: Crosses\n",
    "        plt.scatter(umap_coords[idx_test, 0], umap_coords[idx_test, 1], \n",
    "                    color=color_map[clone], s=40, marker=\"x\", alpha=1, label=f\"Test {clone}\")\n",
    "\n",
    "    plt.xlabel(\"UMAP1\")\n",
    "    plt.ylabel(\"UMAP2\")\n",
    "    plt.title(f\"UMAP Projection - Top {n_top_lineages} Clones Highlighted\")\n",
    "    plt.legend()\n",
    "    plt.show()"
   ]
  },
  {
   "cell_type": "code",
   "execution_count": null,
   "metadata": {},
   "outputs": [],
   "source": [
    "plot_umap_with_lineages(adata, n_top_lineages=1)"
   ]
  },
  {
   "cell_type": "markdown",
   "metadata": {},
   "source": [
    "### 5. plot 3.1: plot both training and testing cells"
   ]
  },
  {
   "cell_type": "code",
   "execution_count": null,
   "metadata": {},
   "outputs": [],
   "source": [
    "import matplotlib.pyplot as plt\n",
    "plt.scatter(embedding_umap[:,0],embedding_umap[:,1])"
   ]
  },
  {
   "cell_type": "markdown",
   "metadata": {},
   "source": [
    "### 5. plot 3.2: plot training cells"
   ]
  },
  {
   "cell_type": "code",
   "execution_count": null,
   "metadata": {},
   "outputs": [],
   "source": [
    "plt.scatter(embedding_umap[:20656,0],embedding_umap[:20656,1])"
   ]
  },
  {
   "cell_type": "markdown",
   "metadata": {},
   "source": [
    "### 5. plot 3.2: plot testing cells"
   ]
  },
  {
   "cell_type": "code",
   "execution_count": null,
   "metadata": {},
   "outputs": [],
   "source": [
    "plt.scatter(embedding_umap[20656:,0],embedding_umap[20656:,1])"
   ]
  }
 ],
 "metadata": {
  "kernelspec": {
   "display_name": "scvi-env",
   "language": "python",
   "name": "python3"
  },
  "language_info": {
   "codemirror_mode": {
    "name": "ipython",
    "version": 3
   },
   "file_extension": ".py",
   "mimetype": "text/x-python",
   "name": "python",
   "nbconvert_exporter": "python",
   "pygments_lexer": "ipython3",
   "version": "3.9.18"
  }
 },
 "nbformat": 4,
 "nbformat_minor": 2
}
