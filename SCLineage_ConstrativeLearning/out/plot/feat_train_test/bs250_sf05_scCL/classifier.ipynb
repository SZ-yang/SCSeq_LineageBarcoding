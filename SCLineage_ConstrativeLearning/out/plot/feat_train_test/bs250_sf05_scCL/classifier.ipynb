{
 "cells": [
  {
   "cell_type": "code",
   "execution_count": 57,
   "metadata": {},
   "outputs": [],
   "source": [
    "import numpy as np\n",
    "from sklearn.model_selection import train_test_split\n",
    "from sklearn.neighbors import KNeighborsClassifier\n",
    "from sklearn.metrics import accuracy_score\n",
    "import anndata as ad\n",
    "import pandas as pd"
   ]
  },
  {
   "cell_type": "code",
   "execution_count": 58,
   "metadata": {},
   "outputs": [],
   "source": [
    "adata = ad.read_h5ad(input_dir+'/LarryData/Larry_41093_2000_norm_log.h5ad')\n",
    "adata.obs['Cell type annotation'] = adata.obs[\"state_info\"]"
   ]
  },
  {
   "cell_type": "code",
   "execution_count": 4,
   "metadata": {},
   "outputs": [
    {
     "name": "stdout",
     "output_type": "stream",
     "text": [
      "(37207, 64) (3886, 64)\n",
      "(37207,) (3886,)\n"
     ]
    }
   ],
   "source": [
    "input_dir = \"/Users/apple/Desktop/KB/data\"\n",
    "output_dir = \"/Users/apple/Desktop/KB/SCSeq_LineageBarcoding2/SCSeq_LineageBarcoding/SCLineage_ConstrativeLearning/out/plot/feat_811_train_test\"\n",
    "\n",
    "# Load dataset\n",
    "train_embeddings = np.load(input_dir+'/feat_811_train_test/bs250_sf05_scCL/scBaseEncoderFeat_Z_bs250_tau0.5.npy')\n",
    "test_embeddings = np.load(input_dir+'/feat_811_train_test/bs250_sf05_scCL/test_embedding.npy')\n",
    "print(train_embeddings.shape, test_embeddings.shape)\n",
    "\n",
    "adata_train = ad.read_h5ad(input_dir+'/LarryData/train_test/Larry_train.h5ad')\n",
    "adata_test = ad.read_h5ad(input_dir+'/LarryData/train_test/Larry_test.h5ad')\n",
    "adata_train.obs['Cell type annotation'] = adata_train.obs[\"state_info\"]\n",
    "adata_test.obs['Cell type annotation'] = adata_test.obs[\"state_info\"]\n",
    "\n",
    "train_labels = adata_train.obs[\"clone_id\"].to_numpy()\n",
    "test_labels = adata_test.obs[\"clone_id\"].to_numpy()\n",
    "print(train_labels.shape, test_labels.shape)\n"
   ]
  },
  {
   "cell_type": "code",
   "execution_count": 59,
   "metadata": {},
   "outputs": [
    {
     "name": "stdout",
     "output_type": "stream",
     "text": [
      "KNN classifier accuracy: 2.55%\n"
     ]
    }
   ],
   "source": [
    "\n",
    "# Initialize the KNN classifier (you can adjust the number of neighbors)\n",
    "knn = KNeighborsClassifier(n_neighbors=5)\n",
    "\n",
    "# Train the KNN classifier\n",
    "knn.fit(train_embeddings, train_labels)\n",
    "\n",
    "# Predict the labels for the test set\n",
    "y_pred = knn.predict(test_embeddings)\n",
    "\n",
    "# Calculate the accuracy\n",
    "accuracy = accuracy_score(test_labels, y_pred)\n",
    "\n",
    "print(f\"KNN classifier accuracy: {accuracy * 100:.2f}%\")\n"
   ]
  },
  {
   "cell_type": "code",
   "execution_count": 13,
   "metadata": {},
   "outputs": [
    {
     "name": "stdout",
     "output_type": "stream",
     "text": [
      "      True Label  Predicted Label  Correct\n",
      "19          2370             2370     True\n",
      "22          2370             2370     True\n",
      "41          5714             5714     True\n",
      "62           292              292     True\n",
      "102         2256             2256     True\n",
      "...          ...              ...      ...\n",
      "3059         383              383     True\n",
      "3256        2476             2476     True\n",
      "3283        1614             1614     True\n",
      "3462        5371             5371     True\n",
      "3743         213              213     True\n",
      "\n",
      "[99 rows x 3 columns]\n"
     ]
    }
   ],
   "source": [
    "# Create a DataFrame to compare predictions with actual labels\n",
    "comparison_df = pd.DataFrame({\n",
    "    'True Label': test_labels,\n",
    "    'Predicted Label': y_pred\n",
    "})\n",
    "\n",
    "# Add a column indicating whether the prediction was correct\n",
    "comparison_df['Correct'] = comparison_df['True Label'] == comparison_df['Predicted Label']\n",
    "\n",
    "# Display the first few rows of the comparison DataFrame\n",
    "print(comparison_df[comparison_df['Correct']==True])\n"
   ]
  },
  {
   "cell_type": "code",
   "execution_count": 54,
   "metadata": {},
   "outputs": [],
   "source": [
    "correct_df = comparison_df[comparison_df['Correct']==True]\n",
    "correct_labels = correct_df[\"True Label\"].to_numpy()\n",
    "\n",
    "\n",
    "false_df = comparison_df[comparison_df['Correct']==False]\n",
    "false_labels = false_df[\"True Label\"].to_numpy()\n"
   ]
  },
  {
   "cell_type": "code",
   "execution_count": 15,
   "metadata": {},
   "outputs": [
    {
     "data": {
      "text/plain": [
       "array([2370, 2370, 5714,  292, 2256, 2256, 5150, 5150, 3250, 3250, 3851,\n",
       "       3851, 3646, 2015, 2015, 2887, 2007, 4833,  784, 5081, 3489, 3489,\n",
       "       3489,  755, 1518, 2189, 5404, 2834, 4226,  417, 1099, 2580, 3093,\n",
       "       2074, 3592, 3592, 4594,  415, 2598,  681, 4287, 2039, 2039, 3522,\n",
       "       3932, 3932,  405, 3330,  716, 2791, 2791,  325, 1219, 5717, 5717,\n",
       "       5807, 5112, 4683, 5024, 4042,  998, 3718, 2302, 4830, 4571, 2431,\n",
       "       2632, 2272, 3004, 1234,  398,  910,  560,   99,   17, 3914, 1557,\n",
       "       4674, 2600,  122, 3429,  271, 4086,  120, 2255, 4888,  320, 1318,\n",
       "       4587, 2268, 1353, 1912, 4005, 5857,  383, 2476, 1614, 5371,  213])"
      ]
     },
     "execution_count": 15,
     "metadata": {},
     "output_type": "execute_result"
    }
   ],
   "source": [
    "correct_labels"
   ]
  },
  {
   "cell_type": "code",
   "execution_count": 20,
   "metadata": {},
   "outputs": [],
   "source": [
    "value_counts = adata.obs[\"clone_id\"].value_counts()"
   ]
  },
  {
   "cell_type": "code",
   "execution_count": 21,
   "metadata": {},
   "outputs": [
    {
     "data": {
      "text/plain": [
       "clone_id\n",
       "1261    177\n",
       "2370    165\n",
       "5714    141\n",
       "292     134\n",
       "5209    129\n",
       "       ... \n",
       "513       5\n",
       "5629      5\n",
       "1014      5\n",
       "3998      5\n",
       "4329      5\n",
       "Name: count, Length: 2813, dtype: int64"
      ]
     },
     "execution_count": 21,
     "metadata": {},
     "output_type": "execute_result"
    }
   ],
   "source": [
    "value_counts"
   ]
  },
  {
   "cell_type": "code",
   "execution_count": 23,
   "metadata": {},
   "outputs": [
    {
     "data": {
      "text/plain": [
       "(177, 5)"
      ]
     },
     "execution_count": 23,
     "metadata": {},
     "output_type": "execute_result"
    }
   ],
   "source": [
    "value_counts.max(), value_counts.min()"
   ]
  },
  {
   "cell_type": "code",
   "execution_count": 55,
   "metadata": {},
   "outputs": [
    {
     "name": "stdout",
     "output_type": "stream",
     "text": [
      "0       177\n",
      "1       177\n",
      "2       177\n",
      "3       177\n",
      "4       177\n",
      "       ... \n",
      "3782     10\n",
      "3783     10\n",
      "3784     10\n",
      "3785     10\n",
      "3786     10\n",
      "Length: 3787, dtype: int64\n"
     ]
    }
   ],
   "source": [
    "# Convert correct labels to a pandas Series\n",
    "false_labels_series = pd.Series(false_labels)\n",
    "\n",
    "# Find the corresponding value in value_counts for those correct labels\n",
    "false_label_value_counts = false_labels_series.map(value_counts)\n",
    "\n",
    "# Display the resulting counts\n",
    "print(false_label_value_counts)\n"
   ]
  },
  {
   "cell_type": "code",
   "execution_count": 60,
   "metadata": {},
   "outputs": [
    {
     "data": {
      "text/plain": [
       "33.278056509110115"
      ]
     },
     "execution_count": 60,
     "metadata": {},
     "output_type": "execute_result"
    }
   ],
   "source": [
    "false_label_value_counts.mean()"
   ]
  },
  {
   "cell_type": "code",
   "execution_count": 61,
   "metadata": {},
   "outputs": [
    {
     "data": {
      "text/plain": [
       "49.4040404040404"
      ]
     },
     "execution_count": 61,
     "metadata": {},
     "output_type": "execute_result"
    }
   ],
   "source": [
    "correct_label_value_counts.mean()"
   ]
  },
  {
   "cell_type": "code",
   "execution_count": 62,
   "metadata": {},
   "outputs": [
    {
     "data": {
      "image/png": "[encoded data removed]",
      "text/plain": [
       "<Figure size 1000x600 with 1 Axes>"
      ]
     },
     "metadata": {},
     "output_type": "display_data"
    }
   ],
   "source": [
    "import matplotlib.pyplot as plt\n",
    "\n",
    "# Plot a histogram of the false_label_value_counts\n",
    "plt.figure(figsize=(10, 6))\n",
    "plt.hist(false_label_value_counts, bins=30, edgecolor='black')\n",
    "\n",
    "# Adding title and labels\n",
    "plt.title(\"Histogram of False Label Value Counts\")\n",
    "plt.xlabel(\"Count of False Labels\")\n",
    "plt.ylabel(\"Frequency\")\n",
    "\n",
    "# Show the plot\n",
    "plt.show()\n"
   ]
  },
  {
   "cell_type": "code",
   "execution_count": 64,
   "metadata": {},
   "outputs": [
    {
     "data": {
      "image/png": "[encoded data removed]",
      "text/plain": [
       "<Figure size 1000x600 with 1 Axes>"
      ]
     },
     "metadata": {},
     "output_type": "display_data"
    }
   ],
   "source": [
    "import matplotlib.pyplot as plt\n",
    "\n",
    "# Plot a histogram of the false_label_value_counts\n",
    "plt.figure(figsize=(10, 6))\n",
    "plt.hist(correct_label_value_counts, bins=30, edgecolor='black')\n",
    "\n",
    "# Adding title and labels\n",
    "plt.title(\"Histogram of Correct Label Value Counts\")\n",
    "plt.xlabel(\"Count of Correct Labels\")\n",
    "plt.ylabel(\"Frequency\")\n",
    "\n",
    "# Show the plot\n",
    "plt.show()\n"
   ]
  },
  {
   "cell_type": "code",
   "execution_count": 22,
   "metadata": {},
   "outputs": [
    {
     "name": "stdout",
     "output_type": "stream",
     "text": [
      "0     165\n",
      "1     165\n",
      "2     141\n",
      "3     134\n",
      "4     111\n",
      "     ... \n",
      "94     13\n",
      "95     12\n",
      "96     12\n",
      "97     12\n",
      "98     10\n",
      "Length: 99, dtype: int64\n"
     ]
    }
   ],
   "source": [
    "# Convert correct labels to a pandas Series\n",
    "correct_labels_series = pd.Series(correct_labels)\n",
    "\n",
    "# Find the corresponding value in value_counts for those correct labels\n",
    "correct_label_value_counts = correct_labels_series.map(value_counts)\n",
    "\n",
    "# Display the resulting counts\n",
    "print(correct_label_value_counts)\n"
   ]
  },
  {
   "cell_type": "code",
   "execution_count": 27,
   "metadata": {},
   "outputs": [
    {
     "data": {
      "text/plain": [
       "<bound method Series.unique of 0     2370\n",
       "1     2370\n",
       "2     5714\n",
       "3      292\n",
       "4     2256\n",
       "      ... \n",
       "94     383\n",
       "95    2476\n",
       "96    1614\n",
       "97    5371\n",
       "98     213\n",
       "Length: 99, dtype: int64>"
      ]
     },
     "execution_count": 27,
     "metadata": {},
     "output_type": "execute_result"
    }
   ],
   "source": [
    "correct_labels_series.unique"
   ]
  },
  {
   "cell_type": "code",
   "execution_count": 36,
   "metadata": {},
   "outputs": [
    {
     "data": {
      "text/plain": [
       "151"
      ]
     },
     "execution_count": 36,
     "metadata": {},
     "output_type": "execute_result"
    }
   ],
   "source": [
    "\n",
    "val_count = adata_test.obs[\"clone_id\"].value_counts()\n",
    "(val_count == 1).sum()"
   ]
  },
  {
   "cell_type": "code",
   "execution_count": 37,
   "metadata": {},
   "outputs": [
    {
     "name": "stdout",
     "output_type": "stream",
     "text": [
      "Index([4661, 3577, 5023,  269,  132, 3663,  258, 4396, 1416, 4597,\n",
      "       ...\n",
      "       2705, 5031, 3061, 4250, 4880, 2040, 4323,  997, 3442, 5355],\n",
      "      dtype='int64', name='clone_id', length=151)\n"
     ]
    }
   ],
   "source": [
    "# Filter to get the clone_id's where the count is 1\n",
    "clone_ids_with_count_one = val_count[val_count == 1].index\n",
    "\n",
    "# Display the clone_ids\n",
    "print(clone_ids_with_count_one)\n"
   ]
  },
  {
   "cell_type": "code",
   "execution_count": 46,
   "metadata": {},
   "outputs": [
    {
     "data": {
      "text/plain": [
       "True"
      ]
     },
     "execution_count": 46,
     "metadata": {},
     "output_type": "execute_result"
    }
   ],
   "source": [
    "213 in  set(clone_ids_with_count_one)"
   ]
  },
  {
   "cell_type": "code",
   "execution_count": 43,
   "metadata": {},
   "outputs": [
    {
     "data": {
      "text/plain": [
       "True"
      ]
     },
     "execution_count": 43,
     "metadata": {},
     "output_type": "execute_result"
    }
   ],
   "source": [
    "681 in (set(correct_labels))"
   ]
  },
  {
   "cell_type": "code",
   "execution_count": 42,
   "metadata": {},
   "outputs": [
    {
     "data": {
      "text/plain": [
       "3489    3\n",
       "2370    2\n",
       "2015    2\n",
       "2039    2\n",
       "3932    2\n",
       "       ..\n",
       "4287    1\n",
       "681     1\n",
       "2598    1\n",
       "415     1\n",
       "213     1\n",
       "Name: count, Length: 86, dtype: int64"
      ]
     },
     "execution_count": 42,
     "metadata": {},
     "output_type": "execute_result"
    }
   ],
   "source": [
    "correct_labels_series.value_counts()"
   ]
  },
  {
   "cell_type": "code",
   "execution_count": 48,
   "metadata": {},
   "outputs": [
    {
     "name": "stdout",
     "output_type": "stream",
     "text": [
      "{0: 1, 1: 1, 2: 2, 4: 1, 5: 2, 8: 3, 10: 2, 12: 1, 13: 2, 15: 2, 17: 1, 18: 2, 21: 2, 23: 2, 25: 2, 29: 2, 30: 1, 34: 2, 36: 1, 37: 1, 38: 3, 39: 2, 42: 1, 43: 2, 44: 1, 45: 2, 47: 2, 49: 2, 50: 2, 51: 2, 52: 2, 53: 2, 54: 2, 56: 3, 57: 1, 60: 1, 63: 1, 64: 1, 66: 2, 67: 3, 68: 2, 69: 5, 72: 2, 80: 2, 81: 1, 82: 2, 84: 2, 88: 1, 90: 2, 93: 2, 96: 2, 98: 2, 99: 3, 101: 2, 102: 2, 107: 1, 113: 1, 118: 2, 120: 1, 121: 2, 122: 2, 123: 3, 124: 2, 125: 2, 129: 2, 130: 2, 132: 2, 134: 2, 135: 1, 136: 2, 138: 2, 140: 2, 141: 2, 142: 1, 143: 1, 146: 2, 147: 1, 149: 1, 150: 1, 151: 3, 152: 3, 153: 2, 154: 2, 155: 4, 157: 1, 159: 2, 163: 3, 166: 2, 168: 2, 170: 1, 172: 1, 174: 2, 176: 1, 177: 2, 179: 2, 180: 2, 181: 1, 182: 1, 188: 2, 189: 2, 190: 2, 191: 2, 195: 1, 198: 2, 200: 1, 201: 2, 202: 1, 205: 2, 210: 2, 211: 1, 212: 2, 213: 2, 214: 2, 216: 2, 219: 1, 220: 1, 221: 3, 227: 1, 228: 2, 233: 2, 235: 2, 236: 1, 237: 2, 238: 2, 242: 2, 244: 2, 245: 2, 246: 1, 248: 2, 249: 2, 250: 3, 252: 2, 254: 1, 255: 1, 258: 1, 261: 1, 266: 1, 267: 1, 268: 2, 269: 2, 271: 4, 272: 1, 273: 2, 276: 2, 277: 2, 278: 1, 281: 1, 283: 3, 284: 3, 285: 1, 288: 1, 291: 2, 292: 5, 293: 2, 294: 2, 296: 2, 299: 2, 300: 2, 301: 3, 306: 3, 307: 1, 308: 2, 311: 2, 320: 2, 325: 3, 327: 3, 329: 1, 331: 2, 333: 3, 334: 2, 336: 2, 338: 2, 339: 2, 340: 4, 341: 1, 343: 2, 346: 4, 348: 1, 352: 2, 354: 3, 356: 1, 358: 1, 359: 2, 361: 2, 363: 2, 364: 2, 366: 2, 368: 1, 370: 2, 372: 2, 374: 2, 375: 2, 378: 2, 382: 1, 383: 1, 384: 2, 385: 2, 386: 1, 389: 1, 391: 1, 392: 2, 394: 3, 395: 2, 396: 2, 398: 3, 399: 2, 401: 1, 403: 2, 405: 3, 407: 2, 412: 3, 415: 3, 416: 2, 417: 3, 422: 1, 427: 2, 428: 1, 429: 1, 430: 1, 431: 2, 433: 2, 434: 2, 435: 2, 437: 2, 440: 2, 448: 3, 449: 2, 451: 1, 452: 2, 453: 2, 464: 2, 466: 1, 469: 2, 470: 1, 471: 2, 474: 1, 475: 2, 477: 3, 478: 1, 482: 3, 490: 1, 498: 2, 505: 5, 506: 2, 508: 3, 509: 2, 510: 2, 512: 1, 513: 3, 514: 2, 516: 1, 519: 1, 521: 2, 522: 2, 528: 3, 529: 2, 531: 2, 533: 1, 534: 1, 537: 2, 538: 1, 544: 3, 547: 1, 548: 3, 549: 2, 552: 3, 554: 1, 556: 2, 557: 3, 558: 1, 559: 1, 560: 2, 564: 1, 565: 2, 567: 2, 569: 2, 570: 2, 573: 1, 574: 3, 575: 2, 578: 2, 579: 2, 581: 1, 582: 3, 590: 3, 591: 3, 593: 3, 599: 1, 600: 2, 604: 3, 605: 2, 606: 2, 608: 2, 609: 2, 612: 3, 613: 1, 614: 2, 618: 1, 620: 1, 621: 3, 623: 2, 625: 2, 626: 1, 627: 1, 628: 1, 630: 2, 633: 3, 634: 2, 635: 1, 636: 2, 641: 3, 643: 1, 644: 2, 645: 1, 647: 2, 648: 2, 649: 2, 650: 3, 651: 1, 654: 2, 659: 2, 660: 1, 665: 2, 666: 1, 668: 2, 673: 3, 674: 2, 675: 1, 676: 2, 678: 1, 680: 2, 681: 2, 683: 3, 684: 2, 685: 3, 688: 1, 689: 2, 693: 2, 694: 2, 697: 2, 700: 1, 701: 2, 704: 3, 706: 3, 712: 2, 713: 1, 714: 2, 716: 2, 719: 1, 720: 2, 721: 3, 722: 1, 724: 2, 725: 2, 726: 1, 732: 3, 734: 2, 735: 2, 737: 3, 738: 2, 739: 4, 740: 2, 744: 2, 746: 2, 747: 1, 748: 2, 750: 1, 753: 2, 754: 3, 755: 3, 756: 2, 757: 2, 759: 2, 762: 1, 764: 1, 766: 3, 767: 2, 768: 1, 770: 2, 771: 1, 772: 1, 775: 2, 776: 2, 777: 3, 779: 1, 781: 2, 784: 4, 785: 2, 787: 1, 788: 3, 789: 1, 794: 3, 795: 3, 801: 3, 802: 2, 806: 1, 807: 2, 813: 1, 820: 2, 825: 2, 826: 2, 827: 1, 830: 2, 831: 2, 835: 1, 837: 3, 838: 2, 839: 2, 841: 3, 843: 3, 844: 2, 845: 2, 846: 1, 849: 2, 850: 2, 851: 2, 854: 1, 858: 1, 859: 2, 860: 1, 862: 1, 865: 2, 867: 2, 874: 3, 875: 1, 876: 1, 878: 1, 882: 4, 884: 1, 885: 1, 886: 2, 888: 2, 889: 1, 891: 2, 892: 2, 893: 2, 895: 2, 896: 1, 899: 3, 902: 1, 903: 2, 907: 1, 908: 2, 909: 3, 910: 3, 917: 3, 922: 2, 926: 3, 928: 1, 929: 2, 931: 1, 932: 4, 936: 2, 938: 1, 939: 1, 940: 1, 941: 2, 949: 1, 950: 2, 951: 1, 958: 3, 959: 2, 960: 3, 961: 2, 962: 2, 963: 2, 965: 1, 966: 3, 969: 2, 971: 3, 974: 1, 978: 1, 979: 3, 980: 2, 982: 4, 984: 1, 987: 1, 991: 1, 992: 1, 995: 2, 996: 3, 997: 1, 998: 3, 1003: 3, 1004: 2, 1011: 2, 1013: 1, 1014: 1, 1015: 2, 1017: 1, 1019: 2, 1028: 3, 1029: 2, 1030: 2, 1031: 1, 1036: 1, 1038: 1, 1041: 3, 1043: 2, 1046: 3, 1050: 1, 1051: 2, 1053: 1, 1061: 3, 1062: 2, 1064: 2, 1065: 3, 1066: 2, 1067: 1, 1068: 2, 1069: 1, 1070: 4, 1074: 2, 1076: 3, 1077: 2, 1080: 2, 1083: 1, 1085: 2, 1087: 3, 1090: 2, 1093: 3, 1095: 2, 1096: 2, 1099: 2, 1101: 1, 1103: 1, 1105: 2, 1106: 3, 1110: 2, 1112: 1, 1113: 2, 1114: 3, 1115: 2, 1116: 2, 1117: 2, 1118: 2, 1119: 1, 1120: 1, 1129: 1, 1131: 1, 1135: 1, 1136: 2, 1137: 2, 1140: 2, 1141: 3, 1144: 3, 1146: 1, 1149: 3, 1150: 1, 1153: 2, 1157: 2, 1158: 3, 1159: 3, 1162: 1, 1166: 2, 1170: 2, 1172: 2, 1173: 2, 1178: 1, 1179: 2, 1180: 1, 1181: 2, 1182: 2, 1183: 2, 1184: 4, 1185: 1, 1188: 1, 1190: 2, 1192: 1, 1196: 1, 1197: 2, 1198: 2, 1199: 2, 1202: 2, 1205: 1, 1206: 3, 1207: 2, 1212: 3, 1213: 1, 1214: 1, 1216: 2, 1219: 3, 1220: 1, 1221: 2, 1223: 1, 1230: 3, 1231: 3, 1234: 2, 1237: 3, 1238: 3, 1240: 2, 1241: 2, 1242: 1, 1243: 2, 1247: 2, 1248: 2, 1250: 1, 1252: 3, 1253: 2, 1255: 3, 1258: 3, 1260: 2, 1261: 4, 1262: 3, 1266: 1, 1270: 1, 1271: 1, 1272: 2, 1274: 3, 1275: 1, 1277: 2, 1278: 2, 1280: 2, 1284: 2, 1289: 2, 1292: 3, 1293: 2, 1294: 3, 1296: 2, 1298: 1, 1299: 2, 1300: 2, 1301: 2, 1302: 1, 1304: 2, 1305: 2, 1311: 1, 1312: 2, 1317: 3, 1318: 1, 1319: 3, 1320: 2, 1325: 4, 1326: 2, 1327: 2, 1329: 1, 1332: 2, 1333: 2, 1335: 2, 1336: 1, 1337: 1, 1339: 3, 1340: 3, 1343: 3, 1348: 3, 1349: 3, 1350: 2, 1351: 2, 1353: 2, 1354: 1, 1357: 1, 1358: 1, 1359: 1, 1360: 3, 1362: 2, 1363: 3, 1364: 2, 1365: 2, 1368: 3, 1369: 1, 1370: 1, 1371: 1, 1376: 2, 1378: 1, 1379: 2, 1380: 2, 1381: 1, 1384: 1, 1385: 2, 1388: 1, 1390: 2, 1392: 2, 1394: 3, 1395: 2, 1399: 2, 1403: 1, 1404: 2, 1405: 1, 1407: 2, 1409: 1, 1410: 1, 1411: 1, 1416: 2, 1417: 2, 1422: 2, 1423: 2, 1427: 2, 1428: 2, 1430: 1, 1432: 1, 1438: 3, 1439: 2, 1440: 1, 1441: 3, 1444: 1, 1445: 1, 1448: 3, 1450: 3, 1451: 2, 1452: 3, 1453: 3, 1454: 2, 1456: 2, 1459: 2, 1461: 2, 1462: 3, 1466: 3, 1470: 2, 1475: 2, 1476: 2, 1477: 2, 1479: 3, 1484: 1, 1487: 3, 1488: 1, 1489: 2, 1493: 3, 1496: 1, 1498: 2, 1499: 2, 1502: 1, 1503: 2, 1505: 1, 1507: 2, 1512: 1, 1513: 1, 1514: 2, 1518: 3, 1519: 2, 1520: 2, 1522: 1, 1523: 2, 1527: 2, 1528: 4, 1529: 3, 1531: 3, 1532: 2, 1541: 1, 1543: 1, 1544: 2, 1545: 2, 1547: 1, 1548: 2, 1551: 2, 1552: 2, 1554: 2, 1555: 2, 1557: 3, 1559: 3, 1562: 2, 1563: 2, 1564: 2, 1565: 4, 1566: 2, 1568: 1, 1570: 1, 1572: 2, 1574: 1, 1577: 2, 1578: 2, 1579: 2, 1581: 2, 1582: 2, 1587: 3, 1588: 3, 1589: 3, 1592: 3, 1595: 2, 1596: 2, 1597: 2, 1598: 2, 1599: 2, 1601: 1, 1604: 2, 1605: 2, 1607: 2, 1608: 2, 1611: 3, 1614: 2, 1617: 1, 1618: 1, 1619: 1, 1623: 2, 1624: 1, 1625: 2, 1626: 2, 1631: 3, 1633: 2, 1634: 2, 1643: 1, 1648: 3, 1649: 1, 1652: 2, 1653: 3, 1654: 2, 1656: 1, 1657: 1, 1660: 2, 1667: 3, 1674: 1, 1675: 3, 1676: 2, 1682: 1, 1683: 4, 1685: 1, 1689: 2, 1690: 2, 1691: 2, 1692: 2, 1696: 2, 1697: 2, 1699: 2, 1700: 3, 1706: 2, 1707: 2, 1711: 2, 1712: 4, 1715: 2, 1719: 2, 1722: 1, 1723: 2, 1725: 3, 1734: 2, 1735: 2, 1736: 3, 1737: 2, 1739: 2, 1740: 2, 1741: 2, 1745: 1, 1746: 2, 1747: 2, 1748: 1, 1749: 3, 1753: 1, 1758: 2, 1761: 1, 1764: 2, 1766: 2, 1775: 2, 1777: 2, 1780: 1, 1782: 2, 1784: 2, 1786: 2, 1790: 3, 1792: 2, 1794: 2, 1796: 1, 1797: 2, 1800: 1, 1803: 2, 1805: 1, 1806: 2, 1807: 2, 1808: 3, 1809: 2, 1810: 1, 1811: 2, 1812: 2, 1813: 1, 1817: 1, 1821: 1, 1822: 2, 1823: 2, 1827: 2, 1828: 2, 1829: 2, 1832: 1, 1833: 2, 1836: 3, 1838: 1, 1839: 2, 1840: 4, 1841: 2, 1843: 5, 1844: 2, 1850: 2, 1852: 2, 1853: 2, 1855: 2, 1861: 3, 1863: 2, 1864: 2, 1869: 2, 1870: 2, 1873: 2, 1875: 2, 1878: 2, 1882: 2, 1883: 1, 1884: 2, 1885: 1, 1886: 1, 1887: 2, 1889: 3, 1897: 1, 1899: 3, 1900: 1, 1901: 2, 1904: 2, 1906: 2, 1909: 2, 1910: 3, 1912: 2, 1913: 2, 1915: 2, 1919: 2, 1920: 2, 1922: 1, 1923: 2, 1925: 3, 1926: 2, 1928: 2, 1929: 2, 1930: 1, 1931: 2, 1932: 3, 1933: 2, 1935: 1, 1938: 2, 1940: 2, 1941: 1, 1943: 1, 1946: 4, 1948: 3, 1949: 2, 1952: 2, 1956: 2, 1957: 2, 1958: 1, 1960: 3, 1962: 3, 1963: 1, 1967: 2, 1968: 1, 1969: 1, 1972: 3, 1975: 2, 1976: 2, 1978: 3, 1982: 3, 1983: 2, 1984: 2, 1985: 3, 1987: 2, 1988: 2, 1989: 3, 1990: 2, 1996: 1, 1997: 2, 1998: 3, 1999: 1, 2000: 2, 2001: 2, 2002: 2, 2005: 4, 2007: 2, 2008: 1, 2010: 1, 2011: 2, 2013: 1, 2014: 3, 2015: 4, 2016: 2, 2019: 1, 2022: 1, 2023: 2, 2024: 1, 2031: 1, 2036: 3, 2037: 2, 2039: 3, 2040: 1, 2042: 3, 2043: 1, 2045: 3, 2046: 1, 2047: 2, 2050: 1, 2052: 2, 2053: 1, 2054: 2, 2057: 3, 2058: 1, 2061: 2, 2062: 2, 2063: 1, 2065: 1, 2067: 1, 2068: 1, 2073: 3, 2074: 5, 2075: 2, 2079: 1, 2080: 2, 2081: 1, 2082: 2, 2084: 2, 2085: 3, 2089: 2, 2091: 4, 2092: 3, 2093: 2, 2094: 3, 2095: 2, 2097: 1, 2103: 2, 2106: 1, 2109: 2, 2110: 2, 2111: 3, 2114: 1, 2115: 3, 2116: 2, 2119: 1, 2120: 3, 2121: 2, 2123: 3, 2127: 2, 2128: 2, 2131: 5, 2132: 3, 2133: 3, 2137: 1, 2139: 2, 2143: 2, 2144: 2, 2145: 3, 2146: 1, 2149: 1, 2150: 2, 2151: 2, 2156: 2, 2158: 2, 2159: 2, 2161: 2, 2162: 1, 2164: 3, 2168: 1, 2170: 2, 2171: 3, 2172: 1, 2173: 4, 2174: 2, 2176: 1, 2181: 2, 2183: 1, 2184: 2, 2187: 3, 2188: 1, 2189: 3, 2190: 4, 2191: 2, 2193: 1, 2194: 3, 2196: 3, 2198: 1, 2199: 1, 2200: 2, 2205: 1, 2206: 1, 2207: 1, 2211: 1, 2213: 1, 2216: 2, 2217: 2, 2219: 3, 2222: 2, 2223: 3, 2224: 3, 2225: 2, 2226: 2, 2228: 1, 2231: 2, 2232: 4, 2235: 2, 2236: 3, 2237: 1, 2239: 2, 2240: 2, 2247: 3, 2248: 1, 2249: 2, 2250: 2, 2255: 3, 2256: 4, 2257: 2, 2258: 2, 2259: 1, 2263: 2, 2265: 1, 2266: 1, 2267: 1, 2268: 2, 2272: 3, 2273: 1, 2274: 2, 2275: 2, 2276: 3, 2277: 2, 2278: 3, 2279: 1, 2280: 1, 2281: 2, 2282: 1, 2284: 2, 2286: 2, 2287: 2, 2288: 1, 2289: 2, 2290: 1, 2291: 3, 2294: 2, 2295: 1, 2296: 2, 2297: 1, 2299: 2, 2302: 2, 2303: 1, 2304: 2, 2306: 2, 2307: 1, 2308: 1, 2309: 5, 2310: 1, 2311: 3, 2313: 3, 2314: 2, 2315: 2, 2318: 3, 2319: 2, 2320: 2, 2322: 2, 2323: 1, 2326: 1, 2327: 1, 2331: 3, 2332: 3, 2333: 3, 2334: 2, 2335: 2, 2336: 2, 2337: 1, 2340: 1, 2341: 1, 2342: 2, 2343: 3, 2347: 2, 2349: 1, 2350: 1, 2354: 2, 2358: 3, 2362: 2, 2363: 2, 2366: 1, 2367: 3, 2369: 2, 2370: 4, 2371: 1, 2372: 2, 2374: 2, 2376: 2, 2379: 3, 2381: 2, 2383: 2, 2385: 1, 2387: 2, 2390: 2, 2391: 2, 2393: 2, 2395: 3, 2397: 1, 2398: 1, 2399: 2, 2400: 2, 2402: 3, 2404: 2, 2407: 3, 2408: 2, 2409: 1, 2414: 3, 2415: 2, 2417: 2, 2420: 2, 2421: 2, 2422: 2, 2423: 2, 2428: 1, 2429: 3, 2430: 1, 2431: 2, 2433: 3, 2434: 2, 2435: 1, 2436: 2, 2437: 2, 2439: 2, 2440: 2, 2441: 1, 2442: 3, 2444: 3, 2445: 1, 2446: 2, 2448: 2, 2450: 2, 2451: 1, 2453: 2, 2455: 2, 2457: 1, 2460: 2, 2466: 4, 2467: 2, 2469: 2, 2470: 3, 2473: 1, 2474: 3, 2476: 2, 2482: 1, 2484: 2, 2485: 2, 2488: 1, 2489: 1, 2490: 2, 2491: 1, 2492: 3, 2495: 2, 2496: 1, 2497: 2, 2501: 5, 2502: 1, 2504: 2, 2509: 2, 2513: 2, 2514: 1, 2519: 2, 2520: 1, 2521: 2, 2523: 1, 2526: 2, 2529: 2, 2530: 2, 2531: 2, 2534: 1, 2536: 2, 2539: 4, 2540: 1, 2542: 2, 2544: 1, 2546: 2, 2547: 1, 2548: 2, 2549: 2, 2550: 2, 2552: 2, 2553: 3, 2554: 1, 2555: 1, 2558: 2, 2563: 2, 2565: 3, 2568: 2, 2569: 3, 2571: 2, 2572: 1, 2575: 2, 2577: 3, 2578: 1, 2580: 2, 2582: 2, 2583: 2, 2585: 2, 2586: 1, 2592: 2, 2598: 3, 2600: 2, 2602: 3, 2604: 1, 2606: 1, 2607: 3, 2610: 1, 2613: 2, 2614: 1, 2616: 3, 2618: 3, 2619: 1, 2621: 2, 2622: 2, 2627: 1, 2629: 3, 2631: 2, 2632: 3, 2634: 3, 2635: 2, 2636: 2, 2638: 3, 2643: 3, 2645: 1, 2647: 2, 2650: 1, 2653: 2, 2658: 1, 2660: 3, 2661: 1, 2668: 2, 2669: 1, 2671: 2, 2673: 3, 2674: 2, 2675: 2, 2677: 2, 2680: 1, 2683: 1, 2684: 1, 2688: 2, 2689: 4, 2690: 2, 2692: 1, 2693: 3, 2697: 1, 2703: 2, 2704: 2, 2705: 1, 2707: 3, 2708: 2, 2709: 3, 2711: 1, 2712: 2, 2713: 1, 2717: 2, 2722: 1, 2723: 1, 2724: 4, 2732: 2, 2733: 2, 2734: 1, 2735: 3, 2738: 2, 2741: 2, 2742: 2, 2743: 2, 2744: 2, 2747: 3, 2749: 3, 2751: 2, 2754: 3, 2757: 2, 2758: 2, 2759: 1, 2760: 2, 2761: 1, 2764: 1, 2766: 3, 2767: 2, 2768: 3, 2771: 1, 2772: 3, 2773: 1, 2774: 1, 2776: 4, 2777: 1, 2782: 2, 2785: 1, 2788: 2, 2791: 3, 2800: 1, 2802: 1, 2804: 3, 2806: 3, 2807: 3, 2808: 1, 2810: 4, 2811: 4, 2814: 1, 2815: 2, 2816: 2, 2818: 2, 2819: 1, 2821: 2, 2824: 1, 2831: 5, 2832: 3, 2834: 3, 2838: 1, 2843: 2, 2845: 2, 2846: 3, 2848: 4, 2849: 2, 2850: 1, 2852: 1, 2858: 2, 2859: 2, 2860: 3, 2861: 1, 2862: 3, 2863: 2, 2865: 1, 2868: 3, 2870: 2, 2871: 2, 2875: 1, 2876: 3, 2877: 2, 2879: 3, 2880: 2, 2881: 1, 2883: 1, 2884: 2, 2886: 2, 2887: 3, 2890: 2, 2891: 3, 2894: 1, 2896: 1, 2898: 2, 2903: 2, 2904: 2, 2905: 3, 2906: 2, 2907: 2, 2913: 1, 2914: 1, 2915: 2, 2916: 2, 2919: 2, 2921: 1, 2922: 3, 2925: 1, 2927: 2, 2928: 3, 2930: 1, 2932: 2, 2934: 1, 2936: 2, 2937: 2, 2938: 2, 2939: 3, 2942: 1, 2943: 2, 2944: 2, 2946: 3, 2948: 2, 2949: 2, 2950: 1, 2954: 1, 2955: 1, 2957: 3, 2958: 3, 2959: 3, 2961: 1, 2962: 1, 2963: 1, 2966: 1, 2967: 3, 2969: 2, 2970: 2, 2972: 1, 2974: 3, 2976: 2, 2978: 2, 2979: 1, 2980: 2, 2983: 2, 2985: 1, 2986: 2, 2987: 1, 2989: 2, 2992: 1, 2994: 3, 2998: 2, 3000: 2, 3004: 2, 3005: 2, 3006: 1, 3007: 2, 3009: 2, 3010: 2, 3013: 1, 3016: 2, 3024: 2, 3026: 2, 3027: 3, 3028: 1, 3029: 1, 3033: 3, 3038: 1, 3039: 1, 3044: 2, 3046: 2, 3048: 1, 3050: 1, 3054: 3, 3058: 2, 3059: 1, 3061: 2, 3065: 2, 3066: 2, 3069: 2, 3070: 1, 3071: 1, 3075: 2, 3076: 3, 3079: 2, 3080: 2, 3083: 2, 3084: 1, 3085: 3, 3087: 2, 3088: 1, 3089: 1, 3091: 3, 3093: 3, 3094: 2, 3095: 2, 3096: 3, 3097: 2, 3098: 2, 3104: 1, 3107: 1, 3111: 3, 3113: 1, 3114: 2, 3116: 2, 3117: 2, 3118: 3, 3120: 2, 3122: 1, 3124: 1, 3125: 2, 3126: 1, 3127: 2, 3129: 2, 3130: 2, 3132: 3, 3134: 3, 3135: 2, 3136: 3, 3137: 2, 3138: 1, 3140: 3, 3141: 1, 3148: 2, 3151: 2, 3153: 2, 3155: 2, 3156: 2, 3160: 1, 3162: 1, 3164: 1, 3165: 3, 3166: 3, 3168: 2, 3171: 2, 3172: 1, 3174: 1, 3176: 3, 3178: 2, 3179: 3, 3181: 3, 3182: 1, 3186: 1, 3188: 1, 3193: 2, 3196: 2, 3199: 1, 3200: 2, 3204: 1, 3205: 3, 3206: 2, 3207: 2, 3209: 2, 3212: 3, 3213: 3, 3215: 2, 3216: 2, 3217: 3, 3219: 2, 3220: 1, 3221: 2, 3222: 2, 3223: 1, 3227: 2, 3230: 2, 3231: 2, 3237: 1, 3240: 1, 3242: 3, 3250: 4, 3252: 2, 3253: 2, 3256: 1, 3258: 1, 3262: 1, 3263: 1, 3265: 3, 3266: 1, 3268: 2, 3269: 3, 3270: 2, 3277: 3, 3279: 2, 3280: 2, 3284: 3, 3285: 2, 3286: 2, 3289: 2, 3291: 4, 3292: 1, 3294: 2, 3295: 1, 3296: 3, 3298: 2, 3300: 2, 3301: 3, 3302: 3, 3304: 2, 3307: 2, 3311: 2, 3313: 2, 3315: 2, 3318: 1, 3319: 2, 3320: 1, 3323: 3, 3324: 2, 3325: 2, 3327: 2, 3328: 2, 3330: 3, 3334: 2, 3335: 2, 3336: 2, 3338: 3, 3339: 3, 3345: 4, 3346: 2, 3348: 1, 3349: 4, 3350: 1, 3351: 1, 3353: 4, 3356: 1, 3357: 1, 3359: 3, 3361: 1, 3363: 2, 3364: 3, 3366: 3, 3368: 1, 3369: 3, 3372: 2, 3374: 2, 3377: 1, 3378: 2, 3382: 4, 3383: 3, 3384: 2, 3385: 2, 3388: 2, 3391: 2, 3394: 2, 3398: 1, 3399: 2, 3400: 3, 3407: 2, 3408: 3, 3411: 2, 3412: 3, 3413: 1, 3415: 2, 3417: 2, 3418: 1, 3419: 1, 3421: 2, 3423: 2, 3424: 2, 3425: 3, 3429: 3, 3438: 3, 3442: 1, 3447: 1, 3448: 1, 3453: 3, 3454: 1, 3456: 1, 3457: 1, 3459: 2, 3460: 1, 3462: 1, 3468: 2, 3469: 4, 3470: 1, 3473: 3, 3474: 2, 3475: 2, 3478: 1, 3479: 2, 3485: 2, 3489: 3, 3491: 2, 3492: 2, 3493: 1, 3494: 1, 3496: 2, 3497: 3, 3498: 1, 3503: 2, 3504: 2, 3508: 1, 3511: 2, 3512: 1, 3516: 2, 3517: 2, 3519: 2, 3521: 2, 3522: 3, 3526: 3, 3529: 5, 3530: 3, 3532: 3, 3534: 2, 3537: 3, 3538: 2, 3539: 2, 3540: 2, 3542: 1, 3546: 1, 3550: 3, 3551: 2, 3552: 2, 3554: 1, 3555: 2, 3557: 2, 3558: 2, 3559: 1, 3560: 3, 3564: 2, 3565: 1, 3567: 3, 3568: 1, 3569: 3, 3570: 3, 3571: 3, 3572: 2, 3574: 2, 3577: 2, 3580: 2, 3585: 4, 3587: 2, 3588: 2, 3591: 2, 3592: 4, 3593: 1, 3595: 4, 3596: 3, 3597: 2, 3598: 2, 3599: 2, 3600: 1, 3603: 3, 3604: 2, 3612: 4, 3619: 2, 3620: 1, 3621: 2, 3622: 1, 3624: 2, 3627: 2, 3628: 1, 3631: 4, 3636: 1, 3637: 2, 3638: 4, 3639: 2, 3640: 1, 3643: 3, 3644: 1, 3645: 3, 3646: 2, 3647: 2, 3648: 2, 3649: 1, 3654: 3, 3656: 2, 3659: 3, 3661: 3, 3662: 1, 3663: 3, 3664: 3, 3667: 3, 3669: 2, 3671: 4, 3672: 2, 3678: 2, 3679: 1, 3681: 3, 3682: 4, 3684: 2, 3687: 1, 3690: 2, 3693: 1, 3695: 2, 3696: 2, 3702: 2, 3703: 1, 3707: 4, 3708: 2, 3709: 2, 3711: 1, 3712: 2, 3715: 2, 3716: 2, 3717: 1, 3718: 1, 3719: 2, 3728: 2, 3730: 1, 3731: 2, 3733: 2, 3734: 2, 3735: 3, 3736: 2, 3738: 2, 3739: 2, 3747: 2, 3748: 1, 3753: 1, 3756: 1, 3759: 2, 3762: 2, 3763: 3, 3765: 2, 3766: 2, 3767: 2, 3768: 2, 3771: 2, 3772: 1, 3775: 3, 3776: 2, 3778: 3, 3784: 1, 3786: 2, 3789: 2, 3790: 2, 3792: 1, 3798: 1, 3801: 4, 3804: 3, 3807: 2, 3808: 2, 3809: 1, 3811: 1, 3814: 2, 3816: 2, 3824: 2, 3827: 3, 3830: 2, 3832: 1, 3835: 2, 3838: 2, 3839: 2, 3840: 3, 3846: 2, 3847: 1, 3849: 1, 3850: 3, 3851: 4, 3852: 1, 3854: 2, 3857: 2, 3860: 1, 3863: 1, 3864: 1, 3867: 2, 3868: 3, 3869: 4, 3870: 1, 3872: 4, 3873: 2, 3875: 1, 3876: 2, 3877: 1, 3878: 3, 3883: 3, 3884: 2, 3886: 3, 3887: 3, 3888: 3, 3893: 3, 3895: 2, 3897: 2, 3899: 1, 3900: 2, 3902: 2, 3903: 1, 3904: 3, 3905: 2, 3906: 2, 3908: 2, 3910: 2, 3911: 2, 3914: 3, 3916: 1, 3918: 2, 3919: 2, 3922: 2, 3923: 1, 3924: 2, 3925: 3, 3927: 3, 3928: 1, 3929: 1, 3932: 3, 3935: 3, 3938: 2, 3940: 1, 3942: 2, 3945: 1, 3946: 1, 3948: 2, 3952: 2, 3953: 1, 3958: 3, 3959: 2, 3960: 1, 3961: 1, 3962: 1, 3964: 2, 3966: 4, 3971: 1, 3972: 2, 3976: 1, 3977: 1, 3978: 3, 3979: 2, 3987: 2, 3990: 1, 3991: 2, 3993: 1, 3994: 2, 3996: 1, 3998: 2, 3999: 1, 4000: 2, 4003: 2, 4004: 2, 4005: 2, 4007: 3, 4009: 2, 4010: 1, 4011: 2, 4012: 1, 4013: 2, 4018: 2, 4020: 2, 4023: 1, 4025: 3, 4028: 1, 4029: 3, 4030: 1, 4032: 2, 4034: 2, 4035: 1, 4039: 1, 4041: 1, 4042: 2, 4043: 3, 4045: 2, 4048: 3, 4050: 1, 4052: 2, 4055: 2, 4057: 2, 4058: 3, 4061: 3, 4064: 1, 4065: 2, 4069: 1, 4070: 1, 4072: 2, 4074: 3, 4076: 2, 4077: 1, 4082: 1, 4083: 1, 4085: 2, 4086: 2, 4087: 4, 4090: 2, 4093: 1, 4095: 3, 4100: 2, 4101: 2, 4102: 2, 4106: 2, 4107: 2, 4109: 1, 4113: 1, 4115: 2, 4116: 1, 4119: 2, 4123: 2, 4124: 2, 4129: 3, 4133: 3, 4134: 1, 4140: 2, 4141: 3, 4143: 2, 4144: 2, 4145: 2, 4148: 3, 4150: 2, 4151: 3, 4152: 1, 4153: 2, 4157: 3, 4169: 2, 4173: 2, 4178: 2, 4180: 2, 4183: 1, 4184: 2, 4185: 2, 4189: 3, 4190: 3, 4192: 2, 4194: 1, 4195: 2, 4196: 2, 4202: 1, 4205: 2, 4207: 2, 4209: 3, 4210: 2, 4211: 3, 4212: 2, 4214: 1, 4216: 3, 4217: 2, 4219: 1, 4222: 2, 4224: 1, 4226: 2, 4227: 1, 4229: 1, 4231: 2, 4233: 2, 4234: 3, 4236: 2, 4237: 3, 4238: 1, 4241: 3, 4243: 2, 4244: 3, 4245: 1, 4248: 3, 4249: 2, 4250: 1, 4256: 3, 4257: 1, 4258: 2, 4259: 2, 4261: 2, 4264: 2, 4268: 2, 4270: 2, 4274: 1, 4275: 1, 4276: 3, 4277: 2, 4278: 2, 4279: 2, 4281: 2, 4284: 3, 4285: 4, 4286: 2, 4287: 3, 4288: 1, 4289: 3, 4290: 2, 4291: 2, 4293: 3, 4297: 2, 4300: 2, 4302: 2, 4304: 3, 4305: 2, 4306: 2, 4307: 3, 4308: 2, 4313: 2, 4315: 2, 4316: 4, 4318: 1, 4322: 4, 4323: 2, 4325: 1, 4326: 3, 4328: 1, 4329: 1, 4333: 2, 4334: 1, 4335: 1, 4339: 1, 4344: 2, 4347: 2, 4349: 2, 4354: 1, 4358: 2, 4368: 2, 4371: 1, 4373: 2, 4374: 2, 4377: 2, 4379: 2, 4381: 3, 4382: 1, 4386: 2, 4387: 2, 4391: 1, 4394: 2, 4396: 3, 4397: 3, 4403: 2, 4404: 1, 4406: 2, 4408: 2, 4410: 2, 4411: 3, 4412: 3, 4413: 2, 4414: 2, 4419: 3, 4422: 2, 4424: 3, 4427: 1, 4428: 2, 4431: 1, 4433: 2, 4436: 1, 4437: 1, 4440: 2, 4442: 2, 4444: 3, 4445: 3, 4448: 2, 4449: 1, 4450: 1, 4456: 2, 4457: 1, 4460: 5, 4463: 3, 4468: 3, 4473: 1, 4474: 2, 4477: 1, 4479: 2, 4483: 3, 4485: 2, 4488: 2, 4497: 2, 4502: 2, 4503: 2, 4505: 2, 4506: 2, 4507: 1, 4509: 1, 4510: 1, 4511: 1, 4512: 2, 4513: 3, 4515: 3, 4517: 3, 4520: 2, 4521: 4, 4524: 3, 4525: 2, 4526: 2, 4527: 2, 4528: 2, 4531: 2, 4533: 3, 4535: 2, 4538: 1, 4539: 1, 4540: 3, 4541: 2, 4543: 2, 4545: 1, 4546: 2, 4549: 2, 4556: 2, 4558: 2, 4559: 3, 4561: 1, 4563: 3, 4566: 2, 4567: 3, 4568: 2, 4571: 3, 4573: 2, 4574: 1, 4576: 1, 4579: 1, 4581: 2, 4582: 1, 4583: 2, 4584: 2, 4585: 3, 4587: 2, 4588: 2, 4589: 2, 4590: 1, 4591: 1, 4592: 1, 4594: 2, 4597: 1, 4604: 3, 4607: 1, 4608: 1, 4609: 2, 4610: 2, 4611: 2, 4613: 2, 4615: 2, 4616: 3, 4618: 2, 4619: 1, 4623: 2, 4624: 2, 4628: 2, 4629: 4, 4634: 2, 4635: 1, 4638: 2, 4640: 2, 4642: 3, 4644: 2, 4646: 3, 4647: 2, 4650: 2, 4651: 2, 4653: 2, 4655: 2, 4658: 2, 4659: 1, 4660: 1, 4661: 2, 4662: 3, 4665: 4, 4670: 3, 4672: 2, 4674: 2, 4675: 1, 4676: 1, 4677: 2, 4678: 3, 4680: 3, 4681: 2, 4682: 2, 4683: 4, 4685: 2, 4687: 1, 4688: 1, 4691: 2, 4695: 1, 4699: 1, 4700: 1, 4701: 1, 4708: 2, 4709: 2, 4712: 2, 4715: 3, 4719: 2, 4721: 2, 4723: 2, 4724: 2, 4725: 3, 4726: 2, 4730: 3, 4732: 3, 4735: 3, 4737: 3, 4738: 1, 4739: 2, 4742: 2, 4743: 4, 4747: 2, 4748: 2, 4750: 3, 4751: 2, 4756: 2, 4757: 3, 4758: 5, 4759: 2, 4762: 1, 4763: 2, 4764: 1, 4767: 1, 4768: 2, 4774: 3, 4776: 2, 4778: 2, 4782: 3, 4783: 3, 4784: 3, 4786: 1, 4787: 2, 4789: 3, 4793: 2, 4795: 2, 4796: 1, 4798: 1, 4799: 1, 4800: 2, 4801: 1, 4804: 2, 4808: 1, 4812: 2, 4814: 1, 4817: 2, 4818: 4, 4819: 2, 4821: 1, 4825: 2, 4830: 2, 4833: 2, 4834: 1, 4836: 2, 4837: 2, 4839: 2, 4843: 1, 4846: 1, 4847: 1, 4848: 2, 4851: 1, 4854: 3, 4857: 1, 4862: 1, 4866: 2, 4867: 2, 4868: 2, 4870: 3, 4872: 2, 4874: 2, 4875: 1, 4879: 2, 4880: 2, 4881: 1, 4883: 2, 4888: 2, 4891: 2, 4892: 3, 4893: 1, 4894: 1, 4895: 1, 4897: 3, 4899: 2, 4900: 2, 4903: 2, 4904: 3, 4911: 2, 4912: 1, 4913: 2, 4916: 1, 4917: 1, 4918: 3, 4919: 2, 4920: 2, 4923: 1, 4924: 1, 4926: 3, 4928: 1, 4929: 2, 4933: 1, 4934: 1, 4936: 2, 4940: 1, 4941: 1, 4942: 1, 4943: 3, 4945: 2, 4946: 1, 4948: 3, 4949: 2, 4952: 1, 4956: 1, 4961: 1, 4962: 1, 4963: 2, 4967: 3, 4968: 3, 4970: 2, 4971: 1, 4973: 2, 4974: 3, 4981: 2, 4983: 2, 4984: 1, 4985: 4, 4986: 4, 4989: 2, 4992: 2, 4993: 1, 4996: 3, 4997: 2, 4999: 1, 5001: 1, 5003: 2, 5005: 2, 5006: 1, 5007: 2, 5008: 2, 5012: 3, 5013: 1, 5014: 2, 5016: 2, 5018: 1, 5021: 1, 5023: 1, 5024: 3, 5025: 4, 5029: 1, 5030: 2, 5031: 1, 5032: 1, 5034: 2, 5039: 2, 5040: 2, 5041: 3, 5042: 2, 5045: 3, 5046: 3, 5048: 2, 5049: 2, 5055: 2, 5057: 2, 5058: 2, 5060: 2, 5062: 3, 5063: 3, 5067: 2, 5070: 4, 5071: 2, 5072: 2, 5075: 3, 5078: 4, 5081: 3, 5083: 3, 5084: 1, 5086: 1, 5087: 2, 5090: 2, 5091: 3, 5096: 3, 5097: 3, 5099: 1, 5100: 2, 5104: 3, 5106: 1, 5107: 2, 5109: 3, 5111: 3, 5112: 3, 5113: 2, 5115: 1, 5117: 3, 5126: 2, 5127: 2, 5129: 2, 5130: 3, 5131: 2, 5133: 2, 5135: 3, 5136: 1, 5137: 2, 5138: 2, 5141: 2, 5142: 2, 5143: 1, 5144: 1, 5145: 3, 5146: 1, 5147: 2, 5150: 4, 5151: 3, 5152: 2, 5153: 2, 5154: 1, 5155: 3, 5156: 5, 5157: 2, 5159: 2, 5165: 3, 5168: 1, 5169: 2, 5170: 1, 5172: 1, 5178: 1, 5180: 1, 5181: 3, 5182: 2, 5183: 2, 5186: 2, 5189: 1, 5191: 2, 5194: 2, 5195: 2, 5196: 2, 5197: 2, 5198: 2, 5199: 1, 5202: 2, 5203: 1, 5205: 3, 5206: 2, 5209: 5, 5211: 2, 5218: 1, 5221: 1, 5223: 1, 5225: 2, 5227: 1, 5230: 2, 5231: 2, 5233: 3, 5236: 5, 5243: 2, 5246: 1, 5249: 3, 5250: 1, 5251: 1, 5252: 2, 5254: 1, 5256: 2, 5260: 3, 5262: 2, 5263: 5, 5264: 1, 5265: 2, 5266: 3, 5269: 1, 5273: 4, 5275: 2, 5276: 2, 5277: 2, 5278: 2, 5280: 1, 5281: 4, 5283: 3, 5287: 2, 5288: 1, 5290: 2, 5291: 2, 5293: 1, 5294: 2, 5295: 2, 5296: 2, 5300: 2, 5301: 3, 5302: 3, 5305: 4, 5308: 1, 5309: 2, 5310: 3, 5311: 2, 5313: 3, 5316: 1, 5319: 1, 5320: 2, 5322: 2, 5326: 2, 5328: 2, 5330: 1, 5332: 1, 5333: 1, 5335: 3, 5336: 1, 5338: 3, 5340: 2, 5345: 2, 5349: 1, 5354: 2, 5355: 2, 5356: 2, 5359: 1, 5362: 1, 5371: 1, 5372: 2, 5375: 3, 5380: 2, 5384: 3, 5385: 2, 5387: 3, 5393: 1, 5396: 3, 5397: 2, 5399: 1, 5401: 2, 5403: 1, 5404: 3, 5405: 2, 5408: 1, 5410: 1, 5411: 3, 5413: 2, 5414: 2, 5417: 1, 5419: 2, 5424: 3, 5425: 1, 5430: 1, 5433: 3, 5435: 2, 5436: 2, 5437: 2, 5441: 3, 5444: 2, 5446: 2, 5450: 1, 5453: 1, 5455: 3, 5456: 1, 5461: 3, 5462: 2, 5464: 1, 5467: 2, 5470: 2, 5473: 2, 5474: 2, 5476: 3, 5477: 2, 5480: 4, 5483: 3, 5485: 2, 5487: 1, 5488: 1, 5490: 2, 5491: 2, 5492: 2, 5493: 2, 5494: 1, 5499: 1, 5500: 1, 5501: 2, 5503: 2, 5510: 2, 5512: 2, 5513: 2, 5514: 2, 5515: 1, 5518: 1, 5523: 1, 5524: 1, 5526: 2, 5527: 2, 5528: 1, 5529: 1, 5534: 1, 5537: 2, 5542: 1, 5543: 2, 5544: 2, 5547: 2, 5551: 1, 5552: 2, 5553: 2, 5555: 1, 5556: 3, 5557: 1, 5563: 3, 5566: 2, 5567: 2, 5568: 2, 5569: 1, 5571: 1, 5573: 1, 5574: 1, 5577: 2, 5578: 2, 5583: 2, 5584: 1, 5585: 1, 5589: 1, 5591: 2, 5593: 3, 5596: 4, 5598: 2, 5600: 2, 5601: 2, 5603: 1, 5604: 1, 5605: 3, 5606: 2, 5609: 5, 5611: 2, 5614: 2, 5616: 2, 5617: 4, 5618: 2, 5621: 2, 5622: 2, 5623: 2, 5624: 2, 5626: 2, 5629: 2, 5633: 2, 5634: 1, 5638: 3, 5641: 1, 5642: 3, 5643: 3, 5645: 1, 5648: 2, 5649: 2, 5650: 1, 5655: 1, 5657: 2, 5658: 2, 5661: 1, 5663: 3, 5669: 3, 5672: 2, 5673: 1, 5674: 2, 5678: 2, 5680: 1, 5682: 1, 5684: 2, 5687: 3, 5691: 2, 5694: 2, 5696: 3, 5700: 1, 5702: 2, 5703: 2, 5704: 2, 5709: 5, 5714: 3, 5715: 1, 5717: 3, 5718: 2, 5719: 1, 5720: 3, 5721: 3, 5723: 2, 5724: 2, 5725: 4, 5726: 1, 5728: 2, 5733: 1, 5734: 2, 5736: 2, 5739: 4, 5740: 2, 5744: 2, 5745: 2, 5748: 1, 5750: 3, 5752: 3, 5756: 2, 5758: 1, 5759: 1, 5760: 3, 5761: 1, 5762: 1, 5764: 2, 5765: 1, 5766: 1, 5767: 2, 5768: 2, 5769: 1, 5770: 2, 5772: 3, 5773: 2, 5776: 1, 5782: 2, 5783: 2, 5787: 2, 5789: 3, 5791: 4, 5793: 2, 5794: 1, 5795: 2, 5796: 1, 5801: 3, 5802: 2, 5803: 2, 5804: 2, 5805: 2, 5806: 2, 5807: 4, 5808: 2, 5817: 3, 5818: 2, 5821: 3, 5823: 1, 5825: 1, 5829: 1, 5831: 2, 5832: 3, 5833: 2, 5834: 1, 5836: 2, 5839: 2, 5842: 2, 5845: 2, 5848: 1, 5850: 2, 5857: 2, 5858: 2}\n"
     ]
    }
   ],
   "source": [
    "# Create a dictionary where the key is the unique clone_id and the value is the number of unique Cell type annotation\n",
    "clone_id_dict = (\n",
    "    adata.obs.groupby('clone_id')['Cell type annotation']\n",
    "    .nunique()\n",
    "    .to_dict()\n",
    ")\n",
    "\n",
    "# Display the dictionary\n",
    "print(clone_id_dict)\n"
   ]
  },
  {
   "cell_type": "code",
   "execution_count": 56,
   "metadata": {},
   "outputs": [
    {
     "data": {
      "text/plain": [
       "(2.787878787878788, 1.974049057945254)"
      ]
     },
     "execution_count": 56,
     "metadata": {},
     "output_type": "execute_result"
    }
   ],
   "source": [
    "ls = []\n",
    "for i in correct_labels:\n",
    "    # print(i,\":\", clone_id_dict[i])\n",
    "    ls.append(clone_id_dict[i])\n",
    "ls_np = np.array(ls)\n",
    "\n",
    "lsl = []\n",
    "for key in clone_id_dict.keys():\n",
    "    # print(i,\":\", clone_id_dict[i])\n",
    "    lsl.append(clone_id_dict[key])\n",
    "lsl_np = np.array(lsl)\n",
    "\n",
    "ls_np.mean(), lsl_np.mean()"
   ]
  },
  {
   "cell_type": "code",
   "execution_count": 52,
   "metadata": {},
   "outputs": [
    {
     "data": {
      "text/plain": [
       "['Undifferentiated', 'Monocyte', 'Neutrophil', 'Baso', 'Erythroid', ..., 'Mast', 'Lymphoid', 'Eos', 'Ccr7_DC', 'pDC']\n",
       "Length: 11\n",
       "Categories (11, object): ['Baso', 'Ccr7_DC', 'Eos', 'Erythroid', ..., 'Monocyte', 'Neutrophil', 'Undifferentiated', 'pDC']"
      ]
     },
     "execution_count": 52,
     "metadata": {},
     "output_type": "execute_result"
    }
   ],
   "source": [
    "adata.obs[\"Cell type annotation\"].unique()"
   ]
  },
  {
   "cell_type": "code",
   "execution_count": 6,
   "metadata": {},
   "outputs": [
    {
     "name": "stdout",
     "output_type": "stream",
     "text": [
      "KNN classifier accuracy: 74.32%\n"
     ]
    }
   ],
   "source": [
    "# Split the data into training and test sets\n",
    "X_train, X_test, y_train, y_test = train_test_split(train_embeddings, train_labels, test_size=0.2, random_state=42)\n",
    "\n",
    "# Initialize the KNN classifier (you can adjust the number of neighbors)\n",
    "knn = KNeighborsClassifier(n_neighbors=5)\n",
    "\n",
    "# Train the KNN classifier\n",
    "knn.fit(X_train, y_train)\n",
    "\n",
    "# Predict the labels for the test set\n",
    "y_pred = knn.predict(X_test)\n",
    "\n",
    "# Calculate the accuracy\n",
    "accuracy = accuracy_score(y_test, y_pred)\n",
    "\n",
    "print(f\"KNN classifier accuracy: {accuracy * 100:.2f}%\")\n"
   ]
  },
  {
   "cell_type": "code",
   "execution_count": null,
   "metadata": {},
   "outputs": [],
   "source": []
  }
 ],
 "metadata": {
  "kernelspec": {
   "display_name": "scvi-env",
   "language": "python",
   "name": "python3"
  },
  "language_info": {
   "codemirror_mode": {
    "name": "ipython",
    "version": 3
   },
   "file_extension": ".py",
   "mimetype": "text/x-python",
   "name": "python",
   "nbconvert_exporter": "python",
   "pygments_lexer": "ipython3",
   "version": "3.9.19"
  }
 },
 "nbformat": 4,
 "nbformat_minor": 2
}
