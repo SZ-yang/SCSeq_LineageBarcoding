{
 "cells": [
  {
   "cell_type": "markdown",
   "metadata": {},
   "source": [
    "### Hyperparameter: \n",
    "size factor:0.5\n",
    "batch size:250"
   ]
  },
  {
   "cell_type": "code",
   "execution_count": 1,
   "metadata": {},
   "outputs": [],
   "source": [
    "import numpy as np\n",
    "import anndata as ad\n",
    "import pandas as pd\n",
    "import matplotlib.pyplot as plt\n",
    "from sklearn.metrics import calinski_harabasz_score"
   ]
  },
  {
   "cell_type": "code",
   "execution_count": 2,
   "metadata": {},
   "outputs": [
    {
     "data": {
      "text/plain": [
       "((329000, 1), (1316000, 1))"
      ]
     },
     "execution_count": 2,
     "metadata": {},
     "output_type": "execute_result"
    }
   ],
   "source": [
    "val_lineage_info = np.load(\"/Users/apple/Desktop/KB/data/feat_train_test/bs250_sf05_scCL_32/val_lineage_info_bs250_tau0.5.npy\")\n",
    "train_lineage_info = np.load(\"/Users/apple/Desktop/KB/data/feat_train_test/bs250_sf05_scCL_32/train_lineage_info_bs250_tau0.5.npy\")\n",
    "val_lineage_info.shape, train_lineage_info.shape"
   ]
  },
  {
   "cell_type": "code",
   "execution_count": null,
   "metadata": {},
   "outputs": [],
   "source": [
    "# val_embed = np.load(\"/Users/apple/Desktop/KB/data/feat_811_train_test/bs250_sf05_scCL/val_lineage_info_bs250_tau0.5.npy\")\n",
    "train_embed = np.load(\"/Users/apple/Desktop/KB/data/feat_811_train_test/bs250_sf05_scCL/scBaseEncoderFeat_Y_bs250_tau0.5.npy\")\n",
    "train_embed.shape"
   ]
  },
  {
   "cell_type": "code",
   "execution_count": null,
   "metadata": {},
   "outputs": [],
   "source": [
    "329000/(1316000+329000)"
   ]
  },
  {
   "cell_type": "code",
   "execution_count": 4,
   "metadata": {},
   "outputs": [],
   "source": [
    "# Load data\n",
    "input_dir = \"/Users/apple/Desktop/KB/data/LarryData\"\n",
    "X_scCL = np.load(\"/Users/apple/Desktop/KB/data/feat_train_test/bs250_sf05_scCL_32/scBaseEncoderFeat_Z_bs250_tau0.5.npy\")\n",
    "adata_subset = ad.read_h5ad(input_dir+'/train_test/Larry_train.h5ad')\n",
    "lineage_label = adata_subset.obs[\"clone_id\"].to_numpy()"
   ]
  },
  {
   "cell_type": "code",
   "execution_count": 5,
   "metadata": {},
   "outputs": [
    {
     "data": {
      "text/plain": [
       "((37207, 32), (37207,))"
      ]
     },
     "execution_count": 5,
     "metadata": {},
     "output_type": "execute_result"
    }
   ],
   "source": [
    "X_scCL.shape ,lineage_label.shape"
   ]
  },
  {
   "cell_type": "code",
   "execution_count": 6,
   "metadata": {},
   "outputs": [],
   "source": [
    "score_scCL = calinski_harabasz_score(X_scCL, lineage_label)"
   ]
  },
  {
   "cell_type": "code",
   "execution_count": 7,
   "metadata": {},
   "outputs": [
    {
     "data": {
      "text/plain": [
       "240.70920297577905"
      ]
     },
     "execution_count": 7,
     "metadata": {},
     "output_type": "execute_result"
    }
   ],
   "source": [
    "score_scCL\n"
   ]
  }
 ],
 "metadata": {
  "kernelspec": {
   "display_name": "scvi-env",
   "language": "python",
   "name": "python3"
  },
  "language_info": {
   "codemirror_mode": {
    "name": "ipython",
    "version": 3
   },
   "file_extension": ".py",
   "mimetype": "text/x-python",
   "name": "python",
   "nbconvert_exporter": "python",
   "pygments_lexer": "ipython3",
   "version": "3.9.18"
  }
 },
 "nbformat": 4,
 "nbformat_minor": 2
}
