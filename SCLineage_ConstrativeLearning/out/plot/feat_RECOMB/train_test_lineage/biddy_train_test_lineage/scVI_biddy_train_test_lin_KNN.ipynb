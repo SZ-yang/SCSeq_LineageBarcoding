{
 "cells": [
  {
   "cell_type": "code",
   "execution_count": 1,
   "metadata": {},
   "outputs": [],
   "source": [
    "import numpy as np\n",
    "from sklearn.model_selection import train_test_split\n",
    "from sklearn.neighbors import KNeighborsClassifier\n",
    "from sklearn.neighbors import kneighbors_graph\n",
    "from sklearn.metrics import accuracy_score\n",
    "import anndata as ad\n",
    "import pandas as pd"
   ]
  },
  {
   "cell_type": "code",
   "execution_count": null,
   "metadata": {},
   "outputs": [
    {
     "data": {
      "text/plain": [
       "0.48635147190008926"
      ]
     },
     "metadata": {},
     "output_type": "display_data"
    }
   ],
   "source": [
    "accuracy_vector.mean()"
   ]
  },
  {
   "cell_type": "code",
   "execution_count": 2,
   "metadata": {},
   "outputs": [
    {
     "name": "stdout",
     "output_type": "stream",
     "text": [
      "(613,) (613, 10)\n"
     ]
    }
   ],
   "source": [
    "input_dir = \"/Users/apple/Desktop/KB/data\"\n",
    "adata_train = ad.read_h5ad(input_dir+'/BiddyData/Biddy_train_lineage.h5ad')\n",
    "adata_test = ad.read_h5ad(input_dir+'/BiddyData/Biddy_test_lineage.h5ad')\n",
    "\n",
    "# train_labels = adata_train.obs[\"clone_id\"].to_numpy()\n",
    "test_labels = adata_test.obs[\"clone_id\"].to_numpy()\n",
    "\n",
    "# train_embeddings = np.load(input_dir+'/feat_RECOMB/train_test_lineage/biddy_train_test_lineage/Biddy_scvi_train_lineage_embeddings.npy')\n",
    "test_embeddings = np.load(input_dir+'/feat_RECOMB/train_test_lineage/biddy_train_test_lineage/Biddy_scvi_test_lineage_embeddings.npy')\n",
    "\n",
    "# print(train_labels.shape, train_embeddings.shape)\n",
    "print(test_labels.shape, test_embeddings.shape)"
   ]
  },
  {
   "cell_type": "code",
   "execution_count": 7,
   "metadata": {},
   "outputs": [
    {
     "data": {
      "text/plain": [
       "array([[1., 0., 0., ..., 0., 0., 0.],\n",
       "       [0., 1., 0., ..., 0., 0., 0.],\n",
       "       [0., 0., 1., ..., 0., 0., 0.],\n",
       "       ...,\n",
       "       [0., 0., 0., ..., 1., 0., 0.],\n",
       "       [0., 0., 0., ..., 0., 1., 0.],\n",
       "       [0., 0., 0., ..., 0., 0., 1.]])"
      ]
     },
     "execution_count": 7,
     "metadata": {},
     "output_type": "execute_result"
    }
   ],
   "source": [
    "knn_graph = kneighbors_graph(test_embeddings, 5, mode='connectivity', include_self=True)\n",
    "knn_graph.toarray()"
   ]
  },
  {
   "cell_type": "code",
   "execution_count": 8,
   "metadata": {},
   "outputs": [
    {
     "data": {
      "text/plain": [
       "(613, 613)"
      ]
     },
     "execution_count": 8,
     "metadata": {},
     "output_type": "execute_result"
    }
   ],
   "source": [
    "knn_graph.shape"
   ]
  },
  {
   "cell_type": "code",
   "execution_count": 9,
   "metadata": {},
   "outputs": [],
   "source": [
    "accuracy_vector = np.zeros(knn_graph.shape[0])\n",
    "\n",
    "# Loop over each row (test sample)\n",
    "for i in range(knn_graph.shape[0]):\n",
    "    # Convert the sparse row to a dense array\n",
    "    knn_row_dense = knn_graph[i].toarray().flatten()  # Flatten to ensure it's 1D\n",
    "    \n",
    "    # Get the indices of the neighbors for the i-th test sample\n",
    "    neighbor_indices = np.where(knn_row_dense > 0)[0]\n",
    "    \n",
    "    # Get the labels of the neighbors\n",
    "    neighbor_labels = test_labels[neighbor_indices]\n",
    "    \n",
    "    # Compare the neighbor labels to the label of the current test sample\n",
    "    correct_matches = np.sum(neighbor_labels == test_labels[i])\n",
    "    \n",
    "    # Calculate the percentage of correct matches\n",
    "    accuracy_vector[i] = correct_matches / len(neighbor_indices)\n",
    "\n",
    "\n"
   ]
  },
  {
   "cell_type": "code",
   "execution_count": 10,
   "metadata": {},
   "outputs": [
    {
     "data": {
      "text/plain": [
       "0.45742251223491026"
      ]
     },
     "execution_count": 10,
     "metadata": {},
     "output_type": "execute_result"
    }
   ],
   "source": [
    "accuracy_vector.mean()"
   ]
  }
 ],
 "metadata": {
  "kernelspec": {
   "display_name": "scvi-env",
   "language": "python",
   "name": "python3"
  },
  "language_info": {
   "codemirror_mode": {
    "name": "ipython",
    "version": 3
   },
   "file_extension": ".py",
   "mimetype": "text/x-python",
   "name": "python",
   "nbconvert_exporter": "python",
   "pygments_lexer": "ipython3",
   "version": "3.9.18"
  }
 },
 "nbformat": 4,
 "nbformat_minor": 2
}
