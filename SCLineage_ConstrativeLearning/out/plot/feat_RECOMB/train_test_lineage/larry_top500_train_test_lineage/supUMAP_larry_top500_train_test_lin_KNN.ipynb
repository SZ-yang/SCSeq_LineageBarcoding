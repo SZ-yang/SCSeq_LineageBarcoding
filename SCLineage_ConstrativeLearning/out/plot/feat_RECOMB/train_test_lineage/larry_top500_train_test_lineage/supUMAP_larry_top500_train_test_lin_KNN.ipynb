{
 "cells": [
  {
   "cell_type": "code",
   "execution_count": 1,
   "metadata": {},
   "outputs": [],
   "source": [
    "import numpy as np\n",
    "from sklearn.model_selection import train_test_split\n",
    "from sklearn.neighbors import KNeighborsClassifier\n",
    "from sklearn.neighbors import kneighbors_graph\n",
    "from sklearn.metrics import accuracy_score\n",
    "import anndata as ad\n",
    "import pandas as pd\n",
    "import anndata as ad\n",
    "import pandas as pd\n",
    "import numpy as np\n",
    "\n",
    "import umap\n",
    "from sklearn.model_selection import train_test_split\n",
    "from sklearn.neighbors import KNeighborsClassifier\n",
    "from sklearn.metrics import accuracy_score\n",
    "from sklearn.metrics import calinski_harabasz_score\n",
    "\n",
    "import matplotlib.pyplot as plt\n",
    "import seaborn as sns"
   ]
  },
  {
   "cell_type": "code",
   "execution_count": 2,
   "metadata": {},
   "outputs": [
    {
     "name": "stdout",
     "output_type": "stream",
     "text": [
      "(17422,) (1809,)\n"
     ]
    }
   ],
   "source": [
    "input_dir = \"/Users/apple/Desktop/KB/data\"\n",
    "adata_train = ad.read_h5ad(input_dir+'/LarryData/train_test/Larry_500_train_lineage.h5ad')\n",
    "adata_test = ad.read_h5ad(input_dir+'/LarryData/train_test/Larry_500_test_lineage.h5ad')\n",
    "\n",
    "\n",
    "train_labels = adata_train.obs[\"clone_id\"].to_numpy()\n",
    "test_labels = adata_test.obs[\"clone_id\"].to_numpy()\n",
    "print(train_labels.shape, test_labels.shape)"
   ]
  },
  {
   "cell_type": "markdown",
   "metadata": {},
   "source": [
    "## supUMAP embedding"
   ]
  },
  {
   "cell_type": "code",
   "execution_count": 3,
   "metadata": {},
   "outputs": [],
   "source": [
    "# Extract the data matrix and labels\n",
    "train_data = adata_train.X\n",
    "test_data = adata_test.X\n",
    "\n",
    "\n",
    "# labels = adata_train.obs['clone_id'].values\n",
    "\n",
    "# Initialize UMAP with a higher number of neighbors for supervised learning\n",
    "reducer = umap.UMAP(n_neighbors=15, n_components=10)\n",
    "\n"
   ]
  },
  {
   "cell_type": "code",
   "execution_count": 4,
   "metadata": {},
   "outputs": [],
   "source": [
    "# Fit and transform the data with the labels\n",
    "train_embeddings = reducer.fit_transform(train_data, y=train_labels)"
   ]
  },
  {
   "cell_type": "code",
   "execution_count": 5,
   "metadata": {},
   "outputs": [],
   "source": [
    "# get the test embeddings\n",
    "test_embeddings = reducer.transform(test_data)"
   ]
  },
  {
   "cell_type": "code",
   "execution_count": 6,
   "metadata": {},
   "outputs": [
    {
     "data": {
      "text/plain": [
       "((1809, 10), (17422, 10))"
      ]
     },
     "execution_count": 6,
     "metadata": {},
     "output_type": "execute_result"
    }
   ],
   "source": [
    "test_embeddings.shape, train_embeddings.shape"
   ]
  },
  {
   "cell_type": "code",
   "execution_count": 7,
   "metadata": {},
   "outputs": [],
   "source": [
    "# Save the embeddings to a .npy file\n",
    "np.save(\"supUMAP_biddy_test_embedding.npy\", test_embeddings)\n",
    "np.save(\"supUMAP_biddy_train_embedding.npy\", train_embeddings)\n",
    "# Load the embeddings from the .npy file\n",
    "# test_embeddings = np.load(\"supUMAP_biddy_test_embedding.npy\")\n",
    "# train_embeddings = np.load(\"supUMAP_biddy_train_embedding.npy\")\n"
   ]
  },
  {
   "cell_type": "markdown",
   "metadata": {},
   "source": [
    "#### calinski score"
   ]
  },
  {
   "cell_type": "code",
   "execution_count": 8,
   "metadata": {},
   "outputs": [
    {
     "name": "stdout",
     "output_type": "stream",
     "text": [
      "Train Calinski-Harabasz Score: 94.15854848240309\n"
     ]
    }
   ],
   "source": [
    "# Calculate the Calinski-Harabasz score\n",
    "score = calinski_harabasz_score(train_embeddings, train_labels)\n",
    "\n",
    "# Print the score\n",
    "print(\"Train Calinski-Harabasz Score:\", score)\n"
   ]
  },
  {
   "cell_type": "code",
   "execution_count": 9,
   "metadata": {},
   "outputs": [
    {
     "name": "stdout",
     "output_type": "stream",
     "text": [
      "Test Calinski-Harabasz Score: 100.83666317408894\n"
     ]
    }
   ],
   "source": [
    "# Calculate the Calinski-Harabasz score\n",
    "score = calinski_harabasz_score(test_embeddings, test_labels)\n",
    "\n",
    "# Print the score\n",
    "print(\"Test Calinski-Harabasz Score:\", score)\n"
   ]
  },
  {
   "cell_type": "markdown",
   "metadata": {},
   "source": [
    "## KNN classifier"
   ]
  },
  {
   "cell_type": "code",
   "execution_count": 18,
   "metadata": {},
   "outputs": [
    {
     "data": {
      "text/plain": [
       "array([[1., 0., 0., ..., 0., 0., 0.],\n",
       "       [0., 1., 0., ..., 0., 0., 0.],\n",
       "       [0., 0., 1., ..., 0., 0., 0.],\n",
       "       ...,\n",
       "       [0., 0., 0., ..., 1., 0., 0.],\n",
       "       [0., 0., 0., ..., 0., 1., 0.],\n",
       "       [0., 0., 0., ..., 0., 0., 1.]])"
      ]
     },
     "execution_count": 18,
     "metadata": {},
     "output_type": "execute_result"
    }
   ],
   "source": [
    "knn_graph = kneighbors_graph(test_embeddings, 5, mode='connectivity', include_self=True)\n",
    "knn_graph.toarray()"
   ]
  },
  {
   "cell_type": "code",
   "execution_count": 19,
   "metadata": {},
   "outputs": [
    {
     "data": {
      "text/plain": [
       "(1809, 1809)"
      ]
     },
     "execution_count": 19,
     "metadata": {},
     "output_type": "execute_result"
    }
   ],
   "source": [
    "knn_graph.shape"
   ]
  },
  {
   "cell_type": "code",
   "execution_count": 20,
   "metadata": {},
   "outputs": [],
   "source": [
    "accuracy_vector = np.zeros(knn_graph.shape[0])\n",
    "\n",
    "# Loop over each row (test sample)\n",
    "for i in range(knn_graph.shape[0]):\n",
    "    # Convert the sparse row to a dense array\n",
    "    knn_row_dense = knn_graph[i].toarray().flatten()  # Flatten to ensure it's 1D\n",
    "    \n",
    "    # Get the indices of the neighbors for the i-th test sample\n",
    "    neighbor_indices = np.where(knn_row_dense > 0)[0]\n",
    "    \n",
    "    # Get the labels of the neighbors\n",
    "    neighbor_labels = test_labels[neighbor_indices]\n",
    "    \n",
    "    # Compare the neighbor labels to the label of the current test sample\n",
    "    correct_matches = np.sum(neighbor_labels == test_labels[i])\n",
    "    \n",
    "    # Calculate the percentage of correct matches\n",
    "    accuracy_vector[i] = correct_matches / len(neighbor_indices)\n",
    "\n",
    "\n"
   ]
  },
  {
   "cell_type": "code",
   "execution_count": 21,
   "metadata": {},
   "outputs": [
    {
     "data": {
      "text/plain": [
       "0.3587617468214484"
      ]
     },
     "execution_count": 21,
     "metadata": {},
     "output_type": "execute_result"
    }
   ],
   "source": [
    "accuracy_vector.mean()"
   ]
  }
 ],
 "metadata": {
  "kernelspec": {
   "display_name": "scvi-env",
   "language": "python",
   "name": "python3"
  },
  "language_info": {
   "codemirror_mode": {
    "name": "ipython",
    "version": 3
   },
   "file_extension": ".py",
   "mimetype": "text/x-python",
   "name": "python",
   "nbconvert_exporter": "python",
   "pygments_lexer": "ipython3",
   "version": "3.9.18"
  }
 },
 "nbformat": 4,
 "nbformat_minor": 2
}
