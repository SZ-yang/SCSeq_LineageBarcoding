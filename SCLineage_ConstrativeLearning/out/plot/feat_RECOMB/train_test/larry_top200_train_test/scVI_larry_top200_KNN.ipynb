{
 "cells": [
  {
   "cell_type": "code",
   "execution_count": 10,
   "metadata": {},
   "outputs": [],
   "source": [
    "import anndata as ad\n",
    "import pandas as pd\n",
    "import numpy as np\n",
    "\n",
    "import umap\n",
    "from sklearn.model_selection import train_test_split\n",
    "from sklearn.neighbors import KNeighborsClassifier\n",
    "from sklearn.metrics import accuracy_score\n",
    "from sklearn.metrics import calinski_harabasz_score\n",
    "\n",
    "import matplotlib.pyplot as plt\n",
    "import seaborn as sns"
   ]
  },
  {
   "cell_type": "code",
   "execution_count": 11,
   "metadata": {},
   "outputs": [
    {
     "name": "stdout",
     "output_type": "stream",
     "text": [
      "(10148,) (1225,)\n",
      "(10148, 10) (1225, 10)\n"
     ]
    }
   ],
   "source": [
    "input_dir = \"/Users/apple/Desktop/KB/data\"\n",
    "adata_train = ad.read_h5ad(input_dir+'/LarryData/train_test/Larry_200_train.h5ad')\n",
    "adata_test = ad.read_h5ad(input_dir+'/LarryData/train_test/Larry_200_test.h5ad')\n",
    "\n",
    "train_labels = adata_train.obs[\"clone_id\"].to_numpy()\n",
    "test_labels = adata_test.obs[\"clone_id\"].to_numpy()\n",
    "\n",
    " \n",
    "train_embeddings = np.load(input_dir+'/feat_RECOMB/train_test/larry_top200_train_test/Larry_scvi_train_200_embeddings.npy')\n",
    "test_embeddings = np.load(input_dir+'/feat_RECOMB/train_test/larry_top200_train_test/Larry_scvi_test_200_embeddings.npy')\n",
    "\n",
    "print(train_labels.shape, test_labels.shape)\n",
    "print(train_embeddings.shape, test_embeddings.shape)"
   ]
  },
  {
   "cell_type": "markdown",
   "metadata": {},
   "source": [
    "#### calinski score"
   ]
  },
  {
   "cell_type": "code",
   "execution_count": 12,
   "metadata": {},
   "outputs": [
    {
     "name": "stdout",
     "output_type": "stream",
     "text": [
      "Calinski-Harabasz Score: 30.430285075483706\n"
     ]
    }
   ],
   "source": [
    "# Calculate the Calinski-Harabasz score\n",
    "score = calinski_harabasz_score(train_embeddings, train_labels)\n",
    "\n",
    "# Print the score\n",
    "print(\"Calinski-Harabasz Score:\", score)\n"
   ]
  },
  {
   "cell_type": "code",
   "execution_count": 13,
   "metadata": {},
   "outputs": [
    {
     "name": "stdout",
     "output_type": "stream",
     "text": [
      "Test Calinski-Harabasz Score: 4.809966098849501\n"
     ]
    }
   ],
   "source": [
    "# Calculate the Calinski-Harabasz score\n",
    "score = calinski_harabasz_score(test_embeddings, test_labels)\n",
    "\n",
    "# Print the score\n",
    "print(\"Test Calinski-Harabasz Score:\", score)\n"
   ]
  },
  {
   "cell_type": "markdown",
   "metadata": {},
   "source": [
    "## KNN classifier"
   ]
  },
  {
   "cell_type": "code",
   "execution_count": 14,
   "metadata": {},
   "outputs": [
    {
     "data": {
      "text/plain": [
       "clone_id\n",
       "1261    159\n",
       "2370    148\n",
       "5714    126\n",
       "292     120\n",
       "5209    116\n",
       "       ... \n",
       "1691     31\n",
       "2115     30\n",
       "998      30\n",
       "1998     30\n",
       "922      30\n",
       "Name: count, Length: 200, dtype: int64"
      ]
     },
     "execution_count": 14,
     "metadata": {},
     "output_type": "execute_result"
    }
   ],
   "source": [
    "adata_train.obs[\"clone_id\"].value_counts()"
   ]
  },
  {
   "cell_type": "markdown",
   "metadata": {},
   "source": [
    "### Test Accuracy"
   ]
  },
  {
   "cell_type": "code",
   "execution_count": 24,
   "metadata": {},
   "outputs": [
    {
     "name": "stdout",
     "output_type": "stream",
     "text": [
      "KNN classifier testing accuracy: 11.10%\n"
     ]
    }
   ],
   "source": [
    "\n",
    "# Initialize the KNN classifier (you can adjust the number of neighbors)\n",
    "knn = KNeighborsClassifier(n_neighbors=5)\n",
    "\n",
    "# Train the KNN classifier\n",
    "knn.fit(train_embeddings, train_labels)\n",
    "\n",
    "# Predict the labels for the test set\n",
    "y_pred = knn.predict(test_embeddings)\n",
    "\n",
    "# Calculate the accuracy\n",
    "accuracy = accuracy_score(test_labels, y_pred)\n",
    "\n",
    "print(f\"KNN classifier testing accuracy: {accuracy * 100:.2f}%\")\n"
   ]
  },
  {
   "cell_type": "markdown",
   "metadata": {},
   "source": [
    "### Train Accuracy"
   ]
  },
  {
   "cell_type": "code",
   "execution_count": 16,
   "metadata": {},
   "outputs": [
    {
     "name": "stdout",
     "output_type": "stream",
     "text": [
      "KNN classifier training accuracy: 12.66%\n"
     ]
    }
   ],
   "source": [
    "# Split the data into training and test sets\n",
    "X_train, X_test, y_train, y_test = train_test_split(train_embeddings, train_labels, test_size=0.2, random_state=42)\n",
    "\n",
    "# Initialize the KNN classifier (you can adjust the number of neighbors)\n",
    "knn = KNeighborsClassifier(n_neighbors=5)\n",
    "\n",
    "# Train the KNN classifier\n",
    "knn.fit(X_train, y_train)\n",
    "\n",
    "# Predict the labels for the test set\n",
    "y_pred = knn.predict(X_test)\n",
    "\n",
    "# Calculate the accuracy\n",
    "accuracy = accuracy_score(y_test, y_pred)\n",
    "\n",
    "print(f\"KNN classifier training accuracy: {accuracy * 100:.2f}%\")\n"
   ]
  }
 ],
 "metadata": {
  "kernelspec": {
   "display_name": "scvi-env",
   "language": "python",
   "name": "python3"
  },
  "language_info": {
   "codemirror_mode": {
    "name": "ipython",
    "version": 3
   },
   "file_extension": ".py",
   "mimetype": "text/x-python",
   "name": "python",
   "nbconvert_exporter": "python",
   "pygments_lexer": "ipython3",
   "version": "3.9.18"
  }
 },
 "nbformat": 4,
 "nbformat_minor": 2
}
