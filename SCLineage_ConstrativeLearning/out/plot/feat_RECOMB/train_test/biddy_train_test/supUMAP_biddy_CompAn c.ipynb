{
 "cells": [
  {
   "cell_type": "code",
   "execution_count": 3,
   "metadata": {},
   "outputs": [],
   "source": [
    "import torch\n",
    "import torch.nn as nn\n",
    "import torch.optim as optim\n",
    "import anndata as ad\n",
    "import numpy as np\n",
    "import pandas as pd\n",
    "import umap\n",
    "from sklearn.model_selection import train_test_split\n",
    "from sklearn.neighbors import KNeighborsClassifier\n",
    "from sklearn.metrics import accuracy_score"
   ]
  },
  {
   "cell_type": "markdown",
   "metadata": {},
   "source": [
    "### Load Data"
   ]
  },
  {
   "cell_type": "code",
   "execution_count": 4,
   "metadata": {},
   "outputs": [
    {
     "name": "stdout",
     "output_type": "stream",
     "text": [
      "(5893,) (641,)\n"
     ]
    }
   ],
   "source": [
    "input_dir = \"/Users/apple/Desktop/KB/data\"\n",
    "adata_train = ad.read_h5ad(input_dir+'/BiddyData/Biddy_train.h5ad')\n",
    "adata_test = ad.read_h5ad(input_dir+'/BiddyData/Biddy_test.h5ad')\n",
    "\n",
    "train_labels = adata_train.obs[\"clone_id\"].to_numpy()\n",
    "test_labels = adata_test.obs[\"clone_id\"].to_numpy()\n",
    "\n",
    "print(train_labels.shape, test_labels.shape)"
   ]
  },
  {
   "cell_type": "markdown",
   "metadata": {},
   "source": [
    "## supUMAP embedding"
   ]
  },
  {
   "cell_type": "code",
   "execution_count": 5,
   "metadata": {},
   "outputs": [],
   "source": [
    "# Extract the data matrix and labels\n",
    "train_data = adata_train.X\n",
    "test_data = adata_test.X\n",
    "\n",
    "\n",
    "# labels = adata_train.obs['clone_id'].values\n",
    "\n",
    "# Initialize UMAP with a higher number of neighbors for supervised learning\n",
    "reducer = umap.UMAP(n_neighbors=15, n_components=10)\n",
    "\n"
   ]
  },
  {
   "cell_type": "code",
   "execution_count": 6,
   "metadata": {},
   "outputs": [],
   "source": [
    "# Fit and transform the data with the labels\n",
    "X_train = reducer.fit_transform(train_data, y=train_labels)"
   ]
  },
  {
   "cell_type": "code",
   "execution_count": 7,
   "metadata": {},
   "outputs": [],
   "source": [
    "# get the test embeddings\n",
    "X_test = reducer.transform(test_data)"
   ]
  },
  {
   "cell_type": "code",
   "execution_count": 8,
   "metadata": {},
   "outputs": [
    {
     "data": {
      "text/plain": [
       "((5893, 10), (641, 10))"
      ]
     },
     "execution_count": 8,
     "metadata": {},
     "output_type": "execute_result"
    }
   ],
   "source": [
    "X_train.shape, X_test.shape"
   ]
  },
  {
   "cell_type": "markdown",
   "metadata": {},
   "source": [
    "### Generate the Composition pair"
   ]
  },
  {
   "cell_type": "code",
   "execution_count": 9,
   "metadata": {},
   "outputs": [
    {
     "data": {
      "text/plain": [
       "['15', '28', '21', '12', '9', '6']\n",
       "Categories (6, object): ['6', '9', '12', '15', '21', '28']"
      ]
     },
     "execution_count": 9,
     "metadata": {},
     "output_type": "execute_result"
    }
   ],
   "source": [
    "adata_train.obs[\"reprogramming_day\"].unique()"
   ]
  },
  {
   "cell_type": "code",
   "execution_count": 10,
   "metadata": {},
   "outputs": [
    {
     "data": {
      "text/plain": [
       "['Fibroblast', 'iEP', 'Ambiguous']\n",
       "Categories (3, object): ['Ambiguous', 'Fibroblast', 'iEP']"
      ]
     },
     "execution_count": 10,
     "metadata": {},
     "output_type": "execute_result"
    }
   ],
   "source": [
    "adata_train.obs[\"cell_type\"].unique()"
   ]
  },
  {
   "cell_type": "code",
   "execution_count": 11,
   "metadata": {},
   "outputs": [],
   "source": [
    "def composit_pair_gen(X_train, adata_train):\n",
    "    # train_labels = adata_train.obs[\"clone_id\"].to_numpy()\n",
    "    # print(\"train_labels.shape:\", train_labels.shape)\n",
    "\n",
    "    ### generate the labels\n",
    "    adata_28 = adata_train[adata_train.obs[\"reprogramming_day\"] == \"28\"]\n",
    "    print(\"adata_28.shape:\", adata_28.shape)\n",
    "\n",
    "    # Initialize an empty dictionary to store the cell type distributions\n",
    "    clone_cell_type_distribution = {}\n",
    "\n",
    "    # Get the unique lineage\n",
    "    unique_clone_ids = adata_28.obs[\"clone_id\"].unique()\n",
    "\n",
    "    # Loop through each unique lineage\n",
    "    for clone_id in unique_clone_ids:\n",
    "        # Filter the data to get only rows with the current clone_id\n",
    "        clone_data = adata_28.obs[adata_28.obs[\"clone_id\"] == clone_id]\n",
    "        \n",
    "        # Get the distribution of cell types in the current clone_id\n",
    "        cell_type_distribution = clone_data[\"cell_type\"].value_counts(normalize=True)\n",
    "        \n",
    "        # Round each percentage to 4 decimal places and convert to a dictionary\n",
    "        cell_type_distribution = cell_type_distribution.round(4).to_dict()\n",
    "        \n",
    "        # Store the rounded distribution in the main dictionary\n",
    "        clone_cell_type_distribution[clone_id] = cell_type_distribution\n",
    "\n",
    "    # Print the resulting dictionary for verification\n",
    "    i = 0\n",
    "    for clone_id, distribution in clone_cell_type_distribution.items():\n",
    "        print(f\"Clone ID: {clone_id}, Cell Type Distribution: {distribution}\")\n",
    "        i+=1\n",
    "        if i ==3:\n",
    "            break\n",
    "\n",
    "\n",
    "    # Step 1: Get embeddings for Day 12 cells\n",
    "    day12_mask = adata_train.obs[\"reprogramming_day\"] == \"12\" \n",
    "    X_train_day12 = X_train[day12_mask.values] \n",
    "    print(f\"Day 12 embeddings shape: {X_train_day12.shape}\")\n",
    "\n",
    "    # Step 2: Get the clone labels for Day 12 cells\n",
    "    clone_labels_day12 = adata_train.obs.loc[day12_mask, \"clone_id\"].to_numpy()\n",
    "\n",
    "    # Step 3: Initialize y_train_prob matrix to store the probabilities\n",
    "    n_classes = len(adata_train.obs[\"cell_type\"].unique())\n",
    "    y_train_prob = np.zeros((X_train_day12.shape[0], n_classes))\n",
    "\n",
    "    # Step 4: Assign the distributions from clone_cell_type_distribution to each cell based on its clone_id\n",
    "    for i, clone_id in enumerate(clone_labels_day12):\n",
    "        if clone_id in clone_cell_type_distribution:\n",
    "            # Get the distribution for the clone\n",
    "            distribution = clone_cell_type_distribution[clone_id]\n",
    "            \n",
    "            # Ensure the order of cell types matches ['iEP', 'undifferentiated', 'Ambiguous', 'Fibroblast']\n",
    "            y_train_prob[i, 0] = distribution.get('iEP', 0)  # Default to 0 if not present\n",
    "            y_train_prob[i, 1] = distribution.get('Ambiguous', 0)  # Default to 0 if not present\n",
    "            y_train_prob[i, 2] = distribution.get('Fibroblast', 0)  # Default to 0 if not present\n",
    "\n",
    "    # Print the shape and first few examples of y_train_prob\n",
    "    print(f\"y_train_prob shape: {y_train_prob.shape}\")\n",
    "    print(f\"First 5 rows of y_train_prob:\\n{y_train_prob[:5]}\")\n",
    "\n",
    "\n",
    "    X_train_day12 = torch.tensor(X_train_day12, dtype=torch.float32)\n",
    "\n",
    "    # Example soft labels: 5 samples, each with a probability distribution over 3 classes\n",
    "    y_train_prob = torch.tensor(y_train_prob, dtype=torch.float32)\n",
    "\n",
    "    return X_train_day12, y_train_prob"
   ]
  },
  {
   "cell_type": "code",
   "execution_count": 12,
   "metadata": {},
   "outputs": [
    {
     "name": "stdout",
     "output_type": "stream",
     "text": [
      "adata_28.shape: (2196, 2000)\n",
      "Clone ID: 493.0, Cell Type Distribution: {'iEP': 0.8739, 'Ambiguous': 0.0943, 'Fibroblast': 0.0318}\n",
      "Clone ID: 2352.0, Cell Type Distribution: {'Fibroblast': 0.5761, 'Ambiguous': 0.3043, 'iEP': 0.1196}\n",
      "Clone ID: 487.0, Cell Type Distribution: {'iEP': 0.6833, 'Ambiguous': 0.3, 'Fibroblast': 0.0167}\n",
      "Day 12 embeddings shape: (876, 10)\n",
      "y_train_prob shape: (876, 3)\n",
      "First 5 rows of y_train_prob:\n",
      "[[0.8739 0.0943 0.0318]\n",
      " [0.8739 0.0943 0.0318]\n",
      " [0.8739 0.0943 0.0318]\n",
      " [0.8739 0.0943 0.0318]\n",
      " [0.8739 0.0943 0.0318]]\n",
      "adata_28.shape: (255, 2000)\n",
      "Clone ID: 493.0, Cell Type Distribution: {'iEP': 0.9565, 'Ambiguous': 0.0326, 'Fibroblast': 0.0109}\n",
      "Clone ID: 2352.0, Cell Type Distribution: {'Ambiguous': 0.5333, 'Fibroblast': 0.4667, 'iEP': 0.0}\n",
      "Clone ID: 487.0, Cell Type Distribution: {'Ambiguous': 1.0, 'Fibroblast': 0.0, 'iEP': 0.0}\n",
      "Day 12 embeddings shape: (91, 10)\n",
      "y_train_prob shape: (91, 3)\n",
      "First 5 rows of y_train_prob:\n",
      "[[0.9565 0.0326 0.0109]\n",
      " [0.9565 0.0326 0.0109]\n",
      " [0.9565 0.0326 0.0109]\n",
      " [0.     0.5333 0.4667]\n",
      " [0.     0.5333 0.4667]]\n"
     ]
    }
   ],
   "source": [
    "X_train_day12, y_train_prob = composit_pair_gen(X_train, adata_train)\n",
    "X_test_day12, y_test_prob = composit_pair_gen(X_test, adata_test)"
   ]
  },
  {
   "cell_type": "code",
   "execution_count": 13,
   "metadata": {},
   "outputs": [],
   "source": [
    "import torch\n",
    "import torch.nn as nn\n",
    "\n",
    "class SoftLabelNN(nn.Module):\n",
    "    def __init__(self, input_size, hidden_size, output_size):\n",
    "        super(SoftLabelNN, self).__init__()\n",
    "        self.fc1 = nn.Linear(input_size, hidden_size)\n",
    "        self.relu = nn.ReLU()\n",
    "        self.fc2 = nn.Linear(hidden_size, output_size)\n",
    "    \n",
    "    def forward(self, x):\n",
    "        out = self.fc1(x)\n",
    "        out = self.relu(out)\n",
    "        out = self.fc2(out)  # Raw output before softmax\n",
    "        return out\n",
    "\n",
    "\n",
    "class Trainer:\n",
    "    def __init__(self, model, optimizer, criterion, X_train, y_train_prob, num_epochs=10000, lr=0.01):\n",
    "        self.model = model\n",
    "        self.optimizer = optimizer\n",
    "        self.criterion = criterion\n",
    "        self.X_train = X_train\n",
    "        self.y_train_prob = y_train_prob\n",
    "        self.num_epochs = num_epochs\n",
    "        self.lr = lr\n",
    "\n",
    "    def train(self):\n",
    "        for epoch in range(self.num_epochs):\n",
    "            # Forward pass\n",
    "            outputs = self.model(self.X_train)\n",
    "            \n",
    "            # Apply log_softmax to get log probabilities\n",
    "            outputs_log_prob = torch.log_softmax(outputs, dim=1)\n",
    "            \n",
    "            # Calculate the KL divergence loss\n",
    "            loss = self.criterion(outputs_log_prob, self.y_train_prob)\n",
    "            \n",
    "            # Backward pass and optimization\n",
    "            self.optimizer.zero_grad()\n",
    "            loss.backward()\n",
    "            self.optimizer.step()\n",
    "            \n",
    "            # Print loss every 50 epochs\n",
    "            if (epoch+1) % 100 == 0:\n",
    "                print(f'Epoch [{epoch+1}/{self.num_epochs}], Loss: {loss.item():.4f}')\n",
    "    \n",
    "    def predict(self, X_test):\n",
    "        # Set the model to evaluation mode\n",
    "        self.model.eval()\n",
    "        with torch.no_grad():\n",
    "            outputs = self.model(X_test)\n",
    "            # Apply softmax to get predicted probabilities\n",
    "            probabilities = torch.softmax(outputs, dim=1)\n",
    "        return probabilities\n",
    "\n",
    "    def evaluate_kl_divergence(self, X_test, y_test_prob):\n",
    "        # Get the predicted log probabilities\n",
    "        predicted_probabilities_log = torch.log_softmax(self.model(X_test), dim=1)\n",
    "        \n",
    "        # Calculate KL divergence between predicted and true probabilities\n",
    "        kl_divergence = self.criterion(predicted_probabilities_log, y_test_prob)\n",
    "        return kl_divergence.item()\n",
    "\n"
   ]
  },
  {
   "cell_type": "code",
   "execution_count": 16,
   "metadata": {},
   "outputs": [
    {
     "name": "stdout",
     "output_type": "stream",
     "text": [
      "Epoch [100/500], Loss: 0.2502\n",
      "Epoch [200/500], Loss: 0.2046\n",
      "Epoch [300/500], Loss: 0.1994\n",
      "Epoch [400/500], Loss: 0.1980\n",
      "Epoch [500/500], Loss: 0.1967\n",
      "KL Divergence on test set: 0.3217\n"
     ]
    }
   ],
   "source": [
    "# Initialize the model, optimizer, and KLDivLoss function\n",
    "input_size = X_train_day12.shape[1]\n",
    "hidden_size = 10\n",
    "output_size = y_train_prob.shape[1]\n",
    "\n",
    "model = SoftLabelNN(input_size, hidden_size, output_size)\n",
    "criterion = nn.KLDivLoss(reduction='batchmean')  # KLDivLoss for comparing distributions\n",
    "optimizer = optim.Adam(model.parameters(), lr=0.01)\n",
    "\n",
    "# Instantiate the Trainer class and start training\n",
    "trainer = Trainer(model, optimizer, criterion, X_train_day12, y_train_prob, num_epochs=500)\n",
    "trainer.train()\n",
    "\n",
    "kl_divergence = trainer.evaluate_kl_divergence(X_test_day12, y_test_prob)\n",
    "print(f\"KL Divergence on test set: {kl_divergence:.4f}\")"
   ]
  }
 ],
 "metadata": {
  "kernelspec": {
   "display_name": "scvi-env",
   "language": "python",
   "name": "python3"
  },
  "language_info": {
   "codemirror_mode": {
    "name": "ipython",
    "version": 3
   },
   "file_extension": ".py",
   "mimetype": "text/x-python",
   "name": "python",
   "nbconvert_exporter": "python",
   "pygments_lexer": "ipython3",
   "version": "3.9.18"
  }
 },
 "nbformat": 4,
 "nbformat_minor": 2
}
