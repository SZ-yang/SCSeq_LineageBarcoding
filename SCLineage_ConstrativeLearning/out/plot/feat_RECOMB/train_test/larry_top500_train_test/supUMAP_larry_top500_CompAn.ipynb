{
 "cells": [
  {
   "cell_type": "code",
   "execution_count": 1,
   "metadata": {},
   "outputs": [],
   "source": [
    "import torch\n",
    "import torch.nn as nn\n",
    "import torch.optim as optim\n",
    "import anndata as ad\n",
    "import numpy as np\n",
    "import pandas as pd\n",
    "import umap\n",
    "from sklearn.model_selection import train_test_split\n",
    "from sklearn.neighbors import KNeighborsClassifier\n",
    "from sklearn.metrics import accuracy_score"
   ]
  },
  {
   "cell_type": "code",
   "execution_count": 2,
   "metadata": {},
   "outputs": [
    {
     "name": "stdout",
     "output_type": "stream",
     "text": [
      "(17054,) (2177,)\n"
     ]
    }
   ],
   "source": [
    "input_dir = \"/Users/apple/Desktop/KB/data\"\n",
    "adata_train = ad.read_h5ad(input_dir+'/LarryData/train_test/Larry_500_train.h5ad')\n",
    "adata_test = ad.read_h5ad(input_dir+'/LarryData/train_test/Larry_500_test.h5ad')\n",
    "\n",
    "train_labels = adata_train.obs[\"clone_id\"].to_numpy()\n",
    "test_labels = adata_test.obs[\"clone_id\"].to_numpy()\n",
    "\n",
    "print(train_labels.shape, test_labels.shape)"
   ]
  },
  {
   "cell_type": "markdown",
   "metadata": {},
   "source": [
    "## supUMAP embedding"
   ]
  },
  {
   "cell_type": "code",
   "execution_count": 3,
   "metadata": {},
   "outputs": [],
   "source": [
    "# Extract the data matrix and labels\n",
    "train_data = adata_train.X\n",
    "test_data = adata_test.X\n",
    "\n",
    "\n",
    "# labels = adata_train.obs['clone_id'].values\n",
    "\n",
    "# Initialize UMAP with a higher number of neighbors for supervised learning\n",
    "reducer = umap.UMAP(n_neighbors=15, n_components=10)\n",
    "\n"
   ]
  },
  {
   "cell_type": "code",
   "execution_count": 4,
   "metadata": {},
   "outputs": [],
   "source": [
    "# Fit and transform the data with the labels\n",
    "X_train = reducer.fit_transform(train_data, y=train_labels)"
   ]
  },
  {
   "cell_type": "code",
   "execution_count": 5,
   "metadata": {},
   "outputs": [],
   "source": [
    "# get the test embeddings\n",
    "X_test = reducer.transform(test_data)"
   ]
  },
  {
   "cell_type": "code",
   "execution_count": 6,
   "metadata": {},
   "outputs": [
    {
     "data": {
      "text/plain": [
       "((17054, 10), (2177, 10))"
      ]
     },
     "execution_count": 6,
     "metadata": {},
     "output_type": "execute_result"
    }
   ],
   "source": [
    "X_train.shape, X_test.shape"
   ]
  },
  {
   "cell_type": "markdown",
   "metadata": {},
   "source": [
    "### Load Data"
   ]
  },
  {
   "cell_type": "markdown",
   "metadata": {},
   "source": [
    "### Pick the cells in the neutrophil monocyte trajectory"
   ]
  },
  {
   "cell_type": "code",
   "execution_count": 7,
   "metadata": {},
   "outputs": [
    {
     "name": "stdout",
     "output_type": "stream",
     "text": [
      "meta_df.shape: (130887, 8) ; cell_id.shape: (96373, 1)\n",
      "filtered_meta_df.shape:  (96373, 9)\n",
      "17054 2177\n"
     ]
    }
   ],
   "source": [
    "# load data\n",
    "meta_df = pd.read_csv(\"/Users/apple/Desktop/KB/Dataset1/stateFate_inVitro_metadata.txt.gz\", sep='\\t')\n",
    "cell_id = pd.read_csv(\"/Users/apple/Desktop/KB/Dataset1/stateFate_inVitro_neutrophil_monocyte_trajectory.txt.gz\", sep='\\t')\n",
    "print(\"meta_df.shape:\" ,meta_df.shape, \"; cell_id.shape:\", cell_id.shape )\n",
    "\n",
    "# find the cells \n",
    "cell_indices = cell_id['Cell index']\n",
    "\n",
    "# Use these indices to select rows from 'meta_df'\n",
    "filtered_meta_df = meta_df.loc[cell_indices].copy()\n",
    "filtered_meta_df[\"Lib_Cellbarcode\"] = filtered_meta_df['Library'].astype(str) + \"_\" + filtered_meta_df['Cell barcode'].astype(str)\n",
    "\n",
    "# Display the filtered dataframe\n",
    "print(\"filtered_meta_df.shape: \", filtered_meta_df.shape)\n",
    "\n",
    "# fiter adata and embedding\n",
    "adata_train.obs[\"Lib_Cellbarcode\"] = adata_train.obs['Library'].astype(str) + \"_\" + adata_train.obs['Cell barcode'].astype(str)\n",
    "adata_test.obs[\"Lib_Cellbarcode\"] = adata_test.obs['Library'].astype(str) + \"_\" + adata_test.obs['Cell barcode'].astype(str)\n",
    "\n",
    "print(len(adata_train.obs[\"Lib_Cellbarcode\"].unique()), len(adata_test.obs[\"Lib_Cellbarcode\"].unique()))"
   ]
  },
  {
   "cell_type": "markdown",
   "metadata": {},
   "source": [
    "#### Train data"
   ]
  },
  {
   "cell_type": "code",
   "execution_count": 8,
   "metadata": {},
   "outputs": [
    {
     "name": "stdout",
     "output_type": "stream",
     "text": [
      "***\n",
      "len(shared_barcodes_train):  11462\n",
      "***\n"
     ]
    },
    {
     "data": {
      "text/plain": [
       "((11462, 2000), (11462, 10))"
      ]
     },
     "execution_count": 8,
     "metadata": {},
     "output_type": "execute_result"
    }
   ],
   "source": [
    "# Step 1: Find the shared 'Lib_Cellbarcode' values\n",
    "shared_barcodes_train = np.intersect1d(filtered_meta_df['Lib_Cellbarcode'], adata_train.obs['Lib_Cellbarcode'])\n",
    "print(\"***\")\n",
    "print(\"len(shared_barcodes_train): \", len(shared_barcodes_train))\n",
    "print(\"***\")\n",
    "\n",
    "# Step 2: Filter 'adata_train' based on the shared barcodes\n",
    "adata_train_filter = adata_train[adata_train.obs['Lib_Cellbarcode'].isin(shared_barcodes_train)].copy()\n",
    "\n",
    "# Step 3: Filter 'X_train' based on the same shared barcodes\n",
    "# Find the indices of the shared barcodes in 'adata_train.obs'\n",
    "indices = adata_train.obs['Lib_Cellbarcode'].isin(shared_barcodes_train).values\n",
    "\n",
    "# Use these indices to filter 'X_train'\n",
    "X_train_filter = X_train[indices]\n",
    "adata_train_filter.shape, X_train_filter.shape\n"
   ]
  },
  {
   "cell_type": "markdown",
   "metadata": {},
   "source": [
    "#### Test data"
   ]
  },
  {
   "cell_type": "code",
   "execution_count": 9,
   "metadata": {},
   "outputs": [
    {
     "name": "stdout",
     "output_type": "stream",
     "text": [
      "***\n",
      "len(shared_barcodes_test):  1455\n",
      "***\n"
     ]
    },
    {
     "data": {
      "text/plain": [
       "((1455, 2000), (1455, 10))"
      ]
     },
     "execution_count": 9,
     "metadata": {},
     "output_type": "execute_result"
    }
   ],
   "source": [
    "# Step 1: Find the shared 'Lib_Cellbarcode' values\n",
    "shared_barcodes_test = np.intersect1d(filtered_meta_df['Lib_Cellbarcode'], adata_test.obs['Lib_Cellbarcode'])\n",
    "print(\"***\")\n",
    "print(\"len(shared_barcodes_test): \", len(shared_barcodes_test))\n",
    "print(\"***\")\n",
    "\n",
    "# Step 2: Filter 'adata_train' based on the shared barcodes\n",
    "adata_test_filter = adata_test[adata_test.obs['Lib_Cellbarcode'].isin(shared_barcodes_test)].copy()\n",
    "\n",
    "# Step 3: Filter 'X_train' based on the same shared barcodes\n",
    "# Find the indices of the shared barcodes in 'adata_train.obs'\n",
    "indices = adata_test.obs['Lib_Cellbarcode'].isin(shared_barcodes_test).values\n",
    "\n",
    "# Use these indices to filter 'X_train'\n",
    "X_test_filter = X_test[indices]\n",
    "adata_test_filter.shape, X_test_filter.shape\n"
   ]
  },
  {
   "cell_type": "markdown",
   "metadata": {},
   "source": [
    "### Generate the Composition pair"
   ]
  },
  {
   "cell_type": "code",
   "execution_count": 10,
   "metadata": {},
   "outputs": [],
   "source": [
    "def composit_pair_gen(X_train, adata_train):\n",
    "    # train_labels = adata_train.obs[\"clone_id\"].to_numpy()\n",
    "    # print(\"train_labels.shape:\", train_labels.shape)\n",
    "\n",
    "    ### generate the labels\n",
    "    adata_6 = adata_train[adata_train.obs[\"time_info\"] == 6.0]\n",
    "    print(\"adata_6.shape:\", adata_6.shape)\n",
    "\n",
    "    # Initialize an empty dictionary to store the cell type distributions\n",
    "    clone_state_info_distribution = {}\n",
    "\n",
    "    # Get the unique lineage\n",
    "    unique_clone_ids = adata_6.obs[\"clone_id\"].unique()\n",
    "\n",
    "    # Loop through each unique lineage\n",
    "    for clone_id in unique_clone_ids:\n",
    "        # Filter the data to get only rows with the current clone_id\n",
    "        clone_data = adata_6.obs[adata_6.obs[\"clone_id\"] == clone_id]\n",
    "        \n",
    "        # Get the distribution of cell types in the current clone_id\n",
    "        state_info_distribution = clone_data[\"state_info\"].value_counts(normalize=True)\n",
    "        \n",
    "        # Round each percentage to 4 decimal places and convert to a dictionary\n",
    "        state_info_distribution = state_info_distribution.round(4).to_dict()\n",
    "        \n",
    "        # Store the rounded distribution in the main dictionary\n",
    "        clone_state_info_distribution[clone_id] = state_info_distribution\n",
    "\n",
    "    # Print the resulting dictionary for verification\n",
    "    i = 0\n",
    "    for clone_id, distribution in clone_state_info_distribution.items():\n",
    "        print(f\"Clone ID: {clone_id}, Cell Type Distribution: {distribution}\")\n",
    "        i+=1\n",
    "        if i ==3:\n",
    "            break\n",
    "\n",
    "\n",
    "    # Step 1: Get embeddings for Day 12 cells\n",
    "    day2_mask = adata_train.obs[\"time_info\"] == 2.0\n",
    "    X_train_day2 = X_train[day2_mask.values] \n",
    "    print(f\"Day 12 embeddings shape: {X_train_day2.shape}\")\n",
    "\n",
    "    # Step 2: Get the clone labels for Day 12 cells\n",
    "    clone_labels_day2 = adata_train.obs.loc[day2_mask, \"clone_id\"].to_numpy()\n",
    "\n",
    "    # Step 3: Initialize y_train_prob matrix to store the probabilities\n",
    "    # n_classes = len(adata_train.obs[\"state_info\"].unique())\n",
    "    y_train_prob = np.zeros((X_train_day2.shape[0], 3))\n",
    "\n",
    "    # Step 4: Assign the distributions from clone_state_info_distribution to each cell based on its clone_id\n",
    "    for i, clone_id in enumerate(clone_labels_day2):\n",
    "        if clone_id in clone_state_info_distribution:\n",
    "            # Get the distribution for the clone\n",
    "            distribution = clone_state_info_distribution[clone_id]\n",
    "            \n",
    "            # Ensure the order of cell types matches 'Undifferentiated', 'Monocyte', 'Neutrophil', 'Erythroid'\n",
    "            y_train_prob[i, 0] = distribution.get('Undifferentiated', 0)  # Default to 0 if not present\n",
    "            y_train_prob[i, 1] = distribution.get('Monocyte', 0)  # Default to 0 if not present\n",
    "            y_train_prob[i, 2] = distribution.get('Neutrophil', 0)  # Default to 0 if not present\n",
    "            # y_train_prob[i, 3] = distribution.get('Erythroid', 0)\n",
    "\n",
    "            # y_train_prob[i, 0] = distribution.get('iEP', 0)  # Default to 0 if not present\n",
    "            # y_train_prob[i, 1] = distribution.get('Ambiguous', 0)  # Default to 0 if not present\n",
    "            # y_train_prob[i, 2] = distribution.get('Fibroblast', 0)  # Default to 0 if not present\n",
    "\n",
    "    # Print the shape and first few examples of y_train_prob\n",
    "    print(f\"y_train_prob shape: {y_train_prob.shape}\")\n",
    "    print(f\"First 5 rows of y_train_prob:\\n{y_train_prob[:5]}\")\n",
    "\n",
    "\n",
    "    X_train_day2 = torch.tensor(X_train_day2, dtype=torch.float32)\n",
    "\n",
    "    # Example soft labels: 5 samples, each with a probability distribution over 3 classes\n",
    "    y_train_prob = torch.tensor(y_train_prob, dtype=torch.float32)\n",
    "\n",
    "    return X_train_day2, y_train_prob"
   ]
  },
  {
   "cell_type": "code",
   "execution_count": 11,
   "metadata": {},
   "outputs": [
    {
     "data": {
      "text/plain": [
       "['Undifferentiated', 'Monocyte', 'Neutrophil']\n",
       "Categories (3, object): ['Monocyte', 'Neutrophil', 'Undifferentiated']"
      ]
     },
     "execution_count": 11,
     "metadata": {},
     "output_type": "execute_result"
    }
   ],
   "source": [
    "adata_test_filter.obs[\"state_info\"].unique()"
   ]
  },
  {
   "cell_type": "code",
   "execution_count": 12,
   "metadata": {},
   "outputs": [
    {
     "name": "stdout",
     "output_type": "stream",
     "text": [
      "adata_6.shape: (8104, 2000)\n",
      "Clone ID: 1261, Cell Type Distribution: {'Neutrophil': 0.6642, 'Monocyte': 0.1971, 'Undifferentiated': 0.1387, 'Erythroid': 0.0}\n",
      "Clone ID: 2370, Cell Type Distribution: {'Monocyte': 0.4792, 'Neutrophil': 0.2812, 'Undifferentiated': 0.2396, 'Erythroid': 0.0}\n",
      "Clone ID: 292, Cell Type Distribution: {'Monocyte': 0.6988, 'Neutrophil': 0.1687, 'Undifferentiated': 0.1325, 'Erythroid': 0.0}\n",
      "Day 12 embeddings shape: (215, 10)\n",
      "y_train_prob shape: (215, 3)\n",
      "First 5 rows of y_train_prob:\n",
      "[[0.1387 0.1971 0.6642]\n",
      " [0.0851 0.1596 0.7553]\n",
      " [0.0851 0.1596 0.7553]\n",
      " [0.2    0.4143 0.3857]\n",
      " [0.6    0.32   0.08  ]]\n",
      "adata_6.shape: (1018, 2000)\n",
      "Clone ID: 1261, Cell Type Distribution: {'Neutrophil': 0.7778, 'Monocyte': 0.1667, 'Undifferentiated': 0.0556}\n",
      "Clone ID: 2370, Cell Type Distribution: {'Monocyte': 0.6364, 'Neutrophil': 0.3636, 'Undifferentiated': 0.0}\n",
      "Clone ID: 292, Cell Type Distribution: {'Monocyte': 0.7778, 'Neutrophil': 0.1111, 'Undifferentiated': 0.1111}\n",
      "Day 12 embeddings shape: (27, 10)\n",
      "y_train_prob shape: (27, 3)\n",
      "First 5 rows of y_train_prob:\n",
      "[[0.     0.2727 0.7273]\n",
      " [0.     0.     0.    ]\n",
      " [1.     0.     0.    ]\n",
      " [0.3333 0.6667 0.    ]\n",
      " [0.     1.     0.    ]]\n"
     ]
    }
   ],
   "source": [
    "X_train_day2, y_train_prob = composit_pair_gen(X_train_filter, adata_train_filter)\n",
    "X_test_day2, y_test_prob = composit_pair_gen(X_test_filter, adata_test_filter)"
   ]
  },
  {
   "cell_type": "code",
   "execution_count": 13,
   "metadata": {},
   "outputs": [],
   "source": [
    "import torch\n",
    "import torch.nn as nn\n",
    "\n",
    "class SoftLabelNN(nn.Module):\n",
    "    def __init__(self, input_size, hidden_size, output_size):\n",
    "        super(SoftLabelNN, self).__init__()\n",
    "        self.fc1 = nn.Linear(input_size, hidden_size)\n",
    "        self.relu = nn.ReLU()\n",
    "        self.fc2 = nn.Linear(hidden_size, output_size)\n",
    "    \n",
    "    def forward(self, x):\n",
    "        out = self.fc1(x)\n",
    "        out = self.relu(out)\n",
    "        out = self.fc2(out)  # Raw output before softmax\n",
    "        return out\n",
    "\n",
    "\n",
    "class Trainer:\n",
    "    def __init__(self, model, optimizer, criterion, X_train, y_train_prob, num_epochs=10000, lr=0.01):\n",
    "        self.model = model\n",
    "        self.optimizer = optimizer\n",
    "        self.criterion = criterion\n",
    "        self.X_train = X_train\n",
    "        self.y_train_prob = y_train_prob\n",
    "        self.num_epochs = num_epochs\n",
    "        self.lr = lr\n",
    "\n",
    "    def train(self):\n",
    "        for epoch in range(self.num_epochs):\n",
    "            # Forward pass\n",
    "            outputs = self.model(self.X_train)\n",
    "            \n",
    "            # Apply log_softmax to get log probabilities\n",
    "            outputs_log_prob = torch.log_softmax(outputs, dim=1)\n",
    "            \n",
    "            # Calculate the KL divergence loss\n",
    "            loss = self.criterion(outputs_log_prob, self.y_train_prob)\n",
    "            \n",
    "            # Backward pass and optimization\n",
    "            self.optimizer.zero_grad()\n",
    "            loss.backward()\n",
    "            self.optimizer.step()\n",
    "            \n",
    "            # Print loss every 50 epochs\n",
    "            if (epoch+1) % 100 == 0:\n",
    "                print(f'Epoch [{epoch+1}/{self.num_epochs}], Loss: {loss.item():.4f}')\n",
    "    \n",
    "    def predict(self, X_test):\n",
    "        # Set the model to evaluation mode\n",
    "        self.model.eval()\n",
    "        with torch.no_grad():\n",
    "            outputs = self.model(X_test)\n",
    "            # Apply softmax to get predicted probabilities\n",
    "            probabilities = torch.softmax(outputs, dim=1)\n",
    "        return probabilities\n",
    "\n",
    "    def evaluate_kl_divergence(self, X_test, y_test_prob):\n",
    "        # Get the predicted log probabilities\n",
    "        predicted_probabilities_log = torch.log_softmax(self.model(X_test), dim=1)\n",
    "        \n",
    "        # Calculate KL divergence between predicted and true probabilities\n",
    "        kl_divergence = self.criterion(predicted_probabilities_log, y_test_prob)\n",
    "        return kl_divergence.item()\n",
    "\n"
   ]
  },
  {
   "cell_type": "code",
   "execution_count": 49,
   "metadata": {},
   "outputs": [
    {
     "name": "stdout",
     "output_type": "stream",
     "text": [
      "Epoch [100/500], Loss: 0.5014\n",
      "Epoch [200/500], Loss: 0.4905\n",
      "Epoch [300/500], Loss: 0.4889\n",
      "Epoch [400/500], Loss: 0.4874\n",
      "Epoch [500/500], Loss: 0.4853\n",
      "KL Divergence on test set: 0.7824\n"
     ]
    }
   ],
   "source": [
    "# Initialize the model, optimizer, and KLDivLoss function\n",
    "input_size = X_train_day2.shape[1]\n",
    "hidden_size = 10\n",
    "output_size = y_train_prob.shape[1]\n",
    "\n",
    "model = SoftLabelNN(input_size, hidden_size, output_size)\n",
    "criterion = nn.KLDivLoss(reduction='batchmean')  # KLDivLoss for comparing distributions\n",
    "optimizer = optim.AdamW(model.parameters(), lr=0.01)\n",
    "\n",
    "# Instantiate the Trainer class and start training\n",
    "trainer = Trainer(model, optimizer, criterion, X_train_day2, y_train_prob, num_epochs=500)\n",
    "trainer.train()\n",
    "\n",
    "kl_divergence = trainer.evaluate_kl_divergence(X_test_day2, y_test_prob)\n",
    "print(f\"KL Divergence on test set: {kl_divergence:.4f}\")"
   ]
  },
  {
   "cell_type": "code",
   "execution_count": 16,
   "metadata": {},
   "outputs": [
    {
     "data": {
      "text/plain": [
       "(torch.Size([27, 10]),\n",
       " torch.Size([27, 3]),\n",
       " torch.Size([215, 10]),\n",
       " torch.Size([215, 3]))"
      ]
     },
     "execution_count": 16,
     "metadata": {},
     "output_type": "execute_result"
    }
   ],
   "source": [
    "X_test_day2.shape, y_test_prob.shape, X_train_day2.shape, y_train_prob.shape"
   ]
  }
 ],
 "metadata": {
  "kernelspec": {
   "display_name": "scvi-env",
   "language": "python",
   "name": "python3"
  },
  "language_info": {
   "codemirror_mode": {
    "name": "ipython",
    "version": 3
   },
   "file_extension": ".py",
   "mimetype": "text/x-python",
   "name": "python",
   "nbconvert_exporter": "python",
   "pygments_lexer": "ipython3",
   "version": "3.9.18"
  }
 },
 "nbformat": 4,
 "nbformat_minor": 2
}
