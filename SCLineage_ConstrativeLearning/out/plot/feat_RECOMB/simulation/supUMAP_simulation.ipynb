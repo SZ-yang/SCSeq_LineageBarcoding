{
 "cells": [
  {
   "cell_type": "code",
   "execution_count": 1,
   "metadata": {},
   "outputs": [],
   "source": [
    "import numpy as np\n",
    "import matplotlib.pyplot as plt\n",
    "import seaborn as sns\n",
    "import anndata as ad"
   ]
  },
  {
   "cell_type": "code",
   "execution_count": 2,
   "metadata": {},
   "outputs": [],
   "source": [
    "import umap\n",
    "from sklearn.metrics import calinski_harabasz_score\n"
   ]
  },
  {
   "cell_type": "code",
   "execution_count": 3,
   "metadata": {},
   "outputs": [],
   "source": [
    "# Paths to your simulation files\n",
    "exp_id = \"final_final\"\n",
    "sim_input_dir = f\"/Users/apple/Desktop/KB/data/LarryData/Larry_simulation/Larry_simulation_4scCL/{exp_id}/\"\n",
    "sim_files = [\n",
    "    f'Larry_Simulation_01_{exp_id}.h5ad',\n",
    "    f'Larry_Simulation_03_{exp_id}.h5ad',\n",
    "    f'Larry_Simulation_05_{exp_id}.h5ad',\n",
    "    f'Larry_Simulation_07_{exp_id}.h5ad',\n",
    "    f'Larry_Simulation_09_{exp_id}.h5ad'\n",
    "]\n",
    "\n",
    "\n",
    "# Loading simulation data\n",
    "sim_data = [ad.read_h5ad(f'{sim_input_dir}/{file}') for file in sim_files]"
   ]
  },
  {
   "cell_type": "code",
   "execution_count": 4,
   "metadata": {},
   "outputs": [],
   "source": [
    "# Initialize lists to store embeddings and Calinski-Harabasz scores\n",
    "embeddings_list = []\n",
    "calinski_scores_list = []\n",
    "\n",
    "# Iterate through each anndata object in the list\n",
    "for adata in sim_data:\n",
    "    # Extract the data matrix and labels\n",
    "    data = adata.X\n",
    "    labels = adata.obs['clone_id'].values\n",
    "\n",
    "    # Initialize UMAP with a higher number of neighbors for supervised learning\n",
    "    reducer = umap.UMAP(n_neighbors=15, n_components=10)\n",
    "\n",
    "    # Fit and transform the data with the labels\n",
    "    embedding = reducer.fit_transform(data, y=labels)\n",
    "\n",
    "    # Store the embedding in the list\n",
    "    embeddings_list.append(embedding)\n",
    "\n",
    "    # Calculate the Calinski-Harabasz score\n",
    "    score = calinski_harabasz_score(embedding, labels)\n",
    "\n",
    "    # Store the score in the list\n",
    "    calinski_scores_list.append(score)\n",
    "\n",
    "# Now embeddings_list contains all the embeddings, and calinski_scores_list contains all the scores\n"
   ]
  },
  {
   "cell_type": "code",
   "execution_count": 5,
   "metadata": {},
   "outputs": [
    {
     "name": "stdout",
     "output_type": "stream",
     "text": [
      "1323.1478213266537\n",
      "1758.5884080309918\n",
      "2291.238617503212\n",
      "3157.5489004410033\n",
      "4925.97944441121\n"
     ]
    }
   ],
   "source": [
    "for i in calinski_scores_list:\n",
    "    print(i)"
   ]
  },
  {
   "cell_type": "code",
   "execution_count": 6,
   "metadata": {},
   "outputs": [
    {
     "name": "stdout",
     "output_type": "stream",
     "text": [
      "(41093, 10)\n",
      "(41093, 10)\n",
      "(41093, 10)\n",
      "(41093, 10)\n",
      "(41093, 10)\n"
     ]
    }
   ],
   "source": [
    "for i in embeddings_list:\n",
    "    print(i.shape)"
   ]
  }
 ],
 "metadata": {
  "kernelspec": {
   "display_name": "scvi-env",
   "language": "python",
   "name": "python3"
  },
  "language_info": {
   "codemirror_mode": {
    "name": "ipython",
    "version": 3
   },
   "file_extension": ".py",
   "mimetype": "text/x-python",
   "name": "python",
   "nbconvert_exporter": "python",
   "pygments_lexer": "ipython3",
   "version": "3.9.18"
  }
 },
 "nbformat": 4,
 "nbformat_minor": 2
}
