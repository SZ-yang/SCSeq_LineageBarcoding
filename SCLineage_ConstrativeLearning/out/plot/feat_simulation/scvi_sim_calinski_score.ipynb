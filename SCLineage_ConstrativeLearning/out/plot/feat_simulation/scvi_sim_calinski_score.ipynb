{
 "cells": [
  {
   "cell_type": "markdown",
   "metadata": {},
   "source": [
    "## Simulation Results\n",
    "\n",
    "Two sets of simulations:\n",
    "\n",
    "1. **First Set of Simulations**:\n",
    "    - Trails: Three (Beta: 0.1, 0.5, 0.9)\n",
    "    - Parameters:\n",
    "        - Large size factor: 0.3\n",
    "        - Batch size: 30\n",
    "        - Temperature: 0.5\n",
    "    \n",
    "\n",
    "2. **Second Set of Simulations**:\n",
    "    - Trails: Five (Beta: 0.1, 0.5, 0.9)\n",
    "    - Parameters:\n",
    "        - Large size factor: 0.05\n",
    "        - Batch size: 30\n",
    "        - Temperature: 0.5"
   ]
  },
  {
   "cell_type": "code",
   "execution_count": 7,
   "metadata": {},
   "outputs": [],
   "source": [
    "import numpy as np\n",
    "import umap\n",
    "import matplotlib.pyplot as plt\n",
    "from collections import Counter\n",
    "import anndata as ad\n",
    "import seaborn as sns\n",
    "import pandas as pd\n",
    "from sklearn.metrics import calinski_harabasz_score"
   ]
  },
  {
   "cell_type": "code",
   "execution_count": 8,
   "metadata": {},
   "outputs": [],
   "source": [
    "exp_id = \"exp7\""
   ]
  },
  {
   "cell_type": "code",
   "execution_count": 9,
   "metadata": {},
   "outputs": [],
   "source": [
    "input_dir = f\"/Users/apple/Desktop/KB/data/feat_simulation/scvi_sim_result/{exp_id}\"\n",
    "output_dir = \"/Users/apple/Desktop/KB/SCSeq_LineageBarcoding2/SCSeq_LineageBarcoding/SCLineage_ConstrativeLearning/out/plot/feat_simulation\"\n",
    "num_top_lg_toplot = 5\n",
    "\n",
    "adata_input_dir = f\"/Users/apple/Desktop/KB/data/LarryData/Larry_simulation/Larry_simulation_4scvi/{exp_id}\"\n",
    "#simulation data\n",
    "adata_01 = ad.read_h5ad(adata_input_dir+f'/adata_scvi_sim01_{exp_id}.h5ad')\n",
    "lineage_label_01 = adata_01.obs[\"clone_id\"].to_numpy()\n",
    "\n",
    "adata_03 = ad.read_h5ad(adata_input_dir+f'/adata_scvi_sim03_{exp_id}.h5ad')\n",
    "lineage_label_03 = adata_03.obs[\"clone_id\"].to_numpy()\n",
    "\n",
    "adata_05 = ad.read_h5ad(adata_input_dir+f'/adata_scvi_sim05_{exp_id}.h5ad')\n",
    "lineage_label_05 = adata_05.obs[\"clone_id\"].to_numpy()\n",
    "\n",
    "adata_07 = ad.read_h5ad(adata_input_dir+f'/adata_scvi_sim07_{exp_id}.h5ad')\n",
    "lineage_label_07 = adata_07.obs[\"clone_id\"].to_numpy()\n",
    "\n",
    "adata_09 = ad.read_h5ad(adata_input_dir+f'/adata_scvi_sim09_{exp_id}.h5ad')\n",
    "lineage_label_09 = adata_09.obs[\"clone_id\"].to_numpy()\n",
    "\n",
    "#set 2\n",
    "x_005_01 = np.load(input_dir+f\"/Larry_scvi_sim_01_{exp_id}.npy\")\n",
    "x_005_03 = np.load(input_dir+f\"/Larry_scvi_sim_03_{exp_id}.npy\")\n",
    "x_005_05 = np.load(input_dir+f\"/Larry_scvi_sim_05_{exp_id}.npy\")\n",
    "x_005_07 = np.load(input_dir+f\"/Larry_scvi_sim_07_{exp_id}.npy\")\n",
    "x_005_09 = np.load(input_dir+f\"/Larry_scvi_sim_09_{exp_id}.npy\")\n"
   ]
  },
  {
   "cell_type": "code",
   "execution_count": 10,
   "metadata": {},
   "outputs": [],
   "source": [
    "\n",
    "adata_01.obs['Cell type annotation'] = adata_01.obs[\"state_info\"]\n",
    "adata_03.obs['Cell type annotation'] = adata_03.obs[\"state_info\"]\n",
    "adata_05.obs['Cell type annotation'] = adata_05.obs[\"state_info\"]\n",
    "adata_07.obs['Cell type annotation'] = adata_07.obs[\"state_info\"]\n",
    "adata_09.obs['Cell type annotation'] = adata_09.obs[\"state_info\"]"
   ]
  },
  {
   "cell_type": "markdown",
   "metadata": {},
   "source": [
    "### Calinski Scores"
   ]
  },
  {
   "cell_type": "code",
   "execution_count": 11,
   "metadata": {},
   "outputs": [],
   "source": [
    "# set 2\n",
    "score_005_01 = calinski_harabasz_score(x_005_01, lineage_label_01)\n",
    "score_005_03 = calinski_harabasz_score(x_005_03, lineage_label_03)\n",
    "score_005_05 = calinski_harabasz_score(x_005_05, lineage_label_05)\n",
    "score_005_07 = calinski_harabasz_score(x_005_07, lineage_label_07)\n",
    "score_005_09 = calinski_harabasz_score(x_005_09, lineage_label_09)"
   ]
  },
  {
   "cell_type": "code",
   "execution_count": 13,
   "metadata": {},
   "outputs": [
    {
     "data": {
      "image/png": "[encoded data removed]",
      "text/plain": [
       "<Figure size 1000x600 with 1 Axes>"
      ]
     },
     "metadata": {},
     "output_type": "display_data"
    }
   ],
   "source": [
    "# Combine the scores\n",
    "scores = [score_005_01, score_005_03, score_005_05, score_005_07, score_005_09]\n",
    "# labels = [ '0.1', '0.3', '0.5', '0.7', '0.9']\n",
    "labels = [ '0.03', '0.05', '0.07', '0.09', '0.11']\n",
    "\n",
    "# Plotting\n",
    "plt.figure(figsize=(10, 6))\n",
    "bars = plt.bar(labels, scores, color='skyblue')\n",
    "\n",
    "# Adding the scores on top of the bars\n",
    "for bar in bars:\n",
    "    yval = bar.get_height()\n",
    "    plt.text(bar.get_x() + bar.get_width() / 2, yval, round(yval, 2), ha='center', va='bottom')\n",
    "\n",
    "plt.xlabel('Beta')\n",
    "plt.ylabel('Calinski-Harabasz Score')\n",
    "plt.title('Calinski-Harabasz Scores for Different Simulation Parameters')\n",
    "plt.show()"
   ]
  },
  {
   "cell_type": "markdown",
   "metadata": {},
   "source": [
    "### UMAP plot"
   ]
  },
  {
   "cell_type": "markdown",
   "metadata": {},
   "source": [
    "UMAP plot function"
   ]
  },
  {
   "cell_type": "code",
   "execution_count": null,
   "metadata": {},
   "outputs": [],
   "source": [
    "def plot_top_lineages(data, adata_subset, num_top_lg_toplot=20, output_path=None):\n",
    "    \"\"\"\n",
    "    Plots the UMAP embedding of the top 20 largest lineages with different colors.\n",
    "    \n",
    "    Parameters:\n",
    "        data (np.ndarray): The input data matrix.\n",
    "        adata_subset (anndata.AnnData): The AnnData object containing cell annotations.\n",
    "        num_top_lg_toplot (int): The number of top lineages to plot. Default is 20.\n",
    "        output_path (str): Path to save the plot. If None, the plot will not be saved.\n",
    "    \n",
    "    Returns:\n",
    "        None\n",
    "    \"\"\"\n",
    "    labels = adata_subset.obs[\"clone_id\"].to_numpy()\n",
    "    categories = adata_subset.obs['Cell type annotation'].to_numpy()\n",
    "\n",
    "    # Initialize UMAP and fit the data\n",
    "    reducer = umap.UMAP()\n",
    "    embedding = reducer.fit_transform(data)\n",
    "\n",
    "    # Determine the top lineages\n",
    "    unique_labels, counts = np.unique(labels, return_counts=True)\n",
    "    top_lineages = unique_labels[np.argsort(-counts)[:num_top_lg_toplot]]\n",
    "\n",
    "    # Define lineage to color mapping\n",
    "    colors = sns.color_palette('husl', len(top_lineages))\n",
    "    lineage_to_color = dict(zip(top_lineages, colors))\n",
    "\n",
    "    default_color = 'gray'\n",
    "\n",
    "    plt.figure(figsize=(12, 8))\n",
    "\n",
    "    # Plot all other lineages first\n",
    "    for label in np.unique(labels):\n",
    "        if label not in top_lineages:\n",
    "            subset = embedding[labels == label]\n",
    "            sns.scatterplot(x=subset[:, 0], y=subset[:, 1], color=default_color, s=1, alpha=0.2)\n",
    "\n",
    "    # Plot the top lineages with different colors\n",
    "    for i, lineage in enumerate(top_lineages):\n",
    "        subset = embedding[labels == lineage]\n",
    "        subset_categories = categories[labels == lineage]\n",
    "        sns.scatterplot(x=subset[:, 0], y=subset[:, 1], color=lineage_to_color[lineage], s=25, alpha=1, label=f'{lineage}')\n",
    "\n",
    "    plt.title(f'UMAP for Cells with Top {num_top_lg_toplot} Largest Lineages Highlighted')\n",
    "    plt.xlabel('UMAP1')\n",
    "    plt.ylabel('UMAP2')\n",
    "\n",
    "    # Create a legend for the top lineages\n",
    "    handles, labels = plt.gca().get_legend_handles_labels()\n",
    "    by_label = dict(zip(labels, handles))\n",
    "    plt.legend(by_label.values(), by_label.keys(), title=\"Lineages\", bbox_to_anchor=(1.05, 1), loc='upper left', markerscale=2)\n",
    "\n",
    "    if output_path:\n",
    "        plt.savefig(output_path, dpi=300)\n",
    "    plt.show()\n",
    "\n",
    "# Example usage:\n",
    "# data = np.load(input_dir + '/feat_713_colab/scBaseEncoderFeat_Z_bs100_tau0.5.npy')\n",
    "# adata_subset = ad.read_h5ad(input_dir + '/LarryData/Larry_41201_2000.h5ad')\n",
    "# plot_top_lineages(data, adata_subset, num_top_lg_toplot=20, output_path=output_dir + '/cell_umap_top_20_largest_plot.png')"
   ]
  },
  {
   "cell_type": "markdown",
   "metadata": {},
   "source": [
    "#### Set 1"
   ]
  },
  {
   "cell_type": "code",
   "execution_count": null,
   "metadata": {},
   "outputs": [],
   "source": [
    "plot_top_lineages(x_03_01, adata_01, num_top_lg_toplot=5)\n"
   ]
  },
  {
   "cell_type": "code",
   "execution_count": null,
   "metadata": {},
   "outputs": [],
   "source": [
    "plot_top_lineages(x_03_05, adata_05, num_top_lg_toplot=5)\n"
   ]
  },
  {
   "cell_type": "code",
   "execution_count": null,
   "metadata": {},
   "outputs": [],
   "source": [
    "plot_top_lineages(x_03_09, adata_09, num_top_lg_toplot=5)"
   ]
  },
  {
   "cell_type": "markdown",
   "metadata": {},
   "source": [
    "#### Set 2"
   ]
  },
  {
   "cell_type": "code",
   "execution_count": null,
   "metadata": {},
   "outputs": [],
   "source": [
    "plot_top_lineages(x_005_01, adata_01, num_top_lg_toplot=5)\n"
   ]
  },
  {
   "cell_type": "code",
   "execution_count": null,
   "metadata": {},
   "outputs": [],
   "source": [
    "plot_top_lineages(x_005_03, adata_03, num_top_lg_toplot=5)"
   ]
  },
  {
   "cell_type": "code",
   "execution_count": null,
   "metadata": {},
   "outputs": [],
   "source": [
    "plot_top_lineages(x_005_05, adata_05, num_top_lg_toplot=5)"
   ]
  },
  {
   "cell_type": "code",
   "execution_count": null,
   "metadata": {},
   "outputs": [],
   "source": [
    "plot_top_lineages(x_005_07, adata_07, num_top_lg_toplot=5)\n"
   ]
  },
  {
   "cell_type": "code",
   "execution_count": null,
   "metadata": {},
   "outputs": [],
   "source": [
    "plot_top_lineages(x_005_09, adata_09, num_top_lg_toplot=5)"
   ]
  }
 ],
 "metadata": {
  "kernelspec": {
   "display_name": "scvi-env",
   "language": "python",
   "name": "python3"
  },
  "language_info": {
   "codemirror_mode": {
    "name": "ipython",
    "version": 3
   },
   "file_extension": ".py",
   "mimetype": "text/x-python",
   "name": "python",
   "nbconvert_exporter": "python",
   "pygments_lexer": "ipython3",
   "version": "3.9.19"
  }
 },
 "nbformat": 4,
 "nbformat_minor": 2
}
