{
 "cells": [
  {
   "cell_type": "code",
   "execution_count": 2,
   "metadata": {},
   "outputs": [],
   "source": [
    "import DataLoader_tensor_sparse as dl\n",
    "import SCDataset as ds\n",
    "import anndata as ad\n",
    "import numpy as np\n",
    "import torch\n",
    "from torch.utils.data import TensorDataset"
   ]
  },
  {
   "cell_type": "markdown",
   "metadata": {},
   "source": [
    "### Reading the h5ad file"
   ]
  },
  {
   "cell_type": "code",
   "execution_count": 2,
   "metadata": {},
   "outputs": [
    {
     "name": "stdout",
     "output_type": "stream",
     "text": [
      "adata_subset.X.shape: (41201, 2000)\n"
     ]
    }
   ],
   "source": [
    "adata_subset = ad.read_h5ad('Larry_41201_2000.h5ad')\n",
    "print(\"adata_subset.X.shape:\", adata_subset.X.shape)"
   ]
  },
  {
   "cell_type": "markdown",
   "metadata": {},
   "source": [
    "### Cell-pairs for trainning contrastive learning"
   ]
  },
  {
   "cell_type": "code",
   "execution_count": 3,
   "metadata": {},
   "outputs": [
    {
     "name": "stdout",
     "output_type": "stream",
     "text": [
      "number of batches:  2154\n"
     ]
    }
   ],
   "source": [
    "#----------------------------------------------------Generate Batches--------------------------------------------------------\n",
    "# input data\n",
    "count_matrix = adata_subset.X\n",
    "cell_lineage = adata_subset.obs['clone_id'].values.reshape(-1, 1)\n",
    "# count_matrix.shape, cell_lineage.shape\n",
    "\n",
    "# step 1 generate designed batches\n",
    "# batchsize = 10\n",
    "DLoader = dl.SClineage_DataLoader(count_matrix,cell_lineage,batch_size= 10, seed=7)\n",
    "batch_all, num_batch, lineage_info = DLoader.batch_generator()\n",
    "\n",
    "larry_dataset = ds.SCDataset(batches=batch_all)\n",
    "\n",
    "print(\"number of batches: \", num_batch)"
   ]
  },
  {
   "cell_type": "code",
   "execution_count": 4,
   "metadata": {},
   "outputs": [],
   "source": [
    "data_loader = torch.utils.data.DataLoader(dataset=larry_dataset, batch_size=10, shuffle=False, num_workers=1) "
   ]
  },
  {
   "cell_type": "code",
   "execution_count": 5,
   "metadata": {},
   "outputs": [
    {
     "name": "stdout",
     "output_type": "stream",
     "text": [
      "torch.Size([10, 2000])\n"
     ]
    }
   ],
   "source": [
    "i = 1\n",
    "for batch in data_loader: \n",
    "    X, Y = batch\n",
    "    if i ==1:\n",
    "        print(X.shape)\n",
    "    i+=1"
   ]
  },
  {
   "cell_type": "markdown",
   "metadata": {},
   "source": [
    "### All cells for getting the reprsentation"
   ]
  },
  {
   "cell_type": "code",
   "execution_count": 6,
   "metadata": {},
   "outputs": [
    {
     "name": "stdout",
     "output_type": "stream",
     "text": [
      "num of batches for all cells (not cell pairs): 4121\n"
     ]
    }
   ],
   "source": [
    "count_matrix_arr = count_matrix.toarray()\n",
    "count_matrix_th = torch.from_numpy(count_matrix_arr)\n",
    "dataset = TensorDataset(count_matrix_th)\n",
    "data_loader_all = torch.utils.data.DataLoader(dataset, batch_size=10, shuffle=False, num_workers=1,drop_last=False)\n",
    "print(\"num of batches for all cells (not cell pairs):\", len(data_loader_all))"
   ]
  },
  {
   "cell_type": "code",
   "execution_count": 7,
   "metadata": {},
   "outputs": [],
   "source": [
    "last_batch_data = None\n",
    "\n",
    "for data in data_loader_all:\n",
    "    last_batch_data = data\n",
    "\n",
    "last_batch_data[0].shape"
   ]
  },
  {
   "cell_type": "code",
   "execution_count": 11,
   "metadata": {},
   "outputs": [
    {
     "name": "stdout",
     "output_type": "stream",
     "text": [
      "torch.Size([10, 2000])\n"
     ]
    }
   ],
   "source": [
    "i= 0 \n",
    "for batch in data_loader_all: \n",
    "    X= batch[0]\n",
    "    if i == 0:\n",
    "        print(X.shape)\n",
    "    i+=1"
   ]
  },
  {
   "cell_type": "code",
   "execution_count": 3,
   "metadata": {},
   "outputs": [
    {
     "data": {
      "text/plain": [
       "21540"
      ]
     },
     "execution_count": 3,
     "metadata": {},
     "output_type": "execute_result"
    }
   ],
   "source": [
    "labels = np.load(\"out/lineage_info.npy\")\n",
    "len(labels)"
   ]
  }
 ],
 "metadata": {
  "kernelspec": {
   "display_name": "scvi-env",
   "language": "python",
   "name": "python3"
  },
  "language_info": {
   "codemirror_mode": {
    "name": "ipython",
    "version": 3
   },
   "file_extension": ".py",
   "mimetype": "text/x-python",
   "name": "python",
   "nbconvert_exporter": "python",
   "pygments_lexer": "ipython3",
   "version": "3.9.18"
  }
 },
 "nbformat": 4,
 "nbformat_minor": 2
}
