{
 "cells": [
  {
   "cell_type": "code",
   "execution_count": 8,
   "metadata": {},
   "outputs": [],
   "source": [
    "import DataLoader_tensor_sparse as dl\n",
    "import anndata as ad\n",
    "import numpy as np"
   ]
  },
  {
   "cell_type": "code",
   "execution_count": 5,
   "metadata": {},
   "outputs": [],
   "source": [
    "adata_subset = ad.read_h5ad('Larry_41201_2000.h5ad')"
   ]
  },
  {
   "cell_type": "code",
   "execution_count": 6,
   "metadata": {},
   "outputs": [
    {
     "name": "stdout",
     "output_type": "stream",
     "text": [
      "adata_subset.X.shape: (41201, 2000)\n"
     ]
    }
   ],
   "source": [
    "print(\"adata_subset.X.shape:\", adata_subset.X.shape)"
   ]
  },
  {
   "cell_type": "code",
   "execution_count": 7,
   "metadata": {},
   "outputs": [
    {
     "name": "stdout",
     "output_type": "stream",
     "text": [
      "number of batches:  2154\n"
     ]
    }
   ],
   "source": [
    "#----------------------------------------------------Generate Batches--------------------------------------------------------\n",
    "# input data\n",
    "count_matrix = adata_subset.X\n",
    "cell_lineage = adata_subset.obs['clone_id'].values.reshape(-1, 1)\n",
    "# count_matrix.shape, cell_lineage.shape\n",
    "\n",
    "# step 1 generate designed batches\n",
    "# batchsize = 10\n",
    "DLoader = dl.SClineage_DataLoader(count_matrix,cell_lineage,batch_size= 10, seed=7)\n",
    "batch_all, num_batch, lineage_info = DLoader.batch_generator()\n",
    "\n",
    "\n",
    "print(\"number of batches: \", num_batch)"
   ]
  },
  {
   "cell_type": "code",
   "execution_count": 9,
   "metadata": {},
   "outputs": [
    {
     "data": {
      "text/plain": [
       "21540"
      ]
     },
     "execution_count": 9,
     "metadata": {},
     "output_type": "execute_result"
    }
   ],
   "source": [
    "labels = np.load(\"lineage_info.npy\")\n",
    "len(labels)"
   ]
  }
 ],
 "metadata": {
  "kernelspec": {
   "display_name": "scvi-env",
   "language": "python",
   "name": "python3"
  },
  "language_info": {
   "codemirror_mode": {
    "name": "ipython",
    "version": 3
   },
   "file_extension": ".py",
   "mimetype": "text/x-python",
   "name": "python",
   "nbconvert_exporter": "python",
   "pygments_lexer": "ipython3",
   "version": "3.9.18"
  }
 },
 "nbformat": 4,
 "nbformat_minor": 2
}
