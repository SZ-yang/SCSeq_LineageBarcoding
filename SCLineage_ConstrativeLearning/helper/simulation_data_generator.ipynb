{
 "cells": [
  {
   "cell_type": "code",
   "execution_count": 1,
   "metadata": {},
   "outputs": [],
   "source": [
    "import numpy as np\n",
    "import anndata as ad\n",
    "import seaborn as sns\n",
    "import matplotlib.pyplot as plt\n",
    "import pandas as pd\n",
    "from copy import deepcopy\n",
    "from sklearn.cluster import KMeans\n",
    "from scipy.sparse import csr_matrix"
   ]
  },
  {
   "cell_type": "code",
   "execution_count": 2,
   "metadata": {},
   "outputs": [],
   "source": [
    "def simulation_data_generator(beta):\n",
    "\n",
    "    adata = ad.read_h5ad(\"/Users/apple/Desktop/KB/data/LarryData/Larry_41201_2000.h5ad\")\n",
    "    \n",
    "    count_matrix = adata.X \n",
    "    variances = np.var(count_matrix.toarray(), axis=0)\n",
    "    sorted_indices = np.argsort(-variances)\n",
    "\n",
    "    # reorder the gene (columns) according to their variances in a descending order\n",
    "    count_matrix_reordered = (count_matrix[:, sorted_indices]).toarray()\n",
    "\n",
    "    if np.max(variances)== np.var(count_matrix_reordered, axis=0)[0]:\n",
    "        print(\"reorder process done\")\n",
    "    else:\n",
    "        print(\"reorder process went wrong\")\n",
    "\n",
    "    # only input first beta*num_genes gene into the K-means cluster\n",
    "    matrix_for_cluster = count_matrix_reordered[:,:int(beta*count_matrix_reordered.shape[1])]\n",
    "\n",
    "    kmeans = KMeans(n_clusters=2000, random_state=42)\n",
    "    kmeans.fit(matrix_for_cluster)\n",
    "\n",
    "    cluster_labels = kmeans.labels_\n",
    "    # Add cluster labels to adata.obs\n",
    "    adata.obs['clone_id'] = cluster_labels\n",
    "\n",
    "    # Count the frequency of each label\n",
    "    label_counts = pd.Series(cluster_labels).value_counts()\n",
    "    # Identify labels that appear fewer than 5 times\n",
    "    labels_to_keep = label_counts[label_counts >= 5].index\n",
    "\n",
    "    # Filter out cells with labels that appear fewer than 5 times\n",
    "    cells_to_keep = adata.obs['clone_id'].isin(labels_to_keep)\n",
    "    filtered_adata = adata[cells_to_keep].copy()\n",
    "\n",
    "    return filtered_adata"
   ]
  },
  {
   "cell_type": "code",
   "execution_count": 3,
   "metadata": {},
   "outputs": [
    {
     "name": "stdout",
     "output_type": "stream",
     "text": [
      "reorder process done\n"
     ]
    },
    {
     "name": "stderr",
     "output_type": "stream",
     "text": [
      "/opt/anaconda3/envs/scvi-env/lib/python3.9/site-packages/sklearn/cluster/_kmeans.py:1416: FutureWarning: The default value of `n_init` will change from 10 to 'auto' in 1.4. Set the value of `n_init` explicitly to suppress the warning\n",
      "  super()._check_params_vs_input(X, default_n_init=10)\n",
      "/opt/anaconda3/envs/scvi-env/lib/python3.9/site-packages/threadpoolctl.py:1010: RuntimeWarning: \n",
      "Found Intel OpenMP ('libiomp') and LLVM OpenMP ('libomp') loaded at\n",
      "the same time. Both libraries are known to be incompatible and this\n",
      "can cause random crashes or deadlocks on Linux when loaded in the\n",
      "same Python program.\n",
      "Using threadpoolctl may cause crashes or deadlocks. For more\n",
      "information and possible workarounds, please see\n",
      "    https://github.com/joblib/threadpoolctl/blob/master/multiple_openmp.md\n",
      "\n",
      "  warnings.warn(msg, RuntimeWarning)\n"
     ]
    },
    {
     "name": "stdout",
     "output_type": "stream",
     "text": [
      "reorder process done\n"
     ]
    },
    {
     "name": "stderr",
     "output_type": "stream",
     "text": [
      "/opt/anaconda3/envs/scvi-env/lib/python3.9/site-packages/sklearn/cluster/_kmeans.py:1416: FutureWarning: The default value of `n_init` will change from 10 to 'auto' in 1.4. Set the value of `n_init` explicitly to suppress the warning\n",
      "  super()._check_params_vs_input(X, default_n_init=10)\n"
     ]
    },
    {
     "name": "stdout",
     "output_type": "stream",
     "text": [
      "reorder process done\n"
     ]
    },
    {
     "name": "stderr",
     "output_type": "stream",
     "text": [
      "/opt/anaconda3/envs/scvi-env/lib/python3.9/site-packages/sklearn/cluster/_kmeans.py:1416: FutureWarning: The default value of `n_init` will change from 10 to 'auto' in 1.4. Set the value of `n_init` explicitly to suppress the warning\n",
      "  super()._check_params_vs_input(X, default_n_init=10)\n"
     ]
    },
    {
     "name": "stdout",
     "output_type": "stream",
     "text": [
      "reorder process done\n"
     ]
    },
    {
     "name": "stderr",
     "output_type": "stream",
     "text": [
      "/opt/anaconda3/envs/scvi-env/lib/python3.9/site-packages/sklearn/cluster/_kmeans.py:1416: FutureWarning: The default value of `n_init` will change from 10 to 'auto' in 1.4. Set the value of `n_init` explicitly to suppress the warning\n",
      "  super()._check_params_vs_input(X, default_n_init=10)\n"
     ]
    },
    {
     "name": "stdout",
     "output_type": "stream",
     "text": [
      "reorder process done\n"
     ]
    },
    {
     "name": "stderr",
     "output_type": "stream",
     "text": [
      "/opt/anaconda3/envs/scvi-env/lib/python3.9/site-packages/sklearn/cluster/_kmeans.py:1416: FutureWarning: The default value of `n_init` will change from 10 to 'auto' in 1.4. Set the value of `n_init` explicitly to suppress the warning\n",
      "  super()._check_params_vs_input(X, default_n_init=10)\n"
     ]
    }
   ],
   "source": [
    "adata_beta_01 = simulation_data_generator(0.1)\n",
    "adata_beta_03 = simulation_data_generator(0.3)\n",
    "adata_beta_05 = simulation_data_generator(0.5)\n",
    "adata_beta_07 = simulation_data_generator(0.7)\n",
    "adata_beta_09 = simulation_data_generator(0.9)"
   ]
  },
  {
   "cell_type": "code",
   "execution_count": 11,
   "metadata": {},
   "outputs": [],
   "source": [
    "adata_beta_01.write(\"Larry_Simulation_01.h5ad\")\n",
    "adata_beta_03.write(\"Larry_Simulation_03.h5ad\")\n",
    "adata_beta_05.write(\"Larry_Simulation_05.h5ad\")\n",
    "adata_beta_07.write(\"Larry_Simulation_07.h5ad\")\n",
    "adata_beta_09.write(\"Larry_Simulation_09.h5ad\")"
   ]
  },
  {
   "cell_type": "code",
   "execution_count": 24,
   "metadata": {},
   "outputs": [
    {
     "name": "stdout",
     "output_type": "stream",
     "text": [
      "beta=0.1, number of cells: 39795 , number of linegae:  1271 , max lineage frequency 497 , avg lineage frequency 31.31\n",
      "beta=0.3, number of cells: 39729 , number of linegae:  1239 , max lineage frequency 435 , avg lineage frequency 32.07\n",
      "beta=0.5, number of cells: 39700 , number of linegae:  1229 , max lineage frequency 390 , avg lineage frequency 32.3\n",
      "beta=0.7, number of cells: 39767 , number of linegae:  1242 , max lineage frequency 416 , avg lineage frequency 32.02\n",
      "beta=0.9, number of cells: 39754 , number of linegae:  1231 , max lineage frequency 479 , avg lineage frequency 32.29\n"
     ]
    }
   ],
   "source": [
    "print(\"beta=0.1, number of cells:\",adata_beta_01.obs.shape[0],\", number of linegae: \",len(adata_beta_01.obs[\"clone_id\"].unique()),\", max lineage frequency\",adata_beta_01.obs[\"clone_id\"].value_counts().max(),\", avg lineage frequency\",round(adata_beta_01.obs[\"clone_id\"].value_counts().mean(),2))\n",
    "print(\"beta=0.3, number of cells:\",adata_beta_03.obs.shape[0],\", number of linegae: \",len(adata_beta_03.obs[\"clone_id\"].unique()),\", max lineage frequency\",adata_beta_03.obs[\"clone_id\"].value_counts().max(),\", avg lineage frequency\",round(adata_beta_03.obs[\"clone_id\"].value_counts().mean(),2))\n",
    "print(\"beta=0.5, number of cells:\",adata_beta_05.obs.shape[0],\", number of linegae: \",len(adata_beta_05.obs[\"clone_id\"].unique()),\", max lineage frequency\",adata_beta_05.obs[\"clone_id\"].value_counts().max(),\", avg lineage frequency\",round(adata_beta_05.obs[\"clone_id\"].value_counts().mean(),2))\n",
    "print(\"beta=0.7, number of cells:\",adata_beta_07.obs.shape[0],\", number of linegae: \",len(adata_beta_07.obs[\"clone_id\"].unique()),\", max lineage frequency\",adata_beta_07.obs[\"clone_id\"].value_counts().max(),\", avg lineage frequency\",round(adata_beta_07.obs[\"clone_id\"].value_counts().mean(),2))\n",
    "print(\"beta=0.9, number of cells:\",adata_beta_09.obs.shape[0],\", number of linegae: \",len(adata_beta_09.obs[\"clone_id\"].unique()),\", max lineage frequency\",adata_beta_09.obs[\"clone_id\"].value_counts().max(),\", avg lineage frequency\",round(adata_beta_09.obs[\"clone_id\"].value_counts().mean(),2))"
   ]
  }
 ],
 "metadata": {
  "kernelspec": {
   "display_name": "scvi-env",
   "language": "python",
   "name": "python3"
  },
  "language_info": {
   "codemirror_mode": {
    "name": "ipython",
    "version": 3
   },
   "file_extension": ".py",
   "mimetype": "text/x-python",
   "name": "python",
   "nbconvert_exporter": "python",
   "pygments_lexer": "ipython3",
   "version": "3.9.18"
  }
 },
 "nbformat": 4,
 "nbformat_minor": 2
}
