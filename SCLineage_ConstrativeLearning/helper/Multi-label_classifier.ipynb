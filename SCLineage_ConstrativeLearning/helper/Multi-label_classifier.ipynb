{
 "cells": [
  {
   "cell_type": "code",
   "execution_count": 1,
   "metadata": {},
   "outputs": [],
   "source": [
    "import torch\n",
    "import torch.nn as nn\n",
    "import torch.optim as optim"
   ]
  },
  {
   "cell_type": "code",
   "execution_count": 2,
   "metadata": {},
   "outputs": [
    {
     "name": "stdout",
     "output_type": "stream",
     "text": [
      "Epoch [50/500], Loss: 0.9297\n",
      "Epoch [100/500], Loss: 0.8397\n",
      "Epoch [150/500], Loss: 0.7909\n",
      "Epoch [200/500], Loss: 0.7179\n",
      "Epoch [250/500], Loss: 0.5997\n",
      "Epoch [300/500], Loss: 0.5725\n",
      "Epoch [350/500], Loss: 0.5637\n",
      "Epoch [400/500], Loss: 0.5597\n",
      "Epoch [450/500], Loss: 0.5575\n",
      "Epoch [500/500], Loss: 0.5561\n",
      "Predicted Probabilities:\n",
      "tensor([[4.5012e-05, 9.9995e-01, 2.0830e-08],\n",
      "        [9.8795e-01, 1.1566e-05, 1.2036e-02]])\n"
     ]
    }
   ],
   "source": [
    "# Example data: 5 samples, each with 2 features\n",
    "X_train = torch.tensor([\n",
    "    [0.1, 0.2],\n",
    "    [0.4, 0.2],\n",
    "    [0.3, 0.4],\n",
    "    [0.6, 0.7],\n",
    "    [0.2, 0.9]\n",
    "], dtype=torch.float32)\n",
    "\n",
    "# Example soft labels: 5 samples, each with a probability distribution over 3 classes\n",
    "y_train_prob = torch.tensor([\n",
    "    [0.2, 0.5, 0.3],\n",
    "    [0.1, 0.7, 0.2],\n",
    "    [0.4, 0.4, 0.2],\n",
    "    [0.3, 0.3, 0.4],\n",
    "    [0.6, 0.1, 0.3]\n",
    "], dtype=torch.float32)\n",
    "\n",
    "# Define a simple neural network model\n",
    "class SoftLabelNN(nn.Module):\n",
    "    def __init__(self, input_size, hidden_size, output_size):\n",
    "        super(SoftLabelNN, self).__init__()\n",
    "        self.fc1 = nn.Linear(input_size, hidden_size)\n",
    "        self.relu = nn.ReLU()\n",
    "        self.fc2 = nn.Linear(hidden_size, output_size)\n",
    "        self.softmax = nn.Softmax(dim=1)\n",
    "    \n",
    "    def forward(self, x):\n",
    "        out = self.fc1(x)\n",
    "        out = self.relu(out)\n",
    "        out = self.fc2(out)\n",
    "        out = self.softmax(out)\n",
    "        return out\n",
    "\n",
    "# Initialize the model, loss function, and optimizer\n",
    "input_size = X_train.shape[1]\n",
    "hidden_size = 10\n",
    "output_size = y_train_prob.shape[1]\n",
    "\n",
    "model = SoftLabelNN(input_size, hidden_size, output_size)\n",
    "criterion = nn.CrossEntropyLoss()\n",
    "optimizer = optim.Adam(model.parameters(), lr=0.01)\n",
    "\n",
    "# Convert soft labels to one-hot encoding for the CrossEntropyLoss\n",
    "# (PyTorch expects class indices for CrossEntropyLoss, not probabilities)\n",
    "y_train_indices = torch.argmax(y_train_prob, dim=1)\n",
    "\n",
    "# Training loop\n",
    "num_epochs = 500\n",
    "for epoch in range(num_epochs):\n",
    "    # Forward pass\n",
    "    outputs = model(X_train)\n",
    "    loss = criterion(outputs, y_train_indices)\n",
    "    \n",
    "    # Backward pass and optimization\n",
    "    optimizer.zero_grad()\n",
    "    loss.backward()\n",
    "    optimizer.step()\n",
    "    \n",
    "    if (epoch+1) % 50 == 0:\n",
    "        print(f'Epoch [{epoch+1}/{num_epochs}], Loss: {loss.item():.4f}')\n",
    "\n",
    "# Example test data\n",
    "X_test = torch.tensor([\n",
    "    [0.2, 0.1],\n",
    "    [0.3, 0.6]\n",
    "], dtype=torch.float32)\n",
    "\n",
    "# Predict the probability distribution over classes for new samples\n",
    "with torch.no_grad():\n",
    "    predicted_probabilities = model(X_test)\n",
    "    print(\"Predicted Probabilities:\")\n",
    "    print(predicted_probabilities)\n"
   ]
  }
 ],
 "metadata": {
  "kernelspec": {
   "display_name": "scvi-env-arm",
   "language": "python",
   "name": "python3"
  },
  "language_info": {
   "codemirror_mode": {
    "name": "ipython",
    "version": 3
   },
   "file_extension": ".py",
   "mimetype": "text/x-python",
   "name": "python",
   "nbconvert_exporter": "python",
   "pygments_lexer": "ipython3",
   "version": "3.9.19"
  }
 },
 "nbformat": 4,
 "nbformat_minor": 2
}
