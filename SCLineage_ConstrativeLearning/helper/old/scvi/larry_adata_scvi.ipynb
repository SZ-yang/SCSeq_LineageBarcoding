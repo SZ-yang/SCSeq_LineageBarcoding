{
 "cells": [
  {
   "cell_type": "markdown",
   "metadata": {},
   "source": [
    "This is used for the larry data filtering for the scvi package(for two-page abstract use)\\\n",
    "We only filter the number of cells so that a lineage (clone_id) at least has 5 cells."
   ]
  },
  {
   "cell_type": "code",
   "execution_count": 1,
   "metadata": {},
   "outputs": [],
   "source": [
    "import anndata as ad\n",
    "import numpy as np\n",
    "import scipy\n",
    "import pandas as pd\n",
    "import scanpy as sc\n"
   ]
  },
  {
   "cell_type": "code",
   "execution_count": 2,
   "metadata": {},
   "outputs": [
    {
     "name": "stderr",
     "output_type": "stream",
     "text": [
      "/opt/anaconda3/envs/scvi-env/lib/python3.9/site-packages/anndata/_core/anndata.py:522: FutureWarning: The dtype argument is deprecated and will be removed in late 2024.\n",
      "  warnings.warn(\n"
     ]
    },
    {
     "name": "stdout",
     "output_type": "stream",
     "text": [
      "number of lineages:  5865\n"
     ]
    },
    {
     "name": "stderr",
     "output_type": "stream",
     "text": [
      "/opt/anaconda3/envs/scvi-env/lib/python3.9/site-packages/anndata/_core/anndata.py:183: ImplicitModificationWarning: Transforming to str index.\n",
      "  warnings.warn(\"Transforming to str index.\", ImplicitModificationWarning)\n"
     ]
    }
   ],
   "source": [
    "#---------------------------------------------------------Load the matrixs-----------------------------------------------------\n",
    "\n",
    "normed_counts = \"/Users/apple/Desktop/KB/Larry_Dataset_original/stateFate_inVitro_normed_counts.mtx.gz\"  #snakemake.input['normed_counts']\n",
    "gene_names = \"/Users/apple/Desktop/KB/Larry_Dataset_original/stateFate_inVitro_gene_names.txt.gz\" #snakemake.input['gene_names']\n",
    "clone_matrix = \"/Users/apple/Desktop/KB/Larry_Dataset_original/stateFate_inVitro_clone_matrix.mtx.gz\" #snakemake.input['clone_matrix']\n",
    "metadata = \"/Users/apple/Desktop/KB/Larry_Dataset_original/stateFate_inVitro_metadata.txt.gz\" #snakemake.input['metadata']\n",
    "\n",
    "# load data\n",
    "normed_counts_mat = scipy.io.mmread(normed_counts).tocsr()\n",
    "genes = pd.read_csv(gene_names, sep='\\t',header=None).to_numpy().flatten()\n",
    "clone_mat = scipy.io.mmread(clone_matrix).tocsr()\n",
    "meta_df = pd.read_csv(metadata, sep='\\t')\n",
    "\n",
    "\n",
    "#-------------------------------Get num_genes of highly expressed genes from the orginal data(all cells)--------------------\n",
    "# create full adata\n",
    "adata = ad.AnnData(normed_counts_mat, obs=meta_df, var=pd.DataFrame(index=genes), dtype=np.float32)\n",
    "# optimize dtypes\n",
    "adata.obs['Library'] = adata.obs['Library'].astype('category')\n",
    "adata.obs['Time point'] = adata.obs['Time point'].astype(int)\n",
    "adata.obs['Starting population'] = adata.obs['Starting population'].astype('category')\n",
    "adata.obs['Cell type annotation'] = adata.obs['Cell type annotation'].astype('category')\n",
    "adata.obs['Well'] = adata.obs['Well'].astype(int)\n",
    "# assign clone_id\n",
    "adata.obs['clone_id'] = (clone_mat @ np.arange(1,1+clone_mat.shape[1])) - 1\n",
    "print(\"number of lineages: \", len(adata.obs['clone_id'].unique()))"
   ]
  },
  {
   "cell_type": "code",
   "execution_count": 3,
   "metadata": {},
   "outputs": [
    {
     "name": "stderr",
     "output_type": "stream",
     "text": [
      "/opt/anaconda3/envs/scvi-env/lib/python3.9/site-packages/anndata/_core/anndata.py:522: FutureWarning: The dtype argument is deprecated and will be removed in late 2024.\n",
      "  warnings.warn(\n",
      "/opt/anaconda3/envs/scvi-env/lib/python3.9/site-packages/anndata/_core/anndata.py:183: ImplicitModificationWarning: Transforming to str index.\n",
      "  warnings.warn(\"Transforming to str index.\", ImplicitModificationWarning)\n"
     ]
    },
    {
     "name": "stdout",
     "output_type": "stream",
     "text": [
      "adata_subset.obs.shape: (41201, 9)\n",
      "adata_subset.X.shape: (41201, 25289)\n"
     ]
    }
   ],
   "source": [
    "# get 2000 genes from the 130887(all) cells\n",
    "# sc.pp.log1p(adata)\n",
    "# sc.pp.highly_variable_genes(adata,n_top_genes=2000)\n",
    "\n",
    "\n",
    "#---------------------------------Creat the subset adata with trimmed number of genes and number of cells--------------------\n",
    "# create full adata\n",
    "adata_cp = ad.AnnData(normed_counts_mat, obs=meta_df, var=pd.DataFrame(index=genes), dtype=np.float32)\n",
    "\n",
    "# optimize dtypes\n",
    "adata_cp.obs['Library'] = adata_cp.obs['Library'].astype('category')\n",
    "adata_cp.obs['Time point'] = adata_cp.obs['Time point'].astype(int)\n",
    "adata_cp.obs['Starting population'] = adata_cp.obs['Starting population'].astype('category')\n",
    "adata_cp.obs['Cell type annotation'] = adata_cp.obs['Cell type annotation'].astype('category')\n",
    "adata_cp.obs['Well'] = adata_cp.obs['Well'].astype(int)\n",
    "# assign clone_id\n",
    "adata_cp.obs['clone_id'] = (clone_mat @ np.arange(1,1+clone_mat.shape[1])) - 1\n",
    "\n",
    "# remove the cells that belong to the clone_id with few cells\n",
    "value_counts = adata.obs['clone_id'].value_counts()\n",
    "frequency_dict = {}\n",
    "for value, count in value_counts.items():\n",
    "    if count in frequency_dict:\n",
    "        frequency_dict[count].append(value)\n",
    "    else:\n",
    "        frequency_dict[count] = [value]\n",
    "\n",
    "clone_for_remove = frequency_dict[81585]+frequency_dict[2]+frequency_dict[3]+frequency_dict[4] \n",
    "adata_subset = adata_cp[~adata_cp.obs['clone_id'].isin(clone_for_remove)]\n",
    "print(\"adata_subset.obs.shape:\", adata_subset.obs.shape)\n",
    "\n",
    "# trim the number of genes to the required number using the highly variable gene calculated from the original adata (all cells)\n",
    "# hvgene = (adata.var.highly_variable[adata.var.highly_variable==True]).index\n",
    "# print(\"number of the highly variable genes:\", len(hvgene))\n",
    "# adata_subset = adata_subset[:,hvgene]\n",
    "print(\"adata_subset.X.shape:\", adata_subset.X.shape)"
   ]
  },
  {
   "cell_type": "code",
   "execution_count": 4,
   "metadata": {},
   "outputs": [
    {
     "name": "stderr",
     "output_type": "stream",
     "text": [
      "/opt/anaconda3/envs/scvi-env/lib/python3.9/site-packages/scanpy/preprocessing/_simple.py:372: UserWarning: Received a view of an AnnData. Making a copy.\n",
      "  view_to_actual(adata)\n"
     ]
    }
   ],
   "source": [
    "sc.pp.log1p(adata_subset)"
   ]
  },
  {
   "cell_type": "code",
   "execution_count": 5,
   "metadata": {},
   "outputs": [
    {
     "name": "stdout",
     "output_type": "stream",
     "text": [
      "  (0, 1)\t1\n",
      "  (0, 5)\t1\n",
      "  (0, 12)\t1\n",
      "  (0, 23)\t1\n",
      "  (0, 25)\t1\n",
      "  (0, 27)\t1\n",
      "  (0, 28)\t2\n",
      "  (0, 29)\t3\n",
      "  (0, 31)\t1\n",
      "  (0, 44)\t2\n",
      "  (0, 45)\t2\n",
      "  (0, 50)\t1\n",
      "  (0, 61)\t1\n",
      "  (0, 63)\t1\n",
      "  (0, 65)\t1\n",
      "  (0, 181)\t1\n",
      "  (0, 204)\t1\n",
      "  (0, 309)\t1\n",
      "  (0, 398)\t1\n",
      "  (0, 433)\t1\n",
      "  (0, 483)\t1\n",
      "  (0, 501)\t2\n",
      "  (0, 509)\t1\n",
      "  (0, 516)\t2\n",
      "  (0, 520)\t2\n",
      "  :\t:\n",
      "  (41200, 24642)\t4\n",
      "  (41200, 24664)\t7\n",
      "  (41200, 24667)\t2\n",
      "  (41200, 24716)\t2\n",
      "  (41200, 24741)\t2\n",
      "  (41200, 24771)\t2\n",
      "  (41200, 24789)\t2\n",
      "  (41200, 24798)\t2\n",
      "  (41200, 24897)\t2\n",
      "  (41200, 24904)\t5\n",
      "  (41200, 25021)\t2\n",
      "  (41200, 25044)\t2\n",
      "  (41200, 25218)\t2\n",
      "  (41200, 25227)\t4\n",
      "  (41200, 25271)\t2\n",
      "  (41200, 25276)\t37\n",
      "  (41200, 25278)\t40\n",
      "  (41200, 25279)\t71\n",
      "  (41200, 25280)\t10\n",
      "  (41200, 25281)\t21\n",
      "  (41200, 25282)\t35\n",
      "  (41200, 25283)\t11\n",
      "  (41200, 25284)\t4\n",
      "  (41200, 25285)\t26\n",
      "  (41200, 25287)\t4\n"
     ]
    }
   ],
   "source": [
    "import numpy as np\n",
    "import scipy.sparse as sp\n",
    "\n",
    "# Extract the sparse matrix\n",
    "sparse_matrix = adata_subset.X\n",
    "\n",
    "# Get the maximum value in the sparse matrix\n",
    "max_val = sparse_matrix.max()\n",
    "\n",
    "# Define the transformation function\n",
    "def transform(x, max_val):\n",
    "    return round(np.exp((np.log(1000) / max_val) * x))\n",
    "\n",
    "# Get the data, row indices, and column indices of the sparse matrix\n",
    "data = sparse_matrix.data\n",
    "indices = sparse_matrix.indices\n",
    "indptr = sparse_matrix.indptr\n",
    "\n",
    "# Apply the transformation to non-zero elements\n",
    "transformed_data = np.array([transform(x, max_val) for x in data])\n",
    "\n",
    "# Construct the new sparse matrix\n",
    "sparse_transformed_matrix = sp.csr_matrix((transformed_data, indices, indptr), shape=sparse_matrix.shape)\n",
    "\n",
    "# Assign the transformed sparse matrix back to adata_subset.X\n",
    "adata_subset.X = sparse_transformed_matrix\n",
    "\n",
    "# Check the transformed matrix\n",
    "print(adata_subset.X)\n"
   ]
  },
  {
   "cell_type": "code",
   "execution_count": 6,
   "metadata": {},
   "outputs": [
    {
     "data": {
      "text/plain": [
       "(41201, 25289)"
      ]
     },
     "execution_count": 6,
     "metadata": {},
     "output_type": "execute_result"
    }
   ],
   "source": [
    "adata_subset.X.shape"
   ]
  },
  {
   "cell_type": "code",
   "execution_count": 8,
   "metadata": {},
   "outputs": [
    {
     "name": "stdout",
     "output_type": "stream",
     "text": [
      "count    41201.000000\n",
      "mean      4796.319458\n",
      "std        741.608455\n",
      "min       3624.000000\n",
      "25%       4211.000000\n",
      "50%       4588.000000\n",
      "75%       5344.000000\n",
      "max       7915.000000\n",
      "Name: row_sums, dtype: float64\n"
     ]
    }
   ],
   "source": [
    "row_sums = np.sum(adata_subset.X, axis=1)\n",
    "adata_subset.obs['row_sums'] = row_sums\n",
    "row_sums_summary = adata_subset.obs['row_sums'].describe()\n",
    "\n",
    "print(row_sums_summary)"
   ]
  },
  {
   "cell_type": "code",
   "execution_count": 25,
   "metadata": {},
   "outputs": [],
   "source": [
    "row_sums_log = np.sum(adata_subset.X, axis=1)\n",
    "adata_subset.obs['row_sums_log'] = row_sums_log\n",
    "row_sums_summary_log = adata_subset.obs['row_sums_log'].describe()\n",
    "print(row_sums_summary_log)"
   ]
  },
  {
   "cell_type": "code",
   "execution_count": 7,
   "metadata": {},
   "outputs": [],
   "source": [
    "# save the data to h5ad file\n",
    "adata_subset.write('Larry_41201_25289_scvi.h5ad')"
   ]
  }
 ],
 "metadata": {
  "kernelspec": {
   "display_name": "scvi-env",
   "language": "python",
   "name": "python3"
  },
  "language_info": {
   "codemirror_mode": {
    "name": "ipython",
    "version": 3
   },
   "file_extension": ".py",
   "mimetype": "text/x-python",
   "name": "python",
   "nbconvert_exporter": "python",
   "pygments_lexer": "ipython3",
   "version": "3.9.18"
  }
 },
 "nbformat": 4,
 "nbformat_minor": 2
}
