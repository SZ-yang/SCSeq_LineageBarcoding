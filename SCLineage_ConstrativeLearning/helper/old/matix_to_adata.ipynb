{
 "cells": [
  {
   "cell_type": "code",
   "execution_count": 1,
   "metadata": {},
   "outputs": [
    {
     "name": "stderr",
     "output_type": "stream",
     "text": [
      "/opt/anaconda3/envs/scvi-env/lib/python3.9/site-packages/anndata/_core/anndata.py:522: FutureWarning: The dtype argument is deprecated and will be removed in late 2024.\n",
      "  warnings.warn(\n",
      "/opt/anaconda3/envs/scvi-env/lib/python3.9/site-packages/anndata/_core/anndata.py:183: ImplicitModificationWarning: Transforming to str index.\n",
      "  warnings.warn(\"Transforming to str index.\", ImplicitModificationWarning)\n"
     ]
    },
    {
     "name": "stdout",
     "output_type": "stream",
     "text": [
      "number of lineages:  5865\n"
     ]
    },
    {
     "name": "stderr",
     "output_type": "stream",
     "text": [
      "/opt/anaconda3/envs/scvi-env/lib/python3.9/site-packages/scanpy/preprocessing/_highly_variable_genes.py:215: FutureWarning: The default of observed=False is deprecated and will be changed to True in a future version of pandas. Pass observed=False to retain current behavior or observed=True to adopt the future default and silence this warning.\n",
      "  disp_grouped = df.groupby('mean_bin')['dispersions']\n",
      "/opt/anaconda3/envs/scvi-env/lib/python3.9/site-packages/anndata/_core/anndata.py:522: FutureWarning: The dtype argument is deprecated and will be removed in late 2024.\n",
      "  warnings.warn(\n",
      "/opt/anaconda3/envs/scvi-env/lib/python3.9/site-packages/anndata/_core/anndata.py:183: ImplicitModificationWarning: Transforming to str index.\n",
      "  warnings.warn(\"Transforming to str index.\", ImplicitModificationWarning)\n"
     ]
    },
    {
     "name": "stdout",
     "output_type": "stream",
     "text": [
      "adata_subset.obs.shape: (41201, 9)\n",
      "number of the highly variable genes: 2000\n",
      "adata_subset.X.shape: (41201, 2000)\n"
     ]
    }
   ],
   "source": [
    "import anndata as ad\n",
    "import numpy as np\n",
    "import scipy\n",
    "import pandas as pd\n",
    "import scanpy as sc\n",
    "\n",
    "\n",
    "#---------------------------------------------------------Load the matrixs-----------------------------------------------------\n",
    "\n",
    "normed_counts = \"/Users/apple/Desktop/KB/Dataset1/stateFate_inVitro_normed_counts.mtx.gz\"  #snakemake.input['normed_counts']\n",
    "gene_names = \"/Users/apple/Desktop/KB/Dataset1/stateFate_inVitro_gene_names.txt.gz\" #snakemake.input['gene_names']\n",
    "clone_matrix = \"/Users/apple/Desktop/KB/Dataset1/stateFate_inVitro_clone_matrix.mtx.gz\" #snakemake.input['clone_matrix']\n",
    "metadata = \"/Users/apple/Desktop/KB/Dataset1/stateFate_inVitro_metadata.txt.gz\" #snakemake.input['metadata']\n",
    "\n",
    "# load data\n",
    "normed_counts_mat = scipy.io.mmread(normed_counts).tocsr()\n",
    "genes = pd.read_csv(gene_names, sep='\\t',header=None).to_numpy().flatten()\n",
    "clone_mat = scipy.io.mmread(clone_matrix).tocsr()\n",
    "meta_df = pd.read_csv(metadata, sep='\\t')\n",
    "\n",
    "\n",
    "#-------------------------------Get num_genes of highly expressed genes from the orginal data(all cells)--------------------\n",
    "# create full adata\n",
    "adata = ad.AnnData(normed_counts_mat, obs=meta_df, var=pd.DataFrame(index=genes), dtype=np.float32)\n",
    "# optimize dtypes\n",
    "adata.obs['Library'] = adata.obs['Library'].astype('category')\n",
    "adata.obs['Time point'] = adata.obs['Time point'].astype(int)\n",
    "adata.obs['Starting population'] = adata.obs['Starting population'].astype('category')\n",
    "adata.obs['Cell type annotation'] = adata.obs['Cell type annotation'].astype('category')\n",
    "adata.obs['Well'] = adata.obs['Well'].astype(int)\n",
    "# assign clone_id\n",
    "adata.obs['clone_id'] = (clone_mat @ np.arange(1,1+clone_mat.shape[1])) - 1\n",
    "print(\"number of lineages: \", len(adata.obs['clone_id'].unique()))\n",
    "\n",
    "# get 2000 genes from the 130887(all) cells\n",
    "sc.pp.log1p(adata)\n",
    "sc.pp.highly_variable_genes(adata,n_top_genes=2000)\n",
    "\n",
    "\n",
    "#---------------------------------Creat the subset adata with trimmed number of genes and number of cells--------------------\n",
    "# create full adata\n",
    "adata_cp = ad.AnnData(normed_counts_mat, obs=meta_df, var=pd.DataFrame(index=genes), dtype=np.float32)\n",
    "\n",
    "# optimize dtypes\n",
    "adata_cp.obs['Library'] = adata_cp.obs['Library'].astype('category')\n",
    "adata_cp.obs['Time point'] = adata_cp.obs['Time point'].astype(int)\n",
    "adata_cp.obs['Starting population'] = adata_cp.obs['Starting population'].astype('category')\n",
    "adata_cp.obs['Cell type annotation'] = adata_cp.obs['Cell type annotation'].astype('category')\n",
    "adata_cp.obs['Well'] = adata_cp.obs['Well'].astype(int)\n",
    "# assign clone_id\n",
    "adata_cp.obs['clone_id'] = (clone_mat @ np.arange(1,1+clone_mat.shape[1])) - 1\n",
    "\n",
    "# remove the cells that belong to the clone_id with few cells\n",
    "value_counts = adata.obs['clone_id'].value_counts()\n",
    "frequency_dict = {}\n",
    "for value, count in value_counts.items():\n",
    "    if count in frequency_dict:\n",
    "        frequency_dict[count].append(value)\n",
    "    else:\n",
    "        frequency_dict[count] = [value]\n",
    "\n",
    "clone_for_remove = frequency_dict[81585]+frequency_dict[2]+frequency_dict[3]+frequency_dict[4] \n",
    "adata_subset = adata_cp[~adata_cp.obs['clone_id'].isin(clone_for_remove)]\n",
    "print(\"adata_subset.obs.shape:\", adata_subset.obs.shape)\n",
    "\n",
    "# trim the number of genes to the required number using the highly variable gene calculated from the original adata (all cells)\n",
    "hvgene = (adata.var.highly_variable[adata.var.highly_variable==True]).index\n",
    "print(\"number of the highly variable genes:\", len(hvgene))\n",
    "adata_subset = adata_subset[:,hvgene]\n",
    "print(\"adata_subset.X.shape:\", adata_subset.X.shape)"
   ]
  },
  {
   "cell_type": "code",
   "execution_count": 6,
   "metadata": {},
   "outputs": [],
   "source": [
    "# save the data to h5ad file\n",
    "adata_subset.write('Larry_41201_2000.h5ad')"
   ]
  }
 ],
 "metadata": {
  "kernelspec": {
   "display_name": "scvi-env",
   "language": "python",
   "name": "python3"
  },
  "language_info": {
   "codemirror_mode": {
    "name": "ipython",
    "version": 3
   },
   "file_extension": ".py",
   "mimetype": "text/x-python",
   "name": "python",
   "nbconvert_exporter": "python",
   "pygments_lexer": "ipython3",
   "version": "3.9.18"
  }
 },
 "nbformat": 4,
 "nbformat_minor": 2
}
