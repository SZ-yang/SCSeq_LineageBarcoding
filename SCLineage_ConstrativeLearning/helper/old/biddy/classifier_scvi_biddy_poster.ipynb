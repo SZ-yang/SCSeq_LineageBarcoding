{
 "cells": [
  {
   "cell_type": "code",
   "execution_count": 1,
   "metadata": {},
   "outputs": [],
   "source": [
    "import numpy as np\n",
    "from sklearn.model_selection import train_test_split\n",
    "from sklearn.neighbors import KNeighborsClassifier\n",
    "from sklearn.metrics import accuracy_score\n",
    "import anndata as ad\n",
    "import pandas as pd"
   ]
  },
  {
   "cell_type": "code",
   "execution_count": 3,
   "metadata": {},
   "outputs": [
    {
     "name": "stdout",
     "output_type": "stream",
     "text": [
      "(9220, 10) (995, 10)\n",
      "(9220,) (995,)\n"
     ]
    }
   ],
   "source": [
    "input_dir = \"/Users/apple/Desktop/KB/data\"\n",
    "# output_dir = \"/Users/apple/Desktop/KB/SCSeq_LineageBarcoding2/SCSeq_LineageBarcoding/SCLineage_ConstrativeLearning/out/plot/feat_811_train_test\"\n",
    "\n",
    "# Load dataset\n",
    "\n",
    "train_embeddings = np.load(input_dir+'/BiddyData/Biddy_scvi_train.npy')\n",
    "test_embeddings = np.load(input_dir+'/BiddyData/Biddy_scvi_test.npy')\n",
    "print(train_embeddings.shape, test_embeddings.shape)\n",
    "\n",
    "adata_train = ad.read_h5ad(input_dir+'/BiddyData/Biddy_train.h5ad')\n",
    "adata_test = ad.read_h5ad(input_dir+'/BiddyData/Biddy_test.h5ad')\n",
    "# adata_train.obs['Cell type annotation'] = adata_train.obs[\"cell_type\"]\n",
    "# adata_test.obs['Cell type annotation'] = adata_test.obs[\"cell_type\"]\n",
    "\n",
    "train_labels = adata_train.obs[\"clone_id\"].to_numpy()\n",
    "test_labels = adata_test.obs[\"clone_id\"].to_numpy()\n",
    "print(train_labels.shape, test_labels.shape)\n"
   ]
  },
  {
   "cell_type": "code",
   "execution_count": 4,
   "metadata": {},
   "outputs": [
    {
     "data": {
      "text/plain": [
       "clone_id\n",
       "493.0     1738\n",
       "2352.0     850\n",
       "487.0      585\n",
       "666.0      529\n",
       "2721.0     306\n",
       "          ... \n",
       "3007.0       5\n",
       "467.0        5\n",
       "2951.0       5\n",
       "505.0        5\n",
       "2886.0       5\n",
       "Name: count, Length: 248, dtype: int64"
      ]
     },
     "execution_count": 4,
     "metadata": {},
     "output_type": "execute_result"
    }
   ],
   "source": [
    "adata_train.obs[\"clone_id\"].value_counts()"
   ]
  },
  {
   "cell_type": "code",
   "execution_count": 5,
   "metadata": {},
   "outputs": [
    {
     "name": "stdout",
     "output_type": "stream",
     "text": [
      "KNN classifier accuracy: 45.23%\n"
     ]
    }
   ],
   "source": [
    "\n",
    "# Initialize the KNN classifier (you can adjust the number of neighbors)\n",
    "knn = KNeighborsClassifier(n_neighbors=5)\n",
    "\n",
    "# Train the KNN classifier\n",
    "knn.fit(train_embeddings, train_labels)\n",
    "\n",
    "# Predict the labels for the test set\n",
    "y_pred = knn.predict(test_embeddings)\n",
    "\n",
    "# Calculate the accuracy\n",
    "accuracy = accuracy_score(test_labels, y_pred)\n",
    "\n",
    "print(f\"KNN classifier accuracy: {accuracy * 100:.2f}%\")\n"
   ]
  },
  {
   "cell_type": "code",
   "execution_count": 6,
   "metadata": {},
   "outputs": [
    {
     "name": "stdout",
     "output_type": "stream",
     "text": [
      "KNN classifier accuracy: 44.90%\n"
     ]
    }
   ],
   "source": [
    "# Split the data into training and test sets\n",
    "X_train, X_test, y_train, y_test = train_test_split(train_embeddings, train_labels, test_size=0.2, random_state=42)\n",
    "\n",
    "# Initialize the KNN classifier (you can adjust the number of neighbors)\n",
    "knn = KNeighborsClassifier(n_neighbors=5)\n",
    "\n",
    "# Train the KNN classifier\n",
    "knn.fit(X_train, y_train)\n",
    "\n",
    "# Predict the labels for the test set\n",
    "y_pred = knn.predict(X_test)\n",
    "\n",
    "# Calculate the accuracy\n",
    "accuracy = accuracy_score(y_test, y_pred)\n",
    "\n",
    "print(f\"KNN classifier accuracy: {accuracy * 100:.2f}%\")\n"
   ]
  },
  {
   "cell_type": "code",
   "execution_count": null,
   "metadata": {},
   "outputs": [],
   "source": [
    "# Create a DataFrame to compare predictions with actual labels\n",
    "comparison_df = pd.DataFrame({\n",
    "    'True Label': test_labels,\n",
    "    'Predicted Label': y_pred\n",
    "})\n",
    "\n",
    "# Add a column indicating whether the prediction was correct\n",
    "comparison_df['Correct'] = comparison_df['True Label'] == comparison_df['Predicted Label']\n",
    "\n",
    "# Display the first few rows of the comparison DataFrame\n",
    "print(comparison_df[comparison_df['Correct']==True])\n"
   ]
  },
  {
   "cell_type": "code",
   "execution_count": null,
   "metadata": {},
   "outputs": [],
   "source": [
    "import matplotlib.pyplot as plt\n",
    "\n",
    "# Plot a histogram of the false_label_value_counts\n",
    "plt.figure(figsize=(10, 6))\n",
    "plt.hist(false_label_value_counts, bins=30, edgecolor='black')\n",
    "\n",
    "# Adding title and labels\n",
    "plt.title(\"Histogram of False Label Value Counts\")\n",
    "plt.xlabel(\"Count of False Labels\")\n",
    "plt.ylabel(\"Frequency\")\n",
    "\n",
    "# Show the plot\n",
    "plt.show()\n"
   ]
  },
  {
   "cell_type": "code",
   "execution_count": null,
   "metadata": {},
   "outputs": [],
   "source": [
    "import matplotlib.pyplot as plt\n",
    "\n",
    "# Plot a histogram of the false_label_value_counts\n",
    "plt.figure(figsize=(10, 6))\n",
    "plt.hist(correct_label_value_counts, bins=30, edgecolor='black')\n",
    "\n",
    "# Adding title and labels\n",
    "plt.title(\"Histogram of Correct Label Value Counts\")\n",
    "plt.xlabel(\"Count of Correct Labels\")\n",
    "plt.ylabel(\"Frequency\")\n",
    "\n",
    "# Show the plot\n",
    "plt.show()\n"
   ]
  },
  {
   "cell_type": "code",
   "execution_count": null,
   "metadata": {},
   "outputs": [],
   "source": [
    "# Convert correct labels to a pandas Series\n",
    "correct_labels_series = pd.Series(correct_labels)\n",
    "\n",
    "# Find the corresponding value in value_counts for those correct labels\n",
    "correct_label_value_counts = correct_labels_series.map(value_counts)\n",
    "\n",
    "# Display the resulting counts\n",
    "print(correct_label_value_counts)\n"
   ]
  },
  {
   "cell_type": "code",
   "execution_count": null,
   "metadata": {},
   "outputs": [],
   "source": [
    "correct_labels_series.unique"
   ]
  },
  {
   "cell_type": "code",
   "execution_count": null,
   "metadata": {},
   "outputs": [],
   "source": [
    "\n",
    "val_count = adata_test.obs[\"clone_id\"].value_counts()\n",
    "(val_count == 1).sum()"
   ]
  },
  {
   "cell_type": "code",
   "execution_count": null,
   "metadata": {},
   "outputs": [],
   "source": [
    "# Filter to get the clone_id's where the count is 1\n",
    "clone_ids_with_count_one = val_count[val_count == 1].index\n",
    "\n",
    "# Display the clone_ids\n",
    "print(clone_ids_with_count_one)\n"
   ]
  },
  {
   "cell_type": "code",
   "execution_count": null,
   "metadata": {},
   "outputs": [],
   "source": [
    "213 in  set(clone_ids_with_count_one)"
   ]
  },
  {
   "cell_type": "code",
   "execution_count": null,
   "metadata": {},
   "outputs": [],
   "source": [
    "681 in (set(correct_labels))"
   ]
  },
  {
   "cell_type": "code",
   "execution_count": null,
   "metadata": {},
   "outputs": [],
   "source": [
    "correct_labels_series.value_counts()"
   ]
  },
  {
   "cell_type": "code",
   "execution_count": null,
   "metadata": {},
   "outputs": [],
   "source": [
    "# Create a dictionary where the key is the unique clone_id and the value is the number of unique Cell type annotation\n",
    "clone_id_dict = (\n",
    "    adata.obs.groupby('clone_id')['Cell type annotation']\n",
    "    .nunique()\n",
    "    .to_dict()\n",
    ")\n",
    "\n",
    "# Display the dictionary\n",
    "print(clone_id_dict)\n"
   ]
  },
  {
   "cell_type": "code",
   "execution_count": null,
   "metadata": {},
   "outputs": [],
   "source": [
    "ls = []\n",
    "for i in correct_labels:\n",
    "    # print(i,\":\", clone_id_dict[i])\n",
    "    ls.append(clone_id_dict[i])\n",
    "ls_np = np.array(ls)\n",
    "\n",
    "lsl = []\n",
    "for key in clone_id_dict.keys():\n",
    "    # print(i,\":\", clone_id_dict[i])\n",
    "    lsl.append(clone_id_dict[key])\n",
    "lsl_np = np.array(lsl)\n",
    "\n",
    "ls_np.mean(), lsl_np.mean()"
   ]
  },
  {
   "cell_type": "code",
   "execution_count": null,
   "metadata": {},
   "outputs": [],
   "source": [
    "adata.obs[\"Cell type annotation\"].unique()"
   ]
  },
  {
   "cell_type": "code",
   "execution_count": null,
   "metadata": {},
   "outputs": [],
   "source": []
  }
 ],
 "metadata": {
  "kernelspec": {
   "display_name": "scvi-env",
   "language": "python",
   "name": "python3"
  },
  "language_info": {
   "codemirror_mode": {
    "name": "ipython",
    "version": 3
   },
   "file_extension": ".py",
   "mimetype": "text/x-python",
   "name": "python",
   "nbconvert_exporter": "python",
   "pygments_lexer": "ipython3",
   "version": "3.9.19"
  }
 },
 "nbformat": 4,
 "nbformat_minor": 2
}
