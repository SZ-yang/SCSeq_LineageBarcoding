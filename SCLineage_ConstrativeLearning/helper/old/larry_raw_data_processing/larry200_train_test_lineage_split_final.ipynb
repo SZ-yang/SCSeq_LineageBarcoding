{
 "cells": [
  {
   "cell_type": "code",
   "execution_count": 1,
   "metadata": {},
   "outputs": [],
   "source": [
    "import numpy as np\n",
    "import anndata as ad\n",
    "import seaborn as sns\n",
    "import matplotlib.pyplot as plt\n",
    "import pandas as pd\n",
    "from copy import deepcopy\n",
    "from sklearn.cluster import KMeans\n",
    "from scipy.sparse import csr_matrix\n",
    "import scanpy as sc\n",
    "import scipy"
   ]
  },
  {
   "cell_type": "code",
   "execution_count": 2,
   "metadata": {},
   "outputs": [],
   "source": [
    "adata = ad.read_h5ad(\"/Users/apple/Desktop/KB/data/LarryData/Larry_200.h5ad\")\n",
    "# Step 1: Identify unique clone_ids and their frequencies\n",
    "clone_ids = adata.obs['clone_id'].unique()"
   ]
  },
  {
   "cell_type": "code",
   "execution_count": 4,
   "metadata": {},
   "outputs": [
    {
     "data": {
      "text/plain": [
       "200"
      ]
     },
     "execution_count": 4,
     "metadata": {},
     "output_type": "execute_result"
    }
   ],
   "source": [
    "len(clone_ids)"
   ]
  },
  {
   "cell_type": "code",
   "execution_count": 5,
   "metadata": {},
   "outputs": [
    {
     "name": "stdout",
     "output_type": "stream",
     "text": [
      "Number of cells in adata_test: (1121, 2000)\n",
      "Number of cells in adata_train: (10252, 2000)\n"
     ]
    }
   ],
   "source": [
    "# Step 3: Randomly select 40 clone_ids for testing\n",
    "np.random.seed(42)  # for reproducibility\n",
    "selected_clone_ids = np.random.choice(clone_ids, size=20, replace=False)\n",
    "\n",
    "# Step 4: Create test and training datasets based on the selected clone_ids\n",
    "test_mask = adata.obs['clone_id'].isin(selected_clone_ids)\n",
    "adata_test = adata[test_mask]  # adata containing the selected clone_ids for testing\n",
    "adata_train = adata[~test_mask]  # adata with the rest of the cells for training\n",
    "\n",
    "\n",
    "# Print the number of cells in each dataset\n",
    "print(f\"Number of cells in adata_test: {adata_test.shape}\")\n",
    "print(f\"Number of cells in adata_train: {adata_train.shape}\")\n"
   ]
  },
  {
   "cell_type": "code",
   "execution_count": 6,
   "metadata": {},
   "outputs": [
    {
     "data": {
      "text/plain": [
       "clone_id\n",
       "3345    124\n",
       "3869     90\n",
       "3250     90\n",
       "3851     85\n",
       "2007     80\n",
       "5609     57\n",
       "2224     57\n",
       "2580     54\n",
       "4986     53\n",
       "3592     51\n",
       "340      46\n",
       "3111     41\n",
       "2974     40\n",
       "2437     38\n",
       "2111     38\n",
       "2092     37\n",
       "4683     37\n",
       "4237     35\n",
       "998      34\n",
       "2115     34\n",
       "Name: count, dtype: int64"
      ]
     },
     "execution_count": 6,
     "metadata": {},
     "output_type": "execute_result"
    }
   ],
   "source": [
    "adata_test.obs['clone_id'].value_counts()\n"
   ]
  },
  {
   "cell_type": "code",
   "execution_count": 7,
   "metadata": {},
   "outputs": [
    {
     "data": {
      "text/plain": [
       "clone_id\n",
       "1261    177\n",
       "2370    165\n",
       "5714    141\n",
       "292     134\n",
       "5209    129\n",
       "       ... \n",
       "4611     35\n",
       "3961     35\n",
       "3349     35\n",
       "1998     34\n",
       "922      34\n",
       "Name: count, Length: 180, dtype: int64"
      ]
     },
     "execution_count": 7,
     "metadata": {},
     "output_type": "execute_result"
    }
   ],
   "source": [
    "adata_train.obs['clone_id'].value_counts()"
   ]
  },
  {
   "cell_type": "code",
   "execution_count": 8,
   "metadata": {},
   "outputs": [],
   "source": [
    "# Save the resulting datasets if needed\n",
    "adata_test.write(\"/Users/apple/Desktop/KB/data/LarryData/train_test/Larry_200_test_lineage.h5ad\")\n",
    "adata_train.write(\"/Users/apple/Desktop/KB/data/LarryData/train_test/Larry_200_train_lineage.h5ad\")"
   ]
  }
 ],
 "metadata": {
  "kernelspec": {
   "display_name": "scvi-env",
   "language": "python",
   "name": "python3"
  },
  "language_info": {
   "codemirror_mode": {
    "name": "ipython",
    "version": 3
   },
   "file_extension": ".py",
   "mimetype": "text/x-python",
   "name": "python",
   "nbconvert_exporter": "python",
   "pygments_lexer": "ipython3",
   "version": "3.9.18"
  }
 },
 "nbformat": 4,
 "nbformat_minor": 2
}
