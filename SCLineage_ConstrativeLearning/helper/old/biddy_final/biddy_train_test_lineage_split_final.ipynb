{
 "cells": [
  {
   "cell_type": "code",
   "execution_count": 1,
   "metadata": {},
   "outputs": [],
   "source": [
    "import numpy as np\n",
    "import anndata as ad\n",
    "import seaborn as sns\n",
    "import matplotlib.pyplot as plt\n",
    "import pandas as pd\n",
    "from copy import deepcopy\n",
    "from sklearn.cluster import KMeans\n",
    "from scipy.sparse import csr_matrix\n",
    "import scanpy as sc\n",
    "import scipy"
   ]
  },
  {
   "cell_type": "code",
   "execution_count": 2,
   "metadata": {},
   "outputs": [],
   "source": [
    "adata = ad.read_h5ad(\"/Users/apple/Desktop/KB/data/BiddyData/biddy_6534_2000_norm_log.h5ad\")\n",
    "# Step 1: Identify unique clone_ids and their frequencies\n",
    "clone_ids = adata.obs['clone_id'].unique()"
   ]
  },
  {
   "cell_type": "code",
   "execution_count": 3,
   "metadata": {},
   "outputs": [
    {
     "name": "stdout",
     "output_type": "stream",
     "text": [
      "Number of cells in adata_test: (613, 2000)\n",
      "Number of cells in adata_train: (5921, 2000)\n"
     ]
    }
   ],
   "source": [
    "# Step 3: Randomly select 40 clone_ids for testing\n",
    "np.random.seed(42)  # for reproducibility\n",
    "selected_clone_ids = np.random.choice(clone_ids, size=40, replace=False)\n",
    "\n",
    "# Step 4: Create test and training datasets based on the selected clone_ids\n",
    "test_mask = adata.obs['clone_id'].isin(selected_clone_ids)\n",
    "adata_test = adata[test_mask]  # adata containing the selected clone_ids for testing\n",
    "adata_train = adata[~test_mask]  # adata with the rest of the cells for training\n",
    "\n",
    "\n",
    "# Print the number of cells in each dataset\n",
    "print(f\"Number of cells in adata_test: {adata_test.shape}\")\n",
    "print(f\"Number of cells in adata_train: {adata_train.shape}\")\n"
   ]
  },
  {
   "cell_type": "code",
   "execution_count": 4,
   "metadata": {},
   "outputs": [
    {
     "data": {
      "text/plain": [
       "clone_id\n",
       "271.0     83\n",
       "573.0     78\n",
       "776.0     34\n",
       "2449.0    33\n",
       "402.0     31\n",
       "548.0     28\n",
       "410.0     21\n",
       "205.0     19\n",
       "2581.0    18\n",
       "2796.0    17\n",
       "199.0     17\n",
       "2209.0    16\n",
       "411.0     16\n",
       "607.0     13\n",
       "2482.0    12\n",
       "2893.0    12\n",
       "491.0     12\n",
       "595.0     11\n",
       "2756.0    10\n",
       "478.0      9\n",
       "2627.0     9\n",
       "2697.0     8\n",
       "647.0      8\n",
       "2530.0     7\n",
       "2878.0     7\n",
       "2732.0     7\n",
       "232.0      7\n",
       "383.0      6\n",
       "2256.0     6\n",
       "2948.0     6\n",
       "2828.0     6\n",
       "2876.0     6\n",
       "829.0      5\n",
       "370.0      5\n",
       "2845.0     5\n",
       "2920.0     5\n",
       "460.0      5\n",
       "2560.0     5\n",
       "659.0      5\n",
       "2902.0     5\n",
       "Name: count, dtype: int64"
      ]
     },
     "execution_count": 4,
     "metadata": {},
     "output_type": "execute_result"
    }
   ],
   "source": [
    "adata_test.obs['clone_id'].value_counts()\n"
   ]
  },
  {
   "cell_type": "code",
   "execution_count": 5,
   "metadata": {},
   "outputs": [
    {
     "data": {
      "text/plain": [
       "clone_id\n",
       "493.0     1309\n",
       "2352.0     657\n",
       "487.0      366\n",
       "666.0      329\n",
       "2721.0     293\n",
       "          ... \n",
       "2630.0       5\n",
       "2350.0       5\n",
       "2915.0       5\n",
       "657.0        5\n",
       "2367.0       5\n",
       "Name: count, Length: 129, dtype: int64"
      ]
     },
     "execution_count": 5,
     "metadata": {},
     "output_type": "execute_result"
    }
   ],
   "source": [
    "adata_train.obs['clone_id'].value_counts()"
   ]
  },
  {
   "cell_type": "code",
   "execution_count": 6,
   "metadata": {},
   "outputs": [],
   "source": [
    "# Save the resulting datasets if needed\n",
    "adata_test.write(\"/Users/apple/Desktop/KB/data/BiddyData/Biddy_test_lineage.h5ad\")\n",
    "adata_train.write(\"/Users/apple/Desktop/KB/data/BiddyData/Biddy_train_lineage.h5ad\")"
   ]
  }
 ],
 "metadata": {
  "kernelspec": {
   "display_name": "scvi-env",
   "language": "python",
   "name": "python3"
  },
  "language_info": {
   "codemirror_mode": {
    "name": "ipython",
    "version": 3
   },
   "file_extension": ".py",
   "mimetype": "text/x-python",
   "name": "python",
   "nbconvert_exporter": "python",
   "pygments_lexer": "ipython3",
   "version": "3.9.18"
  }
 },
 "nbformat": 4,
 "nbformat_minor": 2
}
