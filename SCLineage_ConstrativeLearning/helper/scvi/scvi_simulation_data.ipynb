{
 "cells": [
  {
   "cell_type": "code",
   "execution_count": 1,
   "metadata": {},
   "outputs": [],
   "source": [
    "import anndata as ad\n",
    "import pandas as pd"
   ]
  },
  {
   "cell_type": "code",
   "execution_count": 2,
   "metadata": {},
   "outputs": [],
   "source": [
    "exp_id= \"final_final\""
   ]
  },
  {
   "cell_type": "code",
   "execution_count": 3,
   "metadata": {},
   "outputs": [],
   "source": [
    "\n",
    "\n",
    "# Paths to your simulation files\n",
    "sim_input_dir = f\"/Users/apple/Desktop/KB/data/LarryData/Larry_simulation/Larry_simulation_4scCL/{exp_id}/\"\n",
    "sim_files = [\n",
    "    f'Larry_Simulation_01_{exp_id}.h5ad',\n",
    "    f'Larry_Simulation_03_{exp_id}.h5ad',\n",
    "    f'Larry_Simulation_05_{exp_id}.h5ad',\n",
    "    f'Larry_Simulation_07_{exp_id}.h5ad',\n",
    "    f'Larry_Simulation_09_{exp_id}.h5ad'\n",
    "]\n",
    "\n",
    "# Loading simulation data\n",
    "sim_data = [ad.read_h5ad(f'{sim_input_dir}/{file}') for file in sim_files]\n",
    "\n",
    "# Load adata_scvi\n",
    "adata_raw = ad.read_h5ad(\"/Users/apple/Desktop/KB/data/LarryData/larry_invitro_adata_sub_raw.h5ad\")\n",
    "\n"
   ]
  },
  {
   "cell_type": "code",
   "execution_count": 4,
   "metadata": {},
   "outputs": [
    {
     "name": "stdout",
     "output_type": "stream",
     "text": [
      "(41093, 2000)\n",
      "(41093, 2000)\n",
      "(41093, 2000)\n",
      "(41093, 2000)\n",
      "(41093, 2000)\n"
     ]
    }
   ],
   "source": [
    "for i in sim_data:\n",
    "    print(i.X.shape)"
   ]
  },
  {
   "cell_type": "code",
   "execution_count": 5,
   "metadata": {},
   "outputs": [],
   "source": [
    "# Creating new anndata objects based on cell ids from simulation data\n",
    "new_adatas = []\n",
    "for i, adata_sim in enumerate(sim_data):\n",
    "    # Select cells from adata_scvi based on cell ids in adata_sim\n",
    "    cells_to_select = adata_sim.obs.index\n",
    "    genes_sim = adata_sim.var_names\n",
    "    adata_scvi_subset = adata_raw[cells_to_select, genes_sim]\n",
    "    \n",
    "    # Create new anndata object with X from adata_scvi_subset and obs from adata_sim\n",
    "    new_adata = ad.AnnData(X=adata_scvi_subset.X, obs=adata_sim.obs, var=adata_sim.var)\n",
    "    new_adatas.append(new_adata)\n",
    "    \n",
    "    # Naming the new objects as specified\n",
    "    adata_name = f'adata_scvi_sim0{2*i+1}'\n",
    "    globals()[adata_name] = new_adata\n",
    "    \n",
    "    # Save the new anndata object as an h5ad file\n",
    "    new_adata.write_h5ad(f'{adata_name}_{exp_id}.h5ad')\n",
    "\n",
    "\n"
   ]
  },
  {
   "cell_type": "code",
   "execution_count": 6,
   "metadata": {},
   "outputs": [
    {
     "name": "stdout",
     "output_type": "stream",
     "text": [
      "adata_scvi_sim01.X.shape: (41093, 2000)\n",
      "adata_scvi_sim01.obs.shape: (41093, 11)\n",
      "adata_scvi_sim03.X.shape: (41093, 2000)\n",
      "adata_scvi_sim03.obs.shape: (41093, 11)\n",
      "adata_scvi_sim05.X.shape: (41093, 2000)\n",
      "adata_scvi_sim05.obs.shape: (41093, 11)\n",
      "adata_scvi_sim07.X.shape: (41093, 2000)\n",
      "adata_scvi_sim07.obs.shape: (41093, 11)\n",
      "adata_scvi_sim09.X.shape: (41093, 2000)\n",
      "adata_scvi_sim09.obs.shape: (41093, 11)\n"
     ]
    }
   ],
   "source": [
    "# Checking the shapes to ensure they are as expected\n",
    "for i, new_adata in enumerate(new_adatas):\n",
    "    print(f'adata_scvi_sim0{2*i+1}.X.shape:', new_adata.X.shape)\n",
    "    print(f'adata_scvi_sim0{2*i+1}.obs.shape:', new_adata.obs.shape)"
   ]
  }
 ],
 "metadata": {
  "kernelspec": {
   "display_name": "scvi-env",
   "language": "python",
   "name": "python3"
  },
  "language_info": {
   "codemirror_mode": {
    "name": "ipython",
    "version": 3
   },
   "file_extension": ".py",
   "mimetype": "text/x-python",
   "name": "python",
   "nbconvert_exporter": "python",
   "pygments_lexer": "ipython3",
   "version": "3.9.18"
  }
 },
 "nbformat": 4,
 "nbformat_minor": 2
}
