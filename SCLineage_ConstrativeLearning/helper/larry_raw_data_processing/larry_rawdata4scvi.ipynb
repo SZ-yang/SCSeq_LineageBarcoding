{
 "cells": [
  {
   "cell_type": "code",
   "execution_count": 1,
   "metadata": {},
   "outputs": [],
   "source": [
    "import numpy as np\n",
    "import anndata as ad\n",
    "import seaborn as sns\n",
    "import matplotlib.pyplot as plt\n",
    "import pandas as pd\n",
    "from copy import deepcopy\n",
    "from sklearn.cluster import KMeans\n",
    "from scipy.sparse import csr_matrix\n",
    "import scanpy as sc\n",
    "import scipy"
   ]
  },
  {
   "cell_type": "code",
   "execution_count": 2,
   "metadata": {},
   "outputs": [],
   "source": [
    "input_dir = \"/Users/apple/Desktop/KB/data/LarryData\"\n",
    "\n",
    "adata_raw = ad.read_h5ad(input_dir + \"/larry_raw_w_clone_id.h5ad\")\n",
    "adata_normlog = ad.read_h5ad(input_dir + \"/Larry_41093_2000_norm_log.h5ad\")\n",
    "\n",
    "adata_train = ad.read_h5ad(input_dir + \"/train_test/Larry_train.h5ad\")\n",
    "adata_test = ad.read_h5ad(input_dir + \"/train_test/Larry_test.h5ad\")\n",
    "\n",
    "adata_train_200 = ad.read_h5ad(input_dir + \"/train_test/Larry_200_train.h5ad\")\n",
    "adata_test_200 = ad.read_h5ad(input_dir + \"/train_test/Larry_200_test.h5ad\")\n",
    "\n",
    "adata_train_500 = ad.read_h5ad(input_dir + \"/train_test/Larry_500_train.h5ad\")\n",
    "adata_test_500 = ad.read_h5ad(input_dir + \"/train_test/Larry_500_test.h5ad\")\n"
   ]
  },
  {
   "cell_type": "code",
   "execution_count": 4,
   "metadata": {},
   "outputs": [
    {
     "data": {
      "text/plain": [
       "((49302, 23420),\n",
       " (41093, 2000),\n",
       " (37207, 2000),\n",
       " (3886, 2000),\n",
       " (10148, 2000),\n",
       " (1225, 2000),\n",
       " (17054, 2000),\n",
       " (2177, 2000))"
      ]
     },
     "execution_count": 4,
     "metadata": {},
     "output_type": "execute_result"
    }
   ],
   "source": [
    "adata_raw.shape, adata_normlog.shape, adata_train.shape, adata_test.shape, adata_train_200.shape, adata_test_200.shape, adata_train_500.shape, adata_test_500.shape\n"
   ]
  },
  {
   "cell_type": "code",
   "execution_count": 3,
   "metadata": {},
   "outputs": [],
   "source": [
    "def scvi_data(adata_ds, adata_scCL):\n",
    "\n",
    "    print(\"adata_ds.shape: \", adata_ds.shape)\n",
    "    print(\"adata_scCL.shape: \", adata_scCL.shape)\n",
    "\n",
    "    cells_to_select = adata_scCL.obs.index\n",
    "    genes_sim = adata_scCL.var_names\n",
    "    adata_scvi_subset = adata_ds[cells_to_select, genes_sim]\n",
    "    \n",
    "    # Create new anndata object with X from adata_scvi_subset and obs from adata_scCL\n",
    "    adata_scvi = ad.AnnData(X=adata_scvi_subset.X, obs=adata_scCL.obs, var=adata_scCL.var)\n",
    "\n",
    "    return adata_scvi"
   ]
  },
  {
   "cell_type": "markdown",
   "metadata": {},
   "source": [
    "### full data"
   ]
  },
  {
   "cell_type": "code",
   "execution_count": 6,
   "metadata": {},
   "outputs": [
    {
     "name": "stdout",
     "output_type": "stream",
     "text": [
      "adata_ds.shape:  (49302, 23420)\n",
      "adata_scCL.shape:  (41093, 2000)\n"
     ]
    },
    {
     "data": {
      "text/plain": [
       "(41093, 2000)"
      ]
     },
     "execution_count": 6,
     "metadata": {},
     "output_type": "execute_result"
    }
   ],
   "source": [
    "adata_scvi_full = scvi_data(adata_raw, adata_normlog)\n",
    "adata_scvi_full.shape"
   ]
  },
  {
   "cell_type": "markdown",
   "metadata": {},
   "source": [
    "### train test data"
   ]
  },
  {
   "cell_type": "code",
   "execution_count": 7,
   "metadata": {},
   "outputs": [
    {
     "name": "stdout",
     "output_type": "stream",
     "text": [
      "adata_ds.shape:  (49302, 23420)\n",
      "adata_scCL.shape:  (37207, 2000)\n",
      "adata_ds.shape:  (49302, 23420)\n",
      "adata_scCL.shape:  (3886, 2000)\n"
     ]
    },
    {
     "data": {
      "text/plain": [
       "((37207, 2000), (3886, 2000))"
      ]
     },
     "execution_count": 7,
     "metadata": {},
     "output_type": "execute_result"
    }
   ],
   "source": [
    "adata_scvi_train = scvi_data(adata_raw, adata_train)\n",
    "adata_scvi_test = scvi_data(adata_raw, adata_test)\n",
    "adata_scvi_train.shape, adata_scvi_test.shape"
   ]
  },
  {
   "cell_type": "markdown",
   "metadata": {},
   "source": [
    "### train test top 200 data"
   ]
  },
  {
   "cell_type": "code",
   "execution_count": 8,
   "metadata": {},
   "outputs": [
    {
     "name": "stdout",
     "output_type": "stream",
     "text": [
      "adata_ds.shape:  (49302, 23420)\n",
      "adata_scCL.shape:  (10148, 2000)\n",
      "adata_ds.shape:  (49302, 23420)\n",
      "adata_scCL.shape:  (1225, 2000)\n"
     ]
    },
    {
     "data": {
      "text/plain": [
       "((10148, 2000), (1225, 2000))"
      ]
     },
     "execution_count": 8,
     "metadata": {},
     "output_type": "execute_result"
    }
   ],
   "source": [
    "adata_scvi_train_200 = scvi_data(adata_raw, adata_train_200)\n",
    "adata_scvi_test_200 = scvi_data(adata_raw, adata_test_200)\n",
    "adata_scvi_train_200.shape, adata_scvi_test_200.shape"
   ]
  },
  {
   "cell_type": "markdown",
   "metadata": {},
   "source": [
    "### train test top 500 data"
   ]
  },
  {
   "cell_type": "code",
   "execution_count": 9,
   "metadata": {},
   "outputs": [
    {
     "name": "stdout",
     "output_type": "stream",
     "text": [
      "adata_ds.shape:  (49302, 23420)\n",
      "adata_scCL.shape:  (17054, 2000)\n",
      "adata_ds.shape:  (49302, 23420)\n",
      "adata_scCL.shape:  (2177, 2000)\n"
     ]
    },
    {
     "data": {
      "text/plain": [
       "((17054, 2000), (2177, 2000))"
      ]
     },
     "execution_count": 9,
     "metadata": {},
     "output_type": "execute_result"
    }
   ],
   "source": [
    "adata_scvi_train_500 = scvi_data(adata_raw, adata_train_500)\n",
    "adata_scvi_test_500 = scvi_data(adata_raw, adata_test_500)\n",
    "adata_scvi_train_500.shape, adata_scvi_test_500.shape"
   ]
  },
  {
   "cell_type": "code",
   "execution_count": 10,
   "metadata": {},
   "outputs": [
    {
     "data": {
      "text/plain": [
       "((41093, 2000),\n",
       " (37207, 2000),\n",
       " (3886, 2000),\n",
       " (10148, 2000),\n",
       " (1225, 2000),\n",
       " (17054, 2000),\n",
       " (2177, 2000))"
      ]
     },
     "execution_count": 10,
     "metadata": {},
     "output_type": "execute_result"
    }
   ],
   "source": [
    "adata_scvi_full.write_h5ad('Larry_scvi_full.h5ad')\n",
    "\n",
    "adata_scvi_train.write_h5ad('Larry_scvi_train.h5ad')\n",
    "adata_scvi_test.write_h5ad('Larry_scvi_test.h5ad')\n",
    "\n",
    "adata_scvi_train_200.write_h5ad('Larry_scvi_train_200.h5ad')\n",
    "adata_scvi_test_200.write_h5ad('Larry_scvi_test_200.h5ad')\n",
    "\n",
    "adata_scvi_train_500.write_h5ad('Larry_scvi_train_500.h5ad')\n",
    "adata_scvi_test_500.write_h5ad('Larry_scvi_test_500.h5ad')\n",
    "\n",
    "adata_scvi_full.shape, adata_scvi_train.shape, adata_scvi_test.shape, adata_scvi_train_200.shape, adata_scvi_test_200.shape, adata_scvi_train_500.shape, adata_scvi_test_500.shape"
   ]
  },
  {
   "cell_type": "markdown",
   "metadata": {},
   "source": [
    "### Train Test lineage split"
   ]
  },
  {
   "cell_type": "code",
   "execution_count": 2,
   "metadata": {},
   "outputs": [],
   "source": [
    "input_dir = \"/Users/apple/Desktop/KB/data/LarryData\"\n",
    "\n",
    "adata_raw = ad.read_h5ad(input_dir + \"/larry_raw_w_clone_id.h5ad\")\n",
    "adata_normlog = ad.read_h5ad(input_dir + \"/Larry_41093_2000_norm_log.h5ad\")\n",
    "\n",
    "adata_train_lin = ad.read_h5ad(input_dir + \"/train_test/Larry_train_lineage.h5ad\")\n",
    "adata_test_lin = ad.read_h5ad(input_dir + \"/train_test/Larry_test_lineage.h5ad\")\n",
    "\n",
    "adata_train_200_lin = ad.read_h5ad(input_dir + \"/train_test/Larry_200_train_lineage.h5ad\")\n",
    "adata_test_200_lin = ad.read_h5ad(input_dir + \"/train_test/Larry_200_test_lineage.h5ad\")\n",
    "\n",
    "adata_train_500_lin = ad.read_h5ad(input_dir + \"/train_test/Larry_500_train_lineage.h5ad\")\n",
    "adata_test_500_lin = ad.read_h5ad(input_dir + \"/train_test/Larry_500_test_lineage.h5ad\")\n"
   ]
  },
  {
   "cell_type": "code",
   "execution_count": 4,
   "metadata": {},
   "outputs": [
    {
     "name": "stdout",
     "output_type": "stream",
     "text": [
      "adata_ds.shape:  (49302, 23420)\n",
      "adata_scCL.shape:  (37070, 2000)\n",
      "adata_ds.shape:  (49302, 23420)\n",
      "adata_scCL.shape:  (4023, 2000)\n"
     ]
    },
    {
     "data": {
      "text/plain": [
       "((37070, 2000), (4023, 2000))"
      ]
     },
     "execution_count": 4,
     "metadata": {},
     "output_type": "execute_result"
    }
   ],
   "source": [
    "adata_scvi_train_lin = scvi_data(adata_raw, adata_train_lin)\n",
    "adata_scvi_test_lin = scvi_data(adata_raw, adata_test_lin)\n",
    "adata_scvi_train_lin.shape, adata_scvi_test_lin.shape"
   ]
  },
  {
   "cell_type": "code",
   "execution_count": 5,
   "metadata": {},
   "outputs": [
    {
     "name": "stdout",
     "output_type": "stream",
     "text": [
      "adata_ds.shape:  (49302, 23420)\n",
      "adata_scCL.shape:  (10252, 2000)\n",
      "adata_ds.shape:  (49302, 23420)\n",
      "adata_scCL.shape:  (1121, 2000)\n"
     ]
    },
    {
     "data": {
      "text/plain": [
       "((10252, 2000), (1121, 2000))"
      ]
     },
     "execution_count": 5,
     "metadata": {},
     "output_type": "execute_result"
    }
   ],
   "source": [
    "adata_scvi_train_200_lin = scvi_data(adata_raw, adata_train_200_lin)\n",
    "adata_scvi_test_200_lin = scvi_data(adata_raw, adata_test_200_lin)\n",
    "adata_scvi_train_200_lin.shape, adata_scvi_test_200_lin.shape"
   ]
  },
  {
   "cell_type": "code",
   "execution_count": 6,
   "metadata": {},
   "outputs": [
    {
     "name": "stdout",
     "output_type": "stream",
     "text": [
      "adata_ds.shape:  (49302, 23420)\n",
      "adata_scCL.shape:  (17422, 2000)\n",
      "adata_ds.shape:  (49302, 23420)\n",
      "adata_scCL.shape:  (1809, 2000)\n"
     ]
    },
    {
     "data": {
      "text/plain": [
       "((17422, 2000), (1809, 2000))"
      ]
     },
     "execution_count": 6,
     "metadata": {},
     "output_type": "execute_result"
    }
   ],
   "source": [
    "adata_scvi_train_500_lin = scvi_data(adata_raw, adata_train_500_lin)\n",
    "adata_scvi_test_500_lin = scvi_data(adata_raw, adata_test_500_lin)\n",
    "adata_scvi_train_500_lin.shape, adata_scvi_test_500_lin.shape"
   ]
  },
  {
   "cell_type": "code",
   "execution_count": 11,
   "metadata": {},
   "outputs": [
    {
     "data": {
      "text/plain": [
       "2813"
      ]
     },
     "execution_count": 11,
     "metadata": {},
     "output_type": "execute_result"
    }
   ],
   "source": [
    "len(adata_normlog.obs[\"clone_id\"].unique())"
   ]
  },
  {
   "cell_type": "code",
   "execution_count": 7,
   "metadata": {},
   "outputs": [],
   "source": [
    "adata_scvi_train_lin.write_h5ad('Larry_scvi_train_lineage.h5ad')\n",
    "adata_scvi_test_lin.write_h5ad('Larry_scvi_test_lineage.h5ad')\n",
    "\n",
    "adata_scvi_train_200_lin.write_h5ad('Larry_scvi_train_200_lineage.h5ad')\n",
    "adata_scvi_test_200_lin.write_h5ad('Larry_scvi_test_200_lineage.h5ad')\n",
    "\n",
    "adata_scvi_train_500_lin.write_h5ad('Larry_scvi_train_500_lineage.h5ad')\n",
    "adata_scvi_test_500_lin.write_h5ad('Larry_scvi_test_500_lineage.h5ad')\n"
   ]
  }
 ],
 "metadata": {
  "kernelspec": {
   "display_name": "scvi-env",
   "language": "python",
   "name": "python3"
  },
  "language_info": {
   "codemirror_mode": {
    "name": "ipython",
    "version": 3
   },
   "file_extension": ".py",
   "mimetype": "text/x-python",
   "name": "python",
   "nbconvert_exporter": "python",
   "pygments_lexer": "ipython3",
   "version": "3.9.18"
  }
 },
 "nbformat": 4,
 "nbformat_minor": 2
}
