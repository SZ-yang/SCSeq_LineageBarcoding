{
 "cells": [
  {
   "cell_type": "code",
   "execution_count": 1,
   "metadata": {},
   "outputs": [],
   "source": [
    "import numpy as np\n",
    "import anndata as ad\n",
    "import seaborn as sns\n",
    "import matplotlib.pyplot as plt\n",
    "import pandas as pd\n",
    "from copy import deepcopy\n",
    "from sklearn.cluster import KMeans\n",
    "from scipy.sparse import csr_matrix\n",
    "import scanpy as sc\n",
    "import scipy"
   ]
  },
  {
   "cell_type": "code",
   "execution_count": 2,
   "metadata": {},
   "outputs": [],
   "source": [
    "sc.settings.verbosity = 3 "
   ]
  },
  {
   "cell_type": "code",
   "execution_count": 3,
   "metadata": {},
   "outputs": [],
   "source": [
    "adata_raw = ad.read_h5ad(\"/Users/apple/Desktop/KB/data/LarryData/larry_raw_w_clone_id.h5ad\")\n",
    "adata_normlog = ad.read_h5ad(\"/Users/apple/Desktop/KB/data/LarryData/Larry_41093_2000_norm_log.h5ad\")\n"
   ]
  },
  {
   "cell_type": "code",
   "execution_count": 4,
   "metadata": {},
   "outputs": [
    {
     "data": {
      "text/plain": [
       "((49302, 23420), (41093, 2000))"
      ]
     },
     "execution_count": 4,
     "metadata": {},
     "output_type": "execute_result"
    }
   ],
   "source": [
    "adata_raw.X.shape, adata_normlog.X.shape"
   ]
  },
  {
   "cell_type": "code",
   "execution_count": 5,
   "metadata": {},
   "outputs": [],
   "source": [
    "# Step 1: Find common genes\n",
    "common_genes = adata_raw.var_names.intersection(adata_normlog.var_names)\n",
    "\n",
    "# Step 2: Find common cells\n",
    "common_cells = adata_raw.obs_names.intersection(adata_normlog.obs_names)\n",
    "\n",
    "# Step 3: Subset adata_raw to only include the common cells and genes\n",
    "adata_raw_subset = adata_raw[common_cells, common_genes]\n",
    "\n",
    "# Step 4: Ensure that both are ordered the same way (if not, reorder them)\n",
    "adata_raw_subset = adata_raw_subset[adata_normlog.obs_names, adata_normlog.var_names]\n",
    "\n",
    "# Step 5: Store the subset of raw counts in the layers of adata_normlog\n",
    "adata_normlog.layers[\"raw_counts\"] = adata_raw_subset.X.copy()"
   ]
  },
  {
   "cell_type": "code",
   "execution_count": 7,
   "metadata": {},
   "outputs": [
    {
     "data": {
      "text/plain": [
       "(41093, 2000)"
      ]
     },
     "execution_count": 7,
     "metadata": {},
     "output_type": "execute_result"
    }
   ],
   "source": [
    "adata_normlog.layers[\"raw_counts\"].shape"
   ]
  },
  {
   "cell_type": "code",
   "execution_count": 8,
   "metadata": {},
   "outputs": [],
   "source": [
    "adata_normlog.write(\"/Users/apple/Desktop/KB/data/LarryData/Larry_41093_2000_norm_log.h5ad\")"
   ]
  }
 ],
 "metadata": {
  "kernelspec": {
   "display_name": "scvi-env",
   "language": "python",
   "name": "python3"
  },
  "language_info": {
   "codemirror_mode": {
    "name": "ipython",
    "version": 3
   },
   "file_extension": ".py",
   "mimetype": "text/x-python",
   "name": "python",
   "nbconvert_exporter": "python",
   "pygments_lexer": "ipython3",
   "version": "3.9.18"
  }
 },
 "nbformat": 4,
 "nbformat_minor": 2
}
