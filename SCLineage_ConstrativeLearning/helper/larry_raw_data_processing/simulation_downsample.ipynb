{
 "cells": [
  {
   "cell_type": "code",
   "execution_count": 1,
   "metadata": {},
   "outputs": [],
   "source": [
    "import numpy as np\n",
    "import anndata as ad\n",
    "import seaborn as sns\n",
    "import matplotlib.pyplot as plt\n",
    "import pandas as pd\n",
    "from copy import deepcopy\n",
    "from sklearn.cluster import KMeans\n",
    "import scanpy as sc\n",
    "import scipy\n",
    "import numpy as np\n",
    "import scipy.sparse as sp\n",
    "from scipy.stats import binom"
   ]
  },
  {
   "cell_type": "code",
   "execution_count": 2,
   "metadata": {},
   "outputs": [],
   "source": [
    "Exp_id = \"exp_8\""
   ]
  },
  {
   "cell_type": "code",
   "execution_count": 3,
   "metadata": {},
   "outputs": [],
   "source": [
    "sc.settings.verbosity = 3 "
   ]
  },
  {
   "cell_type": "code",
   "execution_count": 4,
   "metadata": {},
   "outputs": [],
   "source": [
    "adata_raw = ad.read_h5ad(\"/Users/apple/Desktop/KB/data/LarryData/larry_raw_w_clone_id.h5ad\")"
   ]
  },
  {
   "cell_type": "code",
   "execution_count": 5,
   "metadata": {},
   "outputs": [
    {
     "data": {
      "text/plain": [
       "5864"
      ]
     },
     "execution_count": 5,
     "metadata": {},
     "output_type": "execute_result"
    }
   ],
   "source": [
    "len(adata_raw.obs[\"clone_id\"].unique())"
   ]
  },
  {
   "cell_type": "code",
   "execution_count": 6,
   "metadata": {},
   "outputs": [
    {
     "data": {
      "text/plain": [
       "clone_id\n",
       "1261    177\n",
       "2370    165\n",
       "5714    142\n",
       "292     134\n",
       "5209    130\n",
       "       ... \n",
       "5594      2\n",
       "866       2\n",
       "4884      2\n",
       "5101      2\n",
       "2251      2\n",
       "Name: count, Length: 5864, dtype: int64"
      ]
     },
     "execution_count": 6,
     "metadata": {},
     "output_type": "execute_result"
    }
   ],
   "source": [
    "adata_raw.obs['clone_id'].value_counts()"
   ]
  },
  {
   "cell_type": "markdown",
   "metadata": {},
   "source": [
    "### Filter genes and cells"
   ]
  },
  {
   "cell_type": "code",
   "execution_count": 7,
   "metadata": {},
   "outputs": [
    {
     "data": {
      "text/plain": [
       "(49302, 23420)"
      ]
     },
     "execution_count": 7,
     "metadata": {},
     "output_type": "execute_result"
    }
   ],
   "source": [
    "adata_raw.shape"
   ]
  },
  {
   "cell_type": "code",
   "execution_count": 8,
   "metadata": {},
   "outputs": [
    {
     "name": "stdout",
     "output_type": "stream",
     "text": [
      "filtered out 124 cells that have less than 200 genes expressed\n",
      "filtered out 8773 genes that are detected in less than 3 cells\n"
     ]
    }
   ],
   "source": [
    "sc.pp.filter_cells(adata_raw, min_genes=200)\n",
    "sc.pp.filter_genes(adata_raw, min_cells=3)"
   ]
  },
  {
   "cell_type": "code",
   "execution_count": 9,
   "metadata": {},
   "outputs": [
    {
     "data": {
      "text/plain": [
       "(49178, 14647)"
      ]
     },
     "execution_count": 9,
     "metadata": {},
     "output_type": "execute_result"
    }
   ],
   "source": [
    "adata_raw.shape"
   ]
  },
  {
   "cell_type": "code",
   "execution_count": 10,
   "metadata": {},
   "outputs": [],
   "source": [
    "value_counts = adata_raw.obs['clone_id'].value_counts()\n",
    "frequency_dict = {}\n",
    "for value, count in value_counts.items():\n",
    "    if count in frequency_dict:\n",
    "        frequency_dict[count].append(value)\n",
    "    else:\n",
    "        frequency_dict[count] = [value]\n",
    "\n"
   ]
  },
  {
   "cell_type": "code",
   "execution_count": 11,
   "metadata": {},
   "outputs": [],
   "source": [
    "clone_for_remove =frequency_dict[1]+frequency_dict[2]+frequency_dict[3]+frequency_dict[4] \n",
    "adata_subset = adata_raw[~adata_raw.obs['clone_id'].isin(clone_for_remove)]"
   ]
  },
  {
   "cell_type": "code",
   "execution_count": 12,
   "metadata": {},
   "outputs": [
    {
     "data": {
      "text/plain": [
       "(41093, 14647)"
      ]
     },
     "execution_count": 12,
     "metadata": {},
     "output_type": "execute_result"
    }
   ],
   "source": [
    "adata_subset.shape"
   ]
  },
  {
   "cell_type": "code",
   "execution_count": 13,
   "metadata": {},
   "outputs": [
    {
     "data": {
      "text/plain": [
       "clone_id\n",
       "1261    177\n",
       "2370    165\n",
       "5714    141\n",
       "292     134\n",
       "5209    129\n",
       "       ... \n",
       "513       5\n",
       "5629      5\n",
       "1014      5\n",
       "3998      5\n",
       "4329      5\n",
       "Name: count, Length: 2813, dtype: int64"
      ]
     },
     "execution_count": 13,
     "metadata": {},
     "output_type": "execute_result"
    }
   ],
   "source": [
    "adata_subset.obs['clone_id'].value_counts()"
   ]
  },
  {
   "cell_type": "markdown",
   "metadata": {},
   "source": [
    "#### Downsample the countmatrix"
   ]
  },
  {
   "cell_type": "code",
   "execution_count": 14,
   "metadata": {},
   "outputs": [],
   "source": [
    "def downsample_adata(adata, beta):\n",
    "    # Make a copy of the original AnnData object\n",
    "    new_adata = adata.copy()\n",
    "    \n",
    "    matrix = new_adata.X\n",
    "    \n",
    "    if sp.issparse(matrix):\n",
    "        # For sparse matrices\n",
    "        data = matrix.data.astype(int)  # Convert to integer type\n",
    "        downsampled_data = binom.rvs(data, beta)\n",
    "        downsampled_matrix = sp.csr_matrix((downsampled_data, matrix.indices, matrix.indptr), shape=matrix.shape)\n",
    "    else:\n",
    "        # For dense matrices\n",
    "        matrix = matrix.astype(int)  # Convert to integer type\n",
    "        downsampled_matrix = binom.rvs(matrix, beta)\n",
    "    \n",
    "    # Update the count matrix in the copied AnnData object\n",
    "    new_adata.X = downsampled_matrix\n",
    "    \n",
    "    \n",
    "    return new_adata\n",
    "\n"
   ]
  },
  {
   "cell_type": "code",
   "execution_count": 15,
   "metadata": {},
   "outputs": [],
   "source": [
    "adata_ds_sim01 = downsample_adata(adata_subset,0.1)\n",
    "adata_ds_sim03 = downsample_adata(adata_subset,0.3)\n",
    "adata_ds_sim05 = downsample_adata(adata_subset,0.5)\n",
    "adata_ds_sim07 = downsample_adata(adata_subset,0.7)\n",
    "adata_ds_sim09 = downsample_adata(adata_subset,0.9)\n"
   ]
  },
  {
   "cell_type": "markdown",
   "metadata": {},
   "source": [
    "#### Simulation for scCL"
   ]
  },
  {
   "cell_type": "code",
   "execution_count": 16,
   "metadata": {},
   "outputs": [],
   "source": [
    "def scCL_sim(adata):\n",
    "    \n",
    "    adata_scCL = adata.copy()\n",
    "    sc.pp.normalize_total(adata_scCL, target_sum=1e4)\n",
    "    sc.pp.log1p(adata_scCL)\n",
    "    sc.pp.highly_variable_genes(adata_scCL,n_top_genes=2000)\n",
    "    print(\"adata_scCL.shape: \", adata_scCL.shape)\n",
    "    hvgene = (adata_scCL.var.highly_variable[adata_scCL.var.highly_variable==True]).index\n",
    "    print(\"number of the highly variable genes:\", len(hvgene))\n",
    "    adata_hvgene = adata_scCL[:,hvgene]\n",
    "    # print(\"adata_hvgene.obs['clone_id'].value_counts():\", adata_hvgene.obs['clone_id'].value_counts())\n",
    "    print(\"adata_hvgene: \", adata_hvgene.shape)\n",
    "\n",
    "    return adata_hvgene"
   ]
  },
  {
   "cell_type": "code",
   "execution_count": 17,
   "metadata": {},
   "outputs": [
    {
     "name": "stdout",
     "output_type": "stream",
     "text": [
      "normalizing counts per cell\n",
      "    finished (0:00:00)\n",
      "If you pass `n_top_genes`, all cutoffs are ignored.\n",
      "extracting highly variable genes\n",
      "    finished (0:00:01)\n",
      "--> added\n",
      "    'highly_variable', boolean vector (adata.var)\n",
      "    'means', float vector (adata.var)\n",
      "    'dispersions', float vector (adata.var)\n",
      "    'dispersions_norm', float vector (adata.var)\n"
     ]
    },
    {
     "name": "stderr",
     "output_type": "stream",
     "text": [
      "/opt/anaconda3/envs/scvi-env/lib/python3.9/site-packages/scanpy/preprocessing/_highly_variable_genes.py:215: FutureWarning: The default of observed=False is deprecated and will be changed to True in a future version of pandas. Pass observed=False to retain current behavior or observed=True to adopt the future default and silence this warning.\n",
      "  disp_grouped = df.groupby('mean_bin')['dispersions']\n"
     ]
    },
    {
     "name": "stdout",
     "output_type": "stream",
     "text": [
      "adata_scCL.shape:  (41093, 14647)\n",
      "number of the highly variable genes: 2000\n",
      "adata_hvgene:  (41093, 2000)\n",
      "normalizing counts per cell\n",
      "    finished (0:00:00)\n",
      "If you pass `n_top_genes`, all cutoffs are ignored.\n",
      "extracting highly variable genes\n"
     ]
    },
    {
     "name": "stderr",
     "output_type": "stream",
     "text": [
      "/opt/anaconda3/envs/scvi-env/lib/python3.9/site-packages/scanpy/preprocessing/_highly_variable_genes.py:215: FutureWarning: The default of observed=False is deprecated and will be changed to True in a future version of pandas. Pass observed=False to retain current behavior or observed=True to adopt the future default and silence this warning.\n",
      "  disp_grouped = df.groupby('mean_bin')['dispersions']\n"
     ]
    },
    {
     "name": "stdout",
     "output_type": "stream",
     "text": [
      "    finished (0:00:00)\n",
      "--> added\n",
      "    'highly_variable', boolean vector (adata.var)\n",
      "    'means', float vector (adata.var)\n",
      "    'dispersions', float vector (adata.var)\n",
      "    'dispersions_norm', float vector (adata.var)\n",
      "adata_scCL.shape:  (41093, 14647)\n",
      "number of the highly variable genes: 2000\n",
      "adata_hvgene:  (41093, 2000)\n",
      "normalizing counts per cell\n",
      "    finished (0:00:00)\n",
      "If you pass `n_top_genes`, all cutoffs are ignored.\n",
      "extracting highly variable genes\n",
      "    finished (0:00:00)\n",
      "--> added\n",
      "    'highly_variable', boolean vector (adata.var)\n",
      "    'means', float vector (adata.var)\n",
      "    'dispersions', float vector (adata.var)\n",
      "    'dispersions_norm', float vector (adata.var)\n"
     ]
    },
    {
     "name": "stderr",
     "output_type": "stream",
     "text": [
      "/opt/anaconda3/envs/scvi-env/lib/python3.9/site-packages/scanpy/preprocessing/_highly_variable_genes.py:215: FutureWarning: The default of observed=False is deprecated and will be changed to True in a future version of pandas. Pass observed=False to retain current behavior or observed=True to adopt the future default and silence this warning.\n",
      "  disp_grouped = df.groupby('mean_bin')['dispersions']\n"
     ]
    },
    {
     "name": "stdout",
     "output_type": "stream",
     "text": [
      "adata_scCL.shape:  (41093, 14647)\n",
      "number of the highly variable genes: 2000\n",
      "adata_hvgene:  (41093, 2000)\n",
      "normalizing counts per cell\n",
      "    finished (0:00:00)\n",
      "If you pass `n_top_genes`, all cutoffs are ignored.\n",
      "extracting highly variable genes\n",
      "    finished (0:00:00)\n",
      "--> added\n",
      "    'highly_variable', boolean vector (adata.var)\n",
      "    'means', float vector (adata.var)\n",
      "    'dispersions', float vector (adata.var)\n",
      "    'dispersions_norm', float vector (adata.var)\n"
     ]
    },
    {
     "name": "stderr",
     "output_type": "stream",
     "text": [
      "/opt/anaconda3/envs/scvi-env/lib/python3.9/site-packages/scanpy/preprocessing/_highly_variable_genes.py:215: FutureWarning: The default of observed=False is deprecated and will be changed to True in a future version of pandas. Pass observed=False to retain current behavior or observed=True to adopt the future default and silence this warning.\n",
      "  disp_grouped = df.groupby('mean_bin')['dispersions']\n"
     ]
    },
    {
     "name": "stdout",
     "output_type": "stream",
     "text": [
      "adata_scCL.shape:  (41093, 14647)\n",
      "number of the highly variable genes: 2000\n",
      "adata_hvgene:  (41093, 2000)\n",
      "normalizing counts per cell\n",
      "    finished (0:00:00)\n",
      "If you pass `n_top_genes`, all cutoffs are ignored.\n",
      "extracting highly variable genes\n"
     ]
    },
    {
     "name": "stderr",
     "output_type": "stream",
     "text": [
      "/opt/anaconda3/envs/scvi-env/lib/python3.9/site-packages/scanpy/preprocessing/_highly_variable_genes.py:215: FutureWarning: The default of observed=False is deprecated and will be changed to True in a future version of pandas. Pass observed=False to retain current behavior or observed=True to adopt the future default and silence this warning.\n",
      "  disp_grouped = df.groupby('mean_bin')['dispersions']\n"
     ]
    },
    {
     "name": "stdout",
     "output_type": "stream",
     "text": [
      "    finished (0:00:00)\n",
      "--> added\n",
      "    'highly_variable', boolean vector (adata.var)\n",
      "    'means', float vector (adata.var)\n",
      "    'dispersions', float vector (adata.var)\n",
      "    'dispersions_norm', float vector (adata.var)\n",
      "adata_scCL.shape:  (41093, 14647)\n",
      "number of the highly variable genes: 2000\n",
      "adata_hvgene:  (41093, 2000)\n"
     ]
    }
   ],
   "source": [
    "adata_scCl_sim01 = scCL_sim(adata_ds_sim01)\n",
    "adata_scCl_sim03 = scCL_sim(adata_ds_sim03)\n",
    "adata_scCl_sim05 = scCL_sim(adata_ds_sim05)\n",
    "adata_scCl_sim07 = scCL_sim(adata_ds_sim07)\n",
    "adata_scCl_sim09 = scCL_sim(adata_ds_sim09)"
   ]
  },
  {
   "cell_type": "code",
   "execution_count": 18,
   "metadata": {},
   "outputs": [],
   "source": [
    "adata_scCl_sim01.write(f\"adata_scCL_sim01_{Exp_id}.h5ad\")\n",
    "adata_scCl_sim03.write(f\"adata_scCL_sim03_{Exp_id}.h5ad\")\n",
    "adata_scCl_sim05.write(f\"adata_scCL_sim05_{Exp_id}.h5ad\")\n",
    "adata_scCl_sim07.write(f\"adata_scCL_sim07_{Exp_id}.h5ad\")\n",
    "adata_scCl_sim09.write(f\"adata_scCL_sim09_{Exp_id}.h5ad\")"
   ]
  },
  {
   "cell_type": "markdown",
   "metadata": {},
   "source": [
    "#### Simulation for scvi"
   ]
  },
  {
   "cell_type": "code",
   "execution_count": 19,
   "metadata": {},
   "outputs": [],
   "source": [
    "def scvi_sim(adata_ds, adata_scCL):\n",
    "\n",
    "    print(\"adata_ds.shape: \", adata_ds.shape)\n",
    "    print(\"adata_scCL.shape: \", adata_scCL.shape)\n",
    "\n",
    "    cells_to_select = adata_scCL.obs.index\n",
    "    genes_sim = adata_scCL.var_names\n",
    "    adata_scvi_subset = adata_ds[cells_to_select, genes_sim]\n",
    "    \n",
    "    # Create new anndata object with X from adata_scvi_subset and obs from adata_scCL\n",
    "    adata_scvi = ad.AnnData(X=adata_scvi_subset.X, obs=adata_scCL.obs, var=adata_scCL.var)\n",
    "\n",
    "    return adata_scvi"
   ]
  },
  {
   "cell_type": "code",
   "execution_count": 20,
   "metadata": {},
   "outputs": [
    {
     "name": "stdout",
     "output_type": "stream",
     "text": [
      "adata_ds.shape:  (41093, 14647)\n",
      "adata_scCL.shape:  (41093, 2000)\n",
      "adata_ds.shape:  (41093, 14647)\n",
      "adata_scCL.shape:  (41093, 2000)\n",
      "adata_ds.shape:  (41093, 14647)\n",
      "adata_scCL.shape:  (41093, 2000)\n",
      "adata_ds.shape:  (41093, 14647)\n",
      "adata_scCL.shape:  (41093, 2000)\n",
      "adata_ds.shape:  (41093, 14647)\n",
      "adata_scCL.shape:  (41093, 2000)\n"
     ]
    }
   ],
   "source": [
    "adata_scvi_sim01 = scvi_sim(adata_ds_sim01, adata_scCl_sim01)\n",
    "adata_scvi_sim03 = scvi_sim(adata_ds_sim03, adata_scCl_sim03)\n",
    "adata_scvi_sim05 = scvi_sim(adata_ds_sim05, adata_scCl_sim05)\n",
    "adata_scvi_sim07 = scvi_sim(adata_ds_sim07, adata_scCl_sim07)\n",
    "adata_scvi_sim09 = scvi_sim(adata_ds_sim09, adata_scCl_sim09)"
   ]
  },
  {
   "cell_type": "code",
   "execution_count": 21,
   "metadata": {},
   "outputs": [],
   "source": [
    "adata_scvi_sim01.write(f\"adata_scvi_sim01_{Exp_id}.h5ad\")\n",
    "adata_scvi_sim03.write(f\"adata_scvi_sim03_{Exp_id}.h5ad\")\n",
    "adata_scvi_sim05.write(f\"adata_scvi_sim05_{Exp_id}.h5ad\")\n",
    "adata_scvi_sim07.write(f\"adata_scvi_sim07_{Exp_id}.h5ad\")\n",
    "adata_scvi_sim09.write(f\"adata_scvi_sim09_{Exp_id}.h5ad\")"
   ]
  }
 ],
 "metadata": {
  "kernelspec": {
   "display_name": "scvi-env",
   "language": "python",
   "name": "python3"
  },
  "language_info": {
   "codemirror_mode": {
    "name": "ipython",
    "version": 3
   },
   "file_extension": ".py",
   "mimetype": "text/x-python",
   "name": "python",
   "nbconvert_exporter": "python",
   "pygments_lexer": "ipython3",
   "version": "3.9.18"
  }
 },
 "nbformat": 4,
 "nbformat_minor": 2
}
