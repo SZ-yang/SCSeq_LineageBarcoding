{
 "cells": [
  {
   "cell_type": "code",
   "execution_count": 1,
   "metadata": {},
   "outputs": [],
   "source": [
    "import numpy as np\n",
    "import anndata as ad\n",
    "import seaborn as sns\n",
    "import matplotlib.pyplot as plt\n",
    "import pandas as pd\n",
    "from copy import deepcopy\n",
    "from sklearn.cluster import KMeans\n",
    "from scipy.sparse import csr_matrix\n",
    "import scanpy as sc\n",
    "import scipy"
   ]
  },
  {
   "cell_type": "code",
   "execution_count": 2,
   "metadata": {},
   "outputs": [],
   "source": [
    "adata = ad.read_h5ad(\"/Users/apple/Desktop/KB/data/LarryData/Larry_41093_2000_norm_log.h5ad\")\n",
    "# Step 1: Identify unique clone_ids and their frequencies\n",
    "clone_ids = adata.obs['clone_id'].unique()"
   ]
  },
  {
   "cell_type": "code",
   "execution_count": 3,
   "metadata": {},
   "outputs": [
    {
     "data": {
      "text/plain": [
       "2813"
      ]
     },
     "execution_count": 3,
     "metadata": {},
     "output_type": "execute_result"
    }
   ],
   "source": [
    "len(clone_ids)"
   ]
  },
  {
   "cell_type": "code",
   "execution_count": 4,
   "metadata": {},
   "outputs": [
    {
     "name": "stdout",
     "output_type": "stream",
     "text": [
      "Number of cells in adata_test: (4023, 2000)\n",
      "Number of cells in adata_train: (37070, 2000)\n"
     ]
    }
   ],
   "source": [
    "# Step 3: Randomly select 40 clone_ids for testing\n",
    "np.random.seed(42)  # for reproducibility\n",
    "selected_clone_ids = np.random.choice(clone_ids, size=280, replace=False)\n",
    "\n",
    "# Step 4: Create test and training datasets based on the selected clone_ids\n",
    "test_mask = adata.obs['clone_id'].isin(selected_clone_ids)\n",
    "adata_test = adata[test_mask]  # adata containing the selected clone_ids for testing\n",
    "adata_train = adata[~test_mask]  # adata with the rest of the cells for training\n",
    "\n",
    "\n",
    "# Print the number of cells in each dataset\n",
    "print(f\"Number of cells in adata_test: {adata_test.shape}\")\n",
    "print(f\"Number of cells in adata_train: {adata_train.shape}\")\n"
   ]
  },
  {
   "cell_type": "code",
   "execution_count": 5,
   "metadata": {},
   "outputs": [
    {
     "data": {
      "text/plain": [
       "clone_id\n",
       "3250    90\n",
       "3489    69\n",
       "1978    58\n",
       "2834    58\n",
       "2580    54\n",
       "        ..\n",
       "5557     5\n",
       "2079     5\n",
       "2485     5\n",
       "770      5\n",
       "2645     5\n",
       "Name: count, Length: 280, dtype: int64"
      ]
     },
     "execution_count": 5,
     "metadata": {},
     "output_type": "execute_result"
    }
   ],
   "source": [
    "adata_test.obs['clone_id'].value_counts()\n"
   ]
  },
  {
   "cell_type": "code",
   "execution_count": 6,
   "metadata": {},
   "outputs": [
    {
     "data": {
      "text/plain": [
       "clone_id\n",
       "1261    177\n",
       "2370    165\n",
       "5714    141\n",
       "292     134\n",
       "5209    129\n",
       "       ... \n",
       "3748      5\n",
       "1957      5\n",
       "5146      5\n",
       "735       5\n",
       "4329      5\n",
       "Name: count, Length: 2533, dtype: int64"
      ]
     },
     "execution_count": 6,
     "metadata": {},
     "output_type": "execute_result"
    }
   ],
   "source": [
    "adata_train.obs['clone_id'].value_counts()"
   ]
  },
  {
   "cell_type": "code",
   "execution_count": 7,
   "metadata": {},
   "outputs": [],
   "source": [
    "# Save the resulting datasets if needed\n",
    "adata_test.write(\"/Users/apple/Desktop/KB/data/LarryData/train_test/Larry_test_lineage.h5ad\")\n",
    "adata_train.write(\"/Users/apple/Desktop/KB/data/LarryData/train_test/Larry_train_lineage.h5ad\")"
   ]
  }
 ],
 "metadata": {
  "kernelspec": {
   "display_name": "scvi-env",
   "language": "python",
   "name": "python3"
  },
  "language_info": {
   "codemirror_mode": {
    "name": "ipython",
    "version": 3
   },
   "file_extension": ".py",
   "mimetype": "text/x-python",
   "name": "python",
   "nbconvert_exporter": "python",
   "pygments_lexer": "ipython3",
   "version": "3.9.18"
  }
 },
 "nbformat": 4,
 "nbformat_minor": 2
}
