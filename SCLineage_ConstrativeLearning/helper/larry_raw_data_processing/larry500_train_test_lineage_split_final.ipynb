{
 "cells": [
  {
   "cell_type": "code",
   "execution_count": 1,
   "metadata": {},
   "outputs": [],
   "source": [
    "import numpy as np\n",
    "import anndata as ad\n",
    "import seaborn as sns\n",
    "import matplotlib.pyplot as plt\n",
    "import pandas as pd\n",
    "from copy import deepcopy\n",
    "from sklearn.cluster import KMeans\n",
    "from scipy.sparse import csr_matrix\n",
    "import scanpy as sc\n",
    "import scipy"
   ]
  },
  {
   "cell_type": "code",
   "execution_count": 2,
   "metadata": {},
   "outputs": [],
   "source": [
    "adata = ad.read_h5ad(\"/Users/apple/Desktop/KB/data/LarryData/Larry_500.h5ad\")\n",
    "# Step 1: Identify unique clone_ids and their frequencies\n",
    "clone_ids = adata.obs['clone_id'].unique()"
   ]
  },
  {
   "cell_type": "code",
   "execution_count": 3,
   "metadata": {},
   "outputs": [
    {
     "data": {
      "text/plain": [
       "500"
      ]
     },
     "execution_count": 3,
     "metadata": {},
     "output_type": "execute_result"
    }
   ],
   "source": [
    "len(clone_ids)"
   ]
  },
  {
   "cell_type": "code",
   "execution_count": 4,
   "metadata": {},
   "outputs": [
    {
     "name": "stdout",
     "output_type": "stream",
     "text": [
      "Number of cells in adata_test: (1809, 2000)\n",
      "Number of cells in adata_train: (17422, 2000)\n"
     ]
    }
   ],
   "source": [
    "# Step 3: Randomly select 40 clone_ids for testing\n",
    "np.random.seed(42)  # for reproducibility\n",
    "selected_clone_ids = np.random.choice(clone_ids, size=50, replace=False)\n",
    "\n",
    "# Step 4: Create test and training datasets based on the selected clone_ids\n",
    "test_mask = adata.obs['clone_id'].isin(selected_clone_ids)\n",
    "adata_test = adata[test_mask]  # adata containing the selected clone_ids for testing\n",
    "adata_train = adata[~test_mask]  # adata with the rest of the cells for training\n",
    "\n",
    "\n",
    "# Print the number of cells in each dataset\n",
    "print(f\"Number of cells in adata_test: {adata_test.shape}\")\n",
    "print(f\"Number of cells in adata_train: {adata_train.shape}\")\n"
   ]
  },
  {
   "cell_type": "code",
   "execution_count": 5,
   "metadata": {},
   "outputs": [
    {
     "data": {
      "text/plain": [
       "clone_id\n",
       "5150    108\n",
       "3612     95\n",
       "801      89\n",
       "3530     67\n",
       "2638     63\n",
       "2224     57\n",
       "3887     54\n",
       "340      46\n",
       "5137     43\n",
       "1219     41\n",
       "2974     40\n",
       "5112     38\n",
       "3296     37\n",
       "5024     36\n",
       "2466     35\n",
       "1691     35\n",
       "3961     35\n",
       "1440     34\n",
       "3217     34\n",
       "996      34\n",
       "1998     34\n",
       "5199     33\n",
       "5563     33\n",
       "1623     32\n",
       "5075     31\n",
       "4133     31\n",
       "4571     31\n",
       "407      30\n",
       "1715     30\n",
       "3567     30\n",
       "4604     28\n",
       "5569     28\n",
       "358      28\n",
       "1983     28\n",
       "929      26\n",
       "2526     26\n",
       "2643     25\n",
       "1077     24\n",
       "2445     23\n",
       "3391     22\n",
       "4011     22\n",
       "435      22\n",
       "2577     22\n",
       "2408     22\n",
       "4406     22\n",
       "1972     21\n",
       "2255     21\n",
       "5487     21\n",
       "2927     21\n",
       "271      21\n",
       "Name: count, dtype: int64"
      ]
     },
     "execution_count": 5,
     "metadata": {},
     "output_type": "execute_result"
    }
   ],
   "source": [
    "adata_test.obs['clone_id'].value_counts()\n"
   ]
  },
  {
   "cell_type": "code",
   "execution_count": 6,
   "metadata": {},
   "outputs": [
    {
     "data": {
      "text/plain": [
       "clone_id\n",
       "1261    177\n",
       "2370    165\n",
       "5714    141\n",
       "292     134\n",
       "5209    129\n",
       "       ... \n",
       "1775     21\n",
       "2109     21\n",
       "2602     21\n",
       "4650     21\n",
       "5648     21\n",
       "Name: count, Length: 450, dtype: int64"
      ]
     },
     "execution_count": 6,
     "metadata": {},
     "output_type": "execute_result"
    }
   ],
   "source": [
    "adata_train.obs['clone_id'].value_counts()"
   ]
  },
  {
   "cell_type": "code",
   "execution_count": 7,
   "metadata": {},
   "outputs": [],
   "source": [
    "# Save the resulting datasets if needed\n",
    "adata_test.write(\"/Users/apple/Desktop/KB/data/LarryData/train_test/Larry_500_test_lineage.h5ad\")\n",
    "adata_train.write(\"/Users/apple/Desktop/KB/data/LarryData/train_test/Larry_500_train_lineage.h5ad\")"
   ]
  }
 ],
 "metadata": {
  "kernelspec": {
   "display_name": "scvi-env",
   "language": "python",
   "name": "python3"
  },
  "language_info": {
   "codemirror_mode": {
    "name": "ipython",
    "version": 3
   },
   "file_extension": ".py",
   "mimetype": "text/x-python",
   "name": "python",
   "nbconvert_exporter": "python",
   "pygments_lexer": "ipython3",
   "version": "3.9.18"
  }
 },
 "nbformat": 4,
 "nbformat_minor": 2
}
