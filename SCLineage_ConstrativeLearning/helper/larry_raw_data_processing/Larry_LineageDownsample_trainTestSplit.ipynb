{
 "cells": [
  {
   "cell_type": "code",
   "execution_count": 1,
   "metadata": {},
   "outputs": [],
   "source": [
    "import numpy as np\n",
    "import anndata as ad\n",
    "import seaborn as sns\n",
    "import matplotlib.pyplot as plt\n",
    "import pandas as pd\n",
    "from copy import deepcopy\n",
    "from sklearn.cluster import KMeans\n",
    "from scipy.sparse import csr_matrix\n",
    "import scanpy as sc\n",
    "import scipy"
   ]
  },
  {
   "cell_type": "code",
   "execution_count": 2,
   "metadata": {},
   "outputs": [],
   "source": [
    "adata = ad.read_h5ad(\"/Users/apple/Desktop/KB/data/LarryData/Larry_41093_2000_norm_log.h5ad\")"
   ]
  },
  {
   "cell_type": "code",
   "execution_count": 3,
   "metadata": {},
   "outputs": [
    {
     "data": {
      "text/plain": [
       "(41093, 2000)"
      ]
     },
     "execution_count": 3,
     "metadata": {},
     "output_type": "execute_result"
    }
   ],
   "source": [
    "adata.shape"
   ]
  },
  {
   "cell_type": "code",
   "execution_count": 4,
   "metadata": {},
   "outputs": [
    {
     "data": {
      "text/plain": [
       "clone_id\n",
       "1261    177\n",
       "2370    165\n",
       "5714    141\n",
       "292     134\n",
       "5209    129\n",
       "       ... \n",
       "513       5\n",
       "5629      5\n",
       "1014      5\n",
       "3998      5\n",
       "4329      5\n",
       "Name: count, Length: 2813, dtype: int64"
      ]
     },
     "execution_count": 4,
     "metadata": {},
     "output_type": "execute_result"
    }
   ],
   "source": [
    "adata.obs[\"clone_id\"].value_counts()"
   ]
  },
  {
   "cell_type": "code",
   "execution_count": 5,
   "metadata": {},
   "outputs": [
    {
     "data": {
      "text/plain": [
       "((11373, 2000), (19231, 2000))"
      ]
     },
     "execution_count": 5,
     "metadata": {},
     "output_type": "execute_result"
    }
   ],
   "source": [
    "# Get the top 200/500 most frequent clone_ids\n",
    "top_clone_ids_200 = adata.obs[\"clone_id\"].value_counts().head(200).index\n",
    "top_clone_ids_500 = adata.obs[\"clone_id\"].value_counts().head(500).index\n",
    "\n",
    "# Filter the adata object to include only these top 200 clone_ids\n",
    "adata_200 = adata[adata.obs[\"clone_id\"].isin(top_clone_ids_200)].copy()\n",
    "adata_500 = adata[adata.obs[\"clone_id\"].isin(top_clone_ids_500)].copy()\n",
    "\n",
    "\n",
    "adata_200.shape, adata_500.shape"
   ]
  },
  {
   "cell_type": "code",
   "execution_count": 6,
   "metadata": {},
   "outputs": [
    {
     "data": {
      "text/plain": [
       "clone_id\n",
       "1261    177\n",
       "2370    165\n",
       "5714    141\n",
       "292     134\n",
       "5209    129\n",
       "       ... \n",
       "4870     35\n",
       "2115     34\n",
       "998      34\n",
       "1998     34\n",
       "922      34\n",
       "Name: count, Length: 200, dtype: int64"
      ]
     },
     "execution_count": 6,
     "metadata": {},
     "output_type": "execute_result"
    }
   ],
   "source": [
    "adata_200.obs[\"clone_id\"].value_counts()"
   ]
  },
  {
   "cell_type": "code",
   "execution_count": 7,
   "metadata": {},
   "outputs": [
    {
     "data": {
      "text/plain": [
       "clone_id\n",
       "1261    177\n",
       "2370    165\n",
       "5714    141\n",
       "292     134\n",
       "5209    129\n",
       "       ... \n",
       "4371     21\n",
       "2693     21\n",
       "4846     21\n",
       "151      21\n",
       "1547     21\n",
       "Name: count, Length: 500, dtype: int64"
      ]
     },
     "execution_count": 7,
     "metadata": {},
     "output_type": "execute_result"
    }
   ],
   "source": [
    "adata_500.obs[\"clone_id\"].value_counts()"
   ]
  },
  {
   "cell_type": "code",
   "execution_count": 16,
   "metadata": {},
   "outputs": [],
   "source": [
    "adata_200.write_h5ad('Larry_200.h5ad')\n",
    "adata_500.write_h5ad('Larry_500.h5ad')"
   ]
  },
  {
   "cell_type": "code",
   "execution_count": 8,
   "metadata": {},
   "outputs": [],
   "source": [
    "def split_adata_by_clone_id(adata):\n",
    "    \"\"\"\n",
    "    Splits an AnnData object into training and test sets based on the 'clone_id' column.\n",
    "    \n",
    "    Parameters:\n",
    "        adata (AnnData): The AnnData object to split.\n",
    "    \n",
    "    Returns:\n",
    "        adata_train (AnnData): The training set.\n",
    "        adata_test (AnnData): The test set.\n",
    "    \"\"\"\n",
    "    # Step 1: Identify unique clone_ids and their frequencies\n",
    "    clone_id_counts = adata.obs['clone_id'].value_counts()\n",
    "\n",
    "    # Step 2: Initialize empty lists to hold indices for adata_train and adata_test\n",
    "    test_indices = []\n",
    "    train_indices = []\n",
    "\n",
    "    # Step 3: Loop through each clone_id and split based on the criteria\n",
    "    for clone_id, count in clone_id_counts.items():\n",
    "        clone_indices = adata.obs[adata.obs['clone_id'] == clone_id].index\n",
    "\n",
    "        if count >= 10:\n",
    "            # Select 10% of the elements randomly for adata_test\n",
    "            test_size = int(np.ceil(0.1 * count))\n",
    "            test_clone_indices = np.random.choice(clone_indices, size=test_size, replace=False)\n",
    "            test_indices.extend(test_clone_indices)\n",
    "            \n",
    "            # The remaining elements go to adata_train\n",
    "            train_clone_indices = list(set(clone_indices) - set(test_clone_indices))\n",
    "            train_indices.extend(train_clone_indices)\n",
    "        else:\n",
    "            # All elements go to adata_train\n",
    "            train_indices.extend(clone_indices)\n",
    "\n",
    "    # Step 4: Subset the original adata to create adata_train and adata_test\n",
    "    adata_train = adata[train_indices, :].copy()\n",
    "    adata_test = adata[test_indices, :].copy()\n",
    "    \n",
    "    return adata_train, adata_test\n"
   ]
  },
  {
   "cell_type": "code",
   "execution_count": 9,
   "metadata": {},
   "outputs": [
    {
     "name": "stdout",
     "output_type": "stream",
     "text": [
      "(10148, 2000) (1225, 2000)\n",
      "(17054, 2000) (2177, 2000)\n"
     ]
    }
   ],
   "source": [
    "adata_200_train, adata_200_test = split_adata_by_clone_id(adata_200)\n",
    "adata_500_train, adata_500_test = split_adata_by_clone_id(adata_500)\n",
    "\n",
    "print(adata_200_train.shape, adata_200_test.shape)\n",
    "print(adata_500_train.shape, adata_500_test.shape)"
   ]
  },
  {
   "cell_type": "code",
   "execution_count": 10,
   "metadata": {},
   "outputs": [],
   "source": [
    "adata_200_train.write_h5ad('Larry_200_train.h5ad')\n",
    "adata_200_test.write_h5ad('Larry_200_test.h5ad')\n",
    "\n",
    "adata_500_train.write_h5ad('Larry_500_train.h5ad')\n",
    "adata_500_test.write_h5ad('Larry_500_test.h5ad')"
   ]
  },
  {
   "cell_type": "code",
   "execution_count": 12,
   "metadata": {},
   "outputs": [],
   "source": [
    "import math"
   ]
  },
  {
   "cell_type": "code",
   "execution_count": 15,
   "metadata": {},
   "outputs": [
    {
     "data": {
      "text/plain": [
       "10.308952660644293"
      ]
     },
     "execution_count": 15,
     "metadata": {},
     "output_type": "execute_result"
    }
   ],
   "source": [
    "math.log(30000)"
   ]
  }
 ],
 "metadata": {
  "kernelspec": {
   "display_name": "scvi-env",
   "language": "python",
   "name": "python3"
  },
  "language_info": {
   "codemirror_mode": {
    "name": "ipython",
    "version": 3
   },
   "file_extension": ".py",
   "mimetype": "text/x-python",
   "name": "python",
   "nbconvert_exporter": "python",
   "pygments_lexer": "ipython3",
   "version": "3.9.19"
  }
 },
 "nbformat": 4,
 "nbformat_minor": 2
}
