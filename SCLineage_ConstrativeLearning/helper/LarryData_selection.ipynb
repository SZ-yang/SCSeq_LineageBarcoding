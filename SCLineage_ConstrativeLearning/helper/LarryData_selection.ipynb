{
 "cells": [
  {
   "cell_type": "markdown",
   "metadata": {},
   "source": [
    "## Split the data into day2, 4, 6"
   ]
  },
  {
   "cell_type": "code",
   "execution_count": 1,
   "metadata": {},
   "outputs": [],
   "source": [
    "import numpy as np\n",
    "import pandas as pd\n",
    "import scanpy as sc\n",
    "import anndata as ad\n",
    "\n",
    "# Load your AnnData object\n",
    "file_path = \"/Users/apple/Desktop/KB/data/LarryData/Larry_41201_2000.h5ad\"\n",
    "adata = sc.read_h5ad(file_path)\n",
    "\n",
    "# Filter AnnData based on a condition in a column in adata.obs\n",
    "# For example, to filter cells where 'Time point' is 2\n",
    "adata_day2 = adata[adata.obs['Time point'] == 2].copy()\n",
    "adata_day4 = adata[adata.obs['Time point'] == 4].copy()\n",
    "adata_day6 = adata[adata.obs['Time point'] == 6].copy()\n",
    "# filtered_adata now contains only the subset of cells where 'Time point' equals 2\n"
   ]
  },
  {
   "cell_type": "code",
   "execution_count": 2,
   "metadata": {},
   "outputs": [
    {
     "data": {
      "text/plain": [
       "clone_id\n",
       "1261    177\n",
       "2370    165\n",
       "5714    142\n",
       "292     134\n",
       "5209    130\n",
       "       ... \n",
       "5194      5\n",
       "2320      5\n",
       "5170      5\n",
       "3007      5\n",
       "4329      5\n",
       "Name: count, Length: 2817, dtype: int64"
      ]
     },
     "execution_count": 2,
     "metadata": {},
     "output_type": "execute_result"
    }
   ],
   "source": [
    "adata.obs[\"clone_id\"].value_counts()"
   ]
  },
  {
   "cell_type": "code",
   "execution_count": 3,
   "metadata": {},
   "outputs": [],
   "source": [
    "clone_id_counts = adata_day2.obs['clone_id'].value_counts()\n",
    "\n",
    "# Find the 'clone_id's that occur more than once\n",
    "clone_ids_to_keep = clone_id_counts[clone_id_counts > 1].index\n",
    "\n",
    "# Filter the AnnData object to keep only rows with 'clone_id' that occur more than once\n",
    "adata_day2_filtered = adata_day2[adata_day2.obs['clone_id'].isin(clone_ids_to_keep)]\n",
    "\n",
    "# adata_day2_filtered.obs\n"
   ]
  },
  {
   "cell_type": "code",
   "execution_count": 4,
   "metadata": {},
   "outputs": [
    {
     "data": {
      "text/plain": [
       "((1756, 9), (1076, 9))"
      ]
     },
     "execution_count": 4,
     "metadata": {},
     "output_type": "execute_result"
    }
   ],
   "source": [
    "adata_day2.obs.shape, adata_day2_filtered.obs.shape"
   ]
  },
  {
   "cell_type": "code",
   "execution_count": 6,
   "metadata": {},
   "outputs": [],
   "source": [
    "clone_id_counts_4 = adata_day4.obs['clone_id'].value_counts()\n",
    "\n",
    "# Find the 'clone_id's that occur more than once\n",
    "clone_ids_to_keep_4 = clone_id_counts_4[clone_id_counts_4 > 1].index\n",
    "\n",
    "# Filter the AnnData object to keep only rows with 'clone_id' that occur more than once\n",
    "adata_day4_filtered = adata_day4[adata_day4.obs['clone_id'].isin(clone_ids_to_keep_4)]\n",
    "\n",
    "# adata_day4_filtered.obs\n"
   ]
  },
  {
   "cell_type": "code",
   "execution_count": 7,
   "metadata": {},
   "outputs": [
    {
     "data": {
      "text/plain": [
       "((12284, 9), (11874, 9))"
      ]
     },
     "execution_count": 7,
     "metadata": {},
     "output_type": "execute_result"
    }
   ],
   "source": [
    "adata_day4.obs.shape, adata_day4_filtered.obs.shape"
   ]
  },
  {
   "cell_type": "code",
   "execution_count": 8,
   "metadata": {},
   "outputs": [],
   "source": [
    "clone_id_counts_6 = adata_day6.obs['clone_id'].value_counts()\n",
    "\n",
    "# Find the 'clone_id's that occur more than once\n",
    "clone_ids_to_keep_6 = clone_id_counts_6[clone_id_counts_6 > 1].index\n",
    "\n",
    "# Filter the AnnData object to keep only rows with 'clone_id' that occur more than once\n",
    "adata_day6_filtered = adata_day6[adata_day6.obs['clone_id'].isin(clone_ids_to_keep_6)]\n",
    "\n",
    "# adata_day6_filtered.obs\n"
   ]
  },
  {
   "cell_type": "code",
   "execution_count": 9,
   "metadata": {},
   "outputs": [
    {
     "data": {
      "text/plain": [
       "((27161, 9), (26981, 9))"
      ]
     },
     "execution_count": 9,
     "metadata": {},
     "output_type": "execute_result"
    }
   ],
   "source": [
    "adata_day6.obs.shape, adata_day6_filtered.obs.shape"
   ]
  },
  {
   "cell_type": "code",
   "execution_count": 10,
   "metadata": {},
   "outputs": [],
   "source": [
    "adata_day2.write('LarrayData_day2.h5ad')\n",
    "adata_day2_filtered.write('LarrayData_day2_filitered.h5ad')\n",
    "adata_day4.write('LarrayData_day4.h5ad')\n",
    "adata_day4_filtered.write('LarrayData_day4_filitered.h5ad')\n",
    "adata_day6.write('LarrayData_day6.h5ad')\n",
    "adata_day6_filtered.write('LarrayData_day6_filitered.h5ad')"
   ]
  },
  {
   "cell_type": "markdown",
   "metadata": {},
   "source": [
    "## Simulated Data"
   ]
  },
  {
   "cell_type": "markdown",
   "metadata": {},
   "source": [
    "### Setting A (No information)\n",
    "\n",
    "2000 lineages (with each lineage having same proportion of cell types)"
   ]
  },
  {
   "cell_type": "code",
   "execution_count": 8,
   "metadata": {},
   "outputs": [
    {
     "name": "stdout",
     "output_type": "stream",
     "text": [
      "Cell type annotation\n",
      "Baso                 5092\n",
      "Ccr7_DC                39\n",
      "Eos                   149\n",
      "Erythroid             316\n",
      "Lymphoid               78\n",
      "Mast                 1255\n",
      "Meg                   831\n",
      "Monocyte             7356\n",
      "Neutrophil           7582\n",
      "Undifferentiated    18472\n",
      "pDC                    31\n",
      "dtype: int64\n"
     ]
    },
    {
     "name": "stderr",
     "output_type": "stream",
     "text": [
      "/var/folders/ql/mhz506t52bjgn30w6f4wqhv40000gn/T/ipykernel_24337/3476888573.py:2: FutureWarning: The default of observed=False is deprecated and will be changed to True in a future version of pandas. Pass observed=False to retain current behavior or observed=True to adopt the future default and silence this warning.\n",
      "  cell_type_counts = adata.obs.groupby('Cell type annotation').size()\n"
     ]
    }
   ],
   "source": [
    "# Group by 'Cell type annotation' and count the number of cells in each group\n",
    "cell_type_counts = adata.obs.groupby('Cell type annotation').size()\n",
    "print(cell_type_counts)\n"
   ]
  },
  {
   "cell_type": "code",
   "execution_count": 9,
   "metadata": {},
   "outputs": [
    {
     "name": "stderr",
     "output_type": "stream",
     "text": [
      "/opt/anaconda3/envs/scvi-env/lib/python3.9/site-packages/anndata/_core/anndata.py:183: ImplicitModificationWarning: Transforming to str index.\n",
      "  warnings.warn(\"Transforming to str index.\", ImplicitModificationWarning)\n"
     ]
    }
   ],
   "source": [
    "# Make a copy of the original AnnData object\n",
    "adata_copy = adata.copy()\n",
    "\n",
    "# Reset the index of adata_copy.obs to ensure it's a simple range index\n",
    "adata_copy.obs.reset_index(drop=True, inplace=True)\n",
    "\n",
    "# Convert the sparse matrix adata_copy.X to a dense numpy array\n",
    "dense_X = adata_copy.X.toarray()\n",
    "\n",
    "# Extract unique cell types\n",
    "cell_types = adata_copy.obs['Cell type annotation'].unique()\n",
    "n_groups = 2000\n",
    "\n",
    "# Create a DataFrame to store 'Cell type annotation' and 'clone_id'\n",
    "obs_data = {'Cell type annotation': [], 'clone_id': [], 'original_index': []}\n",
    "\n",
    "# Randomly assign each cell to one of 2000 groups ensuring similar proportions\n",
    "np.random.seed(42)  # For reproducibility\n",
    "group_assignments = np.arange(n_groups) + 1  # Groups numbered from 1 to 2000\n",
    "\n",
    "for cell_type in cell_types:\n",
    "    cell_indices = adata_copy.obs.index[adata_copy.obs['Cell type annotation'] == cell_type].tolist()\n",
    "    # Calculate number of cells per group for this cell type\n",
    "    cells_per_group = np.ones(n_groups, dtype=int) * (len(cell_indices) // n_groups)\n",
    "    cells_per_group[:len(cell_indices) % n_groups] += 1\n",
    "    np.random.shuffle(cells_per_group)\n",
    "    \n",
    "    # Assign cells to groups\n",
    "    start_idx = 0\n",
    "    for group, n_cells in zip(group_assignments, cells_per_group):\n",
    "        end_idx = start_idx + n_cells\n",
    "        obs_data['Cell type annotation'].extend([cell_type] * n_cells)\n",
    "        obs_data['clone_id'].extend([group] * n_cells)\n",
    "        obs_data['original_index'].extend(cell_indices[start_idx:end_idx])\n",
    "        start_idx = end_idx\n",
    "\n",
    "# Shuffle the entire dataset to mix up the groups\n",
    "shuffled_indices = np.random.permutation(len(obs_data['Cell type annotation']))\n",
    "shuffled_cell_types = np.array(obs_data['Cell type annotation'])[shuffled_indices]\n",
    "shuffled_clone_ids = np.array(obs_data['clone_id'])[shuffled_indices]\n",
    "original_indices = np.array(obs_data['original_index'])[shuffled_indices].astype(int)\n",
    "\n",
    "# Create the new AnnData object with the shuffled data\n",
    "adata_setA = ad.AnnData(\n",
    "    obs=pd.DataFrame({\n",
    "        'Cell type annotation': shuffled_cell_types,\n",
    "        'clone_id': shuffled_clone_ids\n",
    "    }),\n",
    "    X=dense_X[original_indices]  # Index into the dense array to align with shuffled obs\n",
    ")"
   ]
  },
  {
   "cell_type": "code",
   "execution_count": 10,
   "metadata": {},
   "outputs": [
    {
     "name": "stdout",
     "output_type": "stream",
     "text": [
      "Mean number of cells per group: 20.6005\n",
      "Standard deviation of cells per group: 1.2580505139094273\n"
     ]
    }
   ],
   "source": [
    "# Group the data by 'clone_id' and count the number of cells in each group\n",
    "group_sizes = adata_setA.obs.groupby('clone_id').size()\n",
    "\n",
    "# Calculate the mean and standard deviation of the group sizes\n",
    "mean_cells_per_group = group_sizes.mean()\n",
    "std_dev_cells_per_group = group_sizes.std()\n",
    "\n",
    "print(\"Mean number of cells per group:\", mean_cells_per_group)\n",
    "print(\"Standard deviation of cells per group:\", std_dev_cells_per_group)\n"
   ]
  },
  {
   "cell_type": "code",
   "execution_count": 11,
   "metadata": {},
   "outputs": [],
   "source": [
    "adata_setA.write('LarryData_setA.h5ad')"
   ]
  },
  {
   "cell_type": "markdown",
   "metadata": {},
   "source": [
    "### Setting B (lineage = cell type)"
   ]
  },
  {
   "cell_type": "code",
   "execution_count": 50,
   "metadata": {},
   "outputs": [
    {
     "name": "stderr",
     "output_type": "stream",
     "text": [
      "/opt/anaconda3/envs/scvi-env/lib/python3.9/site-packages/anndata/_core/anndata.py:183: ImplicitModificationWarning: Transforming to str index.\n",
      "  warnings.warn(\"Transforming to str index.\", ImplicitModificationWarning)\n"
     ]
    }
   ],
   "source": [
    "from sklearn.cluster import KMeans\n",
    "\n",
    "adata_copy = adata.copy()\n",
    "adata_copy.obs.reset_index(drop=True, inplace=True)  \n",
    "\n",
    "dense_X = adata_copy.X\n",
    "\n",
    "\n",
    "# Prepare data frame for new AnnData\n",
    "obs_data = {'Cell type annotation': [], 'clone_id': [], 'indices': []}\n",
    "\n",
    "# Filter cell types with more than 20 cells\n",
    "cell_counts = adata_copy.obs['Cell type annotation'].value_counts()\n",
    "valid_types = cell_counts[cell_counts >= 20].index\n",
    "\n",
    "# Initialize clone_id\n",
    "clone_id = 0\n",
    "\n",
    "for cell_type in valid_types:\n",
    "    # Get indices for current cell type\n",
    "    indices = adata_copy.obs[adata_copy.obs['Cell type annotation'] == cell_type].index\n",
    "    # Data subset for K-Means\n",
    "    data_subset = dense_X[indices]\n",
    "    \n",
    "    # Calculate the number of clusters\n",
    "    n_clusters = max(1, len(indices) // 20)  # Ensure at least one cluster\n",
    "\n",
    "    # K-Means clustering\n",
    "    kmeans = KMeans(n_clusters=n_clusters, random_state=42, n_init='auto')\n",
    "    cluster_labels = kmeans.fit_predict(data_subset)\n",
    "\n",
    "    # Resample clusters to have exactly 20 cells and assign new cell type annotation\n",
    "    for i in range(n_clusters):\n",
    "        cluster_indices = indices[cluster_labels == i]\n",
    "        new_cell_type = f\"{cell_type}_{i+1}\"  # Unique cell type annotation for each cluster\n",
    "\n",
    "        if len(cluster_indices) != 20:\n",
    "            if len(cluster_indices) < 20:\n",
    "                # If less than 20, randomly sample with replacement\n",
    "                resampled_indices = np.random.choice(cluster_indices, size=20, replace=True)\n",
    "            else:\n",
    "                # If more than 20, randomly sample without replacement\n",
    "                resampled_indices = np.random.choice(cluster_indices, size=20, replace=False)\n",
    "        else:\n",
    "            resampled_indices = cluster_indices\n",
    "\n",
    "        for idx in resampled_indices:\n",
    "            obs_data['Cell type annotation'].append(new_cell_type)\n",
    "            obs_data['clone_id'].append(clone_id)\n",
    "            obs_data['indices'].append(idx)  # Store the actual data indices\n",
    "\n",
    "        clone_id += 1  # Increment clone_id for the next cluster\n",
    "\n",
    "    # Stop if we reach 2000 groups\n",
    "    if clone_id >= 2000:\n",
    "        break\n",
    "\n",
    "# Create the new AnnData object using the correct indices\n",
    "new_indices = [int(i) for i in obs_data['indices']]  # Use actual indices\n",
    "adata_setB = ad.AnnData(\n",
    "    obs=pd.DataFrame({'Cell type annotation': obs_data['Cell type annotation'], 'clone_id': obs_data['clone_id']}),\n",
    "    X=dense_X[new_indices]  # Use the correct indices to set X\n",
    ")\n"
   ]
  },
  {
   "cell_type": "code",
   "execution_count": 53,
   "metadata": {},
   "outputs": [
    {
     "data": {
      "text/html": [
       "<div>\n",
       "<style scoped>\n",
       "    .dataframe tbody tr th:only-of-type {\n",
       "        vertical-align: middle;\n",
       "    }\n",
       "\n",
       "    .dataframe tbody tr th {\n",
       "        vertical-align: top;\n",
       "    }\n",
       "\n",
       "    .dataframe thead th {\n",
       "        text-align: right;\n",
       "    }\n",
       "</style>\n",
       "<table border=\"1\" class=\"dataframe\">\n",
       "  <thead>\n",
       "    <tr style=\"text-align: right;\">\n",
       "      <th></th>\n",
       "      <th>Cell type annotation</th>\n",
       "      <th>clone_id</th>\n",
       "    </tr>\n",
       "  </thead>\n",
       "  <tbody>\n",
       "    <tr>\n",
       "      <th>0</th>\n",
       "      <td>Undifferentiated_1</td>\n",
       "      <td>0</td>\n",
       "    </tr>\n",
       "    <tr>\n",
       "      <th>1</th>\n",
       "      <td>Undifferentiated_1</td>\n",
       "      <td>0</td>\n",
       "    </tr>\n",
       "    <tr>\n",
       "      <th>2</th>\n",
       "      <td>Undifferentiated_1</td>\n",
       "      <td>0</td>\n",
       "    </tr>\n",
       "    <tr>\n",
       "      <th>3</th>\n",
       "      <td>Undifferentiated_1</td>\n",
       "      <td>0</td>\n",
       "    </tr>\n",
       "    <tr>\n",
       "      <th>4</th>\n",
       "      <td>Undifferentiated_1</td>\n",
       "      <td>0</td>\n",
       "    </tr>\n",
       "    <tr>\n",
       "      <th>...</th>\n",
       "      <td>...</td>\n",
       "      <td>...</td>\n",
       "    </tr>\n",
       "    <tr>\n",
       "      <th>40515</th>\n",
       "      <td>Meg_41</td>\n",
       "      <td>2025</td>\n",
       "    </tr>\n",
       "    <tr>\n",
       "      <th>40516</th>\n",
       "      <td>Meg_41</td>\n",
       "      <td>2025</td>\n",
       "    </tr>\n",
       "    <tr>\n",
       "      <th>40517</th>\n",
       "      <td>Meg_41</td>\n",
       "      <td>2025</td>\n",
       "    </tr>\n",
       "    <tr>\n",
       "      <th>40518</th>\n",
       "      <td>Meg_41</td>\n",
       "      <td>2025</td>\n",
       "    </tr>\n",
       "    <tr>\n",
       "      <th>40519</th>\n",
       "      <td>Meg_41</td>\n",
       "      <td>2025</td>\n",
       "    </tr>\n",
       "  </tbody>\n",
       "</table>\n",
       "<p>40520 rows × 2 columns</p>\n",
       "</div>"
      ],
      "text/plain": [
       "      Cell type annotation  clone_id\n",
       "0       Undifferentiated_1         0\n",
       "1       Undifferentiated_1         0\n",
       "2       Undifferentiated_1         0\n",
       "3       Undifferentiated_1         0\n",
       "4       Undifferentiated_1         0\n",
       "...                    ...       ...\n",
       "40515               Meg_41      2025\n",
       "40516               Meg_41      2025\n",
       "40517               Meg_41      2025\n",
       "40518               Meg_41      2025\n",
       "40519               Meg_41      2025\n",
       "\n",
       "[40520 rows x 2 columns]"
      ]
     },
     "execution_count": 53,
     "metadata": {},
     "output_type": "execute_result"
    }
   ],
   "source": [
    "adata_setB.obs"
   ]
  },
  {
   "cell_type": "code",
   "execution_count": 56,
   "metadata": {},
   "outputs": [
    {
     "name": "stdout",
     "output_type": "stream",
     "text": [
      "Mean number of cells per group: 20.0\n",
      "Standard deviation of cells per group: 0.0\n"
     ]
    }
   ],
   "source": [
    "# Group the data by 'clone_id' and count the number of cells in each group\n",
    "group_sizes = adata_setB.obs.groupby('clone_id').size()\n",
    "\n",
    "# Calculate the mean and standard deviation of the group sizes\n",
    "mean_cells_per_group = group_sizes.mean()\n",
    "std_dev_cells_per_group = group_sizes.std()\n",
    "\n",
    "print(\"Mean number of cells per group:\", mean_cells_per_group)\n",
    "print(\"Standard deviation of cells per group:\", std_dev_cells_per_group)\n"
   ]
  },
  {
   "cell_type": "code",
   "execution_count": 57,
   "metadata": {},
   "outputs": [],
   "source": [
    "adata_setB.write('LarryData_setB.h5ad')"
   ]
  },
  {
   "cell_type": "markdown",
   "metadata": {},
   "source": [
    "### Generate the simulated data with full info ()"
   ]
  },
  {
   "cell_type": "code",
   "execution_count": null,
   "metadata": {},
   "outputs": [],
   "source": [
    "import numpy as np\n",
    "import pandas as pd\n",
    "import scanpy as sc\n",
    "\n",
    "# Assuming you have already loaded your AnnData object and converted the obs and X as shown previously\n",
    "file_path = \"/Users/apple/Desktop/KB/SCSeq_LineageBarcoding2/SCSeq_LineageBarcoding/SCLineage_ConstrativeLearning/out/data/Larry_41201_2000.h5ad\"\n",
    "adata = sc.read_h5ad(file_path)\n",
    "adata_df = pd.DataFrame(adata.obs)\n",
    "count_matrix = adata.X.toarray() if hasattr(adata.X, 'toarray') else adata.X\n",
    "\n",
    "# Ensure that the DataFrame index aligns with the count matrix rows\n",
    "adata_df['index'] = range(adata_df.shape[0])\n",
    "\n",
    "# Group the indices by 'clone_id'\n",
    "grouped_indices = adata_df.groupby('clone_id')['index'].apply(list)\n",
    "\n",
    "# Compute the centroid for each group\n",
    "centroids = {}\n",
    "for clone_id, indices in grouped_indices.items():\n",
    "    # Select the rows corresponding to the current group's indices\n",
    "    group_data = count_matrix[indices]\n",
    "    # Compute the mean of these rows to get the centroid\n",
    "    centroid = np.mean(group_data, axis=0)\n",
    "    centroids[clone_id] = centroid\n",
    "\n",
    "# Optionally, convert centroids to a DataFrame for easier manipulation and viewing\n",
    "centroids_df = pd.DataFrame.from_dict(centroids, orient='index')\n",
    "centroids_df.shape\n"
   ]
  },
  {
   "cell_type": "code",
   "execution_count": null,
   "metadata": {},
   "outputs": [],
   "source": [
    "adata_df['Time point']"
   ]
  },
  {
   "cell_type": "code",
   "execution_count": null,
   "metadata": {},
   "outputs": [],
   "source": [
    "import numpy as np\n",
    "import pandas as pd\n",
    "import scanpy as sc\n",
    "from anndata import AnnData\n",
    "\n",
    "# Assuming `centroids` and noise generation from previous examples\n",
    "num_new_points = 20\n",
    "noise_scale = 0.003\n",
    "simulate_data = []\n",
    "\n",
    "# Metadata storage\n",
    "obs_data = []\n",
    "\n",
    "for clone_id, centroid in centroids.items():\n",
    "    # Generate noisy data points\n",
    "    repeated_centroids = np.tile(centroid, (num_new_points, 1))\n",
    "    noise = np.random.normal(loc=0.0, scale=noise_scale, size=repeated_centroids.shape)\n",
    "    noisy_data = repeated_centroids + noise\n",
    "    simulate_data.append(noisy_data)\n",
    "\n",
    "    # Generate metadata for each noisy data point\n",
    "    for _ in range(num_new_points):\n",
    "        obs_data.append({'clone_id': clone_id, 'Cell type annotation': np.random.randint(9), 'fake_data2': np.random.randint(100)})\n",
    "\n",
    "# Convert simulate data into a numpy array\n",
    "simulate_data_array = np.vstack(simulate_data)\n",
    "\n",
    "# Create a DataFrame from the metadata list\n",
    "obs_df = pd.DataFrame(obs_data)\n",
    "\n",
    "# Create an AnnData object\n",
    "adata_simulate = AnnData(X=simulate_data_array, obs=obs_df)\n",
    "\n",
    "# Print information about the new AnnData object\n",
    "\n"
   ]
  },
  {
   "cell_type": "code",
   "execution_count": null,
   "metadata": {},
   "outputs": [],
   "source": [
    "adata_simulate.obs.head()"
   ]
  },
  {
   "cell_type": "code",
   "execution_count": null,
   "metadata": {},
   "outputs": [],
   "source": [
    "simulate_data_array.shape"
   ]
  },
  {
   "cell_type": "code",
   "execution_count": null,
   "metadata": {},
   "outputs": [],
   "source": [
    "adata_simulate.write('simulated_data_fullInfo.h5ad')"
   ]
  },
  {
   "cell_type": "code",
   "execution_count": null,
   "metadata": {},
   "outputs": [],
   "source": [
    "type(adata_simulate)"
   ]
  }
 ],
 "metadata": {
  "kernelspec": {
   "display_name": "scvi-env",
   "language": "python",
   "name": "python3"
  },
  "language_info": {
   "codemirror_mode": {
    "name": "ipython",
    "version": 3
   },
   "file_extension": ".py",
   "mimetype": "text/x-python",
   "name": "python",
   "nbconvert_exporter": "python",
   "pygments_lexer": "ipython3",
   "version": "3.9.18"
  }
 },
 "nbformat": 4,
 "nbformat_minor": 2
}
