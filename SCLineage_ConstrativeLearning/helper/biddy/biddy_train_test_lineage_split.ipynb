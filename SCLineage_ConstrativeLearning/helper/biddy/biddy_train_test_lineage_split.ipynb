{
 "cells": [
  {
   "cell_type": "code",
   "execution_count": 1,
   "metadata": {},
   "outputs": [],
   "source": [
    "import numpy as np\n",
    "import anndata as ad\n",
    "import seaborn as sns\n",
    "import matplotlib.pyplot as plt\n",
    "import pandas as pd\n",
    "from copy import deepcopy\n",
    "from sklearn.cluster import KMeans\n",
    "from scipy.sparse import csr_matrix\n",
    "import scanpy as sc\n",
    "import scipy"
   ]
  },
  {
   "cell_type": "code",
   "execution_count": 2,
   "metadata": {},
   "outputs": [],
   "source": [
    "adata = ad.read_h5ad(\"/Users/apple/Desktop/KB/data/BiddyData/biddy_10215_2000.h5ad\")\n",
    "# Step 1: Identify unique clone_ids and their frequencies\n",
    "clone_ids = adata.obs['clone_id'].unique()"
   ]
  },
  {
   "cell_type": "code",
   "execution_count": 3,
   "metadata": {},
   "outputs": [
    {
     "name": "stdout",
     "output_type": "stream",
     "text": [
      "Number of cells in adata_test: (1067, 2000)\n",
      "Number of cells in adata_train: (9148, 2000)\n"
     ]
    }
   ],
   "source": [
    "# Step 3: Randomly select 40 clone_ids for testing\n",
    "np.random.seed(42)  # for reproducibility\n",
    "selected_clone_ids = np.random.choice(clone_ids, size=40, replace=False)\n",
    "\n",
    "# Step 4: Create test and training datasets based on the selected clone_ids\n",
    "test_mask = adata.obs['clone_id'].isin(selected_clone_ids)\n",
    "adata_test = adata[test_mask]  # adata containing the selected clone_ids for testing\n",
    "adata_train = adata[~test_mask]  # adata with the rest of the cells for training\n",
    "\n",
    "\n",
    "# Print the number of cells in each dataset\n",
    "print(f\"Number of cells in adata_test: {adata_test.shape}\")\n",
    "print(f\"Number of cells in adata_train: {adata_train.shape}\")\n"
   ]
  },
  {
   "cell_type": "code",
   "execution_count": 6,
   "metadata": {},
   "outputs": [
    {
     "data": {
      "text/plain": [
       "clone_id\n",
       "421.0     230\n",
       "583.0     138\n",
       "736.0     102\n",
       "2351.0     65\n",
       "2449.0     48\n",
       "776.0      48\n",
       "402.0      42\n",
       "515.0      37\n",
       "2664.0     35\n",
       "158.0      31\n",
       "3035.0     29\n",
       "2867.0     26\n",
       "2764.0     24\n",
       "2668.0     19\n",
       "2710.0     17\n",
       "3004.0     15\n",
       "2482.0     15\n",
       "2538.0     12\n",
       "369.0      11\n",
       "577.0       9\n",
       "513.0       8\n",
       "381.0       8\n",
       "233.0       8\n",
       "340.0       7\n",
       "2683.0      6\n",
       "263.0       6\n",
       "265.0       6\n",
       "657.0       5\n",
       "2985.0      5\n",
       "3036.0      5\n",
       "2998.0      5\n",
       "685.0       5\n",
       "2871.0      5\n",
       "2961.0      5\n",
       "2835.0      5\n",
       "822.0       5\n",
       "2770.0      5\n",
       "2793.0      5\n",
       "466.0       5\n",
       "268.0       5\n",
       "Name: count, dtype: int64"
      ]
     },
     "execution_count": 6,
     "metadata": {},
     "output_type": "execute_result"
    }
   ],
   "source": [
    "adata_test.obs['clone_id'].value_counts()\n"
   ]
  },
  {
   "cell_type": "code",
   "execution_count": 5,
   "metadata": {},
   "outputs": [
    {
     "data": {
      "text/plain": [
       "clone_id\n",
       "493.0     1932\n",
       "2352.0     945\n",
       "487.0      651\n",
       "666.0      588\n",
       "2721.0     341\n",
       "          ... \n",
       "2915.0       5\n",
       "2639.0       5\n",
       "2686.0       5\n",
       "2920.0       5\n",
       "771.0        5\n",
       "Name: count, Length: 208, dtype: int64"
      ]
     },
     "execution_count": 5,
     "metadata": {},
     "output_type": "execute_result"
    }
   ],
   "source": [
    "adata_train.obs['clone_id'].value_counts()"
   ]
  },
  {
   "cell_type": "code",
   "execution_count": 8,
   "metadata": {},
   "outputs": [],
   "source": [
    "# Save the resulting datasets if needed\n",
    "adata_test.write(\"/Users/apple/Desktop/KB/data/BiddyData/Biddy_test_lineage.h5ad\")\n",
    "adata_train.write(\"/Users/apple/Desktop/KB/data/BiddyData/Biddy_train_lineage.h5ad\")"
   ]
  }
 ],
 "metadata": {
  "kernelspec": {
   "display_name": "scvi-env",
   "language": "python",
   "name": "python3"
  },
  "language_info": {
   "codemirror_mode": {
    "name": "ipython",
    "version": 3
   },
   "file_extension": ".py",
   "mimetype": "text/x-python",
   "name": "python",
   "nbconvert_exporter": "python",
   "pygments_lexer": "ipython3",
   "version": "3.9.19"
  }
 },
 "nbformat": 4,
 "nbformat_minor": 2
}
