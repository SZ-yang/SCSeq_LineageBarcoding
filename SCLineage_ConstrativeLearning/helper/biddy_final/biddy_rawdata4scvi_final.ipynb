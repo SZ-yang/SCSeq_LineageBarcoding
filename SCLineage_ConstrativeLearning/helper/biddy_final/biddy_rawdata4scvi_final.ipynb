{
 "cells": [
  {
   "cell_type": "code",
   "execution_count": 1,
   "metadata": {},
   "outputs": [],
   "source": [
    "import numpy as np\n",
    "import anndata as ad\n",
    "import seaborn as sns\n",
    "import matplotlib.pyplot as plt\n",
    "import pandas as pd\n",
    "from copy import deepcopy\n",
    "from sklearn.cluster import KMeans\n",
    "from scipy.sparse import csr_matrix\n",
    "import scanpy as sc\n",
    "import scipy"
   ]
  },
  {
   "cell_type": "code",
   "execution_count": 2,
   "metadata": {},
   "outputs": [],
   "source": [
    "adata = ad.read_h5ad(\"/Users/apple/Desktop/KB/data/BiddyData/biddy_6534_2000_norm_log.h5ad\")\n",
    "adata_raw = ad.read_h5ad(\"/Users/apple/Desktop/KB/data/BiddyData/biddy_fulldata.h5ad\")"
   ]
  },
  {
   "cell_type": "code",
   "execution_count": 2,
   "metadata": {},
   "outputs": [
    {
     "ename": "NameError",
     "evalue": "name 'adata' is not defined",
     "output_type": "error",
     "traceback": [
      "\u001b[0;31m---------------------------------------------------------------------------\u001b[0m",
      "\u001b[0;31mNameError\u001b[0m                                 Traceback (most recent call last)",
      "Cell \u001b[0;32mIn[2], line 1\u001b[0m\n\u001b[0;32m----> 1\u001b[0m \u001b[43madata\u001b[49m\u001b[38;5;241m.\u001b[39mshape, adata_raw\u001b[38;5;241m.\u001b[39mshape\n",
      "\u001b[0;31mNameError\u001b[0m: name 'adata' is not defined"
     ]
    }
   ],
   "source": [
    "adata.shape, adata_raw.shape"
   ]
  },
  {
   "cell_type": "code",
   "execution_count": 3,
   "metadata": {},
   "outputs": [],
   "source": [
    "def scvi_data(adata_ds, adata_scCL):\n",
    "\n",
    "    print(\"adata_ds.shape: \", adata_ds.shape)\n",
    "    print(\"adata_scCL.shape: \", adata_scCL.shape)\n",
    "\n",
    "    cells_to_select = adata_scCL.obs.index\n",
    "    genes_sim = adata_scCL.var_names\n",
    "    adata_scvi_subset = adata_ds[cells_to_select, genes_sim]\n",
    "    \n",
    "    # Create new anndata object with X from adata_scvi_subset and obs from adata_scCL\n",
    "    adata_scvi = ad.AnnData(X=adata_scvi_subset.X, obs=adata_scCL.obs, var=adata_scCL.var)\n",
    "\n",
    "    return adata_scvi"
   ]
  },
  {
   "cell_type": "code",
   "execution_count": 5,
   "metadata": {},
   "outputs": [
    {
     "name": "stdout",
     "output_type": "stream",
     "text": [
      "adata_ds.shape:  (104679, 22630)\n",
      "adata_scCL.shape:  (6534, 2000)\n"
     ]
    },
    {
     "data": {
      "text/plain": [
       "(6534, 2000)"
      ]
     },
     "execution_count": 5,
     "metadata": {},
     "output_type": "execute_result"
    }
   ],
   "source": [
    "adata_scvi = scvi_data(adata_raw, adata)\n",
    "adata_scvi.shape"
   ]
  },
  {
   "cell_type": "code",
   "execution_count": 6,
   "metadata": {},
   "outputs": [],
   "source": [
    "adata_scvi.write_h5ad('Biddy_scvi.h5ad')"
   ]
  },
  {
   "cell_type": "code",
   "execution_count": 7,
   "metadata": {},
   "outputs": [
    {
     "data": {
      "text/plain": [
       "(6534, 2000)"
      ]
     },
     "execution_count": 7,
     "metadata": {},
     "output_type": "execute_result"
    }
   ],
   "source": [
    "adata.layers[\"raw_counts\"] = adata_scvi.X.copy()\n",
    "adata.layers[\"raw_counts\"].shape"
   ]
  },
  {
   "cell_type": "code",
   "execution_count": 9,
   "metadata": {},
   "outputs": [],
   "source": [
    "adata.write(\"biddy_6534_2000_norm_log.h5ad\")"
   ]
  },
  {
   "cell_type": "markdown",
   "metadata": {},
   "source": [
    "### Train_test split for Biddy"
   ]
  },
  {
   "cell_type": "code",
   "execution_count": 10,
   "metadata": {},
   "outputs": [],
   "source": [
    "adata = ad.read_h5ad(\"/Users/apple/Desktop/KB/data/BiddyData/Biddy_scvi.h5ad\")\n",
    "adata_train = ad.read_h5ad(\"/Users/apple/Desktop/KB/data/BiddyData/Biddy_train.h5ad\")\n",
    "adata_test = ad.read_h5ad(\"/Users/apple/Desktop/KB/data/BiddyData/Biddy_test.h5ad\")\n"
   ]
  },
  {
   "cell_type": "code",
   "execution_count": 11,
   "metadata": {},
   "outputs": [
    {
     "data": {
      "text/plain": [
       "((6534, 2000), (5893, 2000), (641, 2000))"
      ]
     },
     "execution_count": 11,
     "metadata": {},
     "output_type": "execute_result"
    }
   ],
   "source": [
    "adata.shape, adata_train.shape, adata_test.shape"
   ]
  },
  {
   "cell_type": "code",
   "execution_count": 12,
   "metadata": {},
   "outputs": [
    {
     "name": "stdout",
     "output_type": "stream",
     "text": [
      "adata_ds.shape:  (6534, 2000)\n",
      "adata_scCL.shape:  (5893, 2000)\n",
      "adata_ds.shape:  (6534, 2000)\n",
      "adata_scCL.shape:  (641, 2000)\n"
     ]
    },
    {
     "data": {
      "text/plain": [
       "((5893, 2000), (641, 2000))"
      ]
     },
     "execution_count": 12,
     "metadata": {},
     "output_type": "execute_result"
    }
   ],
   "source": [
    "raw_train = scvi_data(adata, adata_train)\n",
    "raw_test = scvi_data(adata, adata_test)\n",
    "\n",
    "raw_train.shape, raw_test.shape"
   ]
  },
  {
   "cell_type": "code",
   "execution_count": 13,
   "metadata": {},
   "outputs": [],
   "source": [
    "raw_train.write_h5ad('Biddy_scvi_train.h5ad')\n",
    "raw_test.write_h5ad('Biddy_scvi_test.h5ad')"
   ]
  },
  {
   "cell_type": "markdown",
   "metadata": {},
   "source": [
    "### Train_test lineage split for Biddy"
   ]
  },
  {
   "cell_type": "code",
   "execution_count": 4,
   "metadata": {},
   "outputs": [],
   "source": [
    "adata = ad.read_h5ad(\"/Users/apple/Desktop/KB/data/BiddyData/Biddy_scvi.h5ad\")\n",
    "adata_train = ad.read_h5ad(\"/Users/apple/Desktop/KB/data/BiddyData/Biddy_train_lineage.h5ad\")\n",
    "adata_test = ad.read_h5ad(\"/Users/apple/Desktop/KB/data/BiddyData/Biddy_test_lineage.h5ad\")\n"
   ]
  },
  {
   "cell_type": "code",
   "execution_count": 5,
   "metadata": {},
   "outputs": [
    {
     "data": {
      "text/plain": [
       "((6534, 2000), (5921, 2000), (613, 2000))"
      ]
     },
     "execution_count": 5,
     "metadata": {},
     "output_type": "execute_result"
    }
   ],
   "source": [
    "adata.shape, adata_train.shape, adata_test.shape"
   ]
  },
  {
   "cell_type": "code",
   "execution_count": 6,
   "metadata": {},
   "outputs": [
    {
     "name": "stdout",
     "output_type": "stream",
     "text": [
      "adata_ds.shape:  (6534, 2000)\n",
      "adata_scCL.shape:  (5921, 2000)\n",
      "adata_ds.shape:  (6534, 2000)\n",
      "adata_scCL.shape:  (613, 2000)\n"
     ]
    },
    {
     "data": {
      "text/plain": [
       "((5921, 2000), (613, 2000))"
      ]
     },
     "execution_count": 6,
     "metadata": {},
     "output_type": "execute_result"
    }
   ],
   "source": [
    "raw_train = scvi_data(adata, adata_train)\n",
    "raw_test = scvi_data(adata, adata_test)\n",
    "\n",
    "raw_train.shape, raw_test.shape"
   ]
  },
  {
   "cell_type": "code",
   "execution_count": 7,
   "metadata": {},
   "outputs": [],
   "source": [
    "raw_train.write_h5ad('Biddy_scvi_train_lineage.h5ad')\n",
    "raw_test.write_h5ad('Biddy_scvi_test_lineage.h5ad')"
   ]
  }
 ],
 "metadata": {
  "kernelspec": {
   "display_name": "scvi-env",
   "language": "python",
   "name": "python3"
  },
  "language_info": {
   "codemirror_mode": {
    "name": "ipython",
    "version": 3
   },
   "file_extension": ".py",
   "mimetype": "text/x-python",
   "name": "python",
   "nbconvert_exporter": "python",
   "pygments_lexer": "ipython3",
   "version": "3.9.18"
  }
 },
 "nbformat": 4,
 "nbformat_minor": 2
}
