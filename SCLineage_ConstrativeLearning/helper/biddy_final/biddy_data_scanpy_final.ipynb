{
 "cells": [
  {
   "cell_type": "code",
   "execution_count": 1,
   "metadata": {},
   "outputs": [],
   "source": [
    "import anndata as ad\n",
    "import numpy as np\n",
    "import scipy\n",
    "import pandas as pd\n",
    "import torch\n",
    "import scanpy as sc\n",
    "# import cellrank as cr"
   ]
  },
  {
   "cell_type": "code",
   "execution_count": 2,
   "metadata": {},
   "outputs": [],
   "source": [
    "sc.settings.verbosity = 3 "
   ]
  },
  {
   "cell_type": "code",
   "execution_count": 3,
   "metadata": {},
   "outputs": [],
   "source": [
    "import warnings\n",
    "\n",
    "warnings.simplefilter(\"ignore\", category=UserWarning)"
   ]
  },
  {
   "cell_type": "code",
   "execution_count": 4,
   "metadata": {},
   "outputs": [
    {
     "data": {
      "text/plain": [
       "(104679, 22630)"
      ]
     },
     "execution_count": 4,
     "metadata": {},
     "output_type": "execute_result"
    }
   ],
   "source": [
    "adata = ad.read_h5ad(\"/Users/apple/Desktop/KB/data/BiddyData/biddy_fulldata.h5ad\")\n",
    "adata.X.shape"
   ]
  },
  {
   "cell_type": "code",
   "execution_count": 5,
   "metadata": {},
   "outputs": [],
   "source": [
    "# save the full data into h5ad file\n",
    "# adata.write(\"biddy_fulldata.h5ad\")"
   ]
  },
  {
   "cell_type": "markdown",
   "metadata": {},
   "source": [
    "### Filter cells"
   ]
  },
  {
   "cell_type": "code",
   "execution_count": 6,
   "metadata": {},
   "outputs": [
    {
     "name": "stdout",
     "output_type": "stream",
     "text": [
      "number of cells without CellTagD0_48k barcode:  93792\n",
      "adata shape after filtering out clone id nans:  (10887, 22630)\n",
      "adata shape after filtering out cell type nans:  (7251, 22630)\n"
     ]
    }
   ],
   "source": [
    "nan_rows = adata.obs['CellTagD0_48k'].isna()\n",
    "print(\"number of cells without CellTagD0_48k barcode: \",sum(nan_rows))\n",
    "adata_filter = adata[~nan_rows].copy()\n",
    "print(\"adata shape after filtering out clone id nans: \", adata_filter.shape)\n",
    "adata_filter = adata_filter[adata_filter.obs['cell_type'].notnull()].copy()\n",
    "print(\"adata shape after filtering out cell type nans: \", adata_filter.shape)"
   ]
  },
  {
   "cell_type": "code",
   "execution_count": 7,
   "metadata": {},
   "outputs": [
    {
     "name": "stdout",
     "output_type": "stream",
     "text": [
      "number of CellTagD0_48k lineages:  505\n",
      "number of CellTagD0_48k lineages that has at least 5 cells:  169\n",
      "Number of observations after filtering: 6534\n"
     ]
    }
   ],
   "source": [
    "print(\"number of CellTagD0_48k lineages: \", len(adata_filter.obs[\"CellTagD0_48k\"].unique()))\n",
    "value_counts = adata_filter.obs['CellTagD0_48k'].value_counts()\n",
    "valid_tags = value_counts[value_counts >= 5].index\n",
    "\n",
    "# Filter the adata_filter object\n",
    "adata_filter = adata_filter[adata_filter.obs['CellTagD0_48k'].isin(valid_tags)].copy()\n",
    "\n",
    "print(\"number of CellTagD0_48k lineages that has at least 5 cells: \", len(valid_tags))\n",
    "print(f\"Number of observations after filtering: {adata_filter.n_obs}\")"
   ]
  },
  {
   "cell_type": "code",
   "execution_count": 8,
   "metadata": {},
   "outputs": [
    {
     "data": {
      "text/plain": [
       "['Ambiguous', 'Fibroblast', 'iEP']\n",
       "Categories (3, object): ['Ambiguous', 'Fibroblast', 'iEP']"
      ]
     },
     "execution_count": 8,
     "metadata": {},
     "output_type": "execute_result"
    }
   ],
   "source": [
    "adata_filter.obs[\"cell_type\"].unique()"
   ]
  },
  {
   "cell_type": "code",
   "execution_count": 9,
   "metadata": {},
   "outputs": [],
   "source": [
    "adata_filter.obs[\"clone_id\"] = adata_filter.obs[\"CellTagD0_48k\"]"
   ]
  },
  {
   "cell_type": "code",
   "execution_count": 10,
   "metadata": {},
   "outputs": [
    {
     "data": {
      "text/html": [
       "<div>\n",
       "<style scoped>\n",
       "    .dataframe tbody tr th:only-of-type {\n",
       "        vertical-align: middle;\n",
       "    }\n",
       "\n",
       "    .dataframe tbody tr th {\n",
       "        vertical-align: top;\n",
       "    }\n",
       "\n",
       "    .dataframe thead th {\n",
       "        text-align: right;\n",
       "    }\n",
       "</style>\n",
       "<table border=\"1\" class=\"dataframe\">\n",
       "  <thead>\n",
       "    <tr style=\"text-align: right;\">\n",
       "      <th></th>\n",
       "      <th>timecourse</th>\n",
       "      <th>reprogramming_day</th>\n",
       "      <th>reprogramming</th>\n",
       "      <th>cell_type</th>\n",
       "      <th>cell_cycle</th>\n",
       "      <th>cluster</th>\n",
       "      <th>monocle_state</th>\n",
       "      <th>pseudotime</th>\n",
       "      <th>CellTagD0_85k</th>\n",
       "      <th>CellTagD3_85k</th>\n",
       "      <th>CellTagD13_85k</th>\n",
       "      <th>CellTagD0_48k</th>\n",
       "      <th>CellTagD3_48k</th>\n",
       "      <th>CellTagD13_48k</th>\n",
       "      <th>clone_id</th>\n",
       "    </tr>\n",
       "  </thead>\n",
       "  <tbody>\n",
       "    <tr>\n",
       "      <th>HF1_AAAGCAATCCAGATCA_5</th>\n",
       "      <td>1</td>\n",
       "      <td>12</td>\n",
       "      <td>NaN</td>\n",
       "      <td>Ambiguous</td>\n",
       "      <td>G1</td>\n",
       "      <td>5</td>\n",
       "      <td>2</td>\n",
       "      <td>0.426868</td>\n",
       "      <td>424.0</td>\n",
       "      <td>476.0</td>\n",
       "      <td>NaN</td>\n",
       "      <td>424.0</td>\n",
       "      <td>476.0</td>\n",
       "      <td>NaN</td>\n",
       "      <td>424.0</td>\n",
       "    </tr>\n",
       "    <tr>\n",
       "      <th>HF1_AACACGTAGAACAACT_5</th>\n",
       "      <td>1</td>\n",
       "      <td>12</td>\n",
       "      <td>NaN</td>\n",
       "      <td>Ambiguous</td>\n",
       "      <td>S</td>\n",
       "      <td>5</td>\n",
       "      <td>2</td>\n",
       "      <td>0.549377</td>\n",
       "      <td>195.0</td>\n",
       "      <td>NaN</td>\n",
       "      <td>NaN</td>\n",
       "      <td>195.0</td>\n",
       "      <td>NaN</td>\n",
       "      <td>NaN</td>\n",
       "      <td>195.0</td>\n",
       "    </tr>\n",
       "    <tr>\n",
       "      <th>HF1_AAACCTGAGAGCAATT_5</th>\n",
       "      <td>1</td>\n",
       "      <td>12</td>\n",
       "      <td>NaN</td>\n",
       "      <td>Fibroblast</td>\n",
       "      <td>G2M</td>\n",
       "      <td>2</td>\n",
       "      <td>2</td>\n",
       "      <td>0.664971</td>\n",
       "      <td>647.0</td>\n",
       "      <td>309.0</td>\n",
       "      <td>NaN</td>\n",
       "      <td>647.0</td>\n",
       "      <td>309.0</td>\n",
       "      <td>NaN</td>\n",
       "      <td>647.0</td>\n",
       "    </tr>\n",
       "    <tr>\n",
       "      <th>HF1_AACACGTTCGAGGTAG_5</th>\n",
       "      <td>1</td>\n",
       "      <td>12</td>\n",
       "      <td>False</td>\n",
       "      <td>iEP</td>\n",
       "      <td>G1</td>\n",
       "      <td>2</td>\n",
       "      <td>2</td>\n",
       "      <td>0.730338</td>\n",
       "      <td>487.0</td>\n",
       "      <td>240.0</td>\n",
       "      <td>NaN</td>\n",
       "      <td>487.0</td>\n",
       "      <td>240.0</td>\n",
       "      <td>NaN</td>\n",
       "      <td>487.0</td>\n",
       "    </tr>\n",
       "    <tr>\n",
       "      <th>HF1_AACCATGGTCTAGAGG_5</th>\n",
       "      <td>1</td>\n",
       "      <td>12</td>\n",
       "      <td>NaN</td>\n",
       "      <td>iEP</td>\n",
       "      <td>G1</td>\n",
       "      <td>2</td>\n",
       "      <td>2</td>\n",
       "      <td>0.568279</td>\n",
       "      <td>652.0</td>\n",
       "      <td>203.0</td>\n",
       "      <td>NaN</td>\n",
       "      <td>652.0</td>\n",
       "      <td>203.0</td>\n",
       "      <td>NaN</td>\n",
       "      <td>652.0</td>\n",
       "    </tr>\n",
       "    <tr>\n",
       "      <th>...</th>\n",
       "      <td>...</td>\n",
       "      <td>...</td>\n",
       "      <td>...</td>\n",
       "      <td>...</td>\n",
       "      <td>...</td>\n",
       "      <td>...</td>\n",
       "      <td>...</td>\n",
       "      <td>...</td>\n",
       "      <td>...</td>\n",
       "      <td>...</td>\n",
       "      <td>...</td>\n",
       "      <td>...</td>\n",
       "      <td>...</td>\n",
       "      <td>...</td>\n",
       "      <td>...</td>\n",
       "    </tr>\n",
       "    <tr>\n",
       "      <th>HF2_TTCTTAGAGCGACGTA_4</th>\n",
       "      <td>2</td>\n",
       "      <td>9</td>\n",
       "      <td>NaN</td>\n",
       "      <td>iEP</td>\n",
       "      <td>G2M</td>\n",
       "      <td>5</td>\n",
       "      <td>2</td>\n",
       "      <td>0.509046</td>\n",
       "      <td>2657.0</td>\n",
       "      <td>NaN</td>\n",
       "      <td>NaN</td>\n",
       "      <td>2657.0</td>\n",
       "      <td>NaN</td>\n",
       "      <td>NaN</td>\n",
       "      <td>2657.0</td>\n",
       "    </tr>\n",
       "    <tr>\n",
       "      <th>HF2_TTCCCAGGTGATGATA_4</th>\n",
       "      <td>2</td>\n",
       "      <td>9</td>\n",
       "      <td>NaN</td>\n",
       "      <td>iEP</td>\n",
       "      <td>G2M</td>\n",
       "      <td>5</td>\n",
       "      <td>2</td>\n",
       "      <td>0.530828</td>\n",
       "      <td>2367.0</td>\n",
       "      <td>2514.0</td>\n",
       "      <td>NaN</td>\n",
       "      <td>2367.0</td>\n",
       "      <td>2514.0</td>\n",
       "      <td>NaN</td>\n",
       "      <td>2367.0</td>\n",
       "    </tr>\n",
       "    <tr>\n",
       "      <th>HF2_TTCTCCTCATGAACCT_4</th>\n",
       "      <td>2</td>\n",
       "      <td>9</td>\n",
       "      <td>NaN</td>\n",
       "      <td>iEP</td>\n",
       "      <td>G2M</td>\n",
       "      <td>5</td>\n",
       "      <td>2</td>\n",
       "      <td>0.403314</td>\n",
       "      <td>2490.0</td>\n",
       "      <td>2042.0</td>\n",
       "      <td>NaN</td>\n",
       "      <td>2490.0</td>\n",
       "      <td>2042.0</td>\n",
       "      <td>NaN</td>\n",
       "      <td>2490.0</td>\n",
       "    </tr>\n",
       "    <tr>\n",
       "      <th>HF2_TTGGAACCAAGAAAGG_4</th>\n",
       "      <td>2</td>\n",
       "      <td>9</td>\n",
       "      <td>NaN</td>\n",
       "      <td>Ambiguous</td>\n",
       "      <td>G1</td>\n",
       "      <td>2</td>\n",
       "      <td>2</td>\n",
       "      <td>1.029464</td>\n",
       "      <td>2764.0</td>\n",
       "      <td>2525.0</td>\n",
       "      <td>NaN</td>\n",
       "      <td>2764.0</td>\n",
       "      <td>2525.0</td>\n",
       "      <td>NaN</td>\n",
       "      <td>2764.0</td>\n",
       "    </tr>\n",
       "    <tr>\n",
       "      <th>HF2_TTGTAGGGTCAGAGGT_4</th>\n",
       "      <td>2</td>\n",
       "      <td>9</td>\n",
       "      <td>NaN</td>\n",
       "      <td>Fibroblast</td>\n",
       "      <td>G1</td>\n",
       "      <td>5</td>\n",
       "      <td>2</td>\n",
       "      <td>0.532476</td>\n",
       "      <td>2294.0</td>\n",
       "      <td>2118.0</td>\n",
       "      <td>NaN</td>\n",
       "      <td>2294.0</td>\n",
       "      <td>2118.0</td>\n",
       "      <td>NaN</td>\n",
       "      <td>2294.0</td>\n",
       "    </tr>\n",
       "  </tbody>\n",
       "</table>\n",
       "<p>6534 rows × 15 columns</p>\n",
       "</div>"
      ],
      "text/plain": [
       "                       timecourse reprogramming_day reprogramming   cell_type  \\\n",
       "HF1_AAAGCAATCCAGATCA_5          1                12           NaN   Ambiguous   \n",
       "HF1_AACACGTAGAACAACT_5          1                12           NaN   Ambiguous   \n",
       "HF1_AAACCTGAGAGCAATT_5          1                12           NaN  Fibroblast   \n",
       "HF1_AACACGTTCGAGGTAG_5          1                12         False         iEP   \n",
       "HF1_AACCATGGTCTAGAGG_5          1                12           NaN         iEP   \n",
       "...                           ...               ...           ...         ...   \n",
       "HF2_TTCTTAGAGCGACGTA_4          2                 9           NaN         iEP   \n",
       "HF2_TTCCCAGGTGATGATA_4          2                 9           NaN         iEP   \n",
       "HF2_TTCTCCTCATGAACCT_4          2                 9           NaN         iEP   \n",
       "HF2_TTGGAACCAAGAAAGG_4          2                 9           NaN   Ambiguous   \n",
       "HF2_TTGTAGGGTCAGAGGT_4          2                 9           NaN  Fibroblast   \n",
       "\n",
       "                       cell_cycle cluster monocle_state  pseudotime  \\\n",
       "HF1_AAAGCAATCCAGATCA_5         G1       5             2    0.426868   \n",
       "HF1_AACACGTAGAACAACT_5          S       5             2    0.549377   \n",
       "HF1_AAACCTGAGAGCAATT_5        G2M       2             2    0.664971   \n",
       "HF1_AACACGTTCGAGGTAG_5         G1       2             2    0.730338   \n",
       "HF1_AACCATGGTCTAGAGG_5         G1       2             2    0.568279   \n",
       "...                           ...     ...           ...         ...   \n",
       "HF2_TTCTTAGAGCGACGTA_4        G2M       5             2    0.509046   \n",
       "HF2_TTCCCAGGTGATGATA_4        G2M       5             2    0.530828   \n",
       "HF2_TTCTCCTCATGAACCT_4        G2M       5             2    0.403314   \n",
       "HF2_TTGGAACCAAGAAAGG_4         G1       2             2    1.029464   \n",
       "HF2_TTGTAGGGTCAGAGGT_4         G1       5             2    0.532476   \n",
       "\n",
       "                        CellTagD0_85k  CellTagD3_85k  CellTagD13_85k  \\\n",
       "HF1_AAAGCAATCCAGATCA_5          424.0          476.0             NaN   \n",
       "HF1_AACACGTAGAACAACT_5          195.0            NaN             NaN   \n",
       "HF1_AAACCTGAGAGCAATT_5          647.0          309.0             NaN   \n",
       "HF1_AACACGTTCGAGGTAG_5          487.0          240.0             NaN   \n",
       "HF1_AACCATGGTCTAGAGG_5          652.0          203.0             NaN   \n",
       "...                               ...            ...             ...   \n",
       "HF2_TTCTTAGAGCGACGTA_4         2657.0            NaN             NaN   \n",
       "HF2_TTCCCAGGTGATGATA_4         2367.0         2514.0             NaN   \n",
       "HF2_TTCTCCTCATGAACCT_4         2490.0         2042.0             NaN   \n",
       "HF2_TTGGAACCAAGAAAGG_4         2764.0         2525.0             NaN   \n",
       "HF2_TTGTAGGGTCAGAGGT_4         2294.0         2118.0             NaN   \n",
       "\n",
       "                        CellTagD0_48k  CellTagD3_48k  CellTagD13_48k  clone_id  \n",
       "HF1_AAAGCAATCCAGATCA_5          424.0          476.0             NaN     424.0  \n",
       "HF1_AACACGTAGAACAACT_5          195.0            NaN             NaN     195.0  \n",
       "HF1_AAACCTGAGAGCAATT_5          647.0          309.0             NaN     647.0  \n",
       "HF1_AACACGTTCGAGGTAG_5          487.0          240.0             NaN     487.0  \n",
       "HF1_AACCATGGTCTAGAGG_5          652.0          203.0             NaN     652.0  \n",
       "...                               ...            ...             ...       ...  \n",
       "HF2_TTCTTAGAGCGACGTA_4         2657.0            NaN             NaN    2657.0  \n",
       "HF2_TTCCCAGGTGATGATA_4         2367.0         2514.0             NaN    2367.0  \n",
       "HF2_TTCTCCTCATGAACCT_4         2490.0         2042.0             NaN    2490.0  \n",
       "HF2_TTGGAACCAAGAAAGG_4         2764.0         2525.0             NaN    2764.0  \n",
       "HF2_TTGTAGGGTCAGAGGT_4         2294.0         2118.0             NaN    2294.0  \n",
       "\n",
       "[6534 rows x 15 columns]"
      ]
     },
     "execution_count": 10,
     "metadata": {},
     "output_type": "execute_result"
    }
   ],
   "source": [
    "adata_filter.obs"
   ]
  },
  {
   "cell_type": "code",
   "execution_count": 11,
   "metadata": {},
   "outputs": [
    {
     "data": {
      "text/plain": [
       "clone_id\n",
       "493.0     1309\n",
       "2352.0     657\n",
       "487.0      366\n",
       "666.0      329\n",
       "2721.0     293\n",
       "          ... \n",
       "2630.0       5\n",
       "2350.0       5\n",
       "2915.0       5\n",
       "2920.0       5\n",
       "2367.0       5\n",
       "Name: count, Length: 169, dtype: int64"
      ]
     },
     "execution_count": 11,
     "metadata": {},
     "output_type": "execute_result"
    }
   ],
   "source": [
    "adata_filter.obs[\"clone_id\"].value_counts()"
   ]
  },
  {
   "cell_type": "code",
   "execution_count": 12,
   "metadata": {},
   "outputs": [
    {
     "name": "stdout",
     "output_type": "stream",
     "text": [
      "filtered out 8764 genes that are detected in less than 3 cells\n"
     ]
    }
   ],
   "source": [
    "sc.pp.filter_cells(adata_filter, min_genes=200)\n",
    "sc.pp.filter_genes(adata_filter, min_cells=3)"
   ]
  },
  {
   "cell_type": "code",
   "execution_count": 13,
   "metadata": {},
   "outputs": [
    {
     "name": "stdout",
     "output_type": "stream",
     "text": [
      "normalizing counts per cell\n",
      "    finished (0:00:01)\n",
      "If you pass `n_top_genes`, all cutoffs are ignored.\n",
      "extracting highly variable genes\n",
      "    finished (0:00:02)\n",
      "--> added\n",
      "    'highly_variable', boolean vector (adata.var)\n",
      "    'means', float vector (adata.var)\n",
      "    'dispersions', float vector (adata.var)\n",
      "    'dispersions_norm', float vector (adata.var)\n"
     ]
    },
    {
     "name": "stderr",
     "output_type": "stream",
     "text": [
      "/opt/anaconda3/envs/scvi-env/lib/python3.9/site-packages/scanpy/preprocessing/_highly_variable_genes.py:215: FutureWarning: The default of observed=False is deprecated and will be changed to True in a future version of pandas. Pass observed=False to retain current behavior or observed=True to adopt the future default and silence this warning.\n",
      "  disp_grouped = df.groupby('mean_bin')['dispersions']\n"
     ]
    }
   ],
   "source": [
    "sc.pp.normalize_total(adata_filter, target_sum=1e4)\n",
    "sc.pp.log1p(adata_filter)\n",
    "sc.pp.highly_variable_genes(adata_filter,n_top_genes=2000)\n"
   ]
  },
  {
   "cell_type": "code",
   "execution_count": 14,
   "metadata": {},
   "outputs": [],
   "source": [
    "adata_filter = adata_filter[:, adata_filter.var.highly_variable]"
   ]
  },
  {
   "cell_type": "code",
   "execution_count": 15,
   "metadata": {},
   "outputs": [
    {
     "data": {
      "text/plain": [
       "(6534, 2000)"
      ]
     },
     "execution_count": 15,
     "metadata": {},
     "output_type": "execute_result"
    }
   ],
   "source": [
    "adata_filter.X.shape"
   ]
  },
  {
   "cell_type": "code",
   "execution_count": 16,
   "metadata": {},
   "outputs": [
    {
     "data": {
      "text/plain": [
       "clone_id\n",
       "493.0     1309\n",
       "2352.0     657\n",
       "487.0      366\n",
       "666.0      329\n",
       "2721.0     293\n",
       "          ... \n",
       "2630.0       5\n",
       "2350.0       5\n",
       "2915.0       5\n",
       "2920.0       5\n",
       "2367.0       5\n",
       "Name: count, Length: 169, dtype: int64"
      ]
     },
     "execution_count": 16,
     "metadata": {},
     "output_type": "execute_result"
    }
   ],
   "source": [
    "adata_filter.obs[\"clone_id\"].value_counts()"
   ]
  },
  {
   "cell_type": "code",
   "execution_count": 17,
   "metadata": {},
   "outputs": [],
   "source": [
    "adata_filter.write(\"biddy_6534_2000_norm_log.h5ad\")"
   ]
  }
 ],
 "metadata": {
  "kernelspec": {
   "display_name": "scvi-env",
   "language": "python",
   "name": "python3"
  },
  "language_info": {
   "codemirror_mode": {
    "name": "ipython",
    "version": 3
   },
   "file_extension": ".py",
   "mimetype": "text/x-python",
   "name": "python",
   "nbconvert_exporter": "python",
   "pygments_lexer": "ipython3",
   "version": "3.9.18"
  }
 },
 "nbformat": 4,
 "nbformat_minor": 2
}
