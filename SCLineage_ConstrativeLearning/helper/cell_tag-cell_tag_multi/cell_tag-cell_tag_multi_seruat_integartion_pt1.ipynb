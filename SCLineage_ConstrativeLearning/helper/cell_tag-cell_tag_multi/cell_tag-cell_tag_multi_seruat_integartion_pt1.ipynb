{
 "cells": [
  {
   "cell_type": "code",
   "execution_count": 1,
   "id": "4df129e7",
   "metadata": {},
   "outputs": [],
   "source": [
    "import anndata as ad\n",
    "import pandas as pd\n",
    "import scanpy as sc\n",
    "from pathlib import Path                \n",
    "from scipy.io import mmwrite            "
   ]
  },
  {
   "cell_type": "code",
   "execution_count": 2,
   "id": "f1327e53",
   "metadata": {},
   "outputs": [
    {
     "data": {
      "text/plain": [
       "AnnData object with n_obs × n_vars = 28772 × 1960\n",
       "    obs: 'orig.ident', 'nCount_RNA', 'nFeature_RNA', 'percent.mt', 'S.Score', 'G2M.Score', 'Phase', 'old.ident', 'CC.Difference', 'RNA_snn_res.0.8', 'seurat_clusters', 'sample', 'replicate', 'predicted.id_cca_co', 'prediction.score.Fib_1_cca_co', 'prediction.score.Fib_0_cca_co', 'prediction.score.Fib_2_cca_co', 'prediction.score.Early_0_cca_co', 'prediction.score.Tran_0_cca_co', 'prediction.score.Tran_1_cca_co', 'prediction.score.Early_1_cca_co', 'prediction.score.Early_2_cca_co', 'prediction.score.iEP_1_cca_co', 'prediction.score.Tran_2_cca_co', 'prediction.score.iEP_2_cca_co', 'prediction.score.Dead.end_1_cca_co', 'prediction.score.Dead.end_0_cca_co', 'prediction.score.iEP_0_cca_co', 'prediction.score.Dead.end_2_cca_co', 'prediction.score.max_cca_co', 'RNA_snn_res.0.2', 'cellranger_ident', 'md_fate_rev1', 'md_fate_coarse_rev1', 'cell_name', 'assigned_lineage', 'has_lineage', 'n_genes_by_counts', 'total_counts', 'total_counts_mt', 'pct_counts_mt', 'batch', 'timecourse', 'reprogramming_day', 'reprogramming', 'cell_type', 'cell_cycle', 'cluster', 'monocle_state', 'pseudotime', 'CellTagD0_85k', 'CellTagD3_85k', 'CellTagD13_85k', 'CellTagD0_48k', 'CellTagD3_48k', 'CellTagD13_48k', 'clone_id', 'n_genes'\n",
       "    var: 'mt-multi', 'n_cells_by_counts-multi', 'mean_counts-multi', 'pct_dropout_by_counts-multi', 'total_counts-multi', 'Accession-tag', 'Chromosome-tag', 'End-tag', 'Start-tag', 'Strand-tag', 'n_cells-tag', 'highly_variable-tag', 'means-tag', 'dispersions-tag', 'dispersions_norm-tag'\n",
       "    layers: 'counts'"
      ]
     },
     "execution_count": 2,
     "metadata": {},
     "output_type": "execute_result"
    }
   ],
   "source": [
    "adata= sc.read_h5ad(\"/Users/apple/Desktop/KB/data/Cell_tag-Cell_tag_multi_integrated/integrated_for_scVI.h5ad\") \n",
    "adata"
   ]
  },
  {
   "cell_type": "code",
   "execution_count": 3,
   "id": "7ba3b87b",
   "metadata": {},
   "outputs": [],
   "source": [
    "# Replace all the genes by canonical names\n",
    "# print(adata.var_names)\n",
    "# adata.var_names = adata.var[\"feature_name\"].astype(str)\n",
    "# print(adata.var_names)"
   ]
  },
  {
   "cell_type": "code",
   "execution_count": 4,
   "id": "8702ae1b",
   "metadata": {},
   "outputs": [
    {
     "data": {
      "text/plain": [
       "OrderedDict()"
      ]
     },
     "execution_count": 4,
     "metadata": {},
     "output_type": "execute_result"
    }
   ],
   "source": [
    "adata.uns"
   ]
  },
  {
   "cell_type": "code",
   "execution_count": 5,
   "id": "f09d1e68",
   "metadata": {},
   "outputs": [
    {
     "data": {
      "text/plain": [
       "AnnData object with n_obs × n_vars = 28772 × 1960\n",
       "    obs: 'orig.ident', 'nCount_RNA', 'nFeature_RNA', 'percent.mt', 'S.Score', 'G2M.Score', 'Phase', 'old.ident', 'CC.Difference', 'RNA_snn_res.0.8', 'seurat_clusters', 'sample', 'replicate', 'predicted.id_cca_co', 'prediction.score.Fib_1_cca_co', 'prediction.score.Fib_0_cca_co', 'prediction.score.Fib_2_cca_co', 'prediction.score.Early_0_cca_co', 'prediction.score.Tran_0_cca_co', 'prediction.score.Tran_1_cca_co', 'prediction.score.Early_1_cca_co', 'prediction.score.Early_2_cca_co', 'prediction.score.iEP_1_cca_co', 'prediction.score.Tran_2_cca_co', 'prediction.score.iEP_2_cca_co', 'prediction.score.Dead.end_1_cca_co', 'prediction.score.Dead.end_0_cca_co', 'prediction.score.iEP_0_cca_co', 'prediction.score.Dead.end_2_cca_co', 'prediction.score.max_cca_co', 'RNA_snn_res.0.2', 'cellranger_ident', 'md_fate_rev1', 'md_fate_coarse_rev1', 'cell_name', 'assigned_lineage', 'has_lineage', 'n_genes_by_counts', 'total_counts', 'total_counts_mt', 'pct_counts_mt', 'batch', 'timecourse', 'reprogramming_day', 'reprogramming', 'cell_type', 'cell_cycle', 'cluster', 'monocle_state', 'pseudotime', 'CellTagD0_85k', 'CellTagD3_85k', 'CellTagD13_85k', 'CellTagD0_48k', 'CellTagD3_48k', 'CellTagD13_48k', 'clone_id', 'n_genes'\n",
       "    var: 'mt-multi', 'n_cells_by_counts-multi', 'mean_counts-multi', 'pct_dropout_by_counts-multi', 'total_counts-multi', 'Accession-tag', 'Chromosome-tag', 'End-tag', 'Start-tag', 'Strand-tag', 'n_cells-tag', 'highly_variable-tag', 'means-tag', 'dispersions-tag', 'dispersions_norm-tag'\n",
       "    layers: 'counts'"
      ]
     },
     "execution_count": 5,
     "metadata": {},
     "output_type": "execute_result"
    }
   ],
   "source": [
    "# remove every entry stored in .uns\n",
    "adata.uns.clear()          # empties the dict in-place\n",
    "adata"
   ]
  },
  {
   "cell_type": "code",
   "execution_count": 6,
   "id": "7fb83623",
   "metadata": {},
   "outputs": [
    {
     "data": {
      "text/plain": [
       "AnnData object with n_obs × n_vars = 28772 × 1960\n",
       "    obs: 'orig.ident', 'nCount_RNA', 'nFeature_RNA', 'percent.mt', 'S.Score', 'G2M.Score', 'Phase', 'old.ident', 'CC.Difference', 'RNA_snn_res.0.8', 'seurat_clusters', 'sample', 'replicate', 'predicted.id_cca_co', 'prediction.score.Fib_1_cca_co', 'prediction.score.Fib_0_cca_co', 'prediction.score.Fib_2_cca_co', 'prediction.score.Early_0_cca_co', 'prediction.score.Tran_0_cca_co', 'prediction.score.Tran_1_cca_co', 'prediction.score.Early_1_cca_co', 'prediction.score.Early_2_cca_co', 'prediction.score.iEP_1_cca_co', 'prediction.score.Tran_2_cca_co', 'prediction.score.iEP_2_cca_co', 'prediction.score.Dead.end_1_cca_co', 'prediction.score.Dead.end_0_cca_co', 'prediction.score.iEP_0_cca_co', 'prediction.score.Dead.end_2_cca_co', 'prediction.score.max_cca_co', 'RNA_snn_res.0.2', 'cellranger_ident', 'md_fate_rev1', 'md_fate_coarse_rev1', 'cell_name', 'assigned_lineage', 'has_lineage', 'n_genes_by_counts', 'total_counts', 'total_counts_mt', 'pct_counts_mt', 'batch', 'timecourse', 'reprogramming_day', 'reprogramming', 'cell_type', 'cell_cycle', 'cluster', 'monocle_state', 'pseudotime', 'CellTagD0_85k', 'CellTagD3_85k', 'CellTagD13_85k', 'CellTagD0_48k', 'CellTagD3_48k', 'CellTagD13_48k', 'clone_id', 'n_genes'\n",
       "    var: 'mt-multi', 'n_cells_by_counts-multi', 'mean_counts-multi', 'pct_dropout_by_counts-multi', 'total_counts-multi', 'Accession-tag', 'Chromosome-tag', 'End-tag', 'Start-tag', 'Strand-tag', 'n_cells-tag', 'highly_variable-tag', 'means-tag', 'dispersions-tag', 'dispersions_norm-tag'"
      ]
     },
     "execution_count": 6,
     "metadata": {},
     "output_type": "execute_result"
    }
   ],
   "source": [
    "# remove every matrix stored in .layers\n",
    "adata.layers.clear()      # empties the mapping in-place\n",
    "adata"
   ]
  },
  {
   "cell_type": "code",
   "execution_count": 7,
   "id": "56622906",
   "metadata": {},
   "outputs": [
    {
     "data": {
      "text/plain": [
       "AnnData object with n_obs × n_vars = 28772 × 1960\n",
       "    obs: 'orig.ident', 'nCount_RNA', 'nFeature_RNA', 'percent.mt', 'S.Score', 'G2M.Score', 'Phase', 'old.ident', 'CC.Difference', 'RNA_snn_res.0.8', 'seurat_clusters', 'sample', 'replicate', 'predicted.id_cca_co', 'prediction.score.Fib_1_cca_co', 'prediction.score.Fib_0_cca_co', 'prediction.score.Fib_2_cca_co', 'prediction.score.Early_0_cca_co', 'prediction.score.Tran_0_cca_co', 'prediction.score.Tran_1_cca_co', 'prediction.score.Early_1_cca_co', 'prediction.score.Early_2_cca_co', 'prediction.score.iEP_1_cca_co', 'prediction.score.Tran_2_cca_co', 'prediction.score.iEP_2_cca_co', 'prediction.score.Dead.end_1_cca_co', 'prediction.score.Dead.end_0_cca_co', 'prediction.score.iEP_0_cca_co', 'prediction.score.Dead.end_2_cca_co', 'prediction.score.max_cca_co', 'RNA_snn_res.0.2', 'cellranger_ident', 'md_fate_rev1', 'md_fate_coarse_rev1', 'cell_name', 'assigned_lineage', 'has_lineage', 'n_genes_by_counts', 'total_counts', 'total_counts_mt', 'pct_counts_mt', 'batch', 'timecourse', 'reprogramming_day', 'reprogramming', 'cell_type', 'cell_cycle', 'cluster', 'monocle_state', 'pseudotime', 'CellTagD0_85k', 'CellTagD3_85k', 'CellTagD13_85k', 'CellTagD0_48k', 'CellTagD3_48k', 'CellTagD13_48k', 'clone_id', 'n_genes'\n",
       "    var: 'mt-multi', 'n_cells_by_counts-multi', 'mean_counts-multi', 'pct_dropout_by_counts-multi', 'total_counts-multi', 'Accession-tag', 'Chromosome-tag', 'End-tag', 'Start-tag', 'Strand-tag', 'n_cells-tag', 'highly_variable-tag', 'means-tag', 'dispersions-tag', 'dispersions_norm-tag'"
      ]
     },
     "execution_count": 7,
     "metadata": {},
     "output_type": "execute_result"
    }
   ],
   "source": [
    "# delete all connectivities / distance matrices\n",
    "adata.obsp.clear()        # empties the mapping in-place\n",
    "adata"
   ]
  },
  {
   "cell_type": "code",
   "execution_count": 8,
   "id": "961e37e9",
   "metadata": {},
   "outputs": [
    {
     "data": {
      "text/plain": [
       "array([[ 2.,  0.,  0.,  0.,  0.],\n",
       "       [11.,  0.,  1.,  0.,  0.],\n",
       "       [ 1.,  0.,  3.,  0.,  0.],\n",
       "       [13.,  0.,  0.,  2.,  5.],\n",
       "       [ 0.,  0.,  0.,  0.,  0.]])"
      ]
     },
     "execution_count": 8,
     "metadata": {},
     "output_type": "execute_result"
    }
   ],
   "source": [
    "# This is the raw count data\n",
    "adata.X[0:5,0:5].toarray()"
   ]
  },
  {
   "cell_type": "code",
   "execution_count": 9,
   "id": "0e7f9557",
   "metadata": {},
   "outputs": [
    {
     "data": {
      "text/plain": [
       "scipy.sparse._csr.csr_matrix"
      ]
     },
     "execution_count": 9,
     "metadata": {},
     "output_type": "execute_result"
    }
   ],
   "source": [
    "xs = adata.X\n",
    "type(xs)"
   ]
  },
  {
   "cell_type": "code",
   "execution_count": 10,
   "id": "03dd2c68",
   "metadata": {},
   "outputs": [
    {
     "data": {
      "text/plain": [
       "AnnData object with n_obs × n_vars = 28772 × 1960\n",
       "    obs: 'orig.ident', 'nCount_RNA', 'nFeature_RNA', 'percent.mt', 'S.Score', 'G2M.Score', 'Phase', 'old.ident', 'CC.Difference', 'RNA_snn_res.0.8', 'seurat_clusters', 'sample', 'replicate', 'predicted.id_cca_co', 'prediction.score.Fib_1_cca_co', 'prediction.score.Fib_0_cca_co', 'prediction.score.Fib_2_cca_co', 'prediction.score.Early_0_cca_co', 'prediction.score.Tran_0_cca_co', 'prediction.score.Tran_1_cca_co', 'prediction.score.Early_1_cca_co', 'prediction.score.Early_2_cca_co', 'prediction.score.iEP_1_cca_co', 'prediction.score.Tran_2_cca_co', 'prediction.score.iEP_2_cca_co', 'prediction.score.Dead.end_1_cca_co', 'prediction.score.Dead.end_0_cca_co', 'prediction.score.iEP_0_cca_co', 'prediction.score.Dead.end_2_cca_co', 'prediction.score.max_cca_co', 'RNA_snn_res.0.2', 'cellranger_ident', 'md_fate_rev1', 'md_fate_coarse_rev1', 'cell_name', 'assigned_lineage', 'has_lineage', 'n_genes_by_counts', 'total_counts', 'total_counts_mt', 'pct_counts_mt', 'batch', 'timecourse', 'reprogramming_day', 'reprogramming', 'cell_type', 'cell_cycle', 'cluster', 'monocle_state', 'pseudotime', 'CellTagD0_85k', 'CellTagD3_85k', 'CellTagD13_85k', 'CellTagD0_48k', 'CellTagD3_48k', 'CellTagD13_48k', 'clone_id', 'n_genes'\n",
       "    var: 'mt-multi', 'n_cells_by_counts-multi', 'mean_counts-multi', 'pct_dropout_by_counts-multi', 'total_counts-multi', 'Accession-tag', 'Chromosome-tag', 'End-tag', 'Start-tag', 'Strand-tag', 'n_cells-tag', 'highly_variable-tag', 'means-tag', 'dispersions-tag', 'dispersions_norm-tag'"
      ]
     },
     "execution_count": 10,
     "metadata": {},
     "output_type": "execute_result"
    }
   ],
   "source": [
    "adata"
   ]
  },
  {
   "cell_type": "code",
   "execution_count": 11,
   "id": "13737464",
   "metadata": {},
   "outputs": [
    {
     "data": {
      "application/vnd.microsoft.datawrangler.viewer.v0+json": {
       "columns": [
        {
         "name": "index",
         "rawType": "object",
         "type": "string"
        },
        {
         "name": "Accession-tag",
         "rawType": "object",
         "type": "string"
        }
       ],
       "ref": "168274c0-bcbf-434a-b6fe-527f52a2a59a",
       "rows": [
        [
         "Sulf1",
         "ENSMUSG00000016918"
        ],
        [
         "Sbspon",
         "ENSMUSG00000032719"
        ],
        [
         "Rdh10",
         "ENSMUSG00000025921"
        ],
        [
         "Pi15",
         "ENSMUSG00000067780"
        ],
        [
         "Mcm3",
         "ENSMUSG00000041859"
        ],
        [
         "Paqr8",
         "ENSMUSG00000025931"
        ],
        [
         "Gsta3",
         "ENSMUSG00000025934"
        ],
        [
         "Cnnm4",
         "ENSMUSG00000037408"
        ],
        [
         "Mgat4a",
         "ENSMUSG00000026110"
        ],
        [
         "Npas2",
         "ENSMUSG00000026077"
        ],
        [
         "Tbc1d8",
         "ENSMUSG00000003134"
        ],
        [
         "Il18rap",
         "ENSMUSG00000026068"
        ],
        [
         "Fhl2",
         "ENSMUSG00000008136"
        ],
        [
         "Gm8251",
         "ENSMUSG00000091844"
        ],
        [
         "Col3a1",
         "ENSMUSG00000026043"
        ],
        [
         "Col5a2",
         "ENSMUSG00000026042"
        ],
        [
         "Cavin2",
         "ENSMUSG00000045954"
        ],
        [
         "Mfsd6",
         "ENSMUSG00000041439"
        ],
        [
         "Ankrd44",
         "ENSMUSG00000052331"
        ],
        [
         "Spats2l",
         "ENSMUSG00000038305"
        ],
        [
         "Sgo2a",
         "ENSMUSG00000026039"
        ],
        [
         "Aox3",
         "ENSMUSG00000064294"
        ],
        [
         "Aox4",
         "ENSMUSG00000038242"
        ],
        [
         "Nrp2",
         "ENSMUSG00000025969"
        ],
        [
         "Idh1",
         "ENSMUSG00000025950"
        ],
        [
         "Abca12",
         "ENSMUSG00000050296"
        ],
        [
         "Igfbp2",
         "ENSMUSG00000039323"
        ],
        [
         "Igfbp5",
         "ENSMUSG00000026185"
        ],
        [
         "Tns1",
         "ENSMUSG00000055322"
        ],
        [
         "Vil1",
         "ENSMUSG00000026175"
        ],
        [
         "Plcd4",
         "ENSMUSG00000026173"
        ],
        [
         "Cyp27a1",
         "ENSMUSG00000026170"
        ],
        [
         "Prkag3",
         "ENSMUSG00000006542"
        ],
        [
         "Wnt6",
         "ENSMUSG00000033227"
        ],
        [
         "Wnt10a",
         "ENSMUSG00000026167"
        ],
        [
         "Epha4",
         "ENSMUSG00000026235"
        ],
        [
         "Kcne4",
         "ENSMUSG00000047330"
        ],
        [
         "Irs1",
         "ENSMUSG00000055980"
        ],
        [
         "Ccl20",
         "ENSMUSG00000026166"
        ],
        [
         "Pid1",
         "ENSMUSG00000045658"
        ],
        [
         "Sp100",
         "ENSMUSG00000026222"
        ],
        [
         "2810459M11Rik",
         "ENSMUSG00000026227"
        ],
        [
         "Nppc",
         "ENSMUSG00000026241"
        ],
        [
         "Efhd1",
         "ENSMUSG00000026255"
        ],
        [
         "Mroh2a",
         "ENSMUSG00000079429"
        ],
        [
         "Spp2",
         "ENSMUSG00000026295"
        ],
        [
         "Agap1",
         "ENSMUSG00000055013"
        ],
        [
         "Ackr3",
         "ENSMUSG00000044337"
        ],
        [
         "Mlph",
         "ENSMUSG00000026303"
        ],
        [
         "Rab17",
         "ENSMUSG00000026304"
        ]
       ],
       "shape": {
        "columns": 1,
        "rows": 1960
       }
      },
      "text/plain": [
       "Sulf1      ENSMUSG00000016918\n",
       "Sbspon     ENSMUSG00000032719\n",
       "Rdh10      ENSMUSG00000025921\n",
       "Pi15       ENSMUSG00000067780\n",
       "Mcm3       ENSMUSG00000041859\n",
       "                  ...        \n",
       "Hspa12a    ENSMUSG00000025092\n",
       "Gm7102     ENSMUSG00000094649\n",
       "mt-Co1     ENSMUSG00000064351\n",
       "mt-Co3     ENSMUSG00000064358\n",
       "mt-Nd4     ENSMUSG00000064363\n",
       "Name: Accession-tag, Length: 1960, dtype: object"
      ]
     },
     "execution_count": 11,
     "metadata": {},
     "output_type": "execute_result"
    }
   ],
   "source": [
    "adata.var['Accession-tag']"
   ]
  },
  {
   "cell_type": "code",
   "execution_count": 12,
   "id": "ec2d06a2",
   "metadata": {},
   "outputs": [],
   "source": [
    "# 1) Make a *stand-alone* AnnData that holds exactly what is in `adata.raw`\n",
    "# adata_raw = adata.raw.to_adata()         # copies only X/var/obs_names; cheap for sparse matrices\n",
    "adata_raw = adata\n",
    "# 2) Choose an output directory\n",
    "out_dir = Path(\"/Users/apple/Desktop/KB/data/Cell_tag-Cell_tag_multi_integrated/Seurat_Integrate\")\n",
    "out_dir.mkdir(exist_ok=True)\n",
    "\n",
    "# 3) (a) Write the matrix in Matrix Market format\n",
    "mmwrite(out_dir / \"matrix.mtx\", adata_raw.X.T.tocsr())   # .tocsr() is a no-op if already CSR\n",
    "\n",
    "#    (b) Write the feature table\n",
    "#        • column order: <gene_id> <gene_name> <feature_type>\n",
    "#        • 10x v3+ spec calls this 'features.tsv' (earlier kits used 'genes.tsv')\n",
    "features = adata_raw.var\n",
    "# features_out = pd.DataFrame({\n",
    "#     \"gene_id\"      : features.index,           # or another stable identifier\n",
    "#     \"gene_name\"    : features[\"feature_name\"],\n",
    "#     \"feature_type\" : features.get(\"feature_biotype\", \"Gene\")  # fall back to \"Gene\"\n",
    "# })\n",
    "features_out = pd.DataFrame({\n",
    "    \"gene_id\"      : features[\"Accession-tag\"],           # or another stable identifier\n",
    "    \"gene_name\"    : features.index,\n",
    "    \"feature_type\" : features.get(\"feature_biotype\", \"Gene\")  # fall back to \"Gene\"\n",
    "})\n",
    "\n",
    "features_out.to_csv(out_dir / \"features.tsv\", sep=\"\\t\", header=False, index=False)\n",
    "\n",
    "#    (c) Write the barcode file\n",
    "pd.Series(adata_raw.obs_names).to_csv(out_dir / \"barcodes.tsv\", header=False, index=False)"
   ]
  },
  {
   "cell_type": "code",
   "execution_count": 13,
   "id": "9361f918",
   "metadata": {},
   "outputs": [
    {
     "data": {
      "text/plain": [
       "AnnData object with n_obs × n_vars = 28772 × 1960\n",
       "    obs: 'orig.ident', 'nCount_RNA', 'nFeature_RNA', 'percent.mt', 'S.Score', 'G2M.Score', 'Phase', 'old.ident', 'CC.Difference', 'RNA_snn_res.0.8', 'seurat_clusters', 'sample', 'replicate', 'predicted.id_cca_co', 'prediction.score.Fib_1_cca_co', 'prediction.score.Fib_0_cca_co', 'prediction.score.Fib_2_cca_co', 'prediction.score.Early_0_cca_co', 'prediction.score.Tran_0_cca_co', 'prediction.score.Tran_1_cca_co', 'prediction.score.Early_1_cca_co', 'prediction.score.Early_2_cca_co', 'prediction.score.iEP_1_cca_co', 'prediction.score.Tran_2_cca_co', 'prediction.score.iEP_2_cca_co', 'prediction.score.Dead.end_1_cca_co', 'prediction.score.Dead.end_0_cca_co', 'prediction.score.iEP_0_cca_co', 'prediction.score.Dead.end_2_cca_co', 'prediction.score.max_cca_co', 'RNA_snn_res.0.2', 'cellranger_ident', 'md_fate_rev1', 'md_fate_coarse_rev1', 'cell_name', 'assigned_lineage', 'has_lineage', 'n_genes_by_counts', 'total_counts', 'total_counts_mt', 'pct_counts_mt', 'batch', 'timecourse', 'reprogramming_day', 'reprogramming', 'cell_type', 'cell_cycle', 'cluster', 'monocle_state', 'pseudotime', 'CellTagD0_85k', 'CellTagD3_85k', 'CellTagD13_85k', 'CellTagD0_48k', 'CellTagD3_48k', 'CellTagD13_48k', 'clone_id', 'n_genes'\n",
       "    var: 'mt-multi', 'n_cells_by_counts-multi', 'mean_counts-multi', 'pct_dropout_by_counts-multi', 'total_counts-multi', 'Accession-tag', 'Chromosome-tag', 'End-tag', 'Start-tag', 'Strand-tag', 'n_cells-tag', 'highly_variable-tag', 'means-tag', 'dispersions-tag', 'dispersions_norm-tag'"
      ]
     },
     "execution_count": 13,
     "metadata": {},
     "output_type": "execute_result"
    }
   ],
   "source": [
    "adata"
   ]
  },
  {
   "cell_type": "code",
   "execution_count": 14,
   "id": "8822db04",
   "metadata": {},
   "outputs": [
    {
     "data": {
      "text/plain": [
       "AnnData object with n_obs × n_vars = 28772 × 1960\n",
       "    obs: 'orig.ident', 'nCount_RNA', 'nFeature_RNA', 'percent.mt', 'S.Score', 'G2M.Score', 'Phase', 'old.ident', 'CC.Difference', 'RNA_snn_res.0.8', 'seurat_clusters', 'sample', 'replicate', 'predicted.id_cca_co', 'prediction.score.Fib_1_cca_co', 'prediction.score.Fib_0_cca_co', 'prediction.score.Fib_2_cca_co', 'prediction.score.Early_0_cca_co', 'prediction.score.Tran_0_cca_co', 'prediction.score.Tran_1_cca_co', 'prediction.score.Early_1_cca_co', 'prediction.score.Early_2_cca_co', 'prediction.score.iEP_1_cca_co', 'prediction.score.Tran_2_cca_co', 'prediction.score.iEP_2_cca_co', 'prediction.score.Dead.end_1_cca_co', 'prediction.score.Dead.end_0_cca_co', 'prediction.score.iEP_0_cca_co', 'prediction.score.Dead.end_2_cca_co', 'prediction.score.max_cca_co', 'RNA_snn_res.0.2', 'cellranger_ident', 'md_fate_rev1', 'md_fate_coarse_rev1', 'cell_name', 'assigned_lineage', 'has_lineage', 'n_genes_by_counts', 'total_counts', 'total_counts_mt', 'pct_counts_mt', 'batch', 'timecourse', 'reprogramming_day', 'reprogramming', 'cell_type', 'cell_cycle', 'cluster', 'monocle_state', 'pseudotime', 'CellTagD0_85k', 'CellTagD3_85k', 'CellTagD13_85k', 'CellTagD0_48k', 'CellTagD3_48k', 'CellTagD13_48k', 'clone_id', 'n_genes'\n",
       "    var: 'mt-multi', 'n_cells_by_counts-multi', 'mean_counts-multi', 'pct_dropout_by_counts-multi', 'total_counts-multi', 'Accession-tag', 'Chromosome-tag', 'End-tag', 'Start-tag', 'Strand-tag', 'n_cells-tag', 'highly_variable-tag', 'means-tag', 'dispersions-tag', 'dispersions_norm-tag'"
      ]
     },
     "execution_count": 14,
     "metadata": {},
     "output_type": "execute_result"
    }
   ],
   "source": [
    "# delete raw data\n",
    "adata.raw = None        # empties the mapping in-place\n",
    "adata"
   ]
  },
  {
   "cell_type": "code",
   "execution_count": 15,
   "id": "697d3d1e",
   "metadata": {},
   "outputs": [
    {
     "data": {
      "text/plain": [
       "array([[ 2.,  0.,  0.,  0.,  0.],\n",
       "       [11.,  0.,  1.,  0.,  0.],\n",
       "       [ 1.,  0.,  3.,  0.,  0.],\n",
       "       [13.,  0.,  0.,  2.,  5.],\n",
       "       [ 0.,  0.,  0.,  0.,  0.]])"
      ]
     },
     "execution_count": 15,
     "metadata": {},
     "output_type": "execute_result"
    }
   ],
   "source": [
    "# This is the normalized data\n",
    "adata.X[0:5,0:5].toarray()"
   ]
  },
  {
   "cell_type": "code",
   "execution_count": 16,
   "id": "f2c4c71b",
   "metadata": {},
   "outputs": [
    {
     "data": {
      "text/plain": [
       "AnnData object with n_obs × n_vars = 28772 × 1960\n",
       "    var: 'mt-multi', 'n_cells_by_counts-multi', 'mean_counts-multi', 'pct_dropout_by_counts-multi', 'total_counts-multi', 'Accession-tag', 'Chromosome-tag', 'End-tag', 'Start-tag', 'Strand-tag', 'n_cells-tag', 'highly_variable-tag', 'means-tag', 'dispersions-tag', 'dispersions_norm-tag'"
      ]
     },
     "execution_count": 16,
     "metadata": {},
     "output_type": "execute_result"
    }
   ],
   "source": [
    "# Save obs metadata to CSV\n",
    "adata.obs.to_csv(\"/Users/apple/Desktop/KB/data/Cell_tag-Cell_tag_multi_integrated/Seurat_Integrate/adata_obs.csv\")\n",
    "adata.obs = pd.DataFrame(index=adata.obs.index)  # Keep only the cell barcodes\n",
    "adata"
   ]
  },
  {
   "cell_type": "code",
   "execution_count": 17,
   "id": "9d4d29ea",
   "metadata": {},
   "outputs": [
    {
     "data": {
      "text/plain": [
       "AnnData object with n_obs × n_vars = 28772 × 1960"
      ]
     },
     "execution_count": 17,
     "metadata": {},
     "output_type": "execute_result"
    }
   ],
   "source": [
    "# Save var metadata to CSV\n",
    "adata.var.to_csv(\"/Users/apple/Desktop/KB/data/Cell_tag-Cell_tag_multi_integrated/Seurat_Integrate/adata_var.csv\")\n",
    "adata.var = pd.DataFrame(index=adata.var.index)  # Keep only the cell barcodes\n",
    "adata"
   ]
  },
  {
   "cell_type": "code",
   "execution_count": 18,
   "id": "11fc0d2a",
   "metadata": {},
   "outputs": [],
   "source": [
    "adata.write_h5ad(\n",
    "\"/Users/apple/Desktop/KB/data/Cell_tag-Cell_tag_multi_integrated/Seurat_Integrate/adata_simplified.h5ad\",\n",
    "    compression='gzip', \n",
    "    compression_opts=9\n",
    ")\n"
   ]
  }
 ],
 "metadata": {
  "kernelspec": {
   "display_name": "scvi-env",
   "language": "python",
   "name": "python3"
  },
  "language_info": {
   "codemirror_mode": {
    "name": "ipython",
    "version": 3
   },
   "file_extension": ".py",
   "mimetype": "text/x-python",
   "name": "python",
   "nbconvert_exporter": "python",
   "pygments_lexer": "ipython3",
   "version": "3.9.18"
  }
 },
 "nbformat": 4,
 "nbformat_minor": 5
}
